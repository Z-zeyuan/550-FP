{
  "nbformat": 4,
  "nbformat_minor": 0,
  "metadata": {
    "colab": {
      "provenance": [],
      "machine_shape": "hm",
      "gpuType": "T4"
    },
    "kernelspec": {
      "name": "python3",
      "display_name": "Python 3"
    },
    "language_info": {
      "name": "python"
    },
    "accelerator": "GPU",
    "widgets": {
      "application/vnd.jupyter.widget-state+json": {
        "d40dafc6f62a4c3c97534c4975106f67": {
          "model_module": "@jupyter-widgets/controls",
          "model_name": "HBoxModel",
          "model_module_version": "1.5.0",
          "state": {
            "_dom_classes": [],
            "_model_module": "@jupyter-widgets/controls",
            "_model_module_version": "1.5.0",
            "_model_name": "HBoxModel",
            "_view_count": null,
            "_view_module": "@jupyter-widgets/controls",
            "_view_module_version": "1.5.0",
            "_view_name": "HBoxView",
            "box_style": "",
            "children": [
              "IPY_MODEL_2875d00774614c4e90cd5169011ba8b0",
              "IPY_MODEL_aa4f18835713495c87374ea0e41021a2",
              "IPY_MODEL_1c397000e5934517bd0c92403cdf4ceb"
            ],
            "layout": "IPY_MODEL_13bb29da762443d38211ec1d596d27df"
          }
        },
        "2875d00774614c4e90cd5169011ba8b0": {
          "model_module": "@jupyter-widgets/controls",
          "model_name": "HTMLModel",
          "model_module_version": "1.5.0",
          "state": {
            "_dom_classes": [],
            "_model_module": "@jupyter-widgets/controls",
            "_model_module_version": "1.5.0",
            "_model_name": "HTMLModel",
            "_view_count": null,
            "_view_module": "@jupyter-widgets/controls",
            "_view_module_version": "1.5.0",
            "_view_name": "HTMLView",
            "description": "",
            "description_tooltip": null,
            "layout": "IPY_MODEL_7bbf6c40c0af461db0bcfe92ea39d7bc",
            "placeholder": "​",
            "style": "IPY_MODEL_d8cd138a93c249b38e4651ec9ccc094c",
            "value": "Saving the dataset (1/1 shards): 100%"
          }
        },
        "aa4f18835713495c87374ea0e41021a2": {
          "model_module": "@jupyter-widgets/controls",
          "model_name": "FloatProgressModel",
          "model_module_version": "1.5.0",
          "state": {
            "_dom_classes": [],
            "_model_module": "@jupyter-widgets/controls",
            "_model_module_version": "1.5.0",
            "_model_name": "FloatProgressModel",
            "_view_count": null,
            "_view_module": "@jupyter-widgets/controls",
            "_view_module_version": "1.5.0",
            "_view_name": "ProgressView",
            "bar_style": "success",
            "description": "",
            "description_tooltip": null,
            "layout": "IPY_MODEL_46f815d1efe5479f8eade2351f678cd3",
            "max": 2713,
            "min": 0,
            "orientation": "horizontal",
            "style": "IPY_MODEL_3c56e510c4704c0a90dcc3c7206388d2",
            "value": 2713
          }
        },
        "1c397000e5934517bd0c92403cdf4ceb": {
          "model_module": "@jupyter-widgets/controls",
          "model_name": "HTMLModel",
          "model_module_version": "1.5.0",
          "state": {
            "_dom_classes": [],
            "_model_module": "@jupyter-widgets/controls",
            "_model_module_version": "1.5.0",
            "_model_name": "HTMLModel",
            "_view_count": null,
            "_view_module": "@jupyter-widgets/controls",
            "_view_module_version": "1.5.0",
            "_view_name": "HTMLView",
            "description": "",
            "description_tooltip": null,
            "layout": "IPY_MODEL_2ddd3fefd423481ab8411d563d2fb844",
            "placeholder": "​",
            "style": "IPY_MODEL_2a9c3d26c4c64273849c42c1eb308cb0",
            "value": " 2713/2713 [00:00&lt;00:00, 56566.52 examples/s]"
          }
        },
        "13bb29da762443d38211ec1d596d27df": {
          "model_module": "@jupyter-widgets/base",
          "model_name": "LayoutModel",
          "model_module_version": "1.2.0",
          "state": {
            "_model_module": "@jupyter-widgets/base",
            "_model_module_version": "1.2.0",
            "_model_name": "LayoutModel",
            "_view_count": null,
            "_view_module": "@jupyter-widgets/base",
            "_view_module_version": "1.2.0",
            "_view_name": "LayoutView",
            "align_content": null,
            "align_items": null,
            "align_self": null,
            "border": null,
            "bottom": null,
            "display": null,
            "flex": null,
            "flex_flow": null,
            "grid_area": null,
            "grid_auto_columns": null,
            "grid_auto_flow": null,
            "grid_auto_rows": null,
            "grid_column": null,
            "grid_gap": null,
            "grid_row": null,
            "grid_template_areas": null,
            "grid_template_columns": null,
            "grid_template_rows": null,
            "height": null,
            "justify_content": null,
            "justify_items": null,
            "left": null,
            "margin": null,
            "max_height": null,
            "max_width": null,
            "min_height": null,
            "min_width": null,
            "object_fit": null,
            "object_position": null,
            "order": null,
            "overflow": null,
            "overflow_x": null,
            "overflow_y": null,
            "padding": null,
            "right": null,
            "top": null,
            "visibility": null,
            "width": null
          }
        },
        "7bbf6c40c0af461db0bcfe92ea39d7bc": {
          "model_module": "@jupyter-widgets/base",
          "model_name": "LayoutModel",
          "model_module_version": "1.2.0",
          "state": {
            "_model_module": "@jupyter-widgets/base",
            "_model_module_version": "1.2.0",
            "_model_name": "LayoutModel",
            "_view_count": null,
            "_view_module": "@jupyter-widgets/base",
            "_view_module_version": "1.2.0",
            "_view_name": "LayoutView",
            "align_content": null,
            "align_items": null,
            "align_self": null,
            "border": null,
            "bottom": null,
            "display": null,
            "flex": null,
            "flex_flow": null,
            "grid_area": null,
            "grid_auto_columns": null,
            "grid_auto_flow": null,
            "grid_auto_rows": null,
            "grid_column": null,
            "grid_gap": null,
            "grid_row": null,
            "grid_template_areas": null,
            "grid_template_columns": null,
            "grid_template_rows": null,
            "height": null,
            "justify_content": null,
            "justify_items": null,
            "left": null,
            "margin": null,
            "max_height": null,
            "max_width": null,
            "min_height": null,
            "min_width": null,
            "object_fit": null,
            "object_position": null,
            "order": null,
            "overflow": null,
            "overflow_x": null,
            "overflow_y": null,
            "padding": null,
            "right": null,
            "top": null,
            "visibility": null,
            "width": null
          }
        },
        "d8cd138a93c249b38e4651ec9ccc094c": {
          "model_module": "@jupyter-widgets/controls",
          "model_name": "DescriptionStyleModel",
          "model_module_version": "1.5.0",
          "state": {
            "_model_module": "@jupyter-widgets/controls",
            "_model_module_version": "1.5.0",
            "_model_name": "DescriptionStyleModel",
            "_view_count": null,
            "_view_module": "@jupyter-widgets/base",
            "_view_module_version": "1.2.0",
            "_view_name": "StyleView",
            "description_width": ""
          }
        },
        "46f815d1efe5479f8eade2351f678cd3": {
          "model_module": "@jupyter-widgets/base",
          "model_name": "LayoutModel",
          "model_module_version": "1.2.0",
          "state": {
            "_model_module": "@jupyter-widgets/base",
            "_model_module_version": "1.2.0",
            "_model_name": "LayoutModel",
            "_view_count": null,
            "_view_module": "@jupyter-widgets/base",
            "_view_module_version": "1.2.0",
            "_view_name": "LayoutView",
            "align_content": null,
            "align_items": null,
            "align_self": null,
            "border": null,
            "bottom": null,
            "display": null,
            "flex": null,
            "flex_flow": null,
            "grid_area": null,
            "grid_auto_columns": null,
            "grid_auto_flow": null,
            "grid_auto_rows": null,
            "grid_column": null,
            "grid_gap": null,
            "grid_row": null,
            "grid_template_areas": null,
            "grid_template_columns": null,
            "grid_template_rows": null,
            "height": null,
            "justify_content": null,
            "justify_items": null,
            "left": null,
            "margin": null,
            "max_height": null,
            "max_width": null,
            "min_height": null,
            "min_width": null,
            "object_fit": null,
            "object_position": null,
            "order": null,
            "overflow": null,
            "overflow_x": null,
            "overflow_y": null,
            "padding": null,
            "right": null,
            "top": null,
            "visibility": null,
            "width": null
          }
        },
        "3c56e510c4704c0a90dcc3c7206388d2": {
          "model_module": "@jupyter-widgets/controls",
          "model_name": "ProgressStyleModel",
          "model_module_version": "1.5.0",
          "state": {
            "_model_module": "@jupyter-widgets/controls",
            "_model_module_version": "1.5.0",
            "_model_name": "ProgressStyleModel",
            "_view_count": null,
            "_view_module": "@jupyter-widgets/base",
            "_view_module_version": "1.2.0",
            "_view_name": "StyleView",
            "bar_color": null,
            "description_width": ""
          }
        },
        "2ddd3fefd423481ab8411d563d2fb844": {
          "model_module": "@jupyter-widgets/base",
          "model_name": "LayoutModel",
          "model_module_version": "1.2.0",
          "state": {
            "_model_module": "@jupyter-widgets/base",
            "_model_module_version": "1.2.0",
            "_model_name": "LayoutModel",
            "_view_count": null,
            "_view_module": "@jupyter-widgets/base",
            "_view_module_version": "1.2.0",
            "_view_name": "LayoutView",
            "align_content": null,
            "align_items": null,
            "align_self": null,
            "border": null,
            "bottom": null,
            "display": null,
            "flex": null,
            "flex_flow": null,
            "grid_area": null,
            "grid_auto_columns": null,
            "grid_auto_flow": null,
            "grid_auto_rows": null,
            "grid_column": null,
            "grid_gap": null,
            "grid_row": null,
            "grid_template_areas": null,
            "grid_template_columns": null,
            "grid_template_rows": null,
            "height": null,
            "justify_content": null,
            "justify_items": null,
            "left": null,
            "margin": null,
            "max_height": null,
            "max_width": null,
            "min_height": null,
            "min_width": null,
            "object_fit": null,
            "object_position": null,
            "order": null,
            "overflow": null,
            "overflow_x": null,
            "overflow_y": null,
            "padding": null,
            "right": null,
            "top": null,
            "visibility": null,
            "width": null
          }
        },
        "2a9c3d26c4c64273849c42c1eb308cb0": {
          "model_module": "@jupyter-widgets/controls",
          "model_name": "DescriptionStyleModel",
          "model_module_version": "1.5.0",
          "state": {
            "_model_module": "@jupyter-widgets/controls",
            "_model_module_version": "1.5.0",
            "_model_name": "DescriptionStyleModel",
            "_view_count": null,
            "_view_module": "@jupyter-widgets/base",
            "_view_module_version": "1.2.0",
            "_view_name": "StyleView",
            "description_width": ""
          }
        },
        "abbde068768e4e9aa16bf402b23ed404": {
          "model_module": "@jupyter-widgets/controls",
          "model_name": "HBoxModel",
          "model_module_version": "1.5.0",
          "state": {
            "_dom_classes": [],
            "_model_module": "@jupyter-widgets/controls",
            "_model_module_version": "1.5.0",
            "_model_name": "HBoxModel",
            "_view_count": null,
            "_view_module": "@jupyter-widgets/controls",
            "_view_module_version": "1.5.0",
            "_view_name": "HBoxView",
            "box_style": "",
            "children": [
              "IPY_MODEL_1d0915945ba24d4db5d1ee80339bb2a7",
              "IPY_MODEL_06f983ed2c154dfab5c02e657958a85f",
              "IPY_MODEL_3e65985c8cb748a5bbe53c3e10587ade"
            ],
            "layout": "IPY_MODEL_c1a6f8ed896744589e7a8d6455b3e7e6"
          }
        },
        "1d0915945ba24d4db5d1ee80339bb2a7": {
          "model_module": "@jupyter-widgets/controls",
          "model_name": "HTMLModel",
          "model_module_version": "1.5.0",
          "state": {
            "_dom_classes": [],
            "_model_module": "@jupyter-widgets/controls",
            "_model_module_version": "1.5.0",
            "_model_name": "HTMLModel",
            "_view_count": null,
            "_view_module": "@jupyter-widgets/controls",
            "_view_module_version": "1.5.0",
            "_view_name": "HTMLView",
            "description": "",
            "description_tooltip": null,
            "layout": "IPY_MODEL_158906da0345462b9f117ab74305032e",
            "placeholder": "​",
            "style": "IPY_MODEL_79f19683820d42358177685c81e29ff6",
            "value": "Saving the dataset (1/1 shards): 100%"
          }
        },
        "06f983ed2c154dfab5c02e657958a85f": {
          "model_module": "@jupyter-widgets/controls",
          "model_name": "FloatProgressModel",
          "model_module_version": "1.5.0",
          "state": {
            "_dom_classes": [],
            "_model_module": "@jupyter-widgets/controls",
            "_model_module_version": "1.5.0",
            "_model_name": "FloatProgressModel",
            "_view_count": null,
            "_view_module": "@jupyter-widgets/controls",
            "_view_module_version": "1.5.0",
            "_view_name": "ProgressView",
            "bar_style": "success",
            "description": "",
            "description_tooltip": null,
            "layout": "IPY_MODEL_30c00260af214a57bbda696b83b5ddb2",
            "max": 1454,
            "min": 0,
            "orientation": "horizontal",
            "style": "IPY_MODEL_ca752795b9644e58ae0a43ab792c2fa3",
            "value": 1454
          }
        },
        "3e65985c8cb748a5bbe53c3e10587ade": {
          "model_module": "@jupyter-widgets/controls",
          "model_name": "HTMLModel",
          "model_module_version": "1.5.0",
          "state": {
            "_dom_classes": [],
            "_model_module": "@jupyter-widgets/controls",
            "_model_module_version": "1.5.0",
            "_model_name": "HTMLModel",
            "_view_count": null,
            "_view_module": "@jupyter-widgets/controls",
            "_view_module_version": "1.5.0",
            "_view_name": "HTMLView",
            "description": "",
            "description_tooltip": null,
            "layout": "IPY_MODEL_b55d419db88846c68d59aa960f7e7394",
            "placeholder": "​",
            "style": "IPY_MODEL_9b1c43b1314248f58311f13989a53c0f",
            "value": " 1454/1454 [00:00&lt;00:00, 41908.16 examples/s]"
          }
        },
        "c1a6f8ed896744589e7a8d6455b3e7e6": {
          "model_module": "@jupyter-widgets/base",
          "model_name": "LayoutModel",
          "model_module_version": "1.2.0",
          "state": {
            "_model_module": "@jupyter-widgets/base",
            "_model_module_version": "1.2.0",
            "_model_name": "LayoutModel",
            "_view_count": null,
            "_view_module": "@jupyter-widgets/base",
            "_view_module_version": "1.2.0",
            "_view_name": "LayoutView",
            "align_content": null,
            "align_items": null,
            "align_self": null,
            "border": null,
            "bottom": null,
            "display": null,
            "flex": null,
            "flex_flow": null,
            "grid_area": null,
            "grid_auto_columns": null,
            "grid_auto_flow": null,
            "grid_auto_rows": null,
            "grid_column": null,
            "grid_gap": null,
            "grid_row": null,
            "grid_template_areas": null,
            "grid_template_columns": null,
            "grid_template_rows": null,
            "height": null,
            "justify_content": null,
            "justify_items": null,
            "left": null,
            "margin": null,
            "max_height": null,
            "max_width": null,
            "min_height": null,
            "min_width": null,
            "object_fit": null,
            "object_position": null,
            "order": null,
            "overflow": null,
            "overflow_x": null,
            "overflow_y": null,
            "padding": null,
            "right": null,
            "top": null,
            "visibility": null,
            "width": null
          }
        },
        "158906da0345462b9f117ab74305032e": {
          "model_module": "@jupyter-widgets/base",
          "model_name": "LayoutModel",
          "model_module_version": "1.2.0",
          "state": {
            "_model_module": "@jupyter-widgets/base",
            "_model_module_version": "1.2.0",
            "_model_name": "LayoutModel",
            "_view_count": null,
            "_view_module": "@jupyter-widgets/base",
            "_view_module_version": "1.2.0",
            "_view_name": "LayoutView",
            "align_content": null,
            "align_items": null,
            "align_self": null,
            "border": null,
            "bottom": null,
            "display": null,
            "flex": null,
            "flex_flow": null,
            "grid_area": null,
            "grid_auto_columns": null,
            "grid_auto_flow": null,
            "grid_auto_rows": null,
            "grid_column": null,
            "grid_gap": null,
            "grid_row": null,
            "grid_template_areas": null,
            "grid_template_columns": null,
            "grid_template_rows": null,
            "height": null,
            "justify_content": null,
            "justify_items": null,
            "left": null,
            "margin": null,
            "max_height": null,
            "max_width": null,
            "min_height": null,
            "min_width": null,
            "object_fit": null,
            "object_position": null,
            "order": null,
            "overflow": null,
            "overflow_x": null,
            "overflow_y": null,
            "padding": null,
            "right": null,
            "top": null,
            "visibility": null,
            "width": null
          }
        },
        "79f19683820d42358177685c81e29ff6": {
          "model_module": "@jupyter-widgets/controls",
          "model_name": "DescriptionStyleModel",
          "model_module_version": "1.5.0",
          "state": {
            "_model_module": "@jupyter-widgets/controls",
            "_model_module_version": "1.5.0",
            "_model_name": "DescriptionStyleModel",
            "_view_count": null,
            "_view_module": "@jupyter-widgets/base",
            "_view_module_version": "1.2.0",
            "_view_name": "StyleView",
            "description_width": ""
          }
        },
        "30c00260af214a57bbda696b83b5ddb2": {
          "model_module": "@jupyter-widgets/base",
          "model_name": "LayoutModel",
          "model_module_version": "1.2.0",
          "state": {
            "_model_module": "@jupyter-widgets/base",
            "_model_module_version": "1.2.0",
            "_model_name": "LayoutModel",
            "_view_count": null,
            "_view_module": "@jupyter-widgets/base",
            "_view_module_version": "1.2.0",
            "_view_name": "LayoutView",
            "align_content": null,
            "align_items": null,
            "align_self": null,
            "border": null,
            "bottom": null,
            "display": null,
            "flex": null,
            "flex_flow": null,
            "grid_area": null,
            "grid_auto_columns": null,
            "grid_auto_flow": null,
            "grid_auto_rows": null,
            "grid_column": null,
            "grid_gap": null,
            "grid_row": null,
            "grid_template_areas": null,
            "grid_template_columns": null,
            "grid_template_rows": null,
            "height": null,
            "justify_content": null,
            "justify_items": null,
            "left": null,
            "margin": null,
            "max_height": null,
            "max_width": null,
            "min_height": null,
            "min_width": null,
            "object_fit": null,
            "object_position": null,
            "order": null,
            "overflow": null,
            "overflow_x": null,
            "overflow_y": null,
            "padding": null,
            "right": null,
            "top": null,
            "visibility": null,
            "width": null
          }
        },
        "ca752795b9644e58ae0a43ab792c2fa3": {
          "model_module": "@jupyter-widgets/controls",
          "model_name": "ProgressStyleModel",
          "model_module_version": "1.5.0",
          "state": {
            "_model_module": "@jupyter-widgets/controls",
            "_model_module_version": "1.5.0",
            "_model_name": "ProgressStyleModel",
            "_view_count": null,
            "_view_module": "@jupyter-widgets/base",
            "_view_module_version": "1.2.0",
            "_view_name": "StyleView",
            "bar_color": null,
            "description_width": ""
          }
        },
        "b55d419db88846c68d59aa960f7e7394": {
          "model_module": "@jupyter-widgets/base",
          "model_name": "LayoutModel",
          "model_module_version": "1.2.0",
          "state": {
            "_model_module": "@jupyter-widgets/base",
            "_model_module_version": "1.2.0",
            "_model_name": "LayoutModel",
            "_view_count": null,
            "_view_module": "@jupyter-widgets/base",
            "_view_module_version": "1.2.0",
            "_view_name": "LayoutView",
            "align_content": null,
            "align_items": null,
            "align_self": null,
            "border": null,
            "bottom": null,
            "display": null,
            "flex": null,
            "flex_flow": null,
            "grid_area": null,
            "grid_auto_columns": null,
            "grid_auto_flow": null,
            "grid_auto_rows": null,
            "grid_column": null,
            "grid_gap": null,
            "grid_row": null,
            "grid_template_areas": null,
            "grid_template_columns": null,
            "grid_template_rows": null,
            "height": null,
            "justify_content": null,
            "justify_items": null,
            "left": null,
            "margin": null,
            "max_height": null,
            "max_width": null,
            "min_height": null,
            "min_width": null,
            "object_fit": null,
            "object_position": null,
            "order": null,
            "overflow": null,
            "overflow_x": null,
            "overflow_y": null,
            "padding": null,
            "right": null,
            "top": null,
            "visibility": null,
            "width": null
          }
        },
        "9b1c43b1314248f58311f13989a53c0f": {
          "model_module": "@jupyter-widgets/controls",
          "model_name": "DescriptionStyleModel",
          "model_module_version": "1.5.0",
          "state": {
            "_model_module": "@jupyter-widgets/controls",
            "_model_module_version": "1.5.0",
            "_model_name": "DescriptionStyleModel",
            "_view_count": null,
            "_view_module": "@jupyter-widgets/base",
            "_view_module_version": "1.2.0",
            "_view_name": "StyleView",
            "description_width": ""
          }
        },
        "8210497ca206446f9e862e4ee6d3280d": {
          "model_module": "@jupyter-widgets/controls",
          "model_name": "HBoxModel",
          "model_module_version": "1.5.0",
          "state": {
            "_dom_classes": [],
            "_model_module": "@jupyter-widgets/controls",
            "_model_module_version": "1.5.0",
            "_model_name": "HBoxModel",
            "_view_count": null,
            "_view_module": "@jupyter-widgets/controls",
            "_view_module_version": "1.5.0",
            "_view_name": "HBoxView",
            "box_style": "",
            "children": [
              "IPY_MODEL_4396cc54f6e248478783886e63feef58",
              "IPY_MODEL_80c571b24fad4fcd95d6400d456f0d4a",
              "IPY_MODEL_cd6f51d39e49415784485c60e35692eb"
            ],
            "layout": "IPY_MODEL_8194f7cb278042bb9e929dbbb5deb7b7"
          }
        },
        "4396cc54f6e248478783886e63feef58": {
          "model_module": "@jupyter-widgets/controls",
          "model_name": "HTMLModel",
          "model_module_version": "1.5.0",
          "state": {
            "_dom_classes": [],
            "_model_module": "@jupyter-widgets/controls",
            "_model_module_version": "1.5.0",
            "_model_name": "HTMLModel",
            "_view_count": null,
            "_view_module": "@jupyter-widgets/controls",
            "_view_module_version": "1.5.0",
            "_view_name": "HTMLView",
            "description": "",
            "description_tooltip": null,
            "layout": "IPY_MODEL_6973f6108dc34f3db92dd36a6a3dae51",
            "placeholder": "​",
            "style": "IPY_MODEL_cf990b01ce7d4ca8bb8bbc1aff3299e7",
            "value": "Saving the dataset (1/1 shards): 100%"
          }
        },
        "80c571b24fad4fcd95d6400d456f0d4a": {
          "model_module": "@jupyter-widgets/controls",
          "model_name": "FloatProgressModel",
          "model_module_version": "1.5.0",
          "state": {
            "_dom_classes": [],
            "_model_module": "@jupyter-widgets/controls",
            "_model_module_version": "1.5.0",
            "_model_name": "FloatProgressModel",
            "_view_count": null,
            "_view_module": "@jupyter-widgets/controls",
            "_view_module_version": "1.5.0",
            "_view_name": "ProgressView",
            "bar_style": "success",
            "description": "",
            "description_tooltip": null,
            "layout": "IPY_MODEL_01577696dfc243b5a8119809184ab0eb",
            "max": 679,
            "min": 0,
            "orientation": "horizontal",
            "style": "IPY_MODEL_015f1949f2d0445a9e3dc41428c8f660",
            "value": 679
          }
        },
        "cd6f51d39e49415784485c60e35692eb": {
          "model_module": "@jupyter-widgets/controls",
          "model_name": "HTMLModel",
          "model_module_version": "1.5.0",
          "state": {
            "_dom_classes": [],
            "_model_module": "@jupyter-widgets/controls",
            "_model_module_version": "1.5.0",
            "_model_name": "HTMLModel",
            "_view_count": null,
            "_view_module": "@jupyter-widgets/controls",
            "_view_module_version": "1.5.0",
            "_view_name": "HTMLView",
            "description": "",
            "description_tooltip": null,
            "layout": "IPY_MODEL_372066776f174cb7972a99660727bfa9",
            "placeholder": "​",
            "style": "IPY_MODEL_a4c360e16b634e1a9c0ae7ca9da8998f",
            "value": " 679/679 [00:00&lt;00:00, 23011.18 examples/s]"
          }
        },
        "8194f7cb278042bb9e929dbbb5deb7b7": {
          "model_module": "@jupyter-widgets/base",
          "model_name": "LayoutModel",
          "model_module_version": "1.2.0",
          "state": {
            "_model_module": "@jupyter-widgets/base",
            "_model_module_version": "1.2.0",
            "_model_name": "LayoutModel",
            "_view_count": null,
            "_view_module": "@jupyter-widgets/base",
            "_view_module_version": "1.2.0",
            "_view_name": "LayoutView",
            "align_content": null,
            "align_items": null,
            "align_self": null,
            "border": null,
            "bottom": null,
            "display": null,
            "flex": null,
            "flex_flow": null,
            "grid_area": null,
            "grid_auto_columns": null,
            "grid_auto_flow": null,
            "grid_auto_rows": null,
            "grid_column": null,
            "grid_gap": null,
            "grid_row": null,
            "grid_template_areas": null,
            "grid_template_columns": null,
            "grid_template_rows": null,
            "height": null,
            "justify_content": null,
            "justify_items": null,
            "left": null,
            "margin": null,
            "max_height": null,
            "max_width": null,
            "min_height": null,
            "min_width": null,
            "object_fit": null,
            "object_position": null,
            "order": null,
            "overflow": null,
            "overflow_x": null,
            "overflow_y": null,
            "padding": null,
            "right": null,
            "top": null,
            "visibility": null,
            "width": null
          }
        },
        "6973f6108dc34f3db92dd36a6a3dae51": {
          "model_module": "@jupyter-widgets/base",
          "model_name": "LayoutModel",
          "model_module_version": "1.2.0",
          "state": {
            "_model_module": "@jupyter-widgets/base",
            "_model_module_version": "1.2.0",
            "_model_name": "LayoutModel",
            "_view_count": null,
            "_view_module": "@jupyter-widgets/base",
            "_view_module_version": "1.2.0",
            "_view_name": "LayoutView",
            "align_content": null,
            "align_items": null,
            "align_self": null,
            "border": null,
            "bottom": null,
            "display": null,
            "flex": null,
            "flex_flow": null,
            "grid_area": null,
            "grid_auto_columns": null,
            "grid_auto_flow": null,
            "grid_auto_rows": null,
            "grid_column": null,
            "grid_gap": null,
            "grid_row": null,
            "grid_template_areas": null,
            "grid_template_columns": null,
            "grid_template_rows": null,
            "height": null,
            "justify_content": null,
            "justify_items": null,
            "left": null,
            "margin": null,
            "max_height": null,
            "max_width": null,
            "min_height": null,
            "min_width": null,
            "object_fit": null,
            "object_position": null,
            "order": null,
            "overflow": null,
            "overflow_x": null,
            "overflow_y": null,
            "padding": null,
            "right": null,
            "top": null,
            "visibility": null,
            "width": null
          }
        },
        "cf990b01ce7d4ca8bb8bbc1aff3299e7": {
          "model_module": "@jupyter-widgets/controls",
          "model_name": "DescriptionStyleModel",
          "model_module_version": "1.5.0",
          "state": {
            "_model_module": "@jupyter-widgets/controls",
            "_model_module_version": "1.5.0",
            "_model_name": "DescriptionStyleModel",
            "_view_count": null,
            "_view_module": "@jupyter-widgets/base",
            "_view_module_version": "1.2.0",
            "_view_name": "StyleView",
            "description_width": ""
          }
        },
        "01577696dfc243b5a8119809184ab0eb": {
          "model_module": "@jupyter-widgets/base",
          "model_name": "LayoutModel",
          "model_module_version": "1.2.0",
          "state": {
            "_model_module": "@jupyter-widgets/base",
            "_model_module_version": "1.2.0",
            "_model_name": "LayoutModel",
            "_view_count": null,
            "_view_module": "@jupyter-widgets/base",
            "_view_module_version": "1.2.0",
            "_view_name": "LayoutView",
            "align_content": null,
            "align_items": null,
            "align_self": null,
            "border": null,
            "bottom": null,
            "display": null,
            "flex": null,
            "flex_flow": null,
            "grid_area": null,
            "grid_auto_columns": null,
            "grid_auto_flow": null,
            "grid_auto_rows": null,
            "grid_column": null,
            "grid_gap": null,
            "grid_row": null,
            "grid_template_areas": null,
            "grid_template_columns": null,
            "grid_template_rows": null,
            "height": null,
            "justify_content": null,
            "justify_items": null,
            "left": null,
            "margin": null,
            "max_height": null,
            "max_width": null,
            "min_height": null,
            "min_width": null,
            "object_fit": null,
            "object_position": null,
            "order": null,
            "overflow": null,
            "overflow_x": null,
            "overflow_y": null,
            "padding": null,
            "right": null,
            "top": null,
            "visibility": null,
            "width": null
          }
        },
        "015f1949f2d0445a9e3dc41428c8f660": {
          "model_module": "@jupyter-widgets/controls",
          "model_name": "ProgressStyleModel",
          "model_module_version": "1.5.0",
          "state": {
            "_model_module": "@jupyter-widgets/controls",
            "_model_module_version": "1.5.0",
            "_model_name": "ProgressStyleModel",
            "_view_count": null,
            "_view_module": "@jupyter-widgets/base",
            "_view_module_version": "1.2.0",
            "_view_name": "StyleView",
            "bar_color": null,
            "description_width": ""
          }
        },
        "372066776f174cb7972a99660727bfa9": {
          "model_module": "@jupyter-widgets/base",
          "model_name": "LayoutModel",
          "model_module_version": "1.2.0",
          "state": {
            "_model_module": "@jupyter-widgets/base",
            "_model_module_version": "1.2.0",
            "_model_name": "LayoutModel",
            "_view_count": null,
            "_view_module": "@jupyter-widgets/base",
            "_view_module_version": "1.2.0",
            "_view_name": "LayoutView",
            "align_content": null,
            "align_items": null,
            "align_self": null,
            "border": null,
            "bottom": null,
            "display": null,
            "flex": null,
            "flex_flow": null,
            "grid_area": null,
            "grid_auto_columns": null,
            "grid_auto_flow": null,
            "grid_auto_rows": null,
            "grid_column": null,
            "grid_gap": null,
            "grid_row": null,
            "grid_template_areas": null,
            "grid_template_columns": null,
            "grid_template_rows": null,
            "height": null,
            "justify_content": null,
            "justify_items": null,
            "left": null,
            "margin": null,
            "max_height": null,
            "max_width": null,
            "min_height": null,
            "min_width": null,
            "object_fit": null,
            "object_position": null,
            "order": null,
            "overflow": null,
            "overflow_x": null,
            "overflow_y": null,
            "padding": null,
            "right": null,
            "top": null,
            "visibility": null,
            "width": null
          }
        },
        "a4c360e16b634e1a9c0ae7ca9da8998f": {
          "model_module": "@jupyter-widgets/controls",
          "model_name": "DescriptionStyleModel",
          "model_module_version": "1.5.0",
          "state": {
            "_model_module": "@jupyter-widgets/controls",
            "_model_module_version": "1.5.0",
            "_model_name": "DescriptionStyleModel",
            "_view_count": null,
            "_view_module": "@jupyter-widgets/base",
            "_view_module_version": "1.2.0",
            "_view_name": "StyleView",
            "description_width": ""
          }
        },
        "2e99c61a3ca648df942c601325807bb8": {
          "model_module": "@jupyter-widgets/controls",
          "model_name": "HBoxModel",
          "model_module_version": "1.5.0",
          "state": {
            "_dom_classes": [],
            "_model_module": "@jupyter-widgets/controls",
            "_model_module_version": "1.5.0",
            "_model_name": "HBoxModel",
            "_view_count": null,
            "_view_module": "@jupyter-widgets/controls",
            "_view_module_version": "1.5.0",
            "_view_name": "HBoxView",
            "box_style": "",
            "children": [
              "IPY_MODEL_569515c86b8647eeb53b2cd1a5887bd2",
              "IPY_MODEL_086fd4945c8748d989889d5318d88c2f",
              "IPY_MODEL_77c083fd46d045e8bc1ff5479734f780"
            ],
            "layout": "IPY_MODEL_9b14b9f3fad441fabb682d08ef668f30"
          }
        },
        "569515c86b8647eeb53b2cd1a5887bd2": {
          "model_module": "@jupyter-widgets/controls",
          "model_name": "HTMLModel",
          "model_module_version": "1.5.0",
          "state": {
            "_dom_classes": [],
            "_model_module": "@jupyter-widgets/controls",
            "_model_module_version": "1.5.0",
            "_model_name": "HTMLModel",
            "_view_count": null,
            "_view_module": "@jupyter-widgets/controls",
            "_view_module_version": "1.5.0",
            "_view_name": "HTMLView",
            "description": "",
            "description_tooltip": null,
            "layout": "IPY_MODEL_8733a1b50bf44fb39d2d0a7787713b90",
            "placeholder": "​",
            "style": "IPY_MODEL_b886894e1f8349b0b60d8a0bf9edf99d",
            "value": "config.json: 100%"
          }
        },
        "086fd4945c8748d989889d5318d88c2f": {
          "model_module": "@jupyter-widgets/controls",
          "model_name": "FloatProgressModel",
          "model_module_version": "1.5.0",
          "state": {
            "_dom_classes": [],
            "_model_module": "@jupyter-widgets/controls",
            "_model_module_version": "1.5.0",
            "_model_name": "FloatProgressModel",
            "_view_count": null,
            "_view_module": "@jupyter-widgets/controls",
            "_view_module_version": "1.5.0",
            "_view_name": "ProgressView",
            "bar_style": "success",
            "description": "",
            "description_tooltip": null,
            "layout": "IPY_MODEL_531e7fd7fb764806a3bfc1e6aa6f93ca",
            "max": 589,
            "min": 0,
            "orientation": "horizontal",
            "style": "IPY_MODEL_4be1c646eb0b463c80108e6bc9a4474e",
            "value": 589
          }
        },
        "77c083fd46d045e8bc1ff5479734f780": {
          "model_module": "@jupyter-widgets/controls",
          "model_name": "HTMLModel",
          "model_module_version": "1.5.0",
          "state": {
            "_dom_classes": [],
            "_model_module": "@jupyter-widgets/controls",
            "_model_module_version": "1.5.0",
            "_model_name": "HTMLModel",
            "_view_count": null,
            "_view_module": "@jupyter-widgets/controls",
            "_view_module_version": "1.5.0",
            "_view_name": "HTMLView",
            "description": "",
            "description_tooltip": null,
            "layout": "IPY_MODEL_b8b7d331554c4b349f1d7a5ec216bfaa",
            "placeholder": "​",
            "style": "IPY_MODEL_5eca259213bd46ca8e91400ac77fac73",
            "value": " 589/589 [00:00&lt;00:00, 40.0kB/s]"
          }
        },
        "9b14b9f3fad441fabb682d08ef668f30": {
          "model_module": "@jupyter-widgets/base",
          "model_name": "LayoutModel",
          "model_module_version": "1.2.0",
          "state": {
            "_model_module": "@jupyter-widgets/base",
            "_model_module_version": "1.2.0",
            "_model_name": "LayoutModel",
            "_view_count": null,
            "_view_module": "@jupyter-widgets/base",
            "_view_module_version": "1.2.0",
            "_view_name": "LayoutView",
            "align_content": null,
            "align_items": null,
            "align_self": null,
            "border": null,
            "bottom": null,
            "display": null,
            "flex": null,
            "flex_flow": null,
            "grid_area": null,
            "grid_auto_columns": null,
            "grid_auto_flow": null,
            "grid_auto_rows": null,
            "grid_column": null,
            "grid_gap": null,
            "grid_row": null,
            "grid_template_areas": null,
            "grid_template_columns": null,
            "grid_template_rows": null,
            "height": null,
            "justify_content": null,
            "justify_items": null,
            "left": null,
            "margin": null,
            "max_height": null,
            "max_width": null,
            "min_height": null,
            "min_width": null,
            "object_fit": null,
            "object_position": null,
            "order": null,
            "overflow": null,
            "overflow_x": null,
            "overflow_y": null,
            "padding": null,
            "right": null,
            "top": null,
            "visibility": null,
            "width": null
          }
        },
        "8733a1b50bf44fb39d2d0a7787713b90": {
          "model_module": "@jupyter-widgets/base",
          "model_name": "LayoutModel",
          "model_module_version": "1.2.0",
          "state": {
            "_model_module": "@jupyter-widgets/base",
            "_model_module_version": "1.2.0",
            "_model_name": "LayoutModel",
            "_view_count": null,
            "_view_module": "@jupyter-widgets/base",
            "_view_module_version": "1.2.0",
            "_view_name": "LayoutView",
            "align_content": null,
            "align_items": null,
            "align_self": null,
            "border": null,
            "bottom": null,
            "display": null,
            "flex": null,
            "flex_flow": null,
            "grid_area": null,
            "grid_auto_columns": null,
            "grid_auto_flow": null,
            "grid_auto_rows": null,
            "grid_column": null,
            "grid_gap": null,
            "grid_row": null,
            "grid_template_areas": null,
            "grid_template_columns": null,
            "grid_template_rows": null,
            "height": null,
            "justify_content": null,
            "justify_items": null,
            "left": null,
            "margin": null,
            "max_height": null,
            "max_width": null,
            "min_height": null,
            "min_width": null,
            "object_fit": null,
            "object_position": null,
            "order": null,
            "overflow": null,
            "overflow_x": null,
            "overflow_y": null,
            "padding": null,
            "right": null,
            "top": null,
            "visibility": null,
            "width": null
          }
        },
        "b886894e1f8349b0b60d8a0bf9edf99d": {
          "model_module": "@jupyter-widgets/controls",
          "model_name": "DescriptionStyleModel",
          "model_module_version": "1.5.0",
          "state": {
            "_model_module": "@jupyter-widgets/controls",
            "_model_module_version": "1.5.0",
            "_model_name": "DescriptionStyleModel",
            "_view_count": null,
            "_view_module": "@jupyter-widgets/base",
            "_view_module_version": "1.2.0",
            "_view_name": "StyleView",
            "description_width": ""
          }
        },
        "531e7fd7fb764806a3bfc1e6aa6f93ca": {
          "model_module": "@jupyter-widgets/base",
          "model_name": "LayoutModel",
          "model_module_version": "1.2.0",
          "state": {
            "_model_module": "@jupyter-widgets/base",
            "_model_module_version": "1.2.0",
            "_model_name": "LayoutModel",
            "_view_count": null,
            "_view_module": "@jupyter-widgets/base",
            "_view_module_version": "1.2.0",
            "_view_name": "LayoutView",
            "align_content": null,
            "align_items": null,
            "align_self": null,
            "border": null,
            "bottom": null,
            "display": null,
            "flex": null,
            "flex_flow": null,
            "grid_area": null,
            "grid_auto_columns": null,
            "grid_auto_flow": null,
            "grid_auto_rows": null,
            "grid_column": null,
            "grid_gap": null,
            "grid_row": null,
            "grid_template_areas": null,
            "grid_template_columns": null,
            "grid_template_rows": null,
            "height": null,
            "justify_content": null,
            "justify_items": null,
            "left": null,
            "margin": null,
            "max_height": null,
            "max_width": null,
            "min_height": null,
            "min_width": null,
            "object_fit": null,
            "object_position": null,
            "order": null,
            "overflow": null,
            "overflow_x": null,
            "overflow_y": null,
            "padding": null,
            "right": null,
            "top": null,
            "visibility": null,
            "width": null
          }
        },
        "4be1c646eb0b463c80108e6bc9a4474e": {
          "model_module": "@jupyter-widgets/controls",
          "model_name": "ProgressStyleModel",
          "model_module_version": "1.5.0",
          "state": {
            "_model_module": "@jupyter-widgets/controls",
            "_model_module_version": "1.5.0",
            "_model_name": "ProgressStyleModel",
            "_view_count": null,
            "_view_module": "@jupyter-widgets/base",
            "_view_module_version": "1.2.0",
            "_view_name": "StyleView",
            "bar_color": null,
            "description_width": ""
          }
        },
        "b8b7d331554c4b349f1d7a5ec216bfaa": {
          "model_module": "@jupyter-widgets/base",
          "model_name": "LayoutModel",
          "model_module_version": "1.2.0",
          "state": {
            "_model_module": "@jupyter-widgets/base",
            "_model_module_version": "1.2.0",
            "_model_name": "LayoutModel",
            "_view_count": null,
            "_view_module": "@jupyter-widgets/base",
            "_view_module_version": "1.2.0",
            "_view_name": "LayoutView",
            "align_content": null,
            "align_items": null,
            "align_self": null,
            "border": null,
            "bottom": null,
            "display": null,
            "flex": null,
            "flex_flow": null,
            "grid_area": null,
            "grid_auto_columns": null,
            "grid_auto_flow": null,
            "grid_auto_rows": null,
            "grid_column": null,
            "grid_gap": null,
            "grid_row": null,
            "grid_template_areas": null,
            "grid_template_columns": null,
            "grid_template_rows": null,
            "height": null,
            "justify_content": null,
            "justify_items": null,
            "left": null,
            "margin": null,
            "max_height": null,
            "max_width": null,
            "min_height": null,
            "min_width": null,
            "object_fit": null,
            "object_position": null,
            "order": null,
            "overflow": null,
            "overflow_x": null,
            "overflow_y": null,
            "padding": null,
            "right": null,
            "top": null,
            "visibility": null,
            "width": null
          }
        },
        "5eca259213bd46ca8e91400ac77fac73": {
          "model_module": "@jupyter-widgets/controls",
          "model_name": "DescriptionStyleModel",
          "model_module_version": "1.5.0",
          "state": {
            "_model_module": "@jupyter-widgets/controls",
            "_model_module_version": "1.5.0",
            "_model_name": "DescriptionStyleModel",
            "_view_count": null,
            "_view_module": "@jupyter-widgets/base",
            "_view_module_version": "1.2.0",
            "_view_name": "StyleView",
            "description_width": ""
          }
        },
        "be0202f5bcfb403aaa87d066548dd33e": {
          "model_module": "@jupyter-widgets/controls",
          "model_name": "HBoxModel",
          "model_module_version": "1.5.0",
          "state": {
            "_dom_classes": [],
            "_model_module": "@jupyter-widgets/controls",
            "_model_module_version": "1.5.0",
            "_model_name": "HBoxModel",
            "_view_count": null,
            "_view_module": "@jupyter-widgets/controls",
            "_view_module_version": "1.5.0",
            "_view_name": "HBoxView",
            "box_style": "",
            "children": [
              "IPY_MODEL_0d9207cfa28f43b7a3edeb8af6eb25af",
              "IPY_MODEL_5af80891b8f44622a3441d27ea15f547",
              "IPY_MODEL_a3d06260d1e44bd787db1f1759643196"
            ],
            "layout": "IPY_MODEL_83b5b65f3a9543c2963b943b5a04c0cc"
          }
        },
        "0d9207cfa28f43b7a3edeb8af6eb25af": {
          "model_module": "@jupyter-widgets/controls",
          "model_name": "HTMLModel",
          "model_module_version": "1.5.0",
          "state": {
            "_dom_classes": [],
            "_model_module": "@jupyter-widgets/controls",
            "_model_module_version": "1.5.0",
            "_model_name": "HTMLModel",
            "_view_count": null,
            "_view_module": "@jupyter-widgets/controls",
            "_view_module_version": "1.5.0",
            "_view_name": "HTMLView",
            "description": "",
            "description_tooltip": null,
            "layout": "IPY_MODEL_f1a0f1addc904ecdbc506331f22167c1",
            "placeholder": "​",
            "style": "IPY_MODEL_55ba49b7d8774ede8af4b5dc5057bc14",
            "value": "pytorch_model.bin: 100%"
          }
        },
        "5af80891b8f44622a3441d27ea15f547": {
          "model_module": "@jupyter-widgets/controls",
          "model_name": "FloatProgressModel",
          "model_module_version": "1.5.0",
          "state": {
            "_dom_classes": [],
            "_model_module": "@jupyter-widgets/controls",
            "_model_module_version": "1.5.0",
            "_model_name": "FloatProgressModel",
            "_view_count": null,
            "_view_module": "@jupyter-widgets/controls",
            "_view_module_version": "1.5.0",
            "_view_name": "ProgressView",
            "bar_style": "success",
            "description": "",
            "description_tooltip": null,
            "layout": "IPY_MODEL_d17dc85f976a44b68f84ae988cd7bd7c",
            "max": 439223687,
            "min": 0,
            "orientation": "horizontal",
            "style": "IPY_MODEL_4f9e399546434485b34424719189cfe6",
            "value": 439223687
          }
        },
        "a3d06260d1e44bd787db1f1759643196": {
          "model_module": "@jupyter-widgets/controls",
          "model_name": "HTMLModel",
          "model_module_version": "1.5.0",
          "state": {
            "_dom_classes": [],
            "_model_module": "@jupyter-widgets/controls",
            "_model_module_version": "1.5.0",
            "_model_name": "HTMLModel",
            "_view_count": null,
            "_view_module": "@jupyter-widgets/controls",
            "_view_module_version": "1.5.0",
            "_view_name": "HTMLView",
            "description": "",
            "description_tooltip": null,
            "layout": "IPY_MODEL_c4b4b30be70e43b389c7e6967a95bfce",
            "placeholder": "​",
            "style": "IPY_MODEL_cf9e7153ac6748f1a26503cf18448aeb",
            "value": " 439M/439M [00:02&lt;00:00, 197MB/s]"
          }
        },
        "83b5b65f3a9543c2963b943b5a04c0cc": {
          "model_module": "@jupyter-widgets/base",
          "model_name": "LayoutModel",
          "model_module_version": "1.2.0",
          "state": {
            "_model_module": "@jupyter-widgets/base",
            "_model_module_version": "1.2.0",
            "_model_name": "LayoutModel",
            "_view_count": null,
            "_view_module": "@jupyter-widgets/base",
            "_view_module_version": "1.2.0",
            "_view_name": "LayoutView",
            "align_content": null,
            "align_items": null,
            "align_self": null,
            "border": null,
            "bottom": null,
            "display": null,
            "flex": null,
            "flex_flow": null,
            "grid_area": null,
            "grid_auto_columns": null,
            "grid_auto_flow": null,
            "grid_auto_rows": null,
            "grid_column": null,
            "grid_gap": null,
            "grid_row": null,
            "grid_template_areas": null,
            "grid_template_columns": null,
            "grid_template_rows": null,
            "height": null,
            "justify_content": null,
            "justify_items": null,
            "left": null,
            "margin": null,
            "max_height": null,
            "max_width": null,
            "min_height": null,
            "min_width": null,
            "object_fit": null,
            "object_position": null,
            "order": null,
            "overflow": null,
            "overflow_x": null,
            "overflow_y": null,
            "padding": null,
            "right": null,
            "top": null,
            "visibility": null,
            "width": null
          }
        },
        "f1a0f1addc904ecdbc506331f22167c1": {
          "model_module": "@jupyter-widgets/base",
          "model_name": "LayoutModel",
          "model_module_version": "1.2.0",
          "state": {
            "_model_module": "@jupyter-widgets/base",
            "_model_module_version": "1.2.0",
            "_model_name": "LayoutModel",
            "_view_count": null,
            "_view_module": "@jupyter-widgets/base",
            "_view_module_version": "1.2.0",
            "_view_name": "LayoutView",
            "align_content": null,
            "align_items": null,
            "align_self": null,
            "border": null,
            "bottom": null,
            "display": null,
            "flex": null,
            "flex_flow": null,
            "grid_area": null,
            "grid_auto_columns": null,
            "grid_auto_flow": null,
            "grid_auto_rows": null,
            "grid_column": null,
            "grid_gap": null,
            "grid_row": null,
            "grid_template_areas": null,
            "grid_template_columns": null,
            "grid_template_rows": null,
            "height": null,
            "justify_content": null,
            "justify_items": null,
            "left": null,
            "margin": null,
            "max_height": null,
            "max_width": null,
            "min_height": null,
            "min_width": null,
            "object_fit": null,
            "object_position": null,
            "order": null,
            "overflow": null,
            "overflow_x": null,
            "overflow_y": null,
            "padding": null,
            "right": null,
            "top": null,
            "visibility": null,
            "width": null
          }
        },
        "55ba49b7d8774ede8af4b5dc5057bc14": {
          "model_module": "@jupyter-widgets/controls",
          "model_name": "DescriptionStyleModel",
          "model_module_version": "1.5.0",
          "state": {
            "_model_module": "@jupyter-widgets/controls",
            "_model_module_version": "1.5.0",
            "_model_name": "DescriptionStyleModel",
            "_view_count": null,
            "_view_module": "@jupyter-widgets/base",
            "_view_module_version": "1.2.0",
            "_view_name": "StyleView",
            "description_width": ""
          }
        },
        "d17dc85f976a44b68f84ae988cd7bd7c": {
          "model_module": "@jupyter-widgets/base",
          "model_name": "LayoutModel",
          "model_module_version": "1.2.0",
          "state": {
            "_model_module": "@jupyter-widgets/base",
            "_model_module_version": "1.2.0",
            "_model_name": "LayoutModel",
            "_view_count": null,
            "_view_module": "@jupyter-widgets/base",
            "_view_module_version": "1.2.0",
            "_view_name": "LayoutView",
            "align_content": null,
            "align_items": null,
            "align_self": null,
            "border": null,
            "bottom": null,
            "display": null,
            "flex": null,
            "flex_flow": null,
            "grid_area": null,
            "grid_auto_columns": null,
            "grid_auto_flow": null,
            "grid_auto_rows": null,
            "grid_column": null,
            "grid_gap": null,
            "grid_row": null,
            "grid_template_areas": null,
            "grid_template_columns": null,
            "grid_template_rows": null,
            "height": null,
            "justify_content": null,
            "justify_items": null,
            "left": null,
            "margin": null,
            "max_height": null,
            "max_width": null,
            "min_height": null,
            "min_width": null,
            "object_fit": null,
            "object_position": null,
            "order": null,
            "overflow": null,
            "overflow_x": null,
            "overflow_y": null,
            "padding": null,
            "right": null,
            "top": null,
            "visibility": null,
            "width": null
          }
        },
        "4f9e399546434485b34424719189cfe6": {
          "model_module": "@jupyter-widgets/controls",
          "model_name": "ProgressStyleModel",
          "model_module_version": "1.5.0",
          "state": {
            "_model_module": "@jupyter-widgets/controls",
            "_model_module_version": "1.5.0",
            "_model_name": "ProgressStyleModel",
            "_view_count": null,
            "_view_module": "@jupyter-widgets/base",
            "_view_module_version": "1.2.0",
            "_view_name": "StyleView",
            "bar_color": null,
            "description_width": ""
          }
        },
        "c4b4b30be70e43b389c7e6967a95bfce": {
          "model_module": "@jupyter-widgets/base",
          "model_name": "LayoutModel",
          "model_module_version": "1.2.0",
          "state": {
            "_model_module": "@jupyter-widgets/base",
            "_model_module_version": "1.2.0",
            "_model_name": "LayoutModel",
            "_view_count": null,
            "_view_module": "@jupyter-widgets/base",
            "_view_module_version": "1.2.0",
            "_view_name": "LayoutView",
            "align_content": null,
            "align_items": null,
            "align_self": null,
            "border": null,
            "bottom": null,
            "display": null,
            "flex": null,
            "flex_flow": null,
            "grid_area": null,
            "grid_auto_columns": null,
            "grid_auto_flow": null,
            "grid_auto_rows": null,
            "grid_column": null,
            "grid_gap": null,
            "grid_row": null,
            "grid_template_areas": null,
            "grid_template_columns": null,
            "grid_template_rows": null,
            "height": null,
            "justify_content": null,
            "justify_items": null,
            "left": null,
            "margin": null,
            "max_height": null,
            "max_width": null,
            "min_height": null,
            "min_width": null,
            "object_fit": null,
            "object_position": null,
            "order": null,
            "overflow": null,
            "overflow_x": null,
            "overflow_y": null,
            "padding": null,
            "right": null,
            "top": null,
            "visibility": null,
            "width": null
          }
        },
        "cf9e7153ac6748f1a26503cf18448aeb": {
          "model_module": "@jupyter-widgets/controls",
          "model_name": "DescriptionStyleModel",
          "model_module_version": "1.5.0",
          "state": {
            "_model_module": "@jupyter-widgets/controls",
            "_model_module_version": "1.5.0",
            "_model_name": "DescriptionStyleModel",
            "_view_count": null,
            "_view_module": "@jupyter-widgets/base",
            "_view_module_version": "1.2.0",
            "_view_name": "StyleView",
            "description_width": ""
          }
        }
      }
    }
  },
  "cells": [
    {
      "cell_type": "code",
      "source": [
        "# !pip install tensorflow==2.14.0\n",
        "# !pip install update urllib3\n",
        "\n",
        "# !pip install textattack\n",
        "# !pip install evaluate"
      ],
      "metadata": {
        "id": "N2ZJxj9kUAwj"
      },
      "execution_count": null,
      "outputs": []
    },
    {
      "cell_type": "code",
      "source": [
        "from transformers import TrainingArguments, Trainer, AutoTokenizer, AutoModelForMaskedLM, AutoModelForSequenceClassification\n",
        "import numpy as np\n",
        "import evaluate\n",
        "from datasets import load_dataset, DatasetDict\n",
        "import torch\n",
        "import transformers\n",
        "import textattack\n",
        "from textattack.models.helpers import T5ForTextToText\n",
        "from textattack.models.tokenizers import T5Tokenizer\n",
        "from textattack.models.wrappers.huggingface_model_wrapper import HuggingFaceModelWrapper\n",
        "torch.cuda.empty_cache()"
      ],
      "metadata": {
        "id": "MIVMBFwjwu86"
      },
      "execution_count": null,
      "outputs": []
    },
    {
      "cell_type": "markdown",
      "source": [
        "Functions"
      ],
      "metadata": {
        "id": "t-J02DFhQmCm"
      }
    },
    {
      "cell_type": "code",
      "source": [
        "metric = evaluate.load(\"accuracy\")\n",
        "\n",
        "def compute_metrics(eval_pred):\n",
        "    logits, labels = eval_pred\n",
        "    predictions = np.argmax(logits, axis=-1)\n",
        "    return metric.compute(predictions=predictions, references=labels)\n",
        "\n",
        "def tokenize_function(examples):\n",
        "    return tokenizer(examples[\"sentence\"], padding=\"max_length\", truncation=True)"
      ],
      "metadata": {
        "id": "R7cY8yxVQnmS"
      },
      "execution_count": null,
      "outputs": []
    },
    {
      "cell_type": "markdown",
      "source": [
        "Load Dataset"
      ],
      "metadata": {
        "id": "TXC5e7sVvLmg"
      }
    },
    {
      "cell_type": "code",
      "source": [
        "tokenizer = AutoTokenizer.from_pretrained(\"ahmedrachid/FinancialBERT\")\n",
        "\n",
        "dataset = load_dataset(\"financial_phrasebank\", 'sentences_50agree')\n",
        "test = dataset['train'].train_test_split(test_size=0.3,seed=1997)\n",
        "train = test['train'].train_test_split(test_size=0.2,seed=1997)\n",
        "dataset = DatasetDict({\n",
        "    'train': train['train'],\n",
        "    'test': test['test'],\n",
        "    'validation': train['test']})\n",
        "dataset.save_to_disk(\"content/drive/MyDrive/NLP Project/data/\")\n",
        "\n",
        "training_data = dataset['train']\n",
        "validation_data = dataset['validation']\n",
        "test_data = dataset['test']\n",
        "tokenized_training_data = training_data.map(tokenize_function, batched=True)\n",
        "tokenized_validation_data = validation_data.map(tokenize_function, batched=True)\n",
        "tokenized_test_data = test_data.map(tokenize_function, batched=True)\n"
      ],
      "metadata": {
        "id": "tNCrqS7VvKtC",
        "colab": {
          "base_uri": "https://localhost:8080/",
          "height": 113,
          "referenced_widgets": [
            "d40dafc6f62a4c3c97534c4975106f67",
            "2875d00774614c4e90cd5169011ba8b0",
            "aa4f18835713495c87374ea0e41021a2",
            "1c397000e5934517bd0c92403cdf4ceb",
            "13bb29da762443d38211ec1d596d27df",
            "7bbf6c40c0af461db0bcfe92ea39d7bc",
            "d8cd138a93c249b38e4651ec9ccc094c",
            "46f815d1efe5479f8eade2351f678cd3",
            "3c56e510c4704c0a90dcc3c7206388d2",
            "2ddd3fefd423481ab8411d563d2fb844",
            "2a9c3d26c4c64273849c42c1eb308cb0",
            "abbde068768e4e9aa16bf402b23ed404",
            "1d0915945ba24d4db5d1ee80339bb2a7",
            "06f983ed2c154dfab5c02e657958a85f",
            "3e65985c8cb748a5bbe53c3e10587ade",
            "c1a6f8ed896744589e7a8d6455b3e7e6",
            "158906da0345462b9f117ab74305032e",
            "79f19683820d42358177685c81e29ff6",
            "30c00260af214a57bbda696b83b5ddb2",
            "ca752795b9644e58ae0a43ab792c2fa3",
            "b55d419db88846c68d59aa960f7e7394",
            "9b1c43b1314248f58311f13989a53c0f",
            "8210497ca206446f9e862e4ee6d3280d",
            "4396cc54f6e248478783886e63feef58",
            "80c571b24fad4fcd95d6400d456f0d4a",
            "cd6f51d39e49415784485c60e35692eb",
            "8194f7cb278042bb9e929dbbb5deb7b7",
            "6973f6108dc34f3db92dd36a6a3dae51",
            "cf990b01ce7d4ca8bb8bbc1aff3299e7",
            "01577696dfc243b5a8119809184ab0eb",
            "015f1949f2d0445a9e3dc41428c8f660",
            "372066776f174cb7972a99660727bfa9",
            "a4c360e16b634e1a9c0ae7ca9da8998f"
          ]
        },
        "outputId": "8f60c8e5-d6b7-42e3-930d-d452880158eb"
      },
      "execution_count": null,
      "outputs": [
        {
          "output_type": "display_data",
          "data": {
            "text/plain": [
              "Saving the dataset (0/1 shards):   0%|          | 0/2713 [00:00<?, ? examples/s]"
            ],
            "application/vnd.jupyter.widget-view+json": {
              "version_major": 2,
              "version_minor": 0,
              "model_id": "d40dafc6f62a4c3c97534c4975106f67"
            }
          },
          "metadata": {}
        },
        {
          "output_type": "display_data",
          "data": {
            "text/plain": [
              "Saving the dataset (0/1 shards):   0%|          | 0/1454 [00:00<?, ? examples/s]"
            ],
            "application/vnd.jupyter.widget-view+json": {
              "version_major": 2,
              "version_minor": 0,
              "model_id": "abbde068768e4e9aa16bf402b23ed404"
            }
          },
          "metadata": {}
        },
        {
          "output_type": "display_data",
          "data": {
            "text/plain": [
              "Saving the dataset (0/1 shards):   0%|          | 0/679 [00:00<?, ? examples/s]"
            ],
            "application/vnd.jupyter.widget-view+json": {
              "version_major": 2,
              "version_minor": 0,
              "model_id": "8210497ca206446f9e862e4ee6d3280d"
            }
          },
          "metadata": {}
        }
      ]
    },
    {
      "cell_type": "markdown",
      "source": [
        "Train Model"
      ],
      "metadata": {
        "id": "KbR5DBeOuKnV"
      }
    },
    {
      "cell_type": "code",
      "source": [
        "model = AutoModelForSequenceClassification.from_pretrained(\"ahmedrachid/FinancialBERT\", num_labels=3)\n",
        "\n",
        "training_args = TrainingArguments(output_dir = \"test_trainer\",evaluation_strategy=\"epoch\")\n",
        "trainer = Trainer(\n",
        "    model=model,\n",
        "    args=training_args,\n",
        "    train_dataset=tokenized_training_data,\n",
        "    eval_dataset=tokenized_validation_data,\n",
        "    compute_metrics=compute_metrics,\n",
        ")\n",
        "\n",
        "trainer.train()\n",
        "trainer.save_model(\"content/drive/MyDrive/NLP Project/models/classifier_model/finbert-sentiment-no-defensive\")"
      ],
      "metadata": {
        "colab": {
          "base_uri": "https://localhost:8080/",
          "height": 290,
          "referenced_widgets": [
            "2e99c61a3ca648df942c601325807bb8",
            "569515c86b8647eeb53b2cd1a5887bd2",
            "086fd4945c8748d989889d5318d88c2f",
            "77c083fd46d045e8bc1ff5479734f780",
            "9b14b9f3fad441fabb682d08ef668f30",
            "8733a1b50bf44fb39d2d0a7787713b90",
            "b886894e1f8349b0b60d8a0bf9edf99d",
            "531e7fd7fb764806a3bfc1e6aa6f93ca",
            "4be1c646eb0b463c80108e6bc9a4474e",
            "b8b7d331554c4b349f1d7a5ec216bfaa",
            "5eca259213bd46ca8e91400ac77fac73",
            "be0202f5bcfb403aaa87d066548dd33e",
            "0d9207cfa28f43b7a3edeb8af6eb25af",
            "5af80891b8f44622a3441d27ea15f547",
            "a3d06260d1e44bd787db1f1759643196",
            "83b5b65f3a9543c2963b943b5a04c0cc",
            "f1a0f1addc904ecdbc506331f22167c1",
            "55ba49b7d8774ede8af4b5dc5057bc14",
            "d17dc85f976a44b68f84ae988cd7bd7c",
            "4f9e399546434485b34424719189cfe6",
            "c4b4b30be70e43b389c7e6967a95bfce",
            "cf9e7153ac6748f1a26503cf18448aeb"
          ]
        },
        "id": "cTziZ8r2uJzT",
        "outputId": "6a3cfedc-e2e9-4b40-f725-3fed080a59cc"
      },
      "execution_count": null,
      "outputs": [
        {
          "output_type": "display_data",
          "data": {
            "text/plain": [
              "config.json:   0%|          | 0.00/589 [00:00<?, ?B/s]"
            ],
            "application/vnd.jupyter.widget-view+json": {
              "version_major": 2,
              "version_minor": 0,
              "model_id": "2e99c61a3ca648df942c601325807bb8"
            }
          },
          "metadata": {}
        },
        {
          "output_type": "display_data",
          "data": {
            "text/plain": [
              "pytorch_model.bin:   0%|          | 0.00/439M [00:00<?, ?B/s]"
            ],
            "application/vnd.jupyter.widget-view+json": {
              "version_major": 2,
              "version_minor": 0,
              "model_id": "be0202f5bcfb403aaa87d066548dd33e"
            }
          },
          "metadata": {}
        },
        {
          "output_type": "stream",
          "name": "stderr",
          "text": [
            "Some weights of BertForSequenceClassification were not initialized from the model checkpoint at ahmedrachid/FinancialBERT and are newly initialized: ['bert.pooler.dense.bias', 'classifier.bias', 'bert.pooler.dense.weight', 'classifier.weight']\n",
            "You should probably TRAIN this model on a down-stream task to be able to use it for predictions and inference.\n"
          ]
        },
        {
          "output_type": "display_data",
          "data": {
            "text/plain": [
              "<IPython.core.display.HTML object>"
            ],
            "text/html": [
              "\n",
              "    <div>\n",
              "      \n",
              "      <progress value='1020' max='1020' style='width:300px; height:20px; vertical-align: middle;'></progress>\n",
              "      [1020/1020 13:57, Epoch 3/3]\n",
              "    </div>\n",
              "    <table border=\"1\" class=\"dataframe\">\n",
              "  <thead>\n",
              " <tr style=\"text-align: left;\">\n",
              "      <th>Epoch</th>\n",
              "      <th>Training Loss</th>\n",
              "      <th>Validation Loss</th>\n",
              "      <th>Accuracy</th>\n",
              "    </tr>\n",
              "  </thead>\n",
              "  <tbody>\n",
              "    <tr>\n",
              "      <td>1</td>\n",
              "      <td>No log</td>\n",
              "      <td>0.397451</td>\n",
              "      <td>0.843888</td>\n",
              "    </tr>\n",
              "    <tr>\n",
              "      <td>2</td>\n",
              "      <td>0.412100</td>\n",
              "      <td>0.658348</td>\n",
              "      <td>0.824742</td>\n",
              "    </tr>\n",
              "    <tr>\n",
              "      <td>3</td>\n",
              "      <td>0.136200</td>\n",
              "      <td>0.831160</td>\n",
              "      <td>0.837997</td>\n",
              "    </tr>\n",
              "  </tbody>\n",
              "</table><p>"
            ]
          },
          "metadata": {}
        }
      ]
    },
    {
      "cell_type": "markdown",
      "source": [
        "Attack train data"
      ],
      "metadata": {
        "id": "a8wixS28uVUP"
      }
    },
    {
      "cell_type": "code",
      "source": [
        "model = AutoModelForSequenceClassification.from_pretrained(\"content/drive/MyDrive/NLP Project/models/classifier_model/finbert-sentiment-no-defensive\")\n",
        "model_wrapper = HuggingFaceModelWrapper(model,tokenizer)\n",
        "textattack_dataset = textattack.datasets.HuggingFaceDataset(dataset['train'])\n",
        "attack = textattack.attack_recipes.PWWSRen2019.build(model_wrapper)\n",
        "attack_args = textattack.AttackArgs(\n",
        "    num_examples=-1,\n",
        "    log_to_csv=\"content/drive/MyDrive/NLP Project/data/attacks_PWWSRen2019.csv\",\n",
        ")\n",
        "attacker = textattack.Attacker(attack, textattack_dataset, attack_args)\n",
        "attacks = attacker.attack_dataset()"
      ],
      "metadata": {
        "colab": {
          "base_uri": "https://localhost:8080/",
          "height": 1000
        },
        "id": "Qylb1OdouYXB",
        "outputId": "84badc92-f878-49f6-bb7f-b4e39e846dd4"
      },
      "execution_count": null,
      "outputs": [
        {
          "output_type": "stream",
          "name": "stderr",
          "text": [
            "[nltk_data] Downloading package omw-1.4 to /root/nltk_data...\n",
            "textattack: Unknown if model of class <class 'transformers.models.bert.modeling_bert.BertForSequenceClassification'> compatible with goal function <class 'textattack.goal_functions.classification.untargeted_classification.UntargetedClassification'>.\n",
            "textattack: Logging to CSV at path content/drive/MyDrive/NLP Project/data/attacks_PWWSRen2019.csv\n"
          ]
        },
        {
          "output_type": "stream",
          "name": "stdout",
          "text": [
            "Attack(\n",
            "  (search_method): GreedyWordSwapWIR(\n",
            "    (wir_method):  weighted-saliency\n",
            "  )\n",
            "  (goal_function):  UntargetedClassification\n",
            "  (transformation):  WordSwapWordNet\n",
            "  (constraints): \n",
            "    (0): RepeatModification\n",
            "    (1): StopwordModification\n",
            "  (is_black_box):  True\n",
            ") \n",
            "\n"
          ]
        },
        {
          "output_type": "stream",
          "name": "stderr",
          "text": [
            "[Succeeded / Failed / Skipped / Total] 1 / 0 / 0 / 1:   0%|          | 1/2713 [00:07<5:27:36,  7.25s/it]"
          ]
        },
        {
          "output_type": "stream",
          "name": "stdout",
          "text": [
            "--------------------------------------------- Result 1 ---------------------------------------------\n",
            "[[Neutral (100%)]] --> [[Negative (96%)]]\n",
            "\n",
            "About 72 % of Evraz Group shares are [[owned]] by Lanebrook , whose beneficiaries , on the one hand , are Millhouse , the [[holding]] [[company]] for the assets of billionaire [[Roman]] Abramovich and his business partners 50 % ; and Evraz executives Alexander Abramov and Alexander Frolov 50 % , on the other .\n",
            "\n",
            "About 72 % of Evraz Group shares are [[have]] by Lanebrook , whose beneficiaries , on the one hand , are Millhouse , the [[arrest]] [[companionship]] for the assets of billionaire [[papistical]] Abramovich and his business partners 50 % ; and Evraz executives Alexander Abramov and Alexander Frolov 50 % , on the other .\n",
            "\n",
            "\n"
          ]
        },
        {
          "output_type": "stream",
          "name": "stderr",
          "text": [
            "[Succeeded / Failed / Skipped / Total] 2 / 0 / 0 / 2:   0%|          | 2/2713 [00:11<4:22:57,  5.82s/it]"
          ]
        },
        {
          "output_type": "stream",
          "name": "stdout",
          "text": [
            "--------------------------------------------- Result 2 ---------------------------------------------\n",
            "[[Neutral (100%)]] --> [[Positive (99%)]]\n",
            "\n",
            "MANAVIGATOR-November 1 , 2010-Deal snapshot : SWEDISH PEAB BUYS EQUIPMENT RENTAL FIRM CRAMO Swedish construction company Peab AB ( STO : PEAB B ) [[announced]] the acquisition of equipment rental company Cramo Entreprenadmaskiner AB from Finnish group Cramo Oyj ( HEL : CRA1V ) .\n",
            "\n",
            "MANAVIGATOR-November 1 , 2010-Deal snapshot : SWEDISH PEAB BUYS EQUIPMENT RENTAL FIRM CRAMO Swedish construction company Peab AB ( STO : PEAB B ) [[proclaimed]] the acquisition of equipment rental company Cramo Entreprenadmaskiner AB from Finnish group Cramo Oyj ( HEL : CRA1V ) .\n",
            "\n",
            "\n"
          ]
        },
        {
          "output_type": "stream",
          "name": "stderr",
          "text": [
            "[Succeeded / Failed / Skipped / Total] 2 / 1 / 0 / 3:   0%|          | 3/2713 [00:20<5:04:52,  6.75s/it]"
          ]
        },
        {
          "output_type": "stream",
          "name": "stdout",
          "text": [
            "--------------------------------------------- Result 3 ---------------------------------------------\n",
            "[[Neutral (100%)]] --> [[[FAILED]]]\n",
            "\n",
            "The company is owned by the State of Finland and the European Aeronautic Defense and Space Company EADS N.V. Tekla is an international software company that provides solutions for building and construction , energy distribution and municipalities .\n",
            "\n",
            "\n"
          ]
        },
        {
          "output_type": "stream",
          "name": "stderr",
          "text": [
            "[Succeeded / Failed / Skipped / Total] 3 / 1 / 0 / 4:   0%|          | 4/2713 [00:25<4:47:05,  6.36s/it]"
          ]
        },
        {
          "output_type": "stream",
          "name": "stdout",
          "text": [
            "--------------------------------------------- Result 4 ---------------------------------------------\n",
            "[[Neutral (100%)]] --> [[Negative (79%)]]\n",
            "\n",
            "It [[expects]] [[revenue]] between $ [[8]].[[4]] billion and $ [[8]].7 billion , [[compared]] to analyst [[estimates]] of $ 8.67 billion .\n",
            "\n",
            "It [[bear]] [[taxation]] between $ [[octet]].[[quadruplet]] billion and $ [[octonary]].7 billion , [[compare]] to analyst [[gauge]] of $ 8.67 billion .\n",
            "\n",
            "\n"
          ]
        },
        {
          "output_type": "stream",
          "name": "stderr",
          "text": [
            "[Succeeded / Failed / Skipped / Total] 4 / 1 / 0 / 5:   0%|          | 5/2713 [00:30<4:36:51,  6.13s/it]"
          ]
        },
        {
          "output_type": "stream",
          "name": "stdout",
          "text": [
            "--------------------------------------------- Result 5 ---------------------------------------------\n",
            "[[Neutral (100%)]] --> [[Positive (99%)]]\n",
            "\n",
            "The business had [[gross]] written premiums of EUR152 .4 m (  91.5 m ) in 2000 , a net combined ratio of 133 % and 175 staff in total with offices in the UK , Germany and Benelux .\n",
            "\n",
            "The business had [[double-dyed]] written premiums of EUR152 .4 m (  91.5 m ) in 2000 , a net combined ratio of 133 % and 175 staff in total with offices in the UK , Germany and Benelux .\n",
            "\n",
            "\n"
          ]
        },
        {
          "output_type": "stream",
          "name": "stderr",
          "text": [
            "[Succeeded / Failed / Skipped / Total] 4 / 2 / 0 / 6:   0%|          | 6/2713 [00:31<3:54:36,  5.20s/it]"
          ]
        },
        {
          "output_type": "stream",
          "name": "stdout",
          "text": [
            "--------------------------------------------- Result 6 ---------------------------------------------\n",
            "[[Neutral (100%)]] --> [[[FAILED]]]\n",
            "\n",
            "You 're not alone .\n",
            "\n",
            "\n"
          ]
        },
        {
          "output_type": "stream",
          "name": "stderr",
          "text": [
            "[Succeeded / Failed / Skipped / Total] 5 / 2 / 0 / 7:   0%|          | 7/2713 [00:37<3:58:30,  5.29s/it]"
          ]
        },
        {
          "output_type": "stream",
          "name": "stdout",
          "text": [
            "--------------------------------------------- Result 7 ---------------------------------------------\n",
            "[[Neutral (100%)]] --> [[Positive (51%)]]\n",
            "\n",
            "The Annual [[General]] [[Meeting]] approved that the yearly [[remuneration]] for the members of the Board of Directors shall [[remain]] at EUR 40.000 for the Chairman of the Board , EUR 30.000 for the Deputy Chairman of the Board and EUR 20.000 for other members of the Board .\n",
            "\n",
            "The Annual [[worldwide]] [[receive]] approved that the yearly [[earnings]] for the members of the Board of Directors shall [[persist]] at EUR 40.000 for the Chairman of the Board , EUR 30.000 for the Deputy Chairman of the Board and EUR 20.000 for other members of the Board .\n",
            "\n",
            "\n"
          ]
        },
        {
          "output_type": "stream",
          "name": "stderr",
          "text": [
            "[Succeeded / Failed / Skipped / Total] 5 / 3 / 0 / 8:   0%|          | 8/2713 [00:39<3:44:51,  4.99s/it]"
          ]
        },
        {
          "output_type": "stream",
          "name": "stdout",
          "text": [
            "--------------------------------------------- Result 8 ---------------------------------------------\n",
            "[[Neutral (100%)]] --> [[[FAILED]]]\n",
            "\n",
            "Below are unaudited consolidated results for Aspocomp Group under IFRS reporting standards .\n",
            "\n",
            "\n"
          ]
        },
        {
          "output_type": "stream",
          "name": "stderr",
          "text": [
            "[Succeeded / Failed / Skipped / Total] 6 / 3 / 0 / 9:   0%|          | 9/2713 [00:44<3:45:01,  4.99s/it]"
          ]
        },
        {
          "output_type": "stream",
          "name": "stdout",
          "text": [
            "--------------------------------------------- Result 9 ---------------------------------------------\n",
            "[[Negative (100%)]] --> [[Neutral (100%)]]\n",
            "\n",
            "Myllykoski , with one paper plant in Finland , one in the US and three in Germany , had revenues of EUR286m in the first half of 2010 and an operating [[loss]] of EUR12m , Reuters said .\n",
            "\n",
            "Myllykoski , with one paper plant in Finland , one in the US and three in Germany , had revenues of EUR286m in the first half of 2010 and an operating [[release]] of EUR12m , Reuters said .\n",
            "\n",
            "\n"
          ]
        },
        {
          "output_type": "stream",
          "name": "stderr",
          "text": [
            "[Succeeded / Failed / Skipped / Total] 7 / 3 / 0 / 10:   0%|          | 10/2713 [00:47<3:34:26,  4.76s/it]"
          ]
        },
        {
          "output_type": "stream",
          "name": "stdout",
          "text": [
            "--------------------------------------------- Result 10 ---------------------------------------------\n",
            "[[Negative (100%)]] --> [[Positive (98%)]]\n",
            "\n",
            "Swedbank 's shares have been hardest [[hit]] of the Swedish banks by the ongoing international financial crisis .\n",
            "\n",
            "Swedbank 's shares have been hardest [[gain]] of the Swedish banks by the ongoing international financial crisis .\n",
            "\n",
            "\n"
          ]
        },
        {
          "output_type": "stream",
          "name": "stderr",
          "text": [
            "[Succeeded / Failed / Skipped / Total] 7 / 4 / 0 / 11:   0%|          | 11/2713 [00:52<3:35:13,  4.78s/it]"
          ]
        },
        {
          "output_type": "stream",
          "name": "stdout",
          "text": [
            "--------------------------------------------- Result 11 ---------------------------------------------\n",
            "[[Neutral (100%)]] --> [[[FAILED]]]\n",
            "\n",
            "Both sources said Nokia would unveil its new phone code-named `` Tube '' on Oct. 2 at an analyst and media event in London .\n",
            "\n",
            "\n"
          ]
        },
        {
          "output_type": "stream",
          "name": "stderr",
          "text": [
            "[Succeeded / Failed / Skipped / Total] 7 / 5 / 0 / 12:   0%|          | 12/2713 [00:54<3:25:00,  4.55s/it]"
          ]
        },
        {
          "output_type": "stream",
          "name": "stdout",
          "text": [
            "--------------------------------------------- Result 12 ---------------------------------------------\n",
            "[[Neutral (100%)]] --> [[[FAILED]]]\n",
            "\n",
            "Because the application can be considered as a hacking application , it is classified by F-Secure as riskware .\n",
            "\n",
            "\n"
          ]
        },
        {
          "output_type": "stream",
          "name": "stderr",
          "text": [
            "[Succeeded / Failed / Skipped / Total] 8 / 5 / 0 / 13:   0%|          | 13/2713 [01:00<3:29:36,  4.66s/it]"
          ]
        },
        {
          "output_type": "stream",
          "name": "stdout",
          "text": [
            "--------------------------------------------- Result 13 ---------------------------------------------\n",
            "[[Neutral (100%)]] --> [[Positive (90%)]]\n",
            "\n",
            "Fortum expects its annual capital expenditure in the next [[four]] to five years to be within a [[range]] of EUR 0.8-1 .2 billion , as earlier announced .\n",
            "\n",
            "Fortum expects its annual capital expenditure in the next [[quadruplet]] to five years to be within a [[reach]] of EUR 0.8-1 .2 billion , as earlier announced .\n",
            "\n",
            "\n"
          ]
        },
        {
          "output_type": "stream",
          "name": "stderr",
          "text": [
            "[Succeeded / Failed / Skipped / Total] 9 / 5 / 0 / 14:   1%|          | 14/2713 [01:03<3:22:35,  4.50s/it]"
          ]
        },
        {
          "output_type": "stream",
          "name": "stdout",
          "text": [
            "--------------------------------------------- Result 14 ---------------------------------------------\n",
            "[[Negative (100%)]] --> [[Positive (100%)]]\n",
            "\n",
            "The sales of the Tiimari segment [[fell]] by 4.0 % year-on-year to EUR3 .3 m in June 2010 .\n",
            "\n",
            "The sales of the Tiimari segment [[return]] by 4.0 % year-on-year to EUR3 .3 m in June 2010 .\n",
            "\n",
            "\n"
          ]
        },
        {
          "output_type": "stream",
          "name": "stderr",
          "text": [
            "[Succeeded / Failed / Skipped / Total] 10 / 5 / 0 / 15:   1%|          | 15/2713 [01:11<3:34:21,  4.77s/it]"
          ]
        },
        {
          "output_type": "stream",
          "name": "stdout",
          "text": [
            "--------------------------------------------- Result 15 ---------------------------------------------\n",
            "[[Positive (100%)]] --> [[Neutral (89%)]]\n",
            "\n",
            "` After fixing our home-base , [[cutting]] [[costs]] and closing the non-profitable units , we are now looking at going forward , ' she said .\n",
            "\n",
            "` After fixing our home-base , [[edit]] [[price]] and closing the non-profitable units , we are now looking at going forward , ' she said .\n",
            "\n",
            "\n"
          ]
        },
        {
          "output_type": "stream",
          "name": "stderr",
          "text": [
            "[Succeeded / Failed / Skipped / Total] 11 / 5 / 0 / 16:   1%|          | 16/2713 [01:12<3:23:33,  4.53s/it]"
          ]
        },
        {
          "output_type": "stream",
          "name": "stdout",
          "text": [
            "--------------------------------------------- Result 16 ---------------------------------------------\n",
            "[[Neutral (100%)]] --> [[Negative (100%)]]\n",
            "\n",
            "The resignation will be in [[effect]] [[immediately]] .\n",
            "\n",
            "The resignation will be in [[burden]] [[instantly]] .\n",
            "\n",
            "\n"
          ]
        },
        {
          "output_type": "stream",
          "name": "stderr",
          "text": [
            "[Succeeded / Failed / Skipped / Total] 12 / 5 / 0 / 17:   1%|          | 17/2713 [01:15<3:18:35,  4.42s/it]"
          ]
        },
        {
          "output_type": "stream",
          "name": "stdout",
          "text": [
            "--------------------------------------------- Result 17 ---------------------------------------------\n",
            "[[Negative (100%)]] --> [[Neutral (69%)]]\n",
            "\n",
            "At the moment , Valio is not worried , but if the ban continues for long , it may [[become]] quite a [[problem]] .\n",
            "\n",
            "At the moment , Valio is not worried , but if the ban continues for long , it may [[get]] quite a [[job]] .\n",
            "\n",
            "\n"
          ]
        },
        {
          "output_type": "stream",
          "name": "stderr",
          "text": [
            "[Succeeded / Failed / Skipped / Total] 13 / 5 / 0 / 18:   1%|          | 18/2713 [01:20<3:21:29,  4.49s/it]"
          ]
        },
        {
          "output_type": "stream",
          "name": "stdout",
          "text": [
            "--------------------------------------------- Result 18 ---------------------------------------------\n",
            "[[Neutral (100%)]] --> [[Positive (100%)]]\n",
            "\n",
            "The second company [[acquired]] is Sweden 's Reftele Maskinservice AB , whose business is mainly field services and spare parts manufacturing , with 10 employees and 1.2 mln eur sales a year .\n",
            "\n",
            "The second company [[gain]] is Sweden 's Reftele Maskinservice AB , whose business is mainly field services and spare parts manufacturing , with 10 employees and 1.2 mln eur sales a year .\n",
            "\n",
            "\n"
          ]
        },
        {
          "output_type": "stream",
          "name": "stderr",
          "text": [
            "[Succeeded / Failed / Skipped / Total] 14 / 5 / 0 / 19:   1%|          | 19/2713 [01:23<3:16:41,  4.38s/it]"
          ]
        },
        {
          "output_type": "stream",
          "name": "stdout",
          "text": [
            "--------------------------------------------- Result 19 ---------------------------------------------\n",
            "[[Positive (100%)]] --> [[Negative (100%)]]\n",
            "\n",
            "Finnish Raisio ( Diagnostics ) is [[launching]] new DNA-based quick tests to ensure the safety of food .\n",
            "\n",
            "Finnish Raisio ( Diagnostics ) is [[plunge]] new DNA-based quick tests to ensure the safety of food .\n",
            "\n",
            "\n"
          ]
        },
        {
          "output_type": "stream",
          "name": "stderr",
          "text": [
            "[Succeeded / Failed / Skipped / Total] 15 / 5 / 0 / 20:   1%|          | 20/2713 [01:29<3:20:48,  4.47s/it]"
          ]
        },
        {
          "output_type": "stream",
          "name": "stdout",
          "text": [
            "--------------------------------------------- Result 20 ---------------------------------------------\n",
            "[[Positive (100%)]] --> [[Neutral (100%)]]\n",
            "\n",
            "Adanac Molybdenum of Canada has ordered grinding technology for its molybdenum project in British Columbia , Canada , while Shalkiya Zinc of Kazakhstan has [[awarded]] a [[contract]] for grinding technology for the Shalkiya zinc-lead project in Kazakhstan .\n",
            "\n",
            "Adanac Molybdenum of Canada has ordered grinding technology for its molybdenum project in British Columbia , Canada , while Shalkiya Zinc of Kazakhstan has [[present]] a [[take]] for grinding technology for the Shalkiya zinc-lead project in Kazakhstan .\n",
            "\n",
            "\n"
          ]
        },
        {
          "output_type": "stream",
          "name": "stderr",
          "text": [
            "[Succeeded / Failed / Skipped / Total] 16 / 5 / 0 / 21:   1%|          | 21/2713 [01:37<3:28:07,  4.64s/it]"
          ]
        },
        {
          "output_type": "stream",
          "name": "stdout",
          "text": [
            "--------------------------------------------- Result 21 ---------------------------------------------\n",
            "[[Positive (100%)]] --> [[Negative (97%)]]\n",
            "\n",
            "ADP News - Nov 18 , 2008 - Finnish AC drives manufacturer Vacon Oyj OMX : VAC1V said today that it had [[set]] up [[new]] representative [[offices]] in Romania and Ukraine to serve the growing markets in eastern and southeastern Europe .\n",
            "\n",
            "ADP News - Nov 18 , 2008 - Finnish AC drives manufacturer Vacon Oyj OMX : VAC1V said today that it had [[hardened]] up [[newfangled]] representative [[situation]] in Romania and Ukraine to serve the growing markets in eastern and southeastern Europe .\n",
            "\n",
            "\n"
          ]
        },
        {
          "output_type": "stream",
          "name": "stderr",
          "text": [
            "[Succeeded / Failed / Skipped / Total] 17 / 5 / 0 / 22:   1%|          | 22/2713 [01:39<3:22:13,  4.51s/it]"
          ]
        },
        {
          "output_type": "stream",
          "name": "stdout",
          "text": [
            "--------------------------------------------- Result 22 ---------------------------------------------\n",
            "[[Positive (100%)]] --> [[Neutral (100%)]]\n",
            "\n",
            "According to Schmardin , Nordea will most likely try to [[win]] customers over from other pension fund providers .\n",
            "\n",
            "According to Schmardin , Nordea will most likely try to [[acquire]] customers over from other pension fund providers .\n",
            "\n",
            "\n"
          ]
        },
        {
          "output_type": "stream",
          "name": "stderr",
          "text": [
            "[Succeeded / Failed / Skipped / Total] 17 / 6 / 0 / 23:   1%|          | 23/2713 [01:42<3:20:18,  4.47s/it]"
          ]
        },
        {
          "output_type": "stream",
          "name": "stdout",
          "text": [
            "--------------------------------------------- Result 23 ---------------------------------------------\n",
            "[[Neutral (100%)]] --> [[[FAILED]]]\n",
            "\n",
            "Cencorp would focus on the development , manufacture and marketing of standard products for production automation .\n",
            "\n",
            "\n"
          ]
        },
        {
          "output_type": "stream",
          "name": "stderr",
          "text": [
            "[Succeeded / Failed / Skipped / Total] 18 / 6 / 0 / 24:   1%|          | 24/2713 [01:47<3:20:30,  4.47s/it]"
          ]
        },
        {
          "output_type": "stream",
          "name": "stdout",
          "text": [
            "--------------------------------------------- Result 24 ---------------------------------------------\n",
            "[[Negative (100%)]] --> [[Neutral (99%)]]\n",
            "\n",
            "Due to market [[conditions]] , the [[company]] will [[also]] temporarily [[lay]] off about 3,200 [[people]] at different [[sites]] .\n",
            "\n",
            "Due to market [[status]] , the [[caller]] will [[besides]] temporarily [[repose]] off about 3,200 [[masses]] at different [[posture]] .\n",
            "\n",
            "\n"
          ]
        },
        {
          "output_type": "stream",
          "name": "stderr",
          "text": [
            "[Succeeded / Failed / Skipped / Total] 18 / 7 / 0 / 25:   1%|          | 25/2713 [01:50<3:17:57,  4.42s/it]"
          ]
        },
        {
          "output_type": "stream",
          "name": "stdout",
          "text": [
            "--------------------------------------------- Result 25 ---------------------------------------------\n",
            "[[Neutral (100%)]] --> [[[FAILED]]]\n",
            "\n",
            "s business sectors are building construction , infrastructure construction and technical building services .\n",
            "\n",
            "\n"
          ]
        },
        {
          "output_type": "stream",
          "name": "stderr",
          "text": [
            "[Succeeded / Failed / Skipped / Total] 19 / 7 / 0 / 26:   1%|          | 26/2713 [01:55<3:19:06,  4.45s/it]"
          ]
        },
        {
          "output_type": "stream",
          "name": "stdout",
          "text": [
            "--------------------------------------------- Result 26 ---------------------------------------------\n",
            "[[Positive (100%)]] --> [[Negative (92%)]]\n",
            "\n",
            "The company also estimates the already carried out investments to [[lead]] to an increase in its net sales for 2010 from 2009 when they reached EUR 141.7 million .\n",
            "\n",
            "The company also estimates the already carried out investments to [[trail]] to an increase in its net sales for 2010 from 2009 when they reached EUR 141.7 million .\n",
            "\n",
            "\n"
          ]
        },
        {
          "output_type": "stream",
          "name": "stderr",
          "text": [
            "[Succeeded / Failed / Skipped / Total] 20 / 7 / 0 / 27:   1%|          | 27/2713 [02:00<3:19:59,  4.47s/it]"
          ]
        },
        {
          "output_type": "stream",
          "name": "stdout",
          "text": [
            "--------------------------------------------- Result 27 ---------------------------------------------\n",
            "[[Positive (100%)]] --> [[Neutral (65%)]]\n",
            "\n",
            "Finnish messaging solutions developer Tecnomen Corporation ( OMX Helsinki : TEM1V ) said on Thursday ( 11 December ) that it has [[received]] an expansion [[order]] for its Convergent Charging solution in Latin America .\n",
            "\n",
            "Finnish messaging solutions developer Tecnomen Corporation ( OMX Helsinki : TEM1V ) said on Thursday ( 11 December ) that it has [[standard]] an expansion [[enjoin]] for its Convergent Charging solution in Latin America .\n",
            "\n",
            "\n"
          ]
        },
        {
          "output_type": "stream",
          "name": "stderr",
          "text": [
            "[Succeeded / Failed / Skipped / Total] 21 / 7 / 0 / 28:   1%|          | 28/2713 [02:02<3:16:22,  4.39s/it]"
          ]
        },
        {
          "output_type": "stream",
          "name": "stdout",
          "text": [
            "--------------------------------------------- Result 28 ---------------------------------------------\n",
            "[[Negative (100%)]] --> [[Neutral (100%)]]\n",
            "\n",
            "The number of salaried employees and group administration employees to be [[dismissed]] from the Sievi units is 17 .\n",
            "\n",
            "The number of salaried employees and group administration employees to be [[sack]] from the Sievi units is 17 .\n",
            "\n",
            "\n"
          ]
        },
        {
          "output_type": "stream",
          "name": "stderr",
          "text": [
            "[Succeeded / Failed / Skipped / Total] 22 / 7 / 0 / 29:   1%|          | 29/2713 [02:03<3:11:14,  4.28s/it]"
          ]
        },
        {
          "output_type": "stream",
          "name": "stdout",
          "text": [
            "--------------------------------------------- Result 29 ---------------------------------------------\n",
            "[[Positive (100%)]] --> [[Neutral (100%)]]\n",
            "\n",
            "European traffic [[grew]] nearly 30 % .\n",
            "\n",
            "European traffic [[mature]] nearly 30 % .\n",
            "\n",
            "\n"
          ]
        },
        {
          "output_type": "stream",
          "name": "stderr",
          "text": [
            "[Succeeded / Failed / Skipped / Total] 22 / 8 / 0 / 30:   1%|          | 30/2713 [02:05<3:07:40,  4.20s/it]"
          ]
        },
        {
          "output_type": "stream",
          "name": "stdout",
          "text": [
            "--------------------------------------------- Result 30 ---------------------------------------------\n",
            "[[Neutral (100%)]] --> [[[FAILED]]]\n",
            "\n",
            "The total capacity of the factory will be approximately 100 engines a year .\n",
            "\n",
            "\n"
          ]
        },
        {
          "output_type": "stream",
          "name": "stderr",
          "text": [
            "[Succeeded / Failed / Skipped / Total] 22 / 9 / 0 / 31:   1%|          | 31/2713 [02:17<3:18:49,  4.45s/it]"
          ]
        },
        {
          "output_type": "stream",
          "name": "stdout",
          "text": [
            "--------------------------------------------- Result 31 ---------------------------------------------\n",
            "[[Neutral (100%)]] --> [[[FAILED]]]\n",
            "\n",
            "The 10,000-odd square metre plot that Stockmann has bought for the Nevsky Center shopping center is located on Nevsky Prospect , St Petersburg 's high street , next to the Vosstaniya Square underground station , in the immediate vicinity of Moscow Station .\n",
            "\n",
            "\n"
          ]
        },
        {
          "output_type": "stream",
          "name": "stderr",
          "text": [
            "[Succeeded / Failed / Skipped / Total] 22 / 10 / 0 / 32:   1%|          | 32/2713 [02:25<3:23:17,  4.55s/it]"
          ]
        },
        {
          "output_type": "stream",
          "name": "stdout",
          "text": [
            "--------------------------------------------- Result 32 ---------------------------------------------\n",
            "[[Neutral (100%)]] --> [[[FAILED]]]\n",
            "\n",
            "Medical Devices - Russia This brand-new market analysis gives a clear overview of the actual situation and future outlook of the medical device market in Russia .\n",
            "\n",
            "\n"
          ]
        },
        {
          "output_type": "stream",
          "name": "stderr",
          "text": [
            "[Succeeded / Failed / Skipped / Total] 23 / 10 / 0 / 33:   1%|          | 33/2713 [02:29<3:22:09,  4.53s/it]"
          ]
        },
        {
          "output_type": "stream",
          "name": "stdout",
          "text": [
            "--------------------------------------------- Result 33 ---------------------------------------------\n",
            "[[Neutral (100%)]] --> [[Negative (91%)]]\n",
            "\n",
            "The final price will be [[specified]] by [[14]] May 2010 , the [[acquiring]] company [[said]] .\n",
            "\n",
            "The final price will be [[narrow]] by [[xiv]] May 2010 , the [[gain]] company [[aver]] .\n",
            "\n",
            "\n"
          ]
        },
        {
          "output_type": "stream",
          "name": "stderr",
          "text": [
            "[Succeeded / Failed / Skipped / Total] 23 / 11 / 0 / 34:   1%|▏         | 34/2713 [02:35<3:24:15,  4.57s/it]"
          ]
        },
        {
          "output_type": "stream",
          "name": "stdout",
          "text": [
            "--------------------------------------------- Result 34 ---------------------------------------------\n",
            "[[Neutral (100%)]] --> [[[FAILED]]]\n",
            "\n",
            "The total scholarship amount was 40,000 euros and the recipients were chosen on the recommendation of fine arts universities and sports associations .\n",
            "\n",
            "\n"
          ]
        },
        {
          "output_type": "stream",
          "name": "stderr",
          "text": [
            "[Succeeded / Failed / Skipped / Total] 23 / 12 / 0 / 35:   1%|▏         | 35/2713 [02:42<3:27:06,  4.64s/it]"
          ]
        },
        {
          "output_type": "stream",
          "name": "stdout",
          "text": [
            "--------------------------------------------- Result 35 ---------------------------------------------\n",
            "[[Neutral (100%)]] --> [[[FAILED]]]\n",
            "\n",
            "F-Secure Online Backup automatically protects all the content stored on a computer or smartphone by making a copy of the content to an online location .\n",
            "\n",
            "\n"
          ]
        },
        {
          "output_type": "stream",
          "name": "stderr",
          "text": [
            "[Succeeded / Failed / Skipped / Total] 24 / 12 / 0 / 36:   1%|▏         | 36/2713 [02:50<3:31:42,  4.75s/it]"
          ]
        },
        {
          "output_type": "stream",
          "name": "stdout",
          "text": [
            "--------------------------------------------- Result 36 ---------------------------------------------\n",
            "[[Neutral (100%)]] --> [[Positive (82%)]]\n",
            "\n",
            "Technopolis said before the protocol was signed that the techno-park would be [[built]] at a [[site]] [[covering]] more than six hectares in the Neudorf special economic zone and that it [[planned]] to [[invest]] 200 million euros in the [[project]] until 2009 inclusive .\n",
            "\n",
            "Technopolis said before the protocol was signed that the techno-park would be [[progress]] at a [[situation]] [[deal]] more than six hectares in the Neudorf special economic zone and that it [[contrive]] to [[empower]] 200 million euros in the [[envision]] until 2009 inclusive .\n",
            "\n",
            "\n"
          ]
        },
        {
          "output_type": "stream",
          "name": "stderr",
          "text": [
            "[Succeeded / Failed / Skipped / Total] 25 / 12 / 0 / 37:   1%|▏         | 37/2713 [02:57<3:33:43,  4.79s/it]"
          ]
        },
        {
          "output_type": "stream",
          "name": "stdout",
          "text": [
            "--------------------------------------------- Result 37 ---------------------------------------------\n",
            "[[Positive (100%)]] --> [[Neutral (51%)]]\n",
            "\n",
            "Nordea Group 's [[operating]] [[profit]] [[increased]] in 2010 by [[18]] [[percent]] year-on-year to [[3]].[[64]] [[billion]] euros and total [[revenue]] by 3 [[percent]] to 9.[[33]] [[billion]] euros .\n",
            "\n",
            "Nordea Group 's [[control]] [[net]] [[increase]] in 2010 by [[xviii]] [[percentage]] year-on-year to [[tierce]].[[sixty-four]] [[trillion]] euros and total [[taxation]] by 3 [[percentage]] to 9.[[xxxiii]] [[trillion]] euros .\n",
            "\n",
            "\n"
          ]
        },
        {
          "output_type": "stream",
          "name": "stderr",
          "text": [
            "[Succeeded / Failed / Skipped / Total] 26 / 12 / 0 / 38:   1%|▏         | 38/2713 [03:02<3:33:37,  4.79s/it]"
          ]
        },
        {
          "output_type": "stream",
          "name": "stdout",
          "text": [
            "--------------------------------------------- Result 38 ---------------------------------------------\n",
            "[[Neutral (100%)]] --> [[Negative (100%)]]\n",
            "\n",
            "It [[moved]] into the No. 2 spot in 2000 when it merged steel operations with Avesta Sheffield to form AvestaPolarit .\n",
            "\n",
            "It [[strike]] into the No. 2 spot in 2000 when it merged steel operations with Avesta Sheffield to form AvestaPolarit .\n",
            "\n",
            "\n"
          ]
        },
        {
          "output_type": "stream",
          "name": "stderr",
          "text": [
            "[Succeeded / Failed / Skipped / Total] 27 / 12 / 0 / 39:   1%|▏         | 39/2713 [03:05<3:32:24,  4.77s/it]"
          ]
        },
        {
          "output_type": "stream",
          "name": "stdout",
          "text": [
            "--------------------------------------------- Result 39 ---------------------------------------------\n",
            "[[Negative (100%)]] --> [[Positive (98%)]]\n",
            "\n",
            "At 1411 CET , ArcelorMittal had [[lost]] 7.26 % to EUR 17.38 on Euronext Paris , coming at the lead of the blue-chip fallers .\n",
            "\n",
            "At 1411 CET , ArcelorMittal had [[helpless]] 7.26 % to EUR 17.38 on Euronext Paris , coming at the lead of the blue-chip fallers .\n",
            "\n",
            "\n"
          ]
        },
        {
          "output_type": "stream",
          "name": "stderr",
          "text": [
            "[Succeeded / Failed / Skipped / Total] 27 / 13 / 0 / 40:   1%|▏         | 40/2713 [03:07<3:28:40,  4.68s/it]"
          ]
        },
        {
          "output_type": "stream",
          "name": "stdout",
          "text": [
            "--------------------------------------------- Result 40 ---------------------------------------------\n",
            "[[Neutral (100%)]] --> [[[FAILED]]]\n",
            "\n",
            "Cameco is to provide an upfront investment of up to USD 60mn for the construction of the uranium extraction circuit .\n",
            "\n",
            "\n"
          ]
        },
        {
          "output_type": "stream",
          "name": "stderr",
          "text": [
            "[Succeeded / Failed / Skipped / Total] 28 / 13 / 0 / 41:   2%|▏         | 41/2713 [03:13<3:29:48,  4.71s/it]"
          ]
        },
        {
          "output_type": "stream",
          "name": "stdout",
          "text": [
            "--------------------------------------------- Result 41 ---------------------------------------------\n",
            "[[Neutral (100%)]] --> [[Negative (53%)]]\n",
            "\n",
            "According to the notification , the [[holdings]] of Ameriprice Inc. and its group companies are now in total 808,973 shares , which represent 3.582 % of Tekla -¦ s shares and voting rights .\n",
            "\n",
            "According to the notification , the [[halt]] of Ameriprice Inc. and its group companies are now in total 808,973 shares , which represent 3.582 % of Tekla -¦ s shares and voting rights .\n",
            "\n",
            "\n"
          ]
        },
        {
          "output_type": "stream",
          "name": "stderr",
          "text": [
            "[Succeeded / Failed / Skipped / Total] 29 / 13 / 0 / 42:   2%|▏         | 42/2713 [03:19<3:30:59,  4.74s/it]"
          ]
        },
        {
          "output_type": "stream",
          "name": "stdout",
          "text": [
            "--------------------------------------------- Result 42 ---------------------------------------------\n",
            "[[Neutral (100%)]] --> [[Positive (98%)]]\n",
            "\n",
            "Proline Plus is available in both adjustable single and multichannel models and fixed volume single-channel models , in volume [[ranges]] from 0.1 micro litres to 10 ml .\n",
            "\n",
            "Proline Plus is available in both adjustable single and multichannel models and fixed volume single-channel models , in volume [[reach]] from 0.1 micro litres to 10 ml .\n",
            "\n",
            "\n"
          ]
        },
        {
          "output_type": "stream",
          "name": "stderr",
          "text": [
            "[Succeeded / Failed / Skipped / Total] 29 / 14 / 0 / 43:   2%|▏         | 43/2713 [03:25<3:32:26,  4.77s/it]"
          ]
        },
        {
          "output_type": "stream",
          "name": "stdout",
          "text": [
            "--------------------------------------------- Result 43 ---------------------------------------------\n",
            "[[Neutral (100%)]] --> [[[FAILED]]]\n",
            "\n",
            "With five different game modes , co-op tournaments , 4 player split-screen and multiplayer modes , players can have as much fun as they would if they were actually fishing .\n",
            "\n",
            "\n"
          ]
        },
        {
          "output_type": "stream",
          "name": "stderr",
          "text": [
            "[Succeeded / Failed / Skipped / Total] 29 / 15 / 0 / 44:   2%|▏         | 44/2713 [03:30<3:33:08,  4.79s/it]"
          ]
        },
        {
          "output_type": "stream",
          "name": "stdout",
          "text": [
            "--------------------------------------------- Result 44 ---------------------------------------------\n",
            "[[Neutral (100%)]] --> [[[FAILED]]]\n",
            "\n",
            "The bond , with a maturity of five years , is part of the bank 's domestic bond program .\n",
            "\n",
            "\n"
          ]
        },
        {
          "output_type": "stream",
          "name": "stderr",
          "text": [
            "[Succeeded / Failed / Skipped / Total] 29 / 16 / 0 / 45:   2%|▏         | 45/2713 [03:31<3:28:50,  4.70s/it]"
          ]
        },
        {
          "output_type": "stream",
          "name": "stdout",
          "text": [
            "--------------------------------------------- Result 45 ---------------------------------------------\n",
            "[[Neutral (100%)]] --> [[[FAILED]]]\n",
            "\n",
            "The expansion is to be finalized in the autumn of 2009 .\n",
            "\n",
            "\n"
          ]
        },
        {
          "output_type": "stream",
          "name": "stderr",
          "text": [
            "[Succeeded / Failed / Skipped / Total] 29 / 17 / 0 / 46:   2%|▏         | 46/2713 [03:36<3:29:36,  4.72s/it]"
          ]
        },
        {
          "output_type": "stream",
          "name": "stdout",
          "text": [
            "--------------------------------------------- Result 46 ---------------------------------------------\n",
            "[[Neutral (100%)]] --> [[[FAILED]]]\n",
            "\n",
            "In Finland , Hamina Cargo Terminal , of Finnish Nurminen Logistics , has purchased a warehouse with ground lease rights in the Port of Hamina .\n",
            "\n",
            "\n"
          ]
        },
        {
          "output_type": "stream",
          "name": "stderr",
          "text": [
            "[Succeeded / Failed / Skipped / Total] 30 / 17 / 0 / 47:   2%|▏         | 47/2713 [03:39<3:27:36,  4.67s/it]"
          ]
        },
        {
          "output_type": "stream",
          "name": "stdout",
          "text": [
            "--------------------------------------------- Result 47 ---------------------------------------------\n",
            "[[Neutral (100%)]] --> [[Positive (99%)]]\n",
            "\n",
            "Reporting in accordance with the merged business operations will [[start]] as of January 1 , 2011 .\n",
            "\n",
            "Reporting in accordance with the merged business operations will [[jump]] as of January 1 , 2011 .\n",
            "\n",
            "\n"
          ]
        },
        {
          "output_type": "stream",
          "name": "stderr",
          "text": [
            "[Succeeded / Failed / Skipped / Total] 31 / 17 / 0 / 48:   2%|▏         | 48/2713 [03:44<3:27:52,  4.68s/it]"
          ]
        },
        {
          "output_type": "stream",
          "name": "stdout",
          "text": [
            "--------------------------------------------- Result 48 ---------------------------------------------\n",
            "[[Positive (100%)]] --> [[Neutral (78%)]]\n",
            "\n",
            "`` [[Beyond]] the [[improved]] [[voice]] [[capabilities]] , [[customers]] now have a [[streamlined]] [[way]] to comply with [[recalls]] and other traceability [[requirements]] , [[providing]] them with a competitive [[advantage]] .\n",
            "\n",
            "`` [[beyond]] the [[meliorate]] [[spokesperson]] [[potentiality]] , [[client]] now have a [[aerodynamic]] [[room]] to comply with [[reminiscence]] and other traceability [[prerequisite]] , [[ply]] them with a competitive [[vantage]] .\n",
            "\n",
            "\n"
          ]
        },
        {
          "output_type": "stream",
          "name": "stderr",
          "text": [
            "[Succeeded / Failed / Skipped / Total] 32 / 17 / 0 / 49:   2%|▏         | 49/2713 [03:48<3:26:55,  4.66s/it]"
          ]
        },
        {
          "output_type": "stream",
          "name": "stdout",
          "text": [
            "--------------------------------------------- Result 49 ---------------------------------------------\n",
            "[[Neutral (100%)]] --> [[Positive (68%)]]\n",
            "\n",
            "The [[value]] of the [[order]] is USD 2.[[3]] [[mn]] .\n",
            "\n",
            "The [[rate]] of the [[put]] is USD 2.[[triplet]] [[MN]] .\n",
            "\n",
            "\n"
          ]
        },
        {
          "output_type": "stream",
          "name": "stderr",
          "text": [
            "[Succeeded / Failed / Skipped / Total] 33 / 17 / 0 / 50:   2%|▏         | 50/2713 [03:57<3:31:13,  4.76s/it]"
          ]
        },
        {
          "output_type": "stream",
          "name": "stdout",
          "text": [
            "--------------------------------------------- Result 50 ---------------------------------------------\n",
            "[[Neutral (100%)]] --> [[Positive (86%)]]\n",
            "\n",
            "According to Ultrascan , with a software [[acquired]] from crackers , it has managed to change the mobile phone in a way that the phone was able to get hold of a one-time password sent by a bank via a text message .\n",
            "\n",
            "According to Ultrascan , with a software [[win]] from crackers , it has managed to change the mobile phone in a way that the phone was able to get hold of a one-time password sent by a bank via a text message .\n",
            "\n",
            "\n"
          ]
        },
        {
          "output_type": "stream",
          "name": "stderr",
          "text": [
            "[Succeeded / Failed / Skipped / Total] 34 / 17 / 0 / 51:   2%|▏         | 51/2713 [04:04<3:32:41,  4.79s/it]"
          ]
        },
        {
          "output_type": "stream",
          "name": "stdout",
          "text": [
            "--------------------------------------------- Result 51 ---------------------------------------------\n",
            "[[Positive (100%)]] --> [[Negative (97%)]]\n",
            "\n",
            "According to Sepp+ñnen , the new technology UMTS900 solution network building [[costs]] are by one-third lower than that of the building of 3.5 G networks , operating at 2,100 MHz frequency .\n",
            "\n",
            "According to Sepp+ñnen , the new technology UMTS900 solution network building [[be]] are by one-third lower than that of the building of 3.5 G networks , operating at 2,100 MHz frequency .\n",
            "\n",
            "\n"
          ]
        },
        {
          "output_type": "stream",
          "name": "stderr",
          "text": [
            "[Succeeded / Failed / Skipped / Total] 35 / 17 / 0 / 52:   2%|▏         | 52/2713 [04:07<3:31:25,  4.77s/it]"
          ]
        },
        {
          "output_type": "stream",
          "name": "stdout",
          "text": [
            "--------------------------------------------- Result 52 ---------------------------------------------\n",
            "[[Positive (100%)]] --> [[Negative (96%)]]\n",
            "\n",
            "`` It [[gives]] us a sense of pride and exposure , '' said Bruce Hansen , the SVH sales representative for Wolverine .\n",
            "\n",
            "`` It [[collapse]] us a sense of pride and exposure , '' said Bruce Hansen , the SVH sales representative for Wolverine .\n",
            "\n",
            "\n"
          ]
        },
        {
          "output_type": "stream",
          "name": "stderr",
          "text": [
            "[Succeeded / Failed / Skipped / Total] 36 / 17 / 0 / 53:   2%|▏         | 53/2713 [04:13<3:31:57,  4.78s/it]"
          ]
        },
        {
          "output_type": "stream",
          "name": "stdout",
          "text": [
            "--------------------------------------------- Result 53 ---------------------------------------------\n",
            "[[Neutral (92%)]] --> [[Negative (98%)]]\n",
            "\n",
            "During the negotiations a reduction of 21 persons has taken [[place]] through natural redundancy or termination of fixed-term contracts .\n",
            "\n",
            "During the negotiations a reduction of 21 persons has taken [[stead]] through natural redundancy or termination of fixed-term contracts .\n",
            "\n",
            "\n"
          ]
        },
        {
          "output_type": "stream",
          "name": "stderr",
          "text": [
            "[Succeeded / Failed / Skipped / Total] 37 / 17 / 0 / 54:   2%|▏         | 54/2713 [04:23<3:36:31,  4.89s/it]"
          ]
        },
        {
          "output_type": "stream",
          "name": "stdout",
          "text": [
            "--------------------------------------------- Result 54 ---------------------------------------------\n",
            "[[Neutral (100%)]] --> [[Positive (95%)]]\n",
            "\n",
            "As a part of the plan , the Board of Directors decided to transfer a maximum of 330,000 shares held by the company in a share issue against payment directed to Aspo Management Oy , a holding company [[acquired]] by the management .\n",
            "\n",
            "As a part of the plan , the Board of Directors decided to transfer a maximum of 330,000 shares held by the company in a share issue against payment directed to Aspo Management Oy , a holding company [[win]] by the management .\n",
            "\n",
            "\n"
          ]
        },
        {
          "output_type": "stream",
          "name": "stderr",
          "text": [
            "[Succeeded / Failed / Skipped / Total] 38 / 17 / 0 / 55:   2%|▏         | 55/2713 [04:26<3:34:20,  4.84s/it]"
          ]
        },
        {
          "output_type": "stream",
          "name": "stdout",
          "text": [
            "--------------------------------------------- Result 55 ---------------------------------------------\n",
            "[[Negative (100%)]] --> [[Neutral (99%)]]\n",
            "\n",
            "More than a third of the original participants [[dropped]] out due to nausea and other side effects .\n",
            "\n",
            "More than a third of the original participants [[spend]] out due to nausea and other side effects .\n",
            "\n",
            "\n"
          ]
        },
        {
          "output_type": "stream",
          "name": "stderr",
          "text": [
            "[Succeeded / Failed / Skipped / Total] 39 / 17 / 0 / 56:   2%|▏         | 56/2713 [04:28<3:32:07,  4.79s/it]"
          ]
        },
        {
          "output_type": "stream",
          "name": "stdout",
          "text": [
            "--------------------------------------------- Result 56 ---------------------------------------------\n",
            "[[Neutral (100%)]] --> [[Positive (91%)]]\n",
            "\n",
            "The availability of the Internet services is [[highlighted]] in the [[service]] offer of Kesko 's K-Group stores .\n",
            "\n",
            "The availability of the Internet services is [[spotlight]] in the [[overhaul]] offer of Kesko 's K-Group stores .\n",
            "\n",
            "\n"
          ]
        },
        {
          "output_type": "stream",
          "name": "stderr",
          "text": [
            "[Succeeded / Failed / Skipped / Total] 39 / 18 / 0 / 57:   2%|▏         | 57/2713 [04:31<3:30:40,  4.76s/it]"
          ]
        },
        {
          "output_type": "stream",
          "name": "stdout",
          "text": [
            "--------------------------------------------- Result 57 ---------------------------------------------\n",
            "[[Neutral (100%)]] --> [[[FAILED]]]\n",
            "\n",
            "Net sales are expected to remain on the same level as in 2007 .\n",
            "\n",
            "\n"
          ]
        },
        {
          "output_type": "stream",
          "name": "stderr",
          "text": [
            "[Succeeded / Failed / Skipped / Total] 39 / 19 / 0 / 58:   2%|▏         | 58/2713 [04:34<3:29:27,  4.73s/it]"
          ]
        },
        {
          "output_type": "stream",
          "name": "stdout",
          "text": [
            "--------------------------------------------- Result 58 ---------------------------------------------\n",
            "[[Positive (100%)]] --> [[[FAILED]]]\n",
            "\n",
            "Net interest income was EUR 152.2 mn , up from EUR 101.0 mn in 2008 .\n",
            "\n",
            "\n"
          ]
        },
        {
          "output_type": "stream",
          "name": "stderr",
          "text": [
            "[Succeeded / Failed / Skipped / Total] 40 / 19 / 0 / 59:   2%|▏         | 59/2713 [04:36<3:27:32,  4.69s/it]"
          ]
        },
        {
          "output_type": "stream",
          "name": "stdout",
          "text": [
            "--------------------------------------------- Result 59 ---------------------------------------------\n",
            "[[Negative (100%)]] --> [[Neutral (100%)]]\n",
            "\n",
            "The first ship has been [[delayed]] and is estimated to be completed in spring 2010 .\n",
            "\n",
            "The first ship has been [[stay]] and is estimated to be completed in spring 2010 .\n",
            "\n",
            "\n"
          ]
        },
        {
          "output_type": "stream",
          "name": "stderr",
          "text": [
            "[Succeeded / Failed / Skipped / Total] 41 / 19 / 0 / 60:   2%|▏         | 60/2713 [04:39<3:25:52,  4.66s/it]"
          ]
        },
        {
          "output_type": "stream",
          "name": "stdout",
          "text": [
            "--------------------------------------------- Result 60 ---------------------------------------------\n",
            "[[Negative (100%)]] --> [[Neutral (100%)]]\n",
            "\n",
            "Full-year operating result for 2008 was 3.6 million [[negative]] .\n",
            "\n",
            "Full-year operating result for 2008 was 3.6 million [[electronegative]] .\n",
            "\n",
            "\n"
          ]
        },
        {
          "output_type": "stream",
          "name": "stderr",
          "text": [
            "[Succeeded / Failed / Skipped / Total] 42 / 19 / 0 / 61:   2%|▏         | 61/2713 [04:45<3:26:51,  4.68s/it]"
          ]
        },
        {
          "output_type": "stream",
          "name": "stdout",
          "text": [
            "--------------------------------------------- Result 61 ---------------------------------------------\n",
            "[[Neutral (100%)]] --> [[Positive (84%)]]\n",
            "\n",
            "The [[contract]] [[covers]] turnkey deliveries to all [[five]] airports operated by the authority -- John F [[Kennedy]] , LaGuardia , Newark , Teterboro and Stewart International .\n",
            "\n",
            "The [[sign]] [[extend]] turnkey deliveries to all [[quintuplet]] airports operated by the authority -- John F [[JFK]] , LaGuardia , Newark , Teterboro and Stewart International .\n",
            "\n",
            "\n"
          ]
        },
        {
          "output_type": "stream",
          "name": "stderr",
          "text": [
            "[Succeeded / Failed / Skipped / Total] 42 / 20 / 0 / 62:   2%|▏         | 62/2713 [04:49<3:26:01,  4.66s/it]"
          ]
        },
        {
          "output_type": "stream",
          "name": "stdout",
          "text": [
            "--------------------------------------------- Result 62 ---------------------------------------------\n",
            "[[Neutral (100%)]] --> [[[FAILED]]]\n",
            "\n",
            "In 2008 , AVC Systemhaus had net sales of EUR 10 million USD 7.1 m .\n",
            "\n",
            "\n"
          ]
        },
        {
          "output_type": "stream",
          "name": "stderr",
          "text": [
            "[Succeeded / Failed / Skipped / Total] 42 / 21 / 0 / 63:   2%|▏         | 63/2713 [04:52<3:24:58,  4.64s/it]"
          ]
        },
        {
          "output_type": "stream",
          "name": "stdout",
          "text": [
            "--------------------------------------------- Result 63 ---------------------------------------------\n",
            "[[Neutral (100%)]] --> [[[FAILED]]]\n",
            "\n",
            "For 24-hour news , try ICIS news www.icis.com Click `` trial '' , then ICIS news\n",
            "\n",
            "\n"
          ]
        },
        {
          "output_type": "stream",
          "name": "stderr",
          "text": [
            "[Succeeded / Failed / Skipped / Total] 43 / 21 / 0 / 64:   2%|▏         | 64/2713 [04:56<3:24:16,  4.63s/it]"
          ]
        },
        {
          "output_type": "stream",
          "name": "stdout",
          "text": [
            "--------------------------------------------- Result 64 ---------------------------------------------\n",
            "[[Positive (100%)]] --> [[Neutral (100%)]]\n",
            "\n",
            "For the first nine months of 2010 , the company 's net profit [[rose]] to EUR41m from EUR30m for the corresponding period of 2009 .\n",
            "\n",
            "For the first nine months of 2010 , the company 's net profit [[arise]] to EUR41m from EUR30m for the corresponding period of 2009 .\n",
            "\n",
            "\n"
          ]
        },
        {
          "output_type": "stream",
          "name": "stderr",
          "text": [
            "[Succeeded / Failed / Skipped / Total] 44 / 21 / 0 / 65:   2%|▏         | 65/2713 [04:57<3:22:18,  4.58s/it]"
          ]
        },
        {
          "output_type": "stream",
          "name": "stdout",
          "text": [
            "--------------------------------------------- Result 65 ---------------------------------------------\n",
            "[[Neutral (100%)]] --> [[Positive (94%)]]\n",
            "\n",
            "N-Viro operates processing [[facilities]] independently as [[well]] as in partnership with municipalities .\n",
            "\n",
            "N-Viro operates processing [[deftness]] independently as [[advantageously]] as in partnership with municipalities .\n",
            "\n",
            "\n"
          ]
        },
        {
          "output_type": "stream",
          "name": "stderr",
          "text": [
            "[Succeeded / Failed / Skipped / Total] 44 / 22 / 0 / 66:   2%|▏         | 66/2713 [05:02<3:22:07,  4.58s/it]"
          ]
        },
        {
          "output_type": "stream",
          "name": "stdout",
          "text": [
            "--------------------------------------------- Result 66 ---------------------------------------------\n",
            "[[Neutral (100%)]] --> [[[FAILED]]]\n",
            "\n",
            "Jeder Beta-Tester erh+ñlt kostenlos sechs Monate lang Updates und hat laut eigener Aussage die M+Âglichkeit , die finale Version zu beeinflussen .\n",
            "\n",
            "\n"
          ]
        },
        {
          "output_type": "stream",
          "name": "stderr",
          "text": [
            "[Succeeded / Failed / Skipped / Total] 44 / 23 / 0 / 67:   2%|▏         | 67/2713 [05:04<3:20:11,  4.54s/it]"
          ]
        },
        {
          "output_type": "stream",
          "name": "stdout",
          "text": [
            "--------------------------------------------- Result 67 ---------------------------------------------\n",
            "[[Neutral (99%)]] --> [[[FAILED]]]\n",
            "\n",
            "Kemira shares closed at (  x20ac ) 16.66 ( $ 22US .71 ) .\n",
            "\n",
            "\n"
          ]
        },
        {
          "output_type": "stream",
          "name": "stderr",
          "text": [
            "[Succeeded / Failed / Skipped / Total] 45 / 23 / 0 / 68:   3%|▎         | 68/2713 [05:09<3:20:36,  4.55s/it]"
          ]
        },
        {
          "output_type": "stream",
          "name": "stdout",
          "text": [
            "--------------------------------------------- Result 68 ---------------------------------------------\n",
            "[[Neutral (100%)]] --> [[Negative (100%)]]\n",
            "\n",
            "One can [[also]] [[apply]] for jobs [[directly]] from the iPad , select which CV to attach and which covering letter is most appropriate for each position .\n",
            "\n",
            "One can [[too]] [[implement]] for jobs [[now]] from the iPad , select which CV to attach and which covering letter is most appropriate for each position .\n",
            "\n",
            "\n"
          ]
        },
        {
          "output_type": "stream",
          "name": "stderr",
          "text": [
            "[Succeeded / Failed / Skipped / Total] 46 / 23 / 0 / 69:   3%|▎         | 69/2713 [05:15<3:21:47,  4.58s/it]"
          ]
        },
        {
          "output_type": "stream",
          "name": "stdout",
          "text": [
            "--------------------------------------------- Result 69 ---------------------------------------------\n",
            "[[Neutral (100%)]] --> [[Negative (78%)]]\n",
            "\n",
            "The podcast , sees Harple [[provide]] the low-down on GyPSii 's platform , which takes someone 's location and demographic information to produce a contextual index of the world around them .\n",
            "\n",
            "The podcast , sees Harple [[ply]] the low-down on GyPSii 's platform , which takes someone 's location and demographic information to produce a contextual index of the world around them .\n",
            "\n",
            "\n"
          ]
        },
        {
          "output_type": "stream",
          "name": "stderr",
          "text": [
            "[Succeeded / Failed / Skipped / Total] 46 / 24 / 0 / 70:   3%|▎         | 70/2713 [05:16<3:19:10,  4.52s/it]"
          ]
        },
        {
          "output_type": "stream",
          "name": "stdout",
          "text": [
            "--------------------------------------------- Result 70 ---------------------------------------------\n",
            "[[Neutral (100%)]] --> [[[FAILED]]]\n",
            "\n",
            "Investments are not disclosed .\n",
            "\n",
            "\n"
          ]
        },
        {
          "output_type": "stream",
          "name": "stderr",
          "text": [
            "[Succeeded / Failed / Skipped / Total] 47 / 24 / 0 / 71:   3%|▎         | 71/2713 [05:20<3:18:53,  4.52s/it]"
          ]
        },
        {
          "output_type": "stream",
          "name": "stdout",
          "text": [
            "--------------------------------------------- Result 71 ---------------------------------------------\n",
            "[[Positive (100%)]] --> [[Negative (98%)]]\n",
            "\n",
            "The new factory working model and reorganisations would decrease Nokian Tyres ' [[costs]] in the factory by EUR 30 million ( USD 38.7 m ) .\n",
            "\n",
            "The new factory working model and reorganisations would decrease Nokian Tyres ' [[be]] in the factory by EUR 30 million ( USD 38.7 m ) .\n",
            "\n",
            "\n"
          ]
        },
        {
          "output_type": "stream",
          "name": "stderr",
          "text": [
            "[Succeeded / Failed / Skipped / Total] 48 / 24 / 0 / 72:   3%|▎         | 72/2713 [05:23<3:17:59,  4.50s/it]"
          ]
        },
        {
          "output_type": "stream",
          "name": "stdout",
          "text": [
            "--------------------------------------------- Result 72 ---------------------------------------------\n",
            "[[Neutral (100%)]] --> [[Positive (94%)]]\n",
            "\n",
            "This PC application allows users to copy files and other data from their Nokia mobile device to their computer as [[well]] as create backup [[content]] .\n",
            "\n",
            "This PC application allows users to copy files and other data from their Nokia mobile device to their computer as [[advantageously]] as create backup [[capacity]] .\n",
            "\n",
            "\n"
          ]
        },
        {
          "output_type": "stream",
          "name": "stderr",
          "text": [
            "[Succeeded / Failed / Skipped / Total] 48 / 25 / 1 / 74:   3%|▎         | 74/2713 [05:25<3:13:41,  4.40s/it]"
          ]
        },
        {
          "output_type": "stream",
          "name": "stdout",
          "text": [
            "--------------------------------------------- Result 73 ---------------------------------------------\n",
            "[[Neutral (100%)]] --> [[[FAILED]]]\n",
            "\n",
            "The Finnish company is building a 800,000 mt-year biodiesel plant in Singapore .\n",
            "\n",
            "\n",
            "--------------------------------------------- Result 74 ---------------------------------------------\n",
            "[[Neutral (91%)]] --> [[[SKIPPED]]]\n",
            "\n",
            "TELECOMWORLDWIRE-7 April 2006-TJ Group Plc sells stake in Morning Digital Design Oy Finnish IT company TJ Group Plc said on Friday 7 April that it had signed an agreement on selling its shares of Morning Digital Design Oy to Edita Oyj .\n",
            "\n",
            "\n"
          ]
        },
        {
          "output_type": "stream",
          "name": "stderr",
          "text": [
            "[Succeeded / Failed / Skipped / Total] 49 / 25 / 1 / 75:   3%|▎         | 75/2713 [05:27<3:11:51,  4.36s/it]"
          ]
        },
        {
          "output_type": "stream",
          "name": "stdout",
          "text": [
            "--------------------------------------------- Result 75 ---------------------------------------------\n",
            "[[Negative (100%)]] --> [[Neutral (93%)]]\n",
            "\n",
            "According to Laavainen , Raisio 's food marketing used to be [[reactive]] and [[inconsistent]] .\n",
            "\n",
            "According to Laavainen , Raisio 's food marketing used to be [[responsive]] and [[discrepant]] .\n",
            "\n",
            "\n"
          ]
        },
        {
          "output_type": "stream",
          "name": "stderr",
          "text": [
            "\r[Succeeded / Failed / Skipped / Total] 50 / 25 / 1 / 76:   3%|▎         | 76/2713 [05:33<3:12:55,  4.39s/it]"
          ]
        },
        {
          "output_type": "stream",
          "name": "stdout",
          "text": [
            "--------------------------------------------- Result 76 ---------------------------------------------\n",
            "[[Positive (100%)]] --> [[Neutral (68%)]]\n",
            "\n",
            "Both [[operating]] [[profit]] and [[net]] [[sales]] for the three-month [[period]] [[increased]] , respectively from EUR15 .[[1]] m and EUR131 .[[5]] m , as [[compared]] to the [[corresponding]] [[period]] in 2005 .\n",
            "\n",
            "Both [[manoeuvre]] [[profits]] and [[final]] [[sale]] for the three-month [[point]] [[increase]] , respectively from EUR15 .[[unity]] m and EUR131 .[[quintuplet]] m , as [[liken]] to the [[equate]] [[point]] in 2005 .\n",
            "\n",
            "\n"
          ]
        },
        {
          "output_type": "stream",
          "name": "stderr",
          "text": [
            "[Succeeded / Failed / Skipped / Total] 51 / 25 / 1 / 77:   3%|▎         | 77/2713 [05:36<3:11:52,  4.37s/it]"
          ]
        },
        {
          "output_type": "stream",
          "name": "stdout",
          "text": [
            "--------------------------------------------- Result 77 ---------------------------------------------\n",
            "[[Positive (100%)]] --> [[Neutral (100%)]]\n",
            "\n",
            "The acquisition is part of Ramirent 's strategy to [[strengthen]] its position in selected locations .\n",
            "\n",
            "The acquisition is part of Ramirent 's strategy to [[fortify]] its position in selected locations .\n",
            "\n",
            "\n"
          ]
        },
        {
          "output_type": "stream",
          "name": "stderr",
          "text": [
            "\r[Succeeded / Failed / Skipped / Total] 51 / 26 / 1 / 78:   3%|▎         | 78/2713 [05:38<3:10:41,  4.34s/it]"
          ]
        },
        {
          "output_type": "stream",
          "name": "stdout",
          "text": [
            "--------------------------------------------- Result 78 ---------------------------------------------\n",
            "[[Neutral (100%)]] --> [[[FAILED]]]\n",
            "\n",
            "According to Barclays , the F-Secure software will protect users from hackers , viruses , spyware and other digital attacks .\n",
            "\n",
            "\n"
          ]
        },
        {
          "output_type": "stream",
          "name": "stderr",
          "text": [
            "[Succeeded / Failed / Skipped / Total] 52 / 26 / 1 / 79:   3%|▎         | 79/2713 [05:40<3:09:21,  4.31s/it]"
          ]
        },
        {
          "output_type": "stream",
          "name": "stdout",
          "text": [
            "--------------------------------------------- Result 79 ---------------------------------------------\n",
            "[[Positive (100%)]] --> [[Neutral (90%)]]\n",
            "\n",
            "Earnings per [[share]] EPS [[amounted]] to EUR0 .03 , up from the [[loss]] of EUR0 .08 .\n",
            "\n",
            "Earnings per [[ploughshare]] EPS [[amount]] to EUR0 .03 , up from the [[expiration]] of EUR0 .08 .\n",
            "\n",
            "\n"
          ]
        },
        {
          "output_type": "stream",
          "name": "stderr",
          "text": [
            "\r[Succeeded / Failed / Skipped / Total] 53 / 26 / 1 / 80:   3%|▎         | 80/2713 [05:44<3:08:51,  4.30s/it]"
          ]
        },
        {
          "output_type": "stream",
          "name": "stdout",
          "text": [
            "--------------------------------------------- Result 80 ---------------------------------------------\n",
            "[[Neutral (100%)]] --> [[Positive (61%)]]\n",
            "\n",
            "The company also said that the deployment of the Danish 4G network continues and it expects to [[cover]] 75 % of the Danish population in 2011 .\n",
            "\n",
            "The company also said that the deployment of the Danish 4G network continues and it expects to [[cross]] 75 % of the Danish population in 2011 .\n",
            "\n",
            "\n"
          ]
        },
        {
          "output_type": "stream",
          "name": "stderr",
          "text": [
            "[Succeeded / Failed / Skipped / Total] 53 / 27 / 1 / 81:   3%|▎         | 81/2713 [05:54<3:11:44,  4.37s/it]"
          ]
        },
        {
          "output_type": "stream",
          "name": "stdout",
          "text": [
            "--------------------------------------------- Result 81 ---------------------------------------------\n",
            "[[Positive (100%)]] --> [[[FAILED]]]\n",
            "\n",
            "Raute said it has won an order worth around 15 mln eur to supply several plywood production lines to mills operated by Russian wood products company Sveza Group .\n",
            "\n",
            "\n"
          ]
        },
        {
          "output_type": "stream",
          "name": "stderr",
          "text": [
            "[Succeeded / Failed / Skipped / Total] 54 / 27 / 1 / 82:   3%|▎         | 82/2713 [05:57<3:10:59,  4.36s/it]"
          ]
        },
        {
          "output_type": "stream",
          "name": "stdout",
          "text": [
            "--------------------------------------------- Result 82 ---------------------------------------------\n",
            "[[Neutral (100%)]] --> [[Negative (99%)]]\n",
            "\n",
            "By the [[end]] of 2006 , the number of joint branch offices will total 170 .\n",
            "\n",
            "By the [[terminate]] of 2006 , the number of joint branch offices will total 170 .\n",
            "\n",
            "\n"
          ]
        },
        {
          "output_type": "stream",
          "name": "stderr",
          "text": [
            "[Succeeded / Failed / Skipped / Total] 55 / 27 / 1 / 83:   3%|▎         | 83/2713 [06:01<3:10:57,  4.36s/it]"
          ]
        },
        {
          "output_type": "stream",
          "name": "stdout",
          "text": [
            "--------------------------------------------- Result 83 ---------------------------------------------\n",
            "[[Neutral (100%)]] --> [[Negative (100%)]]\n",
            "\n",
            "In his turn Fradkov said Russia is [[interested]] in adopting Finnish experience in forming technology parks in the framework of implementing the law on special economic zone .\n",
            "\n",
            "In his turn Fradkov said Russia is [[worry]] in adopting Finnish experience in forming technology parks in the framework of implementing the law on special economic zone .\n",
            "\n",
            "\n"
          ]
        },
        {
          "output_type": "stream",
          "name": "stderr",
          "text": [
            "[Succeeded / Failed / Skipped / Total] 56 / 27 / 1 / 84:   3%|▎         | 84/2713 [06:06<3:11:11,  4.36s/it]"
          ]
        },
        {
          "output_type": "stream",
          "name": "stdout",
          "text": [
            "--------------------------------------------- Result 84 ---------------------------------------------\n",
            "[[Neutral (100%)]] --> [[Negative (71%)]]\n",
            "\n",
            "Besides , as there is no depositor preference in Finland , senior debt and deposits [[rank]] on a par , which is also taken into consideration , the agency added .\n",
            "\n",
            "Besides , as there is no depositor preference in Finland , senior debt and deposits [[downright]] on a par , which is also taken into consideration , the agency added .\n",
            "\n",
            "\n"
          ]
        },
        {
          "output_type": "stream",
          "name": "stderr",
          "text": [
            "[Succeeded / Failed / Skipped / Total] 56 / 28 / 1 / 85:   3%|▎         | 85/2713 [06:14<3:12:44,  4.40s/it]"
          ]
        },
        {
          "output_type": "stream",
          "name": "stdout",
          "text": [
            "--------------------------------------------- Result 85 ---------------------------------------------\n",
            "[[Neutral (100%)]] --> [[[FAILED]]]\n",
            "\n",
            "The company 's model is based on developer contracting construction projects and customer focused project management .\n",
            "\n",
            "\n"
          ]
        },
        {
          "output_type": "stream",
          "name": "stderr",
          "text": [
            "[Succeeded / Failed / Skipped / Total] 57 / 28 / 1 / 86:   3%|▎         | 86/2713 [06:14<3:10:46,  4.36s/it]"
          ]
        },
        {
          "output_type": "stream",
          "name": "stdout",
          "text": [
            "--------------------------------------------- Result 86 ---------------------------------------------\n",
            "[[Neutral (100%)]] --> [[Negative (89%)]]\n",
            "\n",
            "The [[size]] of a cider bottle will [[remain]] [[unchanged]] .\n",
            "\n",
            "The [[sizing]] of a cider bottle will [[persist]] [[unaltered]] .\n",
            "\n",
            "\n"
          ]
        },
        {
          "output_type": "stream",
          "name": "stderr",
          "text": [
            "[Succeeded / Failed / Skipped / Total] 58 / 28 / 1 / 87:   3%|▎         | 87/2713 [06:25<3:14:04,  4.43s/it]"
          ]
        },
        {
          "output_type": "stream",
          "name": "stdout",
          "text": [
            "--------------------------------------------- Result 87 ---------------------------------------------\n",
            "[[Positive (100%)]] --> [[Negative (100%)]]\n",
            "\n",
            "In a [[release]] , the Company said that Vocollect T2 customers in North America can now [[take]] advantage of its Voice Directed Warehousing solution and increase warehouse efficiency and productivity [[gains]] at a discounted price .\n",
            "\n",
            "In a [[loss]] , the Company said that Vocollect T2 customers in North America can now [[strike]] advantage of its Voice Directed Warehousing solution and increase warehouse efficiency and productivity [[profit]] at a discounted price .\n",
            "\n",
            "\n"
          ]
        },
        {
          "output_type": "stream",
          "name": "stderr",
          "text": [
            "[Succeeded / Failed / Skipped / Total] 59 / 28 / 1 / 88:   3%|▎         | 88/2713 [06:28<3:12:56,  4.41s/it]"
          ]
        },
        {
          "output_type": "stream",
          "name": "stdout",
          "text": [
            "--------------------------------------------- Result 88 ---------------------------------------------\n",
            "[[Positive (100%)]] --> [[Neutral (100%)]]\n",
            "\n",
            "Under the [[agreement]] GeoSentric will [[provide]] GyPSii-powered hotel information and reservation services to visitors to China , including such popular cities as Beijing and Shanghai .\n",
            "\n",
            "Under the [[correspondence]] GeoSentric will [[leave]] GyPSii-powered hotel information and reservation services to visitors to China , including such popular cities as Beijing and Shanghai .\n",
            "\n",
            "\n"
          ]
        },
        {
          "output_type": "stream",
          "name": "stderr",
          "text": [
            "[Succeeded / Failed / Skipped / Total] 60 / 28 / 1 / 89:   3%|▎         | 89/2713 [06:31<3:12:22,  4.40s/it]"
          ]
        },
        {
          "output_type": "stream",
          "name": "stdout",
          "text": [
            "--------------------------------------------- Result 89 ---------------------------------------------\n",
            "[[Neutral (100%)]] --> [[Negative (100%)]]\n",
            "\n",
            "The power supplies , DC power systems and inverters designed and manufactured by Efore , and systems incorporating them are [[used]] in many different applications .\n",
            "\n",
            "The power supplies , DC power systems and inverters designed and manufactured by Efore , and systems incorporating them are [[victimised]] in many different applications .\n",
            "\n",
            "\n"
          ]
        },
        {
          "output_type": "stream",
          "name": "stderr",
          "text": [
            "[Succeeded / Failed / Skipped / Total] 61 / 28 / 1 / 90:   3%|▎         | 90/2713 [06:37<3:12:52,  4.41s/it]"
          ]
        },
        {
          "output_type": "stream",
          "name": "stdout",
          "text": [
            "--------------------------------------------- Result 90 ---------------------------------------------\n",
            "[[Neutral (100%)]] --> [[Negative (95%)]]\n",
            "\n",
            "[[Risk]] [[exposure]] by Non-life Insurance  [[Moving]] 12-month  [[Expenses]] by function in Non-life Insurance excluding expenses for investment management and expenses for other services [[rendered]] Non-life Insurance investment portfolio by allocation\n",
            "\n",
            "[[endangerment]] [[vulnerability]] by Non-life Insurance  [[strike]] 12-month  [[disbursal]] by function in Non-life Insurance excluding expenses for investment management and expenses for other services [[deliver]] Non-life Insurance investment portfolio by allocation\n",
            "\n",
            "\n"
          ]
        },
        {
          "output_type": "stream",
          "name": "stderr",
          "text": [
            "[Succeeded / Failed / Skipped / Total] 62 / 28 / 1 / 91:   3%|▎         | 91/2713 [06:40<3:12:28,  4.40s/it]"
          ]
        },
        {
          "output_type": "stream",
          "name": "stdout",
          "text": [
            "--------------------------------------------- Result 91 ---------------------------------------------\n",
            "[[Positive (95%)]] --> [[Neutral (39%)]]\n",
            "\n",
            "Return on equity stood at 18.3 % [[compared]] to 15.4 % in the third quarter of 2005 .\n",
            "\n",
            "Return on equity stood at 18.3 % [[liken]] to 15.4 % in the third quarter of 2005 .\n",
            "\n",
            "\n"
          ]
        },
        {
          "output_type": "stream",
          "name": "stderr",
          "text": [
            "[Succeeded / Failed / Skipped / Total] 62 / 29 / 1 / 92:   3%|▎         | 92/2713 [06:44<3:11:52,  4.39s/it]"
          ]
        },
        {
          "output_type": "stream",
          "name": "stdout",
          "text": [
            "--------------------------------------------- Result 92 ---------------------------------------------\n",
            "[[Neutral (100%)]] --> [[[FAILED]]]\n",
            "\n",
            "The first group of customers to be trained will be paint-shop owners and their assistants .\n",
            "\n",
            "\n"
          ]
        },
        {
          "output_type": "stream",
          "name": "stderr",
          "text": [
            "[Succeeded / Failed / Skipped / Total] 63 / 29 / 1 / 93:   3%|▎         | 93/2713 [06:46<3:11:00,  4.37s/it]"
          ]
        },
        {
          "output_type": "stream",
          "name": "stdout",
          "text": [
            "--------------------------------------------- Result 93 ---------------------------------------------\n",
            "[[Positive (100%)]] --> [[Negative (87%)]]\n",
            "\n",
            "`` We have [[tailored]] our solutions to meet Solel 's technical requirements , and the result is both cost-effective manufacturing and highest-quality reflectors . ''\n",
            "\n",
            "`` We have [[cut]] our solutions to meet Solel 's technical requirements , and the result is both cost-effective manufacturing and highest-quality reflectors . ''\n",
            "\n",
            "\n"
          ]
        },
        {
          "output_type": "stream",
          "name": "stderr",
          "text": [
            "[Succeeded / Failed / Skipped / Total] 64 / 29 / 1 / 94:   3%|▎         | 94/2713 [06:49<3:10:07,  4.36s/it]"
          ]
        },
        {
          "output_type": "stream",
          "name": "stdout",
          "text": [
            "--------------------------------------------- Result 94 ---------------------------------------------\n",
            "[[Neutral (100%)]] --> [[Positive (85%)]]\n",
            "\n",
            "The [[deal]] also [[includes]] a ten-year [[maintenance]] agreement .\n",
            "\n",
            "The [[softwood]] also [[admit]] a ten-year [[upkeep]] agreement .\n",
            "\n",
            "\n"
          ]
        },
        {
          "output_type": "stream",
          "name": "stderr",
          "text": [
            "[Succeeded / Failed / Skipped / Total] 65 / 29 / 1 / 95:   4%|▎         | 95/2713 [06:50<3:08:42,  4.33s/it]"
          ]
        },
        {
          "output_type": "stream",
          "name": "stdout",
          "text": [
            "--------------------------------------------- Result 95 ---------------------------------------------\n",
            "[[Neutral (100%)]] --> [[Negative (100%)]]\n",
            "\n",
            "The approximately 20,000 dwt vessel has been [[ordered]] from India .\n",
            "\n",
            "The approximately 20,000 dwt vessel has been [[enjoin]] from India .\n",
            "\n",
            "\n"
          ]
        },
        {
          "output_type": "stream",
          "name": "stderr",
          "text": [
            "[Succeeded / Failed / Skipped / Total] 66 / 29 / 1 / 96:   4%|▎         | 96/2713 [06:54<3:08:08,  4.31s/it]"
          ]
        },
        {
          "output_type": "stream",
          "name": "stdout",
          "text": [
            "--------------------------------------------- Result 96 ---------------------------------------------\n",
            "[[Neutral (100%)]] --> [[Positive (55%)]]\n",
            "\n",
            "Yara Suomi Ltd also provides nitrogen chemicals and technical nitrates to various sectors of industry , as [[well]] as products [[used]] in environmental protection .\n",
            "\n",
            "Yara Suomi Ltd also provides nitrogen chemicals and technical nitrates to various sectors of industry , as [[advantageously]] as products [[exploited]] in environmental protection .\n",
            "\n",
            "\n"
          ]
        },
        {
          "output_type": "stream",
          "name": "stderr",
          "text": [
            "[Succeeded / Failed / Skipped / Total] 67 / 29 / 1 / 97:   4%|▎         | 97/2713 [06:57<3:07:42,  4.31s/it]"
          ]
        },
        {
          "output_type": "stream",
          "name": "stdout",
          "text": [
            "--------------------------------------------- Result 97 ---------------------------------------------\n",
            "[[Neutral (100%)]] --> [[Positive (61%)]]\n",
            "\n",
            "Maggie Ramsey 's wait - and those of thousands of Oregon and Washington guides , anglers and others who flock to his frequent seminars - is [[nearly]] over .\n",
            "\n",
            "Maggie Ramsey 's wait - and those of thousands of Oregon and Washington guides , anglers and others who flock to his frequent seminars - is [[well-nigh]] over .\n",
            "\n",
            "\n"
          ]
        },
        {
          "output_type": "stream",
          "name": "stderr",
          "text": [
            "[Succeeded / Failed / Skipped / Total] 68 / 29 / 1 / 98:   4%|▎         | 98/2713 [07:01<3:07:39,  4.31s/it]"
          ]
        },
        {
          "output_type": "stream",
          "name": "stdout",
          "text": [
            "--------------------------------------------- Result 98 ---------------------------------------------\n",
            "[[Positive (100%)]] --> [[Neutral (97%)]]\n",
            "\n",
            "`` With this agreement , we can continue our [[good]] cooperationand at the same time release capital that has been tied up in ourmachinery operation .\n",
            "\n",
            "`` With this agreement , we can continue our [[skilful]] cooperationand at the same time release capital that has been tied up in ourmachinery operation .\n",
            "\n",
            "\n"
          ]
        },
        {
          "output_type": "stream",
          "name": "stderr",
          "text": [
            "[Succeeded / Failed / Skipped / Total] 69 / 29 / 1 / 99:   4%|▎         | 99/2713 [07:06<3:07:31,  4.30s/it]"
          ]
        },
        {
          "output_type": "stream",
          "name": "stdout",
          "text": [
            "--------------------------------------------- Result 99 ---------------------------------------------\n",
            "[[Neutral (100%)]] --> [[Positive (98%)]]\n",
            "\n",
            "[[Thanks]] to its [[extensive]] [[industry]] and [[operations]] experience , Cybercom [[offers]] strategic and technological expertise to these [[markets]] : telecom , industry , media , public [[sector]] , retail , and banking and financial services .\n",
            "\n",
            "[[thanks]] to its [[extended]] [[industriousness]] and [[process]] experience , Cybercom [[extend]] strategic and technological expertise to these [[commercialize]] : telecom , industry , media , public [[sphere]] , retail , and banking and financial services .\n",
            "\n",
            "\n"
          ]
        },
        {
          "output_type": "stream",
          "name": "stderr",
          "text": [
            "[Succeeded / Failed / Skipped / Total] 70 / 29 / 1 / 100:   4%|▎         | 100/2713 [07:08<3:06:39,  4.29s/it]"
          ]
        },
        {
          "output_type": "stream",
          "name": "stdout",
          "text": [
            "--------------------------------------------- Result 100 ---------------------------------------------\n",
            "[[Neutral (100%)]] --> [[Negative (95%)]]\n",
            "\n",
            "The adjustments [[concern]] staff in both the [[Specialty]] Papers and the Fiber Composites segments .\n",
            "\n",
            "The adjustments [[worry]] staff in both the [[strength]] Papers and the Fiber Composites segments .\n",
            "\n",
            "\n"
          ]
        },
        {
          "output_type": "stream",
          "name": "stderr",
          "text": [
            "[Succeeded / Failed / Skipped / Total] 71 / 29 / 1 / 101:   4%|▎         | 101/2713 [07:11<3:06:08,  4.28s/it]"
          ]
        },
        {
          "output_type": "stream",
          "name": "stdout",
          "text": [
            "--------------------------------------------- Result 101 ---------------------------------------------\n",
            "[[Negative (100%)]] --> [[Positive (73%)]]\n",
            "\n",
            "Publishing Sweden 's operating [[loss]] was EUR 1.1 mn in Q1 of 2009 , compared to a profit of EUR 0.6 mn a year ago .\n",
            "\n",
            "Publishing Sweden 's operating [[deprivation]] was EUR 1.1 mn in Q1 of 2009 , compared to a profit of EUR 0.6 mn a year ago .\n",
            "\n",
            "\n"
          ]
        },
        {
          "output_type": "stream",
          "name": "stderr",
          "text": [
            "[Succeeded / Failed / Skipped / Total] 72 / 29 / 1 / 102:   4%|▍         | 102/2713 [07:15<3:05:52,  4.27s/it]"
          ]
        },
        {
          "output_type": "stream",
          "name": "stdout",
          "text": [
            "--------------------------------------------- Result 102 ---------------------------------------------\n",
            "[[Neutral (100%)]] --> [[Positive (60%)]]\n",
            "\n",
            "Following the acquisitions , Panostaja will [[establish]] a new [[business]] [[unit]] which will focus on heat treatment of metals .\n",
            "\n",
            "Following the acquisitions , Panostaja will [[prove]] a new [[byplay]] [[whole]] which will focus on heat treatment of metals .\n",
            "\n",
            "\n"
          ]
        },
        {
          "output_type": "stream",
          "name": "stderr",
          "text": [
            "[Succeeded / Failed / Skipped / Total] 73 / 29 / 1 / 103:   4%|▍         | 103/2713 [07:16<3:04:33,  4.24s/it]"
          ]
        },
        {
          "output_type": "stream",
          "name": "stdout",
          "text": [
            "--------------------------------------------- Result 103 ---------------------------------------------\n",
            "[[Positive (100%)]] --> [[Neutral (100%)]]\n",
            "\n",
            "Oriola-KD [[expects]] its invoicing in 2008 to be [[higher]] than the comparable invoicing of 2007 .\n",
            "\n",
            "Oriola-KD [[bear]] its invoicing in 2008 to be [[eminent]] than the comparable invoicing of 2007 .\n",
            "\n",
            "\n"
          ]
        },
        {
          "output_type": "stream",
          "name": "stderr",
          "text": [
            "[Succeeded / Failed / Skipped / Total] 74 / 29 / 1 / 104:   4%|▍         | 104/2713 [07:18<3:03:17,  4.22s/it]"
          ]
        },
        {
          "output_type": "stream",
          "name": "stdout",
          "text": [
            "--------------------------------------------- Result 104 ---------------------------------------------\n",
            "[[Positive (100%)]] --> [[Neutral (100%)]]\n",
            "\n",
            "The acquisition is expected to [[improve]] access to chrome ore resources in Turkey .\n",
            "\n",
            "The acquisition is expected to [[amend]] access to chrome ore resources in Turkey .\n",
            "\n",
            "\n"
          ]
        },
        {
          "output_type": "stream",
          "name": "stderr",
          "text": [
            "[Succeeded / Failed / Skipped / Total] 75 / 29 / 1 / 105:   4%|▍         | 105/2713 [07:21<3:02:52,  4.21s/it]"
          ]
        },
        {
          "output_type": "stream",
          "name": "stdout",
          "text": [
            "--------------------------------------------- Result 105 ---------------------------------------------\n",
            "[[Neutral (100%)]] --> [[Positive (57%)]]\n",
            "\n",
            "[[Sunrise]] [[Resources]] [[operates]] in Russian near-shore [[development]] [[markets]] through its wholly-owned Russian [[subsidiary]] and has [[80]] % of its [[personnel]] in [[Russia]] .\n",
            "\n",
            "[[dayspring]] [[imagination]] [[engage]] in Russian near-shore [[growing]] [[market]] through its wholly-owned Russian [[subordinate]] and has [[LXXX]] % of its [[force]] in [[USSR]] .\n",
            "\n",
            "\n"
          ]
        },
        {
          "output_type": "stream",
          "name": "stderr",
          "text": [
            "[Succeeded / Failed / Skipped / Total] 75 / 30 / 1 / 106:   4%|▍         | 106/2713 [07:26<3:02:54,  4.21s/it]"
          ]
        },
        {
          "output_type": "stream",
          "name": "stdout",
          "text": [
            "--------------------------------------------- Result 106 ---------------------------------------------\n",
            "[[Negative (100%)]] --> [[[FAILED]]]\n",
            "\n",
            "The majority of the company 's personnel in Finland is temporarily laid off from one to six weeks in the period from February to June 2009 period .\n",
            "\n",
            "\n"
          ]
        },
        {
          "output_type": "stream",
          "name": "stderr",
          "text": [
            "[Succeeded / Failed / Skipped / Total] 76 / 30 / 1 / 107:   4%|▍         | 107/2713 [07:28<3:02:13,  4.20s/it]"
          ]
        },
        {
          "output_type": "stream",
          "name": "stdout",
          "text": [
            "--------------------------------------------- Result 107 ---------------------------------------------\n",
            "[[Positive (100%)]] --> [[Neutral (100%)]]\n",
            "\n",
            "Progress Group , QPR 's representative in Saudi Arabia and North Africa , has [[signed]] a framework [[agreement]] for a long term strategic relationship with ISE .\n",
            "\n",
            "Progress Group , QPR 's representative in Saudi Arabia and North Africa , has [[gestural]] a framework [[concord]] for a long term strategic relationship with ISE .\n",
            "\n",
            "\n"
          ]
        },
        {
          "output_type": "stream",
          "name": "stderr",
          "text": [
            "[Succeeded / Failed / Skipped / Total] 77 / 30 / 1 / 108:   4%|▍         | 108/2713 [07:32<3:02:05,  4.19s/it]"
          ]
        },
        {
          "output_type": "stream",
          "name": "stdout",
          "text": [
            "--------------------------------------------- Result 108 ---------------------------------------------\n",
            "[[Positive (100%)]] --> [[Neutral (99%)]]\n",
            "\n",
            "Digia said its [[consolidated]] [[net]] [[sales]] for January-June 2010 were EUR67 .[[8]] m , up 9.[[7]] % on the same [[period]] in 2009 ( EUR61 .9 m ) .\n",
            "\n",
            "Digia said its [[consolidate]] [[final]] [[sale]] for January-June 2010 were EUR67 .[[octonary]] m , up 9.[[heptad]] % on the same [[catamenia]] in 2009 ( EUR61 .9 m ) .\n",
            "\n",
            "\n"
          ]
        },
        {
          "output_type": "stream",
          "name": "stderr",
          "text": [
            "[Succeeded / Failed / Skipped / Total] 78 / 30 / 1 / 109:   4%|▍         | 109/2713 [07:35<3:01:17,  4.18s/it]"
          ]
        },
        {
          "output_type": "stream",
          "name": "stdout",
          "text": [
            "--------------------------------------------- Result 109 ---------------------------------------------\n",
            "[[Neutral (100%)]] --> [[Negative (100%)]]\n",
            "\n",
            "Almost two thirds of Olvi 's net sales [[come]] from outside Finland .\n",
            "\n",
            "Almost two thirds of Olvi 's net sales [[fall]] from outside Finland .\n",
            "\n",
            "\n"
          ]
        },
        {
          "output_type": "stream",
          "name": "stderr",
          "text": [
            "[Succeeded / Failed / Skipped / Total] 78 / 31 / 1 / 110:   4%|▍         | 110/2713 [07:37<3:00:23,  4.16s/it]"
          ]
        },
        {
          "output_type": "stream",
          "name": "stdout",
          "text": [
            "--------------------------------------------- Result 110 ---------------------------------------------\n",
            "[[Neutral (100%)]] --> [[[FAILED]]]\n",
            "\n",
            "`` We have the most expensive water brand in Finland at the moment . ''\n",
            "\n",
            "\n"
          ]
        },
        {
          "output_type": "stream",
          "name": "stderr",
          "text": [
            "[Succeeded / Failed / Skipped / Total] 79 / 31 / 1 / 111:   4%|▍         | 111/2713 [07:39<2:59:24,  4.14s/it]"
          ]
        },
        {
          "output_type": "stream",
          "name": "stdout",
          "text": [
            "--------------------------------------------- Result 111 ---------------------------------------------\n",
            "[[Neutral (100%)]] --> [[Negative (96%)]]\n",
            "\n",
            "It is the [[first]] application in the market for invoice and purchase requisition approval with a mobile device .\n",
            "\n",
            "It is the [[low]] application in the market for invoice and purchase requisition approval with a mobile device .\n",
            "\n",
            "\n"
          ]
        },
        {
          "output_type": "stream",
          "name": "stderr",
          "text": [
            "[Succeeded / Failed / Skipped / Total] 80 / 31 / 1 / 112:   4%|▍         | 112/2713 [07:42<2:59:09,  4.13s/it]"
          ]
        },
        {
          "output_type": "stream",
          "name": "stdout",
          "text": [
            "--------------------------------------------- Result 112 ---------------------------------------------\n",
            "[[Neutral (100%)]] --> [[Positive (89%)]]\n",
            "\n",
            "According to CEO Hannu Syrj+ñnen , a new common name and visual identity is [[required]] as the group has grown and internationalised .\n",
            "\n",
            "According to CEO Hannu Syrj+ñnen , a new common name and visual identity is [[requisite]] as the group has grown and internationalised .\n",
            "\n",
            "\n"
          ]
        },
        {
          "output_type": "stream",
          "name": "stderr",
          "text": [
            "[Succeeded / Failed / Skipped / Total] 80 / 32 / 1 / 113:   4%|▍         | 113/2713 [07:44<2:58:05,  4.11s/it]"
          ]
        },
        {
          "output_type": "stream",
          "name": "stdout",
          "text": [
            "--------------------------------------------- Result 113 ---------------------------------------------\n",
            "[[Neutral (100%)]] --> [[[FAILED]]]\n",
            "\n",
            "Strategic and operational business information is objectively reported .\n",
            "\n",
            "\n"
          ]
        },
        {
          "output_type": "stream",
          "name": "stderr",
          "text": [
            "[Succeeded / Failed / Skipped / Total] 81 / 32 / 1 / 114:   4%|▍         | 114/2713 [07:49<2:58:12,  4.11s/it]"
          ]
        },
        {
          "output_type": "stream",
          "name": "stdout",
          "text": [
            "--------------------------------------------- Result 114 ---------------------------------------------\n",
            "[[Neutral (100%)]] --> [[Positive (95%)]]\n",
            "\n",
            "The company 's [[set]] of services [[include]] digital printing , printing preparation , offset-printing , after-treatment services and send out services .\n",
            "\n",
            "The company 's [[solidifying]] of services [[admit]] digital printing , printing preparation , offset-printing , after-treatment services and send out services .\n",
            "\n",
            "\n"
          ]
        },
        {
          "output_type": "stream",
          "name": "stderr",
          "text": [
            "[Succeeded / Failed / Skipped / Total] 82 / 32 / 1 / 115:   4%|▍         | 115/2713 [07:53<2:58:16,  4.12s/it]"
          ]
        },
        {
          "output_type": "stream",
          "name": "stdout",
          "text": [
            "--------------------------------------------- Result 115 ---------------------------------------------\n",
            "[[Neutral (100%)]] --> [[Positive (56%)]]\n",
            "\n",
            "On the basis of competitive bidding OOO Kitai Stroi , the Russian subsidiary of China State Construction Engineering Corporation , a construction company owned by China State , has been selected as the [[main]] [[constructor]] .\n",
            "\n",
            "On the basis of competitive bidding OOO Kitai Stroi , the Russian subsidiary of China State Construction Engineering Corporation , a construction company owned by China State , has been selected as the [[briny]] [[builder]] .\n",
            "\n",
            "\n"
          ]
        },
        {
          "output_type": "stream",
          "name": "stderr",
          "text": [
            "[Succeeded / Failed / Skipped / Total] 83 / 32 / 1 / 116:   4%|▍         | 116/2713 [07:57<2:58:12,  4.12s/it]"
          ]
        },
        {
          "output_type": "stream",
          "name": "stdout",
          "text": [
            "--------------------------------------------- Result 116 ---------------------------------------------\n",
            "[[Neutral (100%)]] --> [[Negative (88%)]]\n",
            "\n",
            "Following the [[issue]] , the [[number]] of shares in the Swedish company will grow by 9 % .\n",
            "\n",
            "Following the [[cut]] , the [[bit]] of shares in the Swedish company will grow by 9 % .\n",
            "\n",
            "\n"
          ]
        },
        {
          "output_type": "stream",
          "name": "stderr",
          "text": [
            "[Succeeded / Failed / Skipped / Total] 84 / 32 / 1 / 117:   4%|▍         | 117/2713 [08:00<2:57:46,  4.11s/it]"
          ]
        },
        {
          "output_type": "stream",
          "name": "stdout",
          "text": [
            "--------------------------------------------- Result 117 ---------------------------------------------\n",
            "[[Positive (100%)]] --> [[Negative (97%)]]\n",
            "\n",
            "[[Operating]] [[profit]] [[improved]] by [[27]] % to EUR 579.8 [[mn]] from EUR 457.2 [[mn]] in 2006 .\n",
            "\n",
            "[[work]] [[earnings]] [[amend]] by [[xxvii]] % to EUR 579.8 [[manganese]] from EUR 457.2 [[manganese]] in 2006 .\n",
            "\n",
            "\n"
          ]
        },
        {
          "output_type": "stream",
          "name": "stderr",
          "text": [
            "[Succeeded / Failed / Skipped / Total] 85 / 32 / 1 / 118:   4%|▍         | 118/2713 [08:04<2:57:27,  4.10s/it]"
          ]
        },
        {
          "output_type": "stream",
          "name": "stdout",
          "text": [
            "--------------------------------------------- Result 118 ---------------------------------------------\n",
            "[[Neutral (100%)]] --> [[Negative (97%)]]\n",
            "\n",
            "The plant will [[go]] on stream in November 2008 and its estimated daily production will be 120,000 litres of bioethanol .\n",
            "\n",
            "The plant will [[fail]] on stream in November 2008 and its estimated daily production will be 120,000 litres of bioethanol .\n",
            "\n",
            "\n"
          ]
        },
        {
          "output_type": "stream",
          "name": "stderr",
          "text": [
            "[Succeeded / Failed / Skipped / Total] 86 / 32 / 1 / 119:   4%|▍         | 119/2713 [08:07<2:57:11,  4.10s/it]"
          ]
        },
        {
          "output_type": "stream",
          "name": "stdout",
          "text": [
            "--------------------------------------------- Result 119 ---------------------------------------------\n",
            "[[Positive (99%)]] --> [[Negative (99%)]]\n",
            "\n",
            "Both loans will be [[used]] to finance strategic investments such as shopping center redevelopment projects and refinancing of maturing debt .\n",
            "\n",
            "Both loans will be [[victimised]] to finance strategic investments such as shopping center redevelopment projects and refinancing of maturing debt .\n",
            "\n",
            "\n"
          ]
        },
        {
          "output_type": "stream",
          "name": "stderr",
          "text": [
            "[Succeeded / Failed / Skipped / Total] 87 / 32 / 1 / 120:   4%|▍         | 120/2713 [08:13<2:57:44,  4.11s/it]"
          ]
        },
        {
          "output_type": "stream",
          "name": "stdout",
          "text": [
            "--------------------------------------------- Result 120 ---------------------------------------------\n",
            "[[Neutral (100%)]] --> [[Negative (77%)]]\n",
            "\n",
            "ALEXANDRIA , Va. , [[May]] 16 -- Kenneth Bower of Vista , Calif. , has [[developed]] an [[ornamental]] [[design]] for a handset , the [[U]].[[S]]. Patent & Trademark Office [[announced]] .\n",
            "\n",
            "ALEXANDRIA , Va. , [[whitethorn]] 16 -- Kenneth Bower of Vista , Calif. , has [[explicate]] an [[cosmetic]] [[conception]] for a handset , the [[u]].[[s]]. Patent & Trademark Office [[proclaimed]] .\n",
            "\n",
            "\n"
          ]
        },
        {
          "output_type": "stream",
          "name": "stderr",
          "text": [
            "[Succeeded / Failed / Skipped / Total] 88 / 32 / 1 / 121:   4%|▍         | 121/2713 [08:16<2:57:19,  4.10s/it]"
          ]
        },
        {
          "output_type": "stream",
          "name": "stdout",
          "text": [
            "--------------------------------------------- Result 121 ---------------------------------------------\n",
            "[[Neutral (100%)]] --> [[Positive (60%)]]\n",
            "\n",
            "The Group , with net sales of EUR 235 [[million]] in 2009 , [[employs]] more than [[2]] 000 [[people]] in 33 [[countries]] .\n",
            "\n",
            "The Group , with net sales of EUR 235 [[billion]] in 2009 , [[utilise]] more than [[II]] 000 [[multitude]] in 33 [[commonwealth]] .\n",
            "\n",
            "\n"
          ]
        },
        {
          "output_type": "stream",
          "name": "stderr",
          "text": [
            "[Succeeded / Failed / Skipped / Total] 89 / 32 / 1 / 122:   4%|▍         | 122/2713 [08:19<2:56:56,  4.10s/it]"
          ]
        },
        {
          "output_type": "stream",
          "name": "stdout",
          "text": [
            "--------------------------------------------- Result 122 ---------------------------------------------\n",
            "[[Positive (100%)]] --> [[Negative (62%)]]\n",
            "\n",
            "In the reporting period , the company 's operating profit [[grew]] by 43.2 % to EUR 6 million .\n",
            "\n",
            "In the reporting period , the company 's operating profit [[uprise]] by 43.2 % to EUR 6 million .\n",
            "\n",
            "\n"
          ]
        },
        {
          "output_type": "stream",
          "name": "stderr",
          "text": [
            "[Succeeded / Failed / Skipped / Total] 90 / 32 / 1 / 123:   5%|▍         | 123/2713 [08:21<2:56:05,  4.08s/it]"
          ]
        },
        {
          "output_type": "stream",
          "name": "stdout",
          "text": [
            "--------------------------------------------- Result 123 ---------------------------------------------\n",
            "[[Neutral (100%)]] --> [[Positive (94%)]]\n",
            "\n",
            "The owners who have participated in the business operations of the company will [[continue]] in Poyry 's employment after the transaction .\n",
            "\n",
            "The owners who have participated in the business operations of the company will [[uphold]] in Poyry 's employment after the transaction .\n",
            "\n",
            "\n"
          ]
        },
        {
          "output_type": "stream",
          "name": "stderr",
          "text": [
            "[Succeeded / Failed / Skipped / Total] 90 / 33 / 1 / 124:   5%|▍         | 124/2713 [08:26<2:56:10,  4.08s/it]"
          ]
        },
        {
          "output_type": "stream",
          "name": "stdout",
          "text": [
            "--------------------------------------------- Result 124 ---------------------------------------------\n",
            "[[Neutral (100%)]] --> [[[FAILED]]]\n",
            "\n",
            "Electronic versions require 24-48 hours as each copy is customized to the client with digital controls and custom watermarks .\n",
            "\n",
            "\n"
          ]
        },
        {
          "output_type": "stream",
          "name": "stderr",
          "text": [
            "[Succeeded / Failed / Skipped / Total] 90 / 34 / 1 / 125:   5%|▍         | 125/2713 [08:28<2:55:19,  4.06s/it]"
          ]
        },
        {
          "output_type": "stream",
          "name": "stdout",
          "text": [
            "--------------------------------------------- Result 125 ---------------------------------------------\n",
            "[[Neutral (100%)]] --> [[[FAILED]]]\n",
            "\n",
            "This could be any of us at any time , '' she said .\n",
            "\n",
            "\n"
          ]
        },
        {
          "output_type": "stream",
          "name": "stderr",
          "text": [
            "[Succeeded / Failed / Skipped / Total] 91 / 34 / 1 / 126:   5%|▍         | 126/2713 [08:34<2:56:11,  4.09s/it]"
          ]
        },
        {
          "output_type": "stream",
          "name": "stdout",
          "text": [
            "--------------------------------------------- Result 126 ---------------------------------------------\n",
            "[[Positive (100%)]] --> [[Neutral (96%)]]\n",
            "\n",
            "KAUKO-TELKO LTD PRESS RELEASE 19.06.2007 AT 14.00 1 ( 1 ) Telko Group ( Kauko-Telko ) is [[expanding]] its strategic partnership with BP Industrial Lubricants & Services ( BP ILS ) by acquiring total ownership of BP 's Swedish retail company , Molub-Alloy AB .\n",
            "\n",
            "KAUKO-TELKO LTD PRESS RELEASE 19.06.2007 AT 14.00 1 ( 1 ) Telko Group ( Kauko-Telko ) is [[amplify]] its strategic partnership with BP Industrial Lubricants & Services ( BP ILS ) by acquiring total ownership of BP 's Swedish retail company , Molub-Alloy AB .\n",
            "\n",
            "\n"
          ]
        },
        {
          "output_type": "stream",
          "name": "stderr",
          "text": [
            "[Succeeded / Failed / Skipped / Total] 92 / 34 / 1 / 127:   5%|▍         | 127/2713 [08:39<2:56:19,  4.09s/it]"
          ]
        },
        {
          "output_type": "stream",
          "name": "stdout",
          "text": [
            "--------------------------------------------- Result 127 ---------------------------------------------\n",
            "[[Positive (100%)]] --> [[Neutral (92%)]]\n",
            "\n",
            "[[Operating]] [[profit]] [[increased]] to EUR 14.[[0]] [[mn]] from EUR [[4]].9 [[mn]] in the corresponding [[period]] in 2005 .\n",
            "\n",
            "[[control]] [[benefit]] [[increase]] to EUR 14.[[nought]] [[manganese]] from EUR [[quaternity]].9 [[manganese]] in the corresponding [[menstruation]] in 2005 .\n",
            "\n",
            "\n"
          ]
        },
        {
          "output_type": "stream",
          "name": "stderr",
          "text": [
            "[Succeeded / Failed / Skipped / Total] 93 / 34 / 1 / 128:   5%|▍         | 128/2713 [08:43<2:56:17,  4.09s/it]"
          ]
        },
        {
          "output_type": "stream",
          "name": "stdout",
          "text": [
            "--------------------------------------------- Result 128 ---------------------------------------------\n",
            "[[Positive (99%)]] --> [[Neutral (96%)]]\n",
            "\n",
            "Tectia Corporation HEL : TEC1V , a provider of real-time security solutions , today announced that it has [[appointed]] LAN2LAN , a provider of IT services in the UK , to distribute its data security and manage file transfer software .\n",
            "\n",
            "Tectia Corporation HEL : TEC1V , a provider of real-time security solutions , today announced that it has [[name]] LAN2LAN , a provider of IT services in the UK , to distribute its data security and manage file transfer software .\n",
            "\n",
            "\n"
          ]
        },
        {
          "output_type": "stream",
          "name": "stderr",
          "text": [
            "[Succeeded / Failed / Skipped / Total] 93 / 35 / 1 / 129:   5%|▍         | 129/2713 [08:44<2:55:08,  4.07s/it]"
          ]
        },
        {
          "output_type": "stream",
          "name": "stdout",
          "text": [
            "--------------------------------------------- Result 129 ---------------------------------------------\n",
            "[[Neutral (100%)]] --> [[[FAILED]]]\n",
            "\n",
            "Net investment income\n",
            "\n",
            "\n"
          ]
        },
        {
          "output_type": "stream",
          "name": "stderr",
          "text": [
            "[Succeeded / Failed / Skipped / Total] 94 / 35 / 1 / 130:   5%|▍         | 130/2713 [08:48<2:55:08,  4.07s/it]"
          ]
        },
        {
          "output_type": "stream",
          "name": "stdout",
          "text": [
            "--------------------------------------------- Result 130 ---------------------------------------------\n",
            "[[Positive (100%)]] --> [[Neutral (97%)]]\n",
            "\n",
            "Besides we have [[increased]] the [[share]] of meat in various sausages and are offering a number of new tastes in the grill products and shish kebabs segment , '' Paavel said .\n",
            "\n",
            "Besides we have [[increase]] the [[part]] of meat in various sausages and are offering a number of new tastes in the grill products and shish kebabs segment , '' Paavel said .\n",
            "\n",
            "\n"
          ]
        },
        {
          "output_type": "stream",
          "name": "stderr",
          "text": [
            "[Succeeded / Failed / Skipped / Total] 95 / 35 / 1 / 131:   5%|▍         | 131/2713 [08:53<2:55:09,  4.07s/it]"
          ]
        },
        {
          "output_type": "stream",
          "name": "stdout",
          "text": [
            "--------------------------------------------- Result 131 ---------------------------------------------\n",
            "[[Neutral (100%)]] --> [[Negative (97%)]]\n",
            "\n",
            "Mr. Doring has been with Eaton since 1989 and [[acted]] as the [[Business]] Unit Manager for Eaton 's Power [[Controls]] Business Unit since January 2007 .\n",
            "\n",
            "Mr. Doring has been with Eaton since 1989 and [[dissemble]] as the [[concern]] Unit Manager for Eaton 's Power [[curb]] Business Unit since January 2007 .\n",
            "\n",
            "\n"
          ]
        },
        {
          "output_type": "stream",
          "name": "stderr",
          "text": [
            "[Succeeded / Failed / Skipped / Total] 96 / 35 / 1 / 132:   5%|▍         | 132/2713 [08:59<2:55:57,  4.09s/it]"
          ]
        },
        {
          "output_type": "stream",
          "name": "stdout",
          "text": [
            "--------------------------------------------- Result 132 ---------------------------------------------\n",
            "[[Positive (100%)]] --> [[Negative (100%)]]\n",
            "\n",
            "Pearl Plaza LLC , the joint venture of SRV and Shanghai Industrial Investment Holdings Co Ltd , has [[concluded]] the investment decision on construction of the first phase of the shopping center in Saint Petersburg , Russia .\n",
            "\n",
            "Pearl Plaza LLC , the joint venture of SRV and Shanghai Industrial Investment Holdings Co Ltd , has [[terminated]] the investment decision on construction of the first phase of the shopping center in Saint Petersburg , Russia .\n",
            "\n",
            "\n"
          ]
        },
        {
          "output_type": "stream",
          "name": "stderr",
          "text": [
            "[Succeeded / Failed / Skipped / Total] 97 / 35 / 1 / 133:   5%|▍         | 133/2713 [09:01<2:55:10,  4.07s/it]"
          ]
        },
        {
          "output_type": "stream",
          "name": "stdout",
          "text": [
            "--------------------------------------------- Result 133 ---------------------------------------------\n",
            "[[Neutral (99%)]] --> [[Negative (98%)]]\n",
            "\n",
            "This is due to the [[postponement]] of the decision-making of projects in the negotiation phase from the earlier estimation .\n",
            "\n",
            "This is due to the [[delay]] of the decision-making of projects in the negotiation phase from the earlier estimation .\n",
            "\n",
            "\n"
          ]
        },
        {
          "output_type": "stream",
          "name": "stderr",
          "text": [
            "[Succeeded / Failed / Skipped / Total] 98 / 35 / 1 / 134:   5%|▍         | 134/2713 [09:06<2:55:20,  4.08s/it]"
          ]
        },
        {
          "output_type": "stream",
          "name": "stdout",
          "text": [
            "--------------------------------------------- Result 134 ---------------------------------------------\n",
            "[[Neutral (98%)]] --> [[Negative (100%)]]\n",
            "\n",
            "ASSA ABLOY Kaupthing Bank [[gave]] a ` neutral ' recommendation and a share price target of 174 crowns $ 24.7 - 19 euro on Swedish lock maker Assa Abloy AB .\n",
            "\n",
            "ASSA ABLOY Kaupthing Bank [[collapse]] a ` neutral ' recommendation and a share price target of 174 crowns $ 24.7 - 19 euro on Swedish lock maker Assa Abloy AB .\n",
            "\n",
            "\n"
          ]
        },
        {
          "output_type": "stream",
          "name": "stderr",
          "text": [
            "[Succeeded / Failed / Skipped / Total] 98 / 36 / 1 / 135:   5%|▍         | 135/2713 [09:08<2:54:39,  4.06s/it]"
          ]
        },
        {
          "output_type": "stream",
          "name": "stdout",
          "text": [
            "--------------------------------------------- Result 135 ---------------------------------------------\n",
            "[[Neutral (100%)]] --> [[[FAILED]]]\n",
            "\n",
            "`` There is no room to modify the share component as we have already indicated . ''\n",
            "\n",
            "\n"
          ]
        },
        {
          "output_type": "stream",
          "name": "stderr",
          "text": [
            "[Succeeded / Failed / Skipped / Total] 99 / 36 / 1 / 136:   5%|▌         | 136/2713 [09:12<2:54:26,  4.06s/it]"
          ]
        },
        {
          "output_type": "stream",
          "name": "stdout",
          "text": [
            "--------------------------------------------- Result 136 ---------------------------------------------\n",
            "[[Positive (100%)]] --> [[Neutral (63%)]]\n",
            "\n",
            "Kesko Agro Eesti , the retailer and wholesaler of grain , agricultural and warehousing machinery and accessories , had [[net]] [[sales]] of 81 million euros in 2007 , an [[increase]] by one-tenth over the preceding year .\n",
            "\n",
            "Kesko Agro Eesti , the retailer and wholesaler of grain , agricultural and warehousing machinery and accessories , had [[last]] [[sale]] of 81 million euros in 2007 , an [[increment]] by one-tenth over the preceding year .\n",
            "\n",
            "\n"
          ]
        },
        {
          "output_type": "stream",
          "name": "stderr",
          "text": [
            "[Succeeded / Failed / Skipped / Total] 100 / 36 / 1 / 137:   5%|▌         | 137/2713 [09:16<2:54:14,  4.06s/it]"
          ]
        },
        {
          "output_type": "stream",
          "name": "stdout",
          "text": [
            "--------------------------------------------- Result 137 ---------------------------------------------\n",
            "[[Neutral (100%)]] --> [[Negative (96%)]]\n",
            "\n",
            "Swedish Wallenberg family controlled Investor has bought a [[large]] stake of C shares in Swedish retail bank SEB .\n",
            "\n",
            "Swedish Wallenberg family controlled Investor has bought a [[tumid]] stake of C shares in Swedish retail bank SEB .\n",
            "\n",
            "\n"
          ]
        },
        {
          "output_type": "stream",
          "name": "stderr",
          "text": [
            "[Succeeded / Failed / Skipped / Total] 100 / 37 / 1 / 138:   5%|▌         | 138/2713 [09:21<2:54:35,  4.07s/it]"
          ]
        },
        {
          "output_type": "stream",
          "name": "stdout",
          "text": [
            "--------------------------------------------- Result 138 ---------------------------------------------\n",
            "[[Positive (100%)]] --> [[[FAILED]]]\n",
            "\n",
            "Profit before taxes was EUR 5.4 mn , up from EUR 3.6 mn a year earlier .\n",
            "\n",
            "\n"
          ]
        },
        {
          "output_type": "stream",
          "name": "stderr",
          "text": [
            "[Succeeded / Failed / Skipped / Total] 101 / 37 / 1 / 139:   5%|▌         | 139/2713 [09:24<2:54:14,  4.06s/it]"
          ]
        },
        {
          "output_type": "stream",
          "name": "stdout",
          "text": [
            "--------------------------------------------- Result 139 ---------------------------------------------\n",
            "[[Neutral (100%)]] --> [[Positive (50%)]]\n",
            "\n",
            "Benefon will [[turn]] the Salo unit into a B2B business unit and [[establish]] a B2C business unit in the UK .\n",
            "\n",
            "Benefon will [[grow]] the Salo unit into a B2B business unit and [[instal]] a B2C business unit in the UK .\n",
            "\n",
            "\n"
          ]
        },
        {
          "output_type": "stream",
          "name": "stderr",
          "text": [
            "[Succeeded / Failed / Skipped / Total] 101 / 38 / 1 / 140:   5%|▌         | 140/2713 [09:28<2:54:10,  4.06s/it]"
          ]
        },
        {
          "output_type": "stream",
          "name": "stdout",
          "text": [
            "--------------------------------------------- Result 140 ---------------------------------------------\n",
            "[[Neutral (100%)]] --> [[[FAILED]]]\n",
            "\n",
            "This release is not an offer of securities for sale into the United States or elsewhere .\n",
            "\n",
            "\n"
          ]
        },
        {
          "output_type": "stream",
          "name": "stderr",
          "text": [
            "[Succeeded / Failed / Skipped / Total] 102 / 38 / 1 / 141:   5%|▌         | 141/2713 [09:33<2:54:19,  4.07s/it]"
          ]
        },
        {
          "output_type": "stream",
          "name": "stdout",
          "text": [
            "--------------------------------------------- Result 141 ---------------------------------------------\n",
            "[[Neutral (100%)]] --> [[Positive (100%)]]\n",
            "\n",
            "According to the original merger plan , Scanfil would [[get]] a 79 % [[stake]] in the combined business .\n",
            "\n",
            "According to the original merger plan , Scanfil would [[beat]] a 79 % [[post]] in the combined business .\n",
            "\n",
            "\n"
          ]
        },
        {
          "output_type": "stream",
          "name": "stderr",
          "text": [
            "[Succeeded / Failed / Skipped / Total] 102 / 39 / 1 / 142:   5%|▌         | 142/2713 [09:41<2:55:30,  4.10s/it]"
          ]
        },
        {
          "output_type": "stream",
          "name": "stdout",
          "text": [
            "--------------------------------------------- Result 142 ---------------------------------------------\n",
            "[[Positive (100%)]] --> [[[FAILED]]]\n",
            "\n",
            "In the third quarter of 2010 , net sales increased by 5.2 % to EUR 205.5 mn , and operating profit by 34.9 % to EUR 23.5 mn .\n",
            "\n",
            "\n"
          ]
        },
        {
          "output_type": "stream",
          "name": "stderr",
          "text": [
            "[Succeeded / Failed / Skipped / Total] 103 / 39 / 1 / 143:   5%|▌         | 143/2713 [09:49<2:56:29,  4.12s/it]"
          ]
        },
        {
          "output_type": "stream",
          "name": "stdout",
          "text": [
            "--------------------------------------------- Result 143 ---------------------------------------------\n",
            "[[Positive (100%)]] --> [[Neutral (96%)]]\n",
            "\n",
            "With the new production plant the [[company]] would [[increase]] its [[capacity]] to [[meet]] the expected increase in [[demand]] and would [[improve]] the [[use]] of raw materials and therefore increase the production [[profitability]] .\n",
            "\n",
            "With the new production plant the [[society]] would [[increment]] its [[content]] to [[suffer]] the expected increase in [[need]] and would [[amend]] the [[employment]] of raw materials and therefore increase the production [[lucrativeness]] .\n",
            "\n",
            "\n"
          ]
        },
        {
          "output_type": "stream",
          "name": "stderr",
          "text": [
            "[Succeeded / Failed / Skipped / Total] 103 / 40 / 1 / 144:   5%|▌         | 144/2713 [09:50<2:55:28,  4.10s/it]"
          ]
        },
        {
          "output_type": "stream",
          "name": "stdout",
          "text": [
            "--------------------------------------------- Result 144 ---------------------------------------------\n",
            "[[Neutral (100%)]] --> [[[FAILED]]]\n",
            "\n",
            "Uponor maintains its full-year guidance for 2010 .\n",
            "\n",
            "\n"
          ]
        },
        {
          "output_type": "stream",
          "name": "stderr",
          "text": [
            "[Succeeded / Failed / Skipped / Total] 104 / 40 / 1 / 145:   5%|▌         | 145/2713 [09:51<2:54:43,  4.08s/it]"
          ]
        },
        {
          "output_type": "stream",
          "name": "stdout",
          "text": [
            "--------------------------------------------- Result 145 ---------------------------------------------\n",
            "[[Neutral (100%)]] --> [[Negative (95%)]]\n",
            "\n",
            "The company is [[also]] seeking possibilities to relocate the Luumaki personnel , some 50 people , to other UPM mills .\n",
            "\n",
            "The company is [[too]] seeking possibilities to relocate the Luumaki personnel , some 50 people , to other UPM mills .\n",
            "\n",
            "\n"
          ]
        },
        {
          "output_type": "stream",
          "name": "stderr",
          "text": [
            "[Succeeded / Failed / Skipped / Total] 104 / 41 / 2 / 147:   5%|▌         | 147/2713 [09:55<2:53:12,  4.05s/it]"
          ]
        },
        {
          "output_type": "stream",
          "name": "stdout",
          "text": [
            "--------------------------------------------- Result 146 ---------------------------------------------\n",
            "[[Neutral (100%)]] --> [[[FAILED]]]\n",
            "\n",
            "Jensen , Njastein and Mike Critch , the head of Dovre North America business unit , will report to Toivola .\n",
            "\n",
            "\n",
            "--------------------------------------------- Result 147 ---------------------------------------------\n",
            "[[Positive (80%)]] --> [[[SKIPPED]]]\n",
            "\n",
            "The goal is significant expansion in Finland and in the northern Baltic region .\n",
            "\n",
            "\n"
          ]
        },
        {
          "output_type": "stream",
          "name": "stderr",
          "text": [
            "[Succeeded / Failed / Skipped / Total] 105 / 41 / 2 / 148:   5%|▌         | 148/2713 [10:01<2:53:49,  4.07s/it]"
          ]
        },
        {
          "output_type": "stream",
          "name": "stdout",
          "text": [
            "--------------------------------------------- Result 148 ---------------------------------------------\n",
            "[[Neutral (100%)]] --> [[Positive (58%)]]\n",
            "\n",
            "Outotec 's [[scope]] of delivery [[includes]] [[design]] , [[basic]] [[engineering]] and supply of proprietary equipment for a sinter [[plant]] with a [[grate]] [[area]] of 496 [[square]] [[meters]] .\n",
            "\n",
            "Outotec 's [[reach]] of delivery [[admit]] [[innovation]] , [[introductory]] [[mastermind]] and supply of proprietary equipment for a sinter [[engraft]] with a [[scrape]] [[expanse]] of 496 [[straight]] [[measure]] .\n",
            "\n",
            "\n"
          ]
        },
        {
          "output_type": "stream",
          "name": "stderr",
          "text": [
            "\r[Succeeded / Failed / Skipped / Total] 106 / 41 / 2 / 149:   5%|▌         | 149/2713 [10:04<2:53:22,  4.06s/it]"
          ]
        },
        {
          "output_type": "stream",
          "name": "stdout",
          "text": [
            "--------------------------------------------- Result 149 ---------------------------------------------\n",
            "[[Neutral (100%)]] --> [[Positive (100%)]]\n",
            "\n",
            "Cargotec 's sales totalled EUR [[3]].4 billion in 2008 and it employs approximately 10,500 people .\n",
            "\n",
            "Cargotec 's sales totalled EUR [[triplet]].4 billion in 2008 and it employs approximately 10,500 people .\n",
            "\n",
            "\n"
          ]
        },
        {
          "output_type": "stream",
          "name": "stderr",
          "text": [
            "[Succeeded / Failed / Skipped / Total] 106 / 42 / 2 / 150:   6%|▌         | 150/2713 [10:06<2:52:34,  4.04s/it]"
          ]
        },
        {
          "output_type": "stream",
          "name": "stdout",
          "text": [
            "--------------------------------------------- Result 150 ---------------------------------------------\n",
            "[[Neutral (100%)]] --> [[[FAILED]]]\n",
            "\n",
            "The name of the buyer was not disclosed .\n",
            "\n",
            "\n"
          ]
        },
        {
          "output_type": "stream",
          "name": "stderr",
          "text": [
            "\r[Succeeded / Failed / Skipped / Total] 107 / 42 / 2 / 151:   6%|▌         | 151/2713 [10:09<2:52:18,  4.04s/it]"
          ]
        },
        {
          "output_type": "stream",
          "name": "stdout",
          "text": [
            "--------------------------------------------- Result 151 ---------------------------------------------\n",
            "[[Neutral (100%)]] --> [[Positive (92%)]]\n",
            "\n",
            "The CVs of the [[proposed]] [[members]] are [[available]] for [[viewing]] from 12 March 2008 onwards on the Internet at www.sampo.com/ir .\n",
            "\n",
            "The CVs of the [[offer]] [[extremity]] are [[useable]] for [[screening]] from 12 March 2008 onwards on the Internet at www.sampo.com/ir .\n",
            "\n",
            "\n"
          ]
        },
        {
          "output_type": "stream",
          "name": "stderr",
          "text": [
            "[Succeeded / Failed / Skipped / Total] 108 / 42 / 2 / 152:   6%|▌         | 152/2713 [10:13<2:52:23,  4.04s/it]"
          ]
        },
        {
          "output_type": "stream",
          "name": "stdout",
          "text": [
            "--------------------------------------------- Result 152 ---------------------------------------------\n",
            "[[Neutral (100%)]] --> [[Positive (99%)]]\n",
            "\n",
            "According to Tiimari , consumers are [[advised]] to cut away the rabbits bow tie that contains the formadehyde and dispose of it .\n",
            "\n",
            "According to Tiimari , consumers are [[well-advised]] to cut away the rabbits bow tie that contains the formadehyde and dispose of it .\n",
            "\n",
            "\n"
          ]
        },
        {
          "output_type": "stream",
          "name": "stderr",
          "text": [
            "\r[Succeeded / Failed / Skipped / Total] 109 / 42 / 2 / 153:   6%|▌         | 153/2713 [10:17<2:52:03,  4.03s/it]"
          ]
        },
        {
          "output_type": "stream",
          "name": "stdout",
          "text": [
            "--------------------------------------------- Result 153 ---------------------------------------------\n",
            "[[Positive (100%)]] --> [[Neutral (97%)]]\n",
            "\n",
            "The company , which celebrates its fiftieth anniversary next year , has been [[exporting]] [[distinctive]] [[detached]] homes to Central Europe for several decades .\n",
            "\n",
            "The company , which celebrates its fiftieth anniversary next year , has been [[exportation]] [[typical]] [[isolated]] homes to Central Europe for several decades .\n",
            "\n",
            "\n"
          ]
        },
        {
          "output_type": "stream",
          "name": "stderr",
          "text": [
            "[Succeeded / Failed / Skipped / Total] 110 / 42 / 2 / 154:   6%|▌         | 154/2713 [10:18<2:51:20,  4.02s/it]"
          ]
        },
        {
          "output_type": "stream",
          "name": "stdout",
          "text": [
            "--------------------------------------------- Result 154 ---------------------------------------------\n",
            "[[Neutral (100%)]] --> [[Negative (100%)]]\n",
            "\n",
            "Total value of the [[contract]] is about EUR 10mn .\n",
            "\n",
            "Total value of the [[squeeze]] is about EUR 10mn .\n",
            "\n",
            "\n"
          ]
        },
        {
          "output_type": "stream",
          "name": "stderr",
          "text": [
            "\r[Succeeded / Failed / Skipped / Total] 111 / 42 / 2 / 155:   6%|▌         | 155/2713 [10:22<2:51:05,  4.01s/it]"
          ]
        },
        {
          "output_type": "stream",
          "name": "stdout",
          "text": [
            "--------------------------------------------- Result 155 ---------------------------------------------\n",
            "[[Neutral (100%)]] --> [[Negative (99%)]]\n",
            "\n",
            "According to the prosecutor , the share transactions were [[carried]] out after HK Ruokatalo had proceeded in the negotiations concerning the acquisition of Swedish Meats .\n",
            "\n",
            "According to the prosecutor , the share transactions were [[behave]] out after HK Ruokatalo had proceeded in the negotiations concerning the acquisition of Swedish Meats .\n",
            "\n",
            "\n"
          ]
        },
        {
          "output_type": "stream",
          "name": "stderr",
          "text": [
            "[Succeeded / Failed / Skipped / Total] 112 / 42 / 2 / 156:   6%|▌         | 156/2713 [10:24<2:50:31,  4.00s/it]"
          ]
        },
        {
          "output_type": "stream",
          "name": "stdout",
          "text": [
            "--------------------------------------------- Result 156 ---------------------------------------------\n",
            "[[Positive (100%)]] --> [[Negative (91%)]]\n",
            "\n",
            "One of my colleagues summed up the E7 [[quite]] aptly when he remarked : `` Fantastic hardware .\n",
            "\n",
            "One of my colleagues summed up the E7 [[rather]] aptly when he remarked : `` Fantastic hardware .\n",
            "\n",
            "\n"
          ]
        },
        {
          "output_type": "stream",
          "name": "stderr",
          "text": [
            "\r[Succeeded / Failed / Skipped / Total] 113 / 42 / 2 / 157:   6%|▌         | 157/2713 [10:26<2:50:07,  3.99s/it]"
          ]
        },
        {
          "output_type": "stream",
          "name": "stdout",
          "text": [
            "--------------------------------------------- Result 157 ---------------------------------------------\n",
            "[[Neutral (67%)]] --> [[Positive (100%)]]\n",
            "\n",
            "Aspo 's strong company brands - ESL [[Shipping]] , Leipurin , Telko and Kaukomarkkinat - aim to be the market leaders in their sectors .\n",
            "\n",
            "Aspo 's strong company brands - ESL [[ship]] , Leipurin , Telko and Kaukomarkkinat - aim to be the market leaders in their sectors .\n",
            "\n",
            "\n"
          ]
        },
        {
          "output_type": "stream",
          "name": "stderr",
          "text": [
            "[Succeeded / Failed / Skipped / Total] 114 / 42 / 2 / 158:   6%|▌         | 158/2713 [10:29<2:49:41,  3.98s/it]"
          ]
        },
        {
          "output_type": "stream",
          "name": "stdout",
          "text": [
            "--------------------------------------------- Result 158 ---------------------------------------------\n",
            "[[Positive (100%)]] --> [[Neutral (55%)]]\n",
            "\n",
            "On Wednesday he announced that the government would propose [[granting]] a licence for two reactors , one to be built by Fennovoima , and the other by TVO .\n",
            "\n",
            "On Wednesday he announced that the government would propose [[concede]] a licence for two reactors , one to be built by Fennovoima , and the other by TVO .\n",
            "\n",
            "\n"
          ]
        },
        {
          "output_type": "stream",
          "name": "stderr",
          "text": [
            "\r[Succeeded / Failed / Skipped / Total] 115 / 42 / 2 / 159:   6%|▌         | 159/2713 [10:34<2:49:50,  3.99s/it]"
          ]
        },
        {
          "output_type": "stream",
          "name": "stdout",
          "text": [
            "--------------------------------------------- Result 159 ---------------------------------------------\n",
            "[[Positive (100%)]] --> [[Negative (100%)]]\n",
            "\n",
            "Mobile phone shipments [[jumped]] 26 percent to almost 112 million units , while Finnish company 's global market share rose to 39 percent from 36 percent .\n",
            "\n",
            "Mobile phone shipments [[derail]] 26 percent to almost 112 million units , while Finnish company 's global market share rose to 39 percent from 36 percent .\n",
            "\n",
            "\n"
          ]
        },
        {
          "output_type": "stream",
          "name": "stderr",
          "text": [
            "[Succeeded / Failed / Skipped / Total] 116 / 42 / 2 / 160:   6%|▌         | 160/2713 [10:37<2:49:26,  3.98s/it]"
          ]
        },
        {
          "output_type": "stream",
          "name": "stdout",
          "text": [
            "--------------------------------------------- Result 160 ---------------------------------------------\n",
            "[[Neutral (100%)]] --> [[Negative (58%)]]\n",
            "\n",
            "The [[interim]] [[report]] for the [[first]] quarter is [[published]] on May 8 , 2009 .\n",
            "\n",
            "The [[meanwhile]] [[account]] for the [[low]] quarter is [[write]] on May 8 , 2009 .\n",
            "\n",
            "\n"
          ]
        },
        {
          "output_type": "stream",
          "name": "stderr",
          "text": [
            "\r[Succeeded / Failed / Skipped / Total] 117 / 42 / 2 / 161:   6%|▌         | 161/2713 [10:37<2:48:30,  3.96s/it]"
          ]
        },
        {
          "output_type": "stream",
          "name": "stdout",
          "text": [
            "--------------------------------------------- Result 161 ---------------------------------------------\n",
            "[[Positive (100%)]] --> [[Negative (86%)]]\n",
            "\n",
            "EBITDA for the year 2009 [[improved]] to EUR484m , as compared with EUR472m in 2008 .\n",
            "\n",
            "EBITDA for the year 2009 [[meliorate]] to EUR484m , as compared with EUR472m in 2008 .\n",
            "\n",
            "\n"
          ]
        },
        {
          "output_type": "stream",
          "name": "stderr",
          "text": [
            "[Succeeded / Failed / Skipped / Total] 117 / 43 / 2 / 162:   6%|▌         | 162/2713 [10:43<2:48:45,  3.97s/it]"
          ]
        },
        {
          "output_type": "stream",
          "name": "stdout",
          "text": [
            "--------------------------------------------- Result 162 ---------------------------------------------\n",
            "[[Neutral (100%)]] --> [[[FAILED]]]\n",
            "\n",
            "Elisa has commissioned Finland 's Poyry Telecom Oy to conduct a study of reception in some of Estonia 's largest cities besides Tallinn .\n",
            "\n",
            "\n"
          ]
        },
        {
          "output_type": "stream",
          "name": "stderr",
          "text": [
            "\r[Succeeded / Failed / Skipped / Total] 118 / 43 / 2 / 163:   6%|▌         | 163/2713 [10:44<2:47:55,  3.95s/it]"
          ]
        },
        {
          "output_type": "stream",
          "name": "stdout",
          "text": [
            "--------------------------------------------- Result 163 ---------------------------------------------\n",
            "[[Negative (93%)]] --> [[Neutral (100%)]]\n",
            "\n",
            "55 workers in +àm+Ñl will be [[affected]] by the close-down .\n",
            "\n",
            "55 workers in +àm+Ñl will be [[moved]] by the close-down .\n",
            "\n",
            "\n"
          ]
        },
        {
          "output_type": "stream",
          "name": "stderr",
          "text": [
            "[Succeeded / Failed / Skipped / Total] 119 / 43 / 2 / 164:   6%|▌         | 164/2713 [10:46<2:47:27,  3.94s/it]"
          ]
        },
        {
          "output_type": "stream",
          "name": "stdout",
          "text": [
            "--------------------------------------------- Result 164 ---------------------------------------------\n",
            "[[Neutral (100%)]] --> [[Positive (100%)]]\n",
            "\n",
            "Remote Phone Management demonstrates SysOpen Digia 's [[unique]] end-to-end offering for operators , handset manufacturers and enterprise customers .\n",
            "\n",
            "Remote Phone Management demonstrates SysOpen Digia 's [[unparalleled]] end-to-end offering for operators , handset manufacturers and enterprise customers .\n",
            "\n",
            "\n"
          ]
        },
        {
          "output_type": "stream",
          "name": "stderr",
          "text": [
            "\r[Succeeded / Failed / Skipped / Total] 120 / 43 / 2 / 165:   6%|▌         | 165/2713 [10:51<2:47:43,  3.95s/it]"
          ]
        },
        {
          "output_type": "stream",
          "name": "stdout",
          "text": [
            "--------------------------------------------- Result 165 ---------------------------------------------\n",
            "[[Neutral (100%)]] --> [[Positive (99%)]]\n",
            "\n",
            "It is hand-painted resin with real 14-0 [[trebles]] and is 75cm long by 25cm deep from top to bottom of the middle hook .\n",
            "\n",
            "It is hand-painted resin with real 14-0 [[triple]] and is 75cm long by 25cm deep from top to bottom of the middle hook .\n",
            "\n",
            "\n"
          ]
        },
        {
          "output_type": "stream",
          "name": "stderr",
          "text": [
            "[Succeeded / Failed / Skipped / Total] 121 / 43 / 2 / 166:   6%|▌         | 166/2713 [10:54<2:47:18,  3.94s/it]"
          ]
        },
        {
          "output_type": "stream",
          "name": "stdout",
          "text": [
            "--------------------------------------------- Result 166 ---------------------------------------------\n",
            "[[Neutral (100%)]] --> [[Positive (100%)]]\n",
            "\n",
            "The company also said that its board of directors has proposed a [[profit]] distribution of EUR0 .92 per share .\n",
            "\n",
            "The company also said that its board of directors has proposed a [[gain]] distribution of EUR0 .92 per share .\n",
            "\n",
            "\n"
          ]
        },
        {
          "output_type": "stream",
          "name": "stderr",
          "text": [
            "\r[Succeeded / Failed / Skipped / Total] 122 / 43 / 2 / 167:   6%|▌         | 167/2713 [10:57<2:46:57,  3.93s/it]"
          ]
        },
        {
          "output_type": "stream",
          "name": "stdout",
          "text": [
            "--------------------------------------------- Result 167 ---------------------------------------------\n",
            "[[Neutral (100%)]] --> [[Negative (100%)]]\n",
            "\n",
            "[[Financing]] of the [[project]] will [[come]] [[mainly]] from China .\n",
            "\n",
            "[[funding]] of the [[projection]] will [[fall]] [[chiefly]] from China .\n",
            "\n",
            "\n"
          ]
        },
        {
          "output_type": "stream",
          "name": "stderr",
          "text": [
            "[Succeeded / Failed / Skipped / Total] 123 / 43 / 2 / 168:   6%|▌         | 168/2713 [10:59<2:46:27,  3.92s/it]"
          ]
        },
        {
          "output_type": "stream",
          "name": "stdout",
          "text": [
            "--------------------------------------------- Result 168 ---------------------------------------------\n",
            "[[Neutral (100%)]] --> [[Positive (93%)]]\n",
            "\n",
            "The second-quarter net sales are expected to be on [[par]] with the first quarter of 2009 .\n",
            "\n",
            "The second-quarter net sales are expected to be on [[equation]] with the first quarter of 2009 .\n",
            "\n",
            "\n"
          ]
        },
        {
          "output_type": "stream",
          "name": "stderr",
          "text": [
            "\r[Succeeded / Failed / Skipped / Total] 124 / 43 / 2 / 169:   6%|▌         | 169/2713 [11:02<2:46:13,  3.92s/it]"
          ]
        },
        {
          "output_type": "stream",
          "name": "stdout",
          "text": [
            "--------------------------------------------- Result 169 ---------------------------------------------\n",
            "[[Neutral (100%)]] --> [[Negative (77%)]]\n",
            "\n",
            "The [[total]] restructuring [[costs]] are expected to be about EUR 30mn , of which EUR 13.[[5]] [[mn]] was [[booked]] in [[December]] 2008 .\n",
            "\n",
            "The [[sum]] restructuring [[cost]] are expected to be about EUR 30mn , of which EUR 13.[[Phoebe]] [[MN]] was [[reserve]] in [[Dec]] 2008 .\n",
            "\n",
            "\n"
          ]
        },
        {
          "output_type": "stream",
          "name": "stderr",
          "text": [
            "[Succeeded / Failed / Skipped / Total] 125 / 43 / 2 / 170:   6%|▋         | 170/2713 [11:04<2:45:46,  3.91s/it]"
          ]
        },
        {
          "output_type": "stream",
          "name": "stdout",
          "text": [
            "--------------------------------------------- Result 170 ---------------------------------------------\n",
            "[[Positive (100%)]] --> [[Negative (100%)]]\n",
            "\n",
            "The company aims to maintain this [[trend]] in profitability during the current year .\n",
            "\n",
            "The company aims to maintain this [[slue]] in profitability during the current year .\n",
            "\n",
            "\n"
          ]
        },
        {
          "output_type": "stream",
          "name": "stderr",
          "text": [
            "\r[Succeeded / Failed / Skipped / Total] 126 / 43 / 2 / 171:   6%|▋         | 171/2713 [11:06<2:45:06,  3.90s/it]"
          ]
        },
        {
          "output_type": "stream",
          "name": "stdout",
          "text": [
            "--------------------------------------------- Result 171 ---------------------------------------------\n",
            "[[Positive (100%)]] --> [[Neutral (100%)]]\n",
            "\n",
            "Merrill [[Lynch]] analyst Campbell Morgan [[upgraded]] his [[recommendation]] on PaperlinX from `` neutral '' to `` [[buy]] '' in May .\n",
            "\n",
            "Merrill [[lynch]] analyst Campbell Morgan [[elevate]] his [[passport]] on PaperlinX from `` neutral '' to `` [[purchase]] '' in May .\n",
            "\n",
            "\n"
          ]
        },
        {
          "output_type": "stream",
          "name": "stderr",
          "text": [
            "[Succeeded / Failed / Skipped / Total] 127 / 43 / 2 / 172:   6%|▋         | 172/2713 [11:10<2:45:11,  3.90s/it]"
          ]
        },
        {
          "output_type": "stream",
          "name": "stdout",
          "text": [
            "--------------------------------------------- Result 172 ---------------------------------------------\n",
            "[[Neutral (100%)]] --> [[Positive (85%)]]\n",
            "\n",
            "Veracel is [[preparing]] an [[appeal]] in the [[issue]] and has asked the court for clarification of the judgement .\n",
            "\n",
            "Veracel is [[devise]] an [[appealingness]] in the [[supply]] and has asked the court for clarification of the judgement .\n",
            "\n",
            "\n"
          ]
        },
        {
          "output_type": "stream",
          "name": "stderr",
          "text": [
            "\r[Succeeded / Failed / Skipped / Total] 128 / 43 / 2 / 173:   6%|▋         | 173/2713 [11:15<2:45:11,  3.90s/it]"
          ]
        },
        {
          "output_type": "stream",
          "name": "stdout",
          "text": [
            "--------------------------------------------- Result 173 ---------------------------------------------\n",
            "[[Neutral (100%)]] --> [[Positive (98%)]]\n",
            "\n",
            "The venture , which will be 51 % owned by Kemira and 49 % by IVRCL , will operate an inorganic coagulant manufacturing facility , to be [[built]] in Vishakapatnam Vizag in the state of Andhra Pradesh and to kick off operations in the second half of 2011 .\n",
            "\n",
            "The venture , which will be 51 % owned by Kemira and 49 % by IVRCL , will operate an inorganic coagulant manufacturing facility , to be [[progress]] in Vishakapatnam Vizag in the state of Andhra Pradesh and to kick off operations in the second half of 2011 .\n",
            "\n",
            "\n"
          ]
        },
        {
          "output_type": "stream",
          "name": "stderr",
          "text": [
            "[Succeeded / Failed / Skipped / Total] 129 / 43 / 2 / 174:   6%|▋         | 174/2713 [11:19<2:45:08,  3.90s/it]"
          ]
        },
        {
          "output_type": "stream",
          "name": "stdout",
          "text": [
            "--------------------------------------------- Result 174 ---------------------------------------------\n",
            "[[Neutral (100%)]] --> [[Positive (78%)]]\n",
            "\n",
            "www.countryelements.co.uk Designed by Patricia Burt , this is just [[one]] of a selection of distinctive hooked rugs created with recycled materials and dyed natural dyes .\n",
            "\n",
            "www.countryelements.co.uk Designed by Patricia Burt , this is just [[unmatched]] of a selection of distinctive hooked rugs created with recycled materials and dyed natural dyes .\n",
            "\n",
            "\n"
          ]
        },
        {
          "output_type": "stream",
          "name": "stderr",
          "text": [
            "\r[Succeeded / Failed / Skipped / Total] 129 / 44 / 2 / 175:   6%|▋         | 175/2713 [11:22<2:45:05,  3.90s/it]"
          ]
        },
        {
          "output_type": "stream",
          "name": "stdout",
          "text": [
            "--------------------------------------------- Result 175 ---------------------------------------------\n",
            "[[Neutral (100%)]] --> [[[FAILED]]]\n",
            "\n",
            "Kemira 's R&D organization comprises approximately 750 people , the company said .\n",
            "\n",
            "\n"
          ]
        },
        {
          "output_type": "stream",
          "name": "stderr",
          "text": [
            "[Succeeded / Failed / Skipped / Total] 130 / 44 / 2 / 176:   6%|▋         | 176/2713 [11:29<2:45:45,  3.92s/it]"
          ]
        },
        {
          "output_type": "stream",
          "name": "stdout",
          "text": [
            "--------------------------------------------- Result 176 ---------------------------------------------\n",
            "[[Neutral (100%)]] --> [[Positive (84%)]]\n",
            "\n",
            "Fortum is [[looking]] to [[invest]] in several new production units , including a new waste-fired unit at its Brista combined heat and [[power]] ( CHP ) [[plant]] and a biofuels-based [[production]] [[unit]] at Vartan CHP [[plant]] .\n",
            "\n",
            "Fortum is [[sounding]] to [[vest]] in several new production units , including a new waste-fired unit at its Brista combined heat and [[mogul]] ( CHP ) [[imbed]] and a biofuels-based [[yield]] [[whole]] at Vartan CHP [[found]] .\n",
            "\n",
            "\n"
          ]
        },
        {
          "output_type": "stream",
          "name": "stderr",
          "text": [
            "[Succeeded / Failed / Skipped / Total] 131 / 44 / 2 / 177:   7%|▋         | 177/2713 [11:37<2:46:27,  3.94s/it]"
          ]
        },
        {
          "output_type": "stream",
          "name": "stdout",
          "text": [
            "--------------------------------------------- Result 177 ---------------------------------------------\n",
            "[[Positive (100%)]] --> [[Neutral (97%)]]\n",
            "\n",
            "MANAVIGATOR-September 7 , 2010-Kemira unveils Indian JV with IVRCL Finnish chemicals group Kemira ( HEL : KRA1V ) on Tuesday announced it has inked a [[deal]] to form a joint venture in India with local construction firm IVRCL Infrastructure and Projects Ltd ( BOM :530773 ) .\n",
            "\n",
            "MANAVIGATOR-September 7 , 2010-Kemira unveils Indian JV with IVRCL Finnish chemicals group Kemira ( HEL : KRA1V ) on Tuesday announced it has inked a [[share]] to form a joint venture in India with local construction firm IVRCL Infrastructure and Projects Ltd ( BOM :530773 ) .\n",
            "\n",
            "\n"
          ]
        },
        {
          "output_type": "stream",
          "name": "stderr",
          "text": [
            "[Succeeded / Failed / Skipped / Total] 132 / 44 / 2 / 178:   7%|▋         | 178/2713 [11:40<2:46:13,  3.93s/it]"
          ]
        },
        {
          "output_type": "stream",
          "name": "stdout",
          "text": [
            "--------------------------------------------- Result 178 ---------------------------------------------\n",
            "[[Neutral (100%)]] --> [[Positive (86%)]]\n",
            "\n",
            "The government has instead proposed an [[exchange]] of the state 's [[stake]] in LMT to TeliaSonera 's stake in Lattelecom .\n",
            "\n",
            "The government has instead proposed an [[rally]] of the state 's [[bet]] in LMT to TeliaSonera 's stake in Lattelecom .\n",
            "\n",
            "\n"
          ]
        },
        {
          "output_type": "stream",
          "name": "stderr",
          "text": [
            "[Succeeded / Failed / Skipped / Total] 132 / 45 / 2 / 179:   7%|▋         | 179/2713 [11:43<2:46:01,  3.93s/it]"
          ]
        },
        {
          "output_type": "stream",
          "name": "stdout",
          "text": [
            "--------------------------------------------- Result 179 ---------------------------------------------\n",
            "[[Negative (100%)]] --> [[[FAILED]]]\n",
            "\n",
            "Profit before taxes amounted to EUR 56.5 mn , down from EUR 232.9 mn a year ago .\n",
            "\n",
            "\n"
          ]
        },
        {
          "output_type": "stream",
          "name": "stderr",
          "text": [
            "[Succeeded / Failed / Skipped / Total] 133 / 45 / 2 / 180:   7%|▋         | 180/2713 [11:49<2:46:17,  3.94s/it]"
          ]
        },
        {
          "output_type": "stream",
          "name": "stdout",
          "text": [
            "--------------------------------------------- Result 180 ---------------------------------------------\n",
            "[[Positive (100%)]] --> [[Neutral (97%)]]\n",
            "\n",
            "`` Lidskoe Pivo 's investment [[program]] [[foresees]] the [[integrated]] [[modernization]] of production , updating transport and logistics infrastructure and developing new marketing instruments , '' Mikshis [[said]] .\n",
            "\n",
            "`` Lidskoe Pivo 's investment [[curriculum]] [[forestall]] the [[incorporate]] [[modernisation]] of production , updating transport and logistics infrastructure and developing new marketing instruments , '' Mikshis [[allege]] .\n",
            "\n",
            "\n"
          ]
        },
        {
          "output_type": "stream",
          "name": "stderr",
          "text": [
            "[Succeeded / Failed / Skipped / Total] 134 / 45 / 2 / 181:   7%|▋         | 181/2713 [11:52<2:46:09,  3.94s/it]"
          ]
        },
        {
          "output_type": "stream",
          "name": "stdout",
          "text": [
            "--------------------------------------------- Result 181 ---------------------------------------------\n",
            "[[Neutral (100%)]] --> [[Positive (100%)]]\n",
            "\n",
            "[[Being]] successful requires providing a [[level]] of quality that satisfies our customers and partners .\n",
            "\n",
            "[[beingness]] successful requires providing a [[unwavering]] of quality that satisfies our customers and partners .\n",
            "\n",
            "\n"
          ]
        },
        {
          "output_type": "stream",
          "name": "stderr",
          "text": [
            "[Succeeded / Failed / Skipped / Total] 135 / 45 / 2 / 182:   7%|▋         | 182/2713 [12:00<2:47:05,  3.96s/it]"
          ]
        },
        {
          "output_type": "stream",
          "name": "stdout",
          "text": [
            "--------------------------------------------- Result 182 ---------------------------------------------\n",
            "[[Positive (100%)]] --> [[Negative (100%)]]\n",
            "\n",
            "The fourth quarter saw Rapala [[swing]] back to a pretax profit of 1.5 mln eur from a year earlier loss of 1.2 mln on the back of a 30 pct uplift in sales to 44.8 mln eur , and a stronger performance in North America .\n",
            "\n",
            "The fourth quarter saw Rapala [[drop]] back to a pretax profit of 1.5 mln eur from a year earlier loss of 1.2 mln on the back of a 30 pct uplift in sales to 44.8 mln eur , and a stronger performance in North America .\n",
            "\n",
            "\n"
          ]
        },
        {
          "output_type": "stream",
          "name": "stderr",
          "text": [
            "[Succeeded / Failed / Skipped / Total] 136 / 45 / 2 / 183:   7%|▋         | 183/2713 [12:10<2:48:13,  3.99s/it]"
          ]
        },
        {
          "output_type": "stream",
          "name": "stdout",
          "text": [
            "--------------------------------------------- Result 183 ---------------------------------------------\n",
            "[[Neutral (100%)]] --> [[Positive (52%)]]\n",
            "\n",
            "The [[company]] said Offshore segment [[represented]] 43 % of the [[total]] marine engines orders for the July-September 2010 [[period]] , Merchant 33 % , Special [[vessels]] 18 % , and Cruise and Ferry , and [[Ship]] Design -- 2 % and [[3]] % , respectively .\n",
            "\n",
            "The [[caller]] said Offshore segment [[typify]] 43 % of the [[add]] marine engines orders for the July-September 2010 [[point]] , Merchant 33 % , Special [[vas]] 18 % , and Cruise and Ferry , and [[send]] Design -- 2 % and [[triplet]] % , respectively .\n",
            "\n",
            "\n"
          ]
        },
        {
          "output_type": "stream",
          "name": "stderr",
          "text": [
            "[Succeeded / Failed / Skipped / Total] 136 / 46 / 2 / 184:   7%|▋         | 184/2713 [12:10<2:47:26,  3.97s/it]"
          ]
        },
        {
          "output_type": "stream",
          "name": "stdout",
          "text": [
            "--------------------------------------------- Result 184 ---------------------------------------------\n",
            "[[Neutral (100%)]] --> [[[FAILED]]]\n",
            "\n",
            "Financial details were not disclosed .\n",
            "\n",
            "\n"
          ]
        },
        {
          "output_type": "stream",
          "name": "stderr",
          "text": [
            "[Succeeded / Failed / Skipped / Total] 136 / 47 / 2 / 185:   7%|▋         | 185/2713 [12:14<2:47:22,  3.97s/it]"
          ]
        },
        {
          "output_type": "stream",
          "name": "stdout",
          "text": [
            "--------------------------------------------- Result 185 ---------------------------------------------\n",
            "[[Neutral (100%)]] --> [[[FAILED]]]\n",
            "\n",
            "The divested company is part of TietoEnator 's business area Government , Manufacturing & Retail .\n",
            "\n",
            "\n"
          ]
        },
        {
          "output_type": "stream",
          "name": "stderr",
          "text": [
            "[Succeeded / Failed / Skipped / Total] 137 / 47 / 2 / 186:   7%|▋         | 186/2713 [12:19<2:47:23,  3.97s/it]"
          ]
        },
        {
          "output_type": "stream",
          "name": "stdout",
          "text": [
            "--------------------------------------------- Result 186 ---------------------------------------------\n",
            "[[Negative (97%)]] --> [[Positive (73%)]]\n",
            "\n",
            "[[Operating]] cash flow after investments totalled EUR 61.3 mn compared to EUR 75.3 mn in the corresponding period in 2007 .\n",
            "\n",
            "[[operating]] cash flow after investments totalled EUR 61.3 mn compared to EUR 75.3 mn in the corresponding period in 2007 .\n",
            "\n",
            "\n"
          ]
        },
        {
          "output_type": "stream",
          "name": "stderr",
          "text": [
            "[Succeeded / Failed / Skipped / Total] 138 / 47 / 3 / 188:   7%|▋         | 188/2713 [12:29<2:47:43,  3.99s/it]"
          ]
        },
        {
          "output_type": "stream",
          "name": "stdout",
          "text": [
            "--------------------------------------------- Result 187 ---------------------------------------------\n",
            "[[Neutral (100%)]] --> [[Negative (87%)]]\n",
            "\n",
            "According to its notice , Skandinaviska Enskilda Banken AB publ Helsinki Branch has on 10 August 2009 [[divested]] in [[total]] 11,958,000 Alma Media [[shares]] to Ilkka-Yhtyma Oyj and Kaleva Kustannus Oy , as the conditions of the agreement [[made]] by the companies on 1 July 2009 fulfilled .\n",
            "\n",
            "According to its notice , Skandinaviska Enskilda Banken AB publ Helsinki Branch has on 10 August 2009 [[deprive]] in [[entire]] 11,958,000 Alma Media [[plowshare]] to Ilkka-Yhtyma Oyj and Kaleva Kustannus Oy , as the conditions of the agreement [[hit]] by the companies on 1 July 2009 fulfilled .\n",
            "\n",
            "\n",
            "--------------------------------------------- Result 188 ---------------------------------------------\n",
            "[[Positive (73%)]] --> [[[SKIPPED]]]\n",
            "\n",
            "Tekla 's software solutions make customers ' core processes more effective in building and construction , energy distribution , infrastructure management and water supply .\n",
            "\n",
            "\n"
          ]
        },
        {
          "output_type": "stream",
          "name": "stderr",
          "text": [
            "[Succeeded / Failed / Skipped / Total] 139 / 47 / 3 / 189:   7%|▋         | 189/2713 [12:34<2:47:54,  3.99s/it]"
          ]
        },
        {
          "output_type": "stream",
          "name": "stdout",
          "text": [
            "--------------------------------------------- Result 189 ---------------------------------------------\n",
            "[[Neutral (100%)]] --> [[Negative (72%)]]\n",
            "\n",
            "[[As]] a [[result]] of the merger , the largest professional electronics and telecommunications technology contract manufacturing center in Finland will be [[formed]] in Sievi .\n",
            "\n",
            "[[axerophthol]] a [[termination]] of the merger , the largest professional electronics and telecommunications technology contract manufacturing center in Finland will be [[imprint]] in Sievi .\n",
            "\n",
            "\n"
          ]
        },
        {
          "output_type": "stream",
          "name": "stderr",
          "text": [
            "\r[Succeeded / Failed / Skipped / Total] 139 / 48 / 3 / 190:   7%|▋         | 190/2713 [12:37<2:47:43,  3.99s/it]"
          ]
        },
        {
          "output_type": "stream",
          "name": "stdout",
          "text": [
            "--------------------------------------------- Result 190 ---------------------------------------------\n",
            "[[Neutral (100%)]] --> [[[FAILED]]]\n",
            "\n",
            "This corresponds to 6.81 percent of Okmetic 's share capital and voting rights .\n",
            "\n",
            "\n"
          ]
        },
        {
          "output_type": "stream",
          "name": "stderr",
          "text": [
            "[Succeeded / Failed / Skipped / Total] 139 / 49 / 3 / 191:   7%|▋         | 191/2713 [12:41<2:47:34,  3.99s/it]"
          ]
        },
        {
          "output_type": "stream",
          "name": "stdout",
          "text": [
            "--------------------------------------------- Result 191 ---------------------------------------------\n",
            "[[Neutral (100%)]] --> [[[FAILED]]]\n",
            "\n",
            "Donations to universities The Annual General Meeting authorized the Board of Directors to donate max .\n",
            "\n",
            "\n"
          ]
        },
        {
          "output_type": "stream",
          "name": "stderr",
          "text": [
            "\r[Succeeded / Failed / Skipped / Total] 139 / 50 / 3 / 192:   7%|▋         | 192/2713 [12:45<2:47:34,  3.99s/it]"
          ]
        },
        {
          "output_type": "stream",
          "name": "stdout",
          "text": [
            "--------------------------------------------- Result 192 ---------------------------------------------\n",
            "[[Neutral (100%)]] --> [[[FAILED]]]\n",
            "\n",
            "RIM has revamped the BlackBerry OS UI with the 6.0 version of the mobile operating system .\n",
            "\n",
            "\n"
          ]
        },
        {
          "output_type": "stream",
          "name": "stderr",
          "text": [
            "[Succeeded / Failed / Skipped / Total] 140 / 50 / 3 / 193:   7%|▋         | 193/2713 [12:56<2:48:55,  4.02s/it]"
          ]
        },
        {
          "output_type": "stream",
          "name": "stdout",
          "text": [
            "--------------------------------------------- Result 193 ---------------------------------------------\n",
            "[[Positive (100%)]] --> [[Neutral (98%)]]\n",
            "\n",
            "`` The margarine business has been put into [[good]] [[shape]] in the last two years , making it a natural addition to Bunge , which is looking to leverage its position in the Central and Northern European markets , '' Raisio CEO Matti Rihko said in a statement .\n",
            "\n",
            "`` The margarine business has been put into [[thoroughly]] [[influence]] in the last two years , making it a natural addition to Bunge , which is looking to leverage its position in the Central and Northern European markets , '' Raisio CEO Matti Rihko said in a statement .\n",
            "\n",
            "\n"
          ]
        },
        {
          "output_type": "stream",
          "name": "stderr",
          "text": [
            "[Succeeded / Failed / Skipped / Total] 141 / 50 / 3 / 194:   7%|▋         | 194/2713 [12:58<2:48:30,  4.01s/it]"
          ]
        },
        {
          "output_type": "stream",
          "name": "stdout",
          "text": [
            "--------------------------------------------- Result 194 ---------------------------------------------\n",
            "[[Neutral (100%)]] --> [[Negative (95%)]]\n",
            "\n",
            "The company was [[supposed]] to deliver machinery to a veneer mill in the Tomsk region , in Russia .\n",
            "\n",
            "The company was [[alleged]] to deliver machinery to a veneer mill in the Tomsk region , in Russia .\n",
            "\n",
            "\n"
          ]
        },
        {
          "output_type": "stream",
          "name": "stderr",
          "text": [
            "[Succeeded / Failed / Skipped / Total] 141 / 51 / 3 / 195:   7%|▋         | 195/2713 [13:09<2:49:49,  4.05s/it]"
          ]
        },
        {
          "output_type": "stream",
          "name": "stdout",
          "text": [
            "--------------------------------------------- Result 195 ---------------------------------------------\n",
            "[[Neutral (100%)]] --> [[[FAILED]]]\n",
            "\n",
            "Nurminen Logistics provides high-quality logistics services , such as railway transports , terminal services , forwarding , special and heavy transports and medical transports .\n",
            "\n",
            "\n"
          ]
        },
        {
          "output_type": "stream",
          "name": "stderr",
          "text": [
            "[Succeeded / Failed / Skipped / Total] 141 / 52 / 3 / 196:   7%|▋         | 196/2713 [13:14<2:50:03,  4.05s/it]"
          ]
        },
        {
          "output_type": "stream",
          "name": "stdout",
          "text": [
            "--------------------------------------------- Result 196 ---------------------------------------------\n",
            "[[Neutral (100%)]] --> [[[FAILED]]]\n",
            "\n",
            "Boomeranger Boats Oy specialises in boat building and designs , manufactures and sells customised Rigid Inflatable Boats RIB primarily for the Baltic Sea market .\n",
            "\n",
            "\n"
          ]
        },
        {
          "output_type": "stream",
          "name": "stderr",
          "text": [
            "[Succeeded / Failed / Skipped / Total] 142 / 52 / 3 / 197:   7%|▋         | 197/2713 [13:19<2:50:05,  4.06s/it]"
          ]
        },
        {
          "output_type": "stream",
          "name": "stdout",
          "text": [
            "--------------------------------------------- Result 197 ---------------------------------------------\n",
            "[[Neutral (100%)]] --> [[Positive (63%)]]\n",
            "\n",
            "Finnish W+ñrtsil+ñ that provides power solutions for the marine and energy markets has [[opened]] a [[Service]] [[Centre]] in Murmansk , in Russia .\n",
            "\n",
            "Finnish W+ñrtsil+ñ that provides power solutions for the marine and energy markets has [[afford]] a [[help]] [[nitty-gritty]] in Murmansk , in Russia .\n",
            "\n",
            "\n"
          ]
        },
        {
          "output_type": "stream",
          "name": "stderr",
          "text": [
            "[Succeeded / Failed / Skipped / Total] 143 / 52 / 3 / 198:   7%|▋         | 198/2713 [13:26<2:50:49,  4.08s/it]"
          ]
        },
        {
          "output_type": "stream",
          "name": "stdout",
          "text": [
            "--------------------------------------------- Result 198 ---------------------------------------------\n",
            "[[Neutral (100%)]] --> [[Positive (94%)]]\n",
            "\n",
            "`` Each year , personal entertainment [[plays]] a more significant [[role]] in [[determining]] whether a fitness facility 's workout experience is [[pleasurable]] or a chore , '' said Brian Wilson , director of marketing for Precor 's Entertainment & Services Division .\n",
            "\n",
            "`` Each year , personal entertainment [[manoeuvre]] a more significant [[persona]] in [[deciding]] whether a fitness facility 's workout experience is [[gratifying]] or a chore , '' said Brian Wilson , director of marketing for Precor 's Entertainment & Services Division .\n",
            "\n",
            "\n"
          ]
        },
        {
          "output_type": "stream",
          "name": "stderr",
          "text": [
            "[Succeeded / Failed / Skipped / Total] 144 / 52 / 3 / 199:   7%|▋         | 199/2713 [13:30<2:50:39,  4.07s/it]"
          ]
        },
        {
          "output_type": "stream",
          "name": "stdout",
          "text": [
            "--------------------------------------------- Result 199 ---------------------------------------------\n",
            "[[Neutral (100%)]] --> [[Negative (100%)]]\n",
            "\n",
            "Our [[tools]] are specifically [[designed]] with the [[needs]] of both the [[business]] users and ICT experts in [[mind]] .\n",
            "\n",
            "Our [[pecker]] are specifically [[intentional]] with the [[motive]] of both the [[concern]] users and ICT experts in [[intellect]] .\n",
            "\n",
            "\n"
          ]
        },
        {
          "output_type": "stream",
          "name": "stderr",
          "text": [
            "[Succeeded / Failed / Skipped / Total] 145 / 52 / 3 / 200:   7%|▋         | 200/2713 [13:35<2:50:46,  4.08s/it]"
          ]
        },
        {
          "output_type": "stream",
          "name": "stdout",
          "text": [
            "--------------------------------------------- Result 200 ---------------------------------------------\n",
            "[[Neutral (100%)]] --> [[Positive (84%)]]\n",
            "\n",
            "The aim of the CEO 's Q&A sessions is to [[give]] further clarity on information , which has been made public already earlier .\n",
            "\n",
            "The aim of the CEO 's Q&A sessions is to [[contribute]] further clarity on information , which has been made public already earlier .\n",
            "\n",
            "\n"
          ]
        },
        {
          "output_type": "stream",
          "name": "stderr",
          "text": [
            "[Succeeded / Failed / Skipped / Total] 146 / 52 / 3 / 201:   7%|▋         | 201/2713 [13:36<2:50:09,  4.06s/it]"
          ]
        },
        {
          "output_type": "stream",
          "name": "stdout",
          "text": [
            "--------------------------------------------- Result 201 ---------------------------------------------\n",
            "[[Positive (100%)]] --> [[Neutral (100%)]]\n",
            "\n",
            "The rebuilds are designed to [[improve]] the machines ' performance and product quality .\n",
            "\n",
            "The rebuilds are designed to [[meliorate]] the machines ' performance and product quality .\n",
            "\n",
            "\n"
          ]
        },
        {
          "output_type": "stream",
          "name": "stderr",
          "text": [
            "[Succeeded / Failed / Skipped / Total] 147 / 52 / 3 / 202:   7%|▋         | 202/2713 [13:40<2:49:53,  4.06s/it]"
          ]
        },
        {
          "output_type": "stream",
          "name": "stdout",
          "text": [
            "--------------------------------------------- Result 202 ---------------------------------------------\n",
            "[[Neutral (100%)]] --> [[Negative (76%)]]\n",
            "\n",
            "The markets are [[almost]] completely [[controlled]] by three banks : Nordea , OP Bank Group , and Sampo .\n",
            "\n",
            "The markets are [[near]] completely [[curb]] by three banks : Nordea , OP Bank Group , and Sampo .\n",
            "\n",
            "\n"
          ]
        },
        {
          "output_type": "stream",
          "name": "stderr",
          "text": [
            "[Succeeded / Failed / Skipped / Total] 147 / 53 / 3 / 203:   7%|▋         | 203/2713 [13:43<2:49:47,  4.06s/it]"
          ]
        },
        {
          "output_type": "stream",
          "name": "stdout",
          "text": [
            "--------------------------------------------- Result 203 ---------------------------------------------\n",
            "[[Neutral (100%)]] --> [[[FAILED]]]\n",
            "\n",
            "New Delhi , Feb. 12 -- Korteniemi Anneli , Helokunnas Tuija , Peltola Marjo , Keskinen Jukka , Salminen Jussi , Tusa Kia and Janhonen Risto of Nokia Telecommunications Oy , Espoo , Finland have developed cable adjustment device .\n",
            "\n",
            "\n"
          ]
        },
        {
          "output_type": "stream",
          "name": "stderr",
          "text": [
            "[Succeeded / Failed / Skipped / Total] 148 / 53 / 3 / 204:   8%|▊         | 204/2713 [13:47<2:49:35,  4.06s/it]"
          ]
        },
        {
          "output_type": "stream",
          "name": "stdout",
          "text": [
            "--------------------------------------------- Result 204 ---------------------------------------------\n",
            "[[Positive (100%)]] --> [[Negative (55%)]]\n",
            "\n",
            "[[Operating]] [[profit]] [[improved]] by [[39]].9 % to EUR 18.0 mn from EUR12 .8 [[mn]] .\n",
            "\n",
            "[[work]] [[earnings]] [[amend]] by [[thirty-nine]].9 % to EUR 18.0 mn from EUR12 .8 [[MN]] .\n",
            "\n",
            "\n"
          ]
        },
        {
          "output_type": "stream",
          "name": "stderr",
          "text": [
            "[Succeeded / Failed / Skipped / Total] 148 / 54 / 3 / 205:   8%|▊         | 205/2713 [13:48<2:48:56,  4.04s/it]"
          ]
        },
        {
          "output_type": "stream",
          "name": "stdout",
          "text": [
            "--------------------------------------------- Result 205 ---------------------------------------------\n",
            "[[Neutral (100%)]] --> [[[FAILED]]]\n",
            "\n",
            "Other details were not provided .\n",
            "\n",
            "\n"
          ]
        },
        {
          "output_type": "stream",
          "name": "stderr",
          "text": [
            "[Succeeded / Failed / Skipped / Total] 149 / 54 / 3 / 206:   8%|▊         | 206/2713 [13:52<2:48:53,  4.04s/it]"
          ]
        },
        {
          "output_type": "stream",
          "name": "stdout",
          "text": [
            "--------------------------------------------- Result 206 ---------------------------------------------\n",
            "[[Negative (100%)]] --> [[Positive (99%)]]\n",
            "\n",
            "Operating [[loss]] totalled EUR 4.0 mn , compared to a profit of EUR 8.6 mn in the second quarter of 2008 .\n",
            "\n",
            "Operating [[passing]] totalled EUR 4.0 mn , compared to a profit of EUR 8.6 mn in the second quarter of 2008 .\n",
            "\n",
            "\n"
          ]
        },
        {
          "output_type": "stream",
          "name": "stderr",
          "text": [
            "[Succeeded / Failed / Skipped / Total] 150 / 54 / 3 / 207:   8%|▊         | 207/2713 [13:56<2:48:40,  4.04s/it]"
          ]
        },
        {
          "output_type": "stream",
          "name": "stdout",
          "text": [
            "--------------------------------------------- Result 207 ---------------------------------------------\n",
            "[[Positive (100%)]] --> [[Neutral (100%)]]\n",
            "\n",
            "The bank sees a potential for Getinge share to [[rise]] .\n",
            "\n",
            "The bank sees a potential for Getinge share to [[arise]] .\n",
            "\n",
            "\n"
          ]
        },
        {
          "output_type": "stream",
          "name": "stderr",
          "text": [
            "[Succeeded / Failed / Skipped / Total] 151 / 54 / 3 / 208:   8%|▊         | 208/2713 [14:01<2:48:57,  4.05s/it]"
          ]
        },
        {
          "output_type": "stream",
          "name": "stdout",
          "text": [
            "--------------------------------------------- Result 208 ---------------------------------------------\n",
            "[[Neutral (100%)]] --> [[Positive (99%)]]\n",
            "\n",
            "Elcoteq SE [[Stock]] [[Exchange]] Announcement February 4 , 2009 at 10.00 am ( EET ) Elcoteq will [[publish]] its [[financial]] [[statements]] bulletin 2008 on Wednesday , February 11 , at 9.00 am ( EET ) .\n",
            "\n",
            "Elcoteq SE [[tired]] [[rally]] Announcement February 4 , 2009 at 10.00 am ( EET ) Elcoteq will [[release]] its [[fiscal]] [[argument]] bulletin 2008 on Wednesday , February 11 , at 9.00 am ( EET ) .\n",
            "\n",
            "\n"
          ]
        },
        {
          "output_type": "stream",
          "name": "stderr",
          "text": [
            "[Succeeded / Failed / Skipped / Total] 151 / 55 / 3 / 209:   8%|▊         | 209/2713 [14:04<2:48:40,  4.04s/it]"
          ]
        },
        {
          "output_type": "stream",
          "name": "stdout",
          "text": [
            "--------------------------------------------- Result 209 ---------------------------------------------\n",
            "[[Neutral (100%)]] --> [[[FAILED]]]\n",
            "\n",
            "Kemira will supply the additional volumes of iron coagulants from the company 's plant at Helsingborg , Sweden .\n",
            "\n",
            "\n"
          ]
        },
        {
          "output_type": "stream",
          "name": "stderr",
          "text": [
            "[Succeeded / Failed / Skipped / Total] 152 / 55 / 3 / 210:   8%|▊         | 210/2713 [14:05<2:47:58,  4.03s/it]"
          ]
        },
        {
          "output_type": "stream",
          "name": "stdout",
          "text": [
            "--------------------------------------------- Result 210 ---------------------------------------------\n",
            "[[Positive (100%)]] --> [[Neutral (100%)]]\n",
            "\n",
            "CEO Erkki J+ñrvinen is [[happy]] with the company 's performance in 2010 .\n",
            "\n",
            "CEO Erkki J+ñrvinen is [[felicitous]] with the company 's performance in 2010 .\n",
            "\n",
            "\n"
          ]
        },
        {
          "output_type": "stream",
          "name": "stderr",
          "text": [
            "[Succeeded / Failed / Skipped / Total] 153 / 55 / 3 / 211:   8%|▊         | 211/2713 [14:09<2:47:50,  4.02s/it]"
          ]
        },
        {
          "output_type": "stream",
          "name": "stdout",
          "text": [
            "--------------------------------------------- Result 211 ---------------------------------------------\n",
            "[[Neutral (100%)]] --> [[Negative (100%)]]\n",
            "\n",
            "Altona stated that the private company of Altona chairman Kevin Maloney , Tulla Resources , would [[take]] up its entitlement in full .\n",
            "\n",
            "Altona stated that the private company of Altona chairman Kevin Maloney , Tulla Resources , would [[strike]] up its entitlement in full .\n",
            "\n",
            "\n"
          ]
        },
        {
          "output_type": "stream",
          "name": "stderr",
          "text": [
            "[Succeeded / Failed / Skipped / Total] 154 / 55 / 3 / 212:   8%|▊         | 212/2713 [14:11<2:47:28,  4.02s/it]"
          ]
        },
        {
          "output_type": "stream",
          "name": "stdout",
          "text": [
            "--------------------------------------------- Result 212 ---------------------------------------------\n",
            "[[Positive (100%)]] --> [[Neutral (100%)]]\n",
            "\n",
            "Ruukki forecast a 15-20 % annual sales [[growth]] and a [[positive]] pretax result for 2010 .\n",
            "\n",
            "Ruukki forecast a 15-20 % annual sales [[development]] and a [[electropositive]] pretax result for 2010 .\n",
            "\n",
            "\n"
          ]
        },
        {
          "output_type": "stream",
          "name": "stderr",
          "text": [
            "[Succeeded / Failed / Skipped / Total] 154 / 56 / 3 / 213:   8%|▊         | 213/2713 [14:13<2:46:55,  4.01s/it]"
          ]
        },
        {
          "output_type": "stream",
          "name": "stdout",
          "text": [
            "--------------------------------------------- Result 213 ---------------------------------------------\n",
            "[[Neutral (100%)]] --> [[[FAILED]]]\n",
            "\n",
            "Performance is based on values and sustainability .\n",
            "\n",
            "\n"
          ]
        },
        {
          "output_type": "stream",
          "name": "stderr",
          "text": [
            "[Succeeded / Failed / Skipped / Total] 154 / 57 / 3 / 214:   8%|▊         | 214/2713 [14:14<2:46:15,  3.99s/it]"
          ]
        },
        {
          "output_type": "stream",
          "name": "stdout",
          "text": [
            "--------------------------------------------- Result 214 ---------------------------------------------\n",
            "[[Neutral (100%)]] --> [[[FAILED]]]\n",
            "\n",
            "It is expected to be online by 2011 .\n",
            "\n",
            "\n"
          ]
        },
        {
          "output_type": "stream",
          "name": "stderr",
          "text": [
            "[Succeeded / Failed / Skipped / Total] 155 / 57 / 3 / 215:   8%|▊         | 215/2713 [14:15<2:45:45,  3.98s/it]"
          ]
        },
        {
          "output_type": "stream",
          "name": "stdout",
          "text": [
            "--------------------------------------------- Result 215 ---------------------------------------------\n",
            "[[Neutral (100%)]] --> [[Negative (100%)]]\n",
            "\n",
            "The [[expansion]] will be [[delivered]] in the fourth [[quarter]] of 2006 .\n",
            "\n",
            "The [[enlargement]] will be [[rescue]] in the fourth [[quartern]] of 2006 .\n",
            "\n",
            "\n"
          ]
        },
        {
          "output_type": "stream",
          "name": "stderr",
          "text": [
            "[Succeeded / Failed / Skipped / Total] 156 / 57 / 3 / 216:   8%|▊         | 216/2713 [14:17<2:45:14,  3.97s/it]"
          ]
        },
        {
          "output_type": "stream",
          "name": "stdout",
          "text": [
            "--------------------------------------------- Result 216 ---------------------------------------------\n",
            "[[Positive (100%)]] --> [[Negative (64%)]]\n",
            "\n",
            "`` BasWare 's [[product]] sales [[grew]] strongly in the financial period , by 24 percent .\n",
            "\n",
            "`` BasWare 's [[ware]] sales [[uprise]] strongly in the financial period , by 24 percent .\n",
            "\n",
            "\n"
          ]
        },
        {
          "output_type": "stream",
          "name": "stderr",
          "text": [
            "[Succeeded / Failed / Skipped / Total] 156 / 58 / 3 / 217:   8%|▊         | 217/2713 [14:19<2:44:47,  3.96s/it]"
          ]
        },
        {
          "output_type": "stream",
          "name": "stdout",
          "text": [
            "--------------------------------------------- Result 217 ---------------------------------------------\n",
            "[[Positive (100%)]] --> [[[FAILED]]]\n",
            "\n",
            "Operating profit totaled EUR 825mn , up from EUR 763mn in 2004 .\n",
            "\n",
            "\n"
          ]
        },
        {
          "output_type": "stream",
          "name": "stderr",
          "text": [
            "[Succeeded / Failed / Skipped / Total] 157 / 58 / 3 / 218:   8%|▊         | 218/2713 [14:24<2:44:58,  3.97s/it]"
          ]
        },
        {
          "output_type": "stream",
          "name": "stdout",
          "text": [
            "--------------------------------------------- Result 218 ---------------------------------------------\n",
            "[[Positive (100%)]] --> [[Negative (100%)]]\n",
            "\n",
            "Finnish pulp and paper machinery maker Vaahto Group Oyj [[swung]] to a 1.1 mln euro $ 1.4 mln net profit in the fiscal 2005-06 , ended August 31 , 2006 , from a 249,000 euro $ 319,000 net loss in the fiscal 2004-05 .\n",
            "\n",
            "Finnish pulp and paper machinery maker Vaahto Group Oyj [[drop]] to a 1.1 mln euro $ 1.4 mln net profit in the fiscal 2005-06 , ended August 31 , 2006 , from a 249,000 euro $ 319,000 net loss in the fiscal 2004-05 .\n",
            "\n",
            "\n"
          ]
        },
        {
          "output_type": "stream",
          "name": "stderr",
          "text": [
            "[Succeeded / Failed / Skipped / Total] 157 / 59 / 3 / 219:   8%|▊         | 219/2713 [14:27<2:44:37,  3.96s/it]"
          ]
        },
        {
          "output_type": "stream",
          "name": "stdout",
          "text": [
            "--------------------------------------------- Result 219 ---------------------------------------------\n",
            "[[Neutral (100%)]] --> [[[FAILED]]]\n",
            "\n",
            "The total number of voting rights is 74,612,523 .\n",
            "\n",
            "\n"
          ]
        },
        {
          "output_type": "stream",
          "name": "stderr",
          "text": [
            "[Succeeded / Failed / Skipped / Total] 158 / 59 / 3 / 220:   8%|▊         | 220/2713 [14:28<2:44:07,  3.95s/it]"
          ]
        },
        {
          "output_type": "stream",
          "name": "stdout",
          "text": [
            "--------------------------------------------- Result 220 ---------------------------------------------\n",
            "[[Neutral (98%)]] --> [[Negative (99%)]]\n",
            "\n",
            "The duration of the lay-offs per employee will [[vary]] from one to six weeks .\n",
            "\n",
            "The duration of the lay-offs per employee will [[variegate]] from one to six weeks .\n",
            "\n",
            "\n"
          ]
        },
        {
          "output_type": "stream",
          "name": "stderr",
          "text": [
            "[Succeeded / Failed / Skipped / Total] 159 / 59 / 3 / 221:   8%|▊         | 221/2713 [14:33<2:44:08,  3.95s/it]"
          ]
        },
        {
          "output_type": "stream",
          "name": "stdout",
          "text": [
            "--------------------------------------------- Result 221 ---------------------------------------------\n",
            "[[Negative (100%)]] --> [[Positive (100%)]]\n",
            "\n",
            "Managing Director 's comments : `` Net sales for the first quarter were notably [[lower]] than a year before , especially in Finland , Russia and the Baltic countries .\n",
            "\n",
            "Managing Director 's comments : `` Net sales for the first quarter were notably [[humiliated]] than a year before , especially in Finland , Russia and the Baltic countries .\n",
            "\n",
            "\n"
          ]
        },
        {
          "output_type": "stream",
          "name": "stderr",
          "text": [
            "[Succeeded / Failed / Skipped / Total] 160 / 59 / 3 / 222:   8%|▊         | 222/2713 [14:39<2:44:26,  3.96s/it]"
          ]
        },
        {
          "output_type": "stream",
          "name": "stdout",
          "text": [
            "--------------------------------------------- Result 222 ---------------------------------------------\n",
            "[[Neutral (100%)]] --> [[Negative (99%)]]\n",
            "\n",
            "The cost of the deal could [[range]] from 70 million to 90 million euros depending on the financial results of the two companies in 2008 , the statement says .\n",
            "\n",
            "The cost of the deal could [[wander]] from 70 million to 90 million euros depending on the financial results of the two companies in 2008 , the statement says .\n",
            "\n",
            "\n"
          ]
        },
        {
          "output_type": "stream",
          "name": "stderr",
          "text": [
            "[Succeeded / Failed / Skipped / Total] 161 / 59 / 3 / 223:   8%|▊         | 223/2713 [14:41<2:43:58,  3.95s/it]"
          ]
        },
        {
          "output_type": "stream",
          "name": "stdout",
          "text": [
            "--------------------------------------------- Result 223 ---------------------------------------------\n",
            "[[Positive (100%)]] --> [[Neutral (100%)]]\n",
            "\n",
            "Tekla will implement the [[renewal]] in software versions which will be introduced in spring 2011 .\n",
            "\n",
            "Tekla will implement the [[reclamation]] in software versions which will be introduced in spring 2011 .\n",
            "\n",
            "\n"
          ]
        },
        {
          "output_type": "stream",
          "name": "stderr",
          "text": [
            "[Succeeded / Failed / Skipped / Total] 161 / 60 / 3 / 224:   8%|▊         | 224/2713 [14:45<2:43:54,  3.95s/it]"
          ]
        },
        {
          "output_type": "stream",
          "name": "stdout",
          "text": [
            "--------------------------------------------- Result 224 ---------------------------------------------\n",
            "[[Neutral (100%)]] --> [[[FAILED]]]\n",
            "\n",
            "`` Marimekko operates in an industry in which changes in the business climate are reflected in consumer demand .\n",
            "\n",
            "\n"
          ]
        },
        {
          "output_type": "stream",
          "name": "stderr",
          "text": [
            "[Succeeded / Failed / Skipped / Total] 161 / 61 / 3 / 225:   8%|▊         | 225/2713 [14:49<2:43:57,  3.95s/it]"
          ]
        },
        {
          "output_type": "stream",
          "name": "stdout",
          "text": [
            "--------------------------------------------- Result 225 ---------------------------------------------\n",
            "[[Neutral (100%)]] --> [[[FAILED]]]\n",
            "\n",
            "The firm 's UK head office is in Rugby Road , Lutterworth .\n",
            "\n",
            "\n"
          ]
        },
        {
          "output_type": "stream",
          "name": "stderr",
          "text": [
            "[Succeeded / Failed / Skipped / Total] 162 / 61 / 3 / 226:   8%|▊         | 226/2713 [14:53<2:43:53,  3.95s/it]"
          ]
        },
        {
          "output_type": "stream",
          "name": "stdout",
          "text": [
            "--------------------------------------------- Result 226 ---------------------------------------------\n",
            "[[Positive (100%)]] --> [[Neutral (68%)]]\n",
            "\n",
            "Bilfinger investors cheered the agreement , [[pushing]] [[shares]] up [[7]] % , or & euro ; 3.30 , to & euro ; 50.29 , in afternoon trade .\n",
            "\n",
            "Bilfinger investors cheered the agreement , [[drive]] [[part]] up [[heptad]] % , or & euro ; 3.30 , to & euro ; 50.29 , in afternoon trade .\n",
            "\n",
            "\n"
          ]
        },
        {
          "output_type": "stream",
          "name": "stderr",
          "text": [
            "[Succeeded / Failed / Skipped / Total] 163 / 61 / 3 / 227:   8%|▊         | 227/2713 [14:58<2:43:58,  3.96s/it]"
          ]
        },
        {
          "output_type": "stream",
          "name": "stdout",
          "text": [
            "--------------------------------------------- Result 227 ---------------------------------------------\n",
            "[[Positive (100%)]] --> [[Neutral (100%)]]\n",
            "\n",
            "W+ñrtsil+ñ 's solution has been [[selected]] for its low fuel consumption , environmentally sound technology , and global service support .\n",
            "\n",
            "W+ñrtsil+ñ 's solution has been [[take]] for its low fuel consumption , environmentally sound technology , and global service support .\n",
            "\n",
            "\n"
          ]
        },
        {
          "output_type": "stream",
          "name": "stderr",
          "text": [
            "[Succeeded / Failed / Skipped / Total] 164 / 61 / 3 / 228:   8%|▊         | 228/2713 [15:04<2:44:18,  3.97s/it]"
          ]
        },
        {
          "output_type": "stream",
          "name": "stdout",
          "text": [
            "--------------------------------------------- Result 228 ---------------------------------------------\n",
            "[[Neutral (100%)]] --> [[Positive (78%)]]\n",
            "\n",
            "Most recently , he founded Virent Energy Systems , Inc. , an 80 person catalytic biofuels company , where , as president and CEO , he [[led]] the [[company]] through multiple financings , defined the company 's market strategy , and secured the company 's first customers .\n",
            "\n",
            "Most recently , he founded Virent Energy Systems , Inc. , an 80 person catalytic biofuels company , where , as president and CEO , he [[extend]] the [[companionship]] through multiple financings , defined the company 's market strategy , and secured the company 's first customers .\n",
            "\n",
            "\n"
          ]
        },
        {
          "output_type": "stream",
          "name": "stderr",
          "text": [
            "[Succeeded / Failed / Skipped / Total] 164 / 62 / 3 / 229:   8%|▊         | 229/2713 [15:05<2:43:47,  3.96s/it]"
          ]
        },
        {
          "output_type": "stream",
          "name": "stdout",
          "text": [
            "--------------------------------------------- Result 229 ---------------------------------------------\n",
            "[[Neutral (100%)]] --> [[[FAILED]]]\n",
            "\n",
            "They are responsible for their own operations , customer relationships , and the development of these .\n",
            "\n",
            "\n"
          ]
        },
        {
          "output_type": "stream",
          "name": "stderr",
          "text": [
            "[Succeeded / Failed / Skipped / Total] 164 / 63 / 3 / 230:   8%|▊         | 230/2713 [15:11<2:44:03,  3.96s/it]"
          ]
        },
        {
          "output_type": "stream",
          "name": "stdout",
          "text": [
            "--------------------------------------------- Result 230 ---------------------------------------------\n",
            "[[Positive (100%)]] --> [[[FAILED]]]\n",
            "\n",
            "Operating profit totalled EUR 0.4 mn , up from an operating loss of EUR 0.8 mn year-on-year .\n",
            "\n",
            "\n"
          ]
        },
        {
          "output_type": "stream",
          "name": "stderr",
          "text": [
            "[Succeeded / Failed / Skipped / Total] 165 / 63 / 3 / 231:   9%|▊         | 231/2713 [15:12<2:43:25,  3.95s/it]"
          ]
        },
        {
          "output_type": "stream",
          "name": "stdout",
          "text": [
            "--------------------------------------------- Result 231 ---------------------------------------------\n",
            "[[Neutral (100%)]] --> [[Negative (79%)]]\n",
            "\n",
            "Public services will [[also]] be available .\n",
            "\n",
            "Public services will [[too]] be available .\n",
            "\n",
            "\n"
          ]
        },
        {
          "output_type": "stream",
          "name": "stderr",
          "text": [
            "[Succeeded / Failed / Skipped / Total] 166 / 63 / 3 / 232:   9%|▊         | 232/2713 [15:16<2:43:24,  3.95s/it]"
          ]
        },
        {
          "output_type": "stream",
          "name": "stdout",
          "text": [
            "--------------------------------------------- Result 232 ---------------------------------------------\n",
            "[[Negative (100%)]] --> [[Positive (91%)]]\n",
            "\n",
            "Operating [[profit]] [[totaled]] EUR [[9]].[[4]] [[mn]] , down from EUR 11.[[7]] mn in 2004 .\n",
            "\n",
            "Operating [[gain]] [[number]] EUR [[niner]].[[quadruplet]] [[MN]] , down from EUR 11.[[heptad]] mn in 2004 .\n",
            "\n",
            "\n"
          ]
        },
        {
          "output_type": "stream",
          "name": "stderr",
          "text": [
            "[Succeeded / Failed / Skipped / Total] 167 / 63 / 3 / 233:   9%|▊         | 233/2713 [15:23<2:43:45,  3.96s/it]"
          ]
        },
        {
          "output_type": "stream",
          "name": "stdout",
          "text": [
            "--------------------------------------------- Result 233 ---------------------------------------------\n",
            "[[Neutral (100%)]] --> [[Negative (99%)]]\n",
            "\n",
            "Technopolis has [[set]] [[aside]] a [[plot]] of land measuring [[4]].6 hectares to build the park , Mikkonen said .\n",
            "\n",
            "Technopolis has [[hardening]] [[by]] a [[game]] of land measuring [[foursome]].6 hectares to build the park , Mikkonen said .\n",
            "\n",
            "\n"
          ]
        },
        {
          "output_type": "stream",
          "name": "stderr",
          "text": [
            "[Succeeded / Failed / Skipped / Total] 168 / 63 / 3 / 234:   9%|▊         | 234/2713 [15:25<2:43:26,  3.96s/it]"
          ]
        },
        {
          "output_type": "stream",
          "name": "stdout",
          "text": [
            "--------------------------------------------- Result 234 ---------------------------------------------\n",
            "[[Positive (100%)]] --> [[Neutral (100%)]]\n",
            "\n",
            "Elektrobit ( EB ) has [[renewed]] its IT infrastructure contract with ICT services provider Fujitsu Services for EB 's Patja service .\n",
            "\n",
            "Elektrobit ( EB ) has [[regenerate]] its IT infrastructure contract with ICT services provider Fujitsu Services for EB 's Patja service .\n",
            "\n",
            "\n"
          ]
        },
        {
          "output_type": "stream",
          "name": "stderr",
          "text": [
            "[Succeeded / Failed / Skipped / Total] 169 / 63 / 3 / 235:   9%|▊         | 235/2713 [15:28<2:43:10,  3.95s/it]"
          ]
        },
        {
          "output_type": "stream",
          "name": "stdout",
          "text": [
            "--------------------------------------------- Result 235 ---------------------------------------------\n",
            "[[Neutral (100%)]] --> [[Negative (89%)]]\n",
            "\n",
            "The [[final]] [[outcome]] of the [[rights]] [[offering]] is to be reported [[around]] [[23]] October 2009 .\n",
            "\n",
            "The [[last]] [[termination]] of the [[compensate]] [[provide]] is to be reported [[some]] [[twenty-three]] October 2009 .\n",
            "\n",
            "\n"
          ]
        },
        {
          "output_type": "stream",
          "name": "stderr",
          "text": [
            "[Succeeded / Failed / Skipped / Total] 169 / 64 / 3 / 236:   9%|▊         | 236/2713 [15:36<2:43:49,  3.97s/it]"
          ]
        },
        {
          "output_type": "stream",
          "name": "stdout",
          "text": [
            "--------------------------------------------- Result 236 ---------------------------------------------\n",
            "[[Neutral (100%)]] --> [[[FAILED]]]\n",
            "\n",
            "POYRY PLC Additional information by : Martin Kuzaj , President , Industry Business Group , Finland Tel. +358 10 33 21179 Sanna Paivaniemi , Director , Investor Relations , Poyry PLC , Finland Tel. +358 10 33 23002 Poyry is a global consulting and engineering company dedicated to balanced sustainability .\n",
            "\n",
            "\n"
          ]
        },
        {
          "output_type": "stream",
          "name": "stderr",
          "text": [
            "[Succeeded / Failed / Skipped / Total] 170 / 64 / 3 / 237:   9%|▊         | 237/2713 [15:40<2:43:50,  3.97s/it]"
          ]
        },
        {
          "output_type": "stream",
          "name": "stdout",
          "text": [
            "--------------------------------------------- Result 237 ---------------------------------------------\n",
            "[[Neutral (100%)]] --> [[Positive (56%)]]\n",
            "\n",
            "The [[recruits]] who have [[completed]] the K-retailer trainee program are [[qualified]] to [[start]] a [[career]] as [[independent]] retailers in K-stores .\n",
            "\n",
            "The [[recruit]] who have [[realized]] the K-retailer trainee program are [[certified]] to [[protrude]] a [[vocation]] as [[freelancer]] retailers in K-stores .\n",
            "\n",
            "\n"
          ]
        },
        {
          "output_type": "stream",
          "name": "stderr",
          "text": [
            "[Succeeded / Failed / Skipped / Total] 171 / 64 / 3 / 238:   9%|▉         | 238/2713 [15:47<2:44:15,  3.98s/it]"
          ]
        },
        {
          "output_type": "stream",
          "name": "stdout",
          "text": [
            "--------------------------------------------- Result 238 ---------------------------------------------\n",
            "[[Positive (100%)]] --> [[Negative (99%)]]\n",
            "\n",
            "The [[company]] [[said]] that paper [[demand]] [[increased]] in all of its main [[markets]] , including of publication papers , and that it increased [[average]] paper [[prices]] by [[4]] percent [[compared]] with last year .\n",
            "\n",
            "The [[party]] [[say]] that paper [[need]] [[increase]] in all of its main [[mart]] , including of publication papers , and that it increased [[mean]] paper [[damage]] by [[quadruplet]] percent [[liken]] with last year .\n",
            "\n",
            "\n"
          ]
        },
        {
          "output_type": "stream",
          "name": "stderr",
          "text": [
            "[Succeeded / Failed / Skipped / Total] 171 / 65 / 3 / 239:   9%|▉         | 239/2713 [15:49<2:43:47,  3.97s/it]"
          ]
        },
        {
          "output_type": "stream",
          "name": "stdout",
          "text": [
            "--------------------------------------------- Result 239 ---------------------------------------------\n",
            "[[Neutral (100%)]] --> [[[FAILED]]]\n",
            "\n",
            "The share capital of Basware Corporation is 11,720,829 .\n",
            "\n",
            "\n"
          ]
        },
        {
          "output_type": "stream",
          "name": "stderr",
          "text": [
            "[Succeeded / Failed / Skipped / Total] 172 / 65 / 3 / 240:   9%|▉         | 240/2713 [15:53<2:43:46,  3.97s/it]"
          ]
        },
        {
          "output_type": "stream",
          "name": "stdout",
          "text": [
            "--------------------------------------------- Result 240 ---------------------------------------------\n",
            "[[Neutral (100%)]] --> [[Negative (93%)]]\n",
            "\n",
            "Following this [[increase]] Huhtamaki 's [[registered]] [[share]] [[capital]] is EUR360 .62 m and the number of shares [[outstanding]] is 106,063,320 .\n",
            "\n",
            "Following this [[growth]] Huhtamaki 's [[cross-file]] [[parcel]] [[cap]] is EUR360 .62 m and the number of shares [[spectacular]] is 106,063,320 .\n",
            "\n",
            "\n"
          ]
        },
        {
          "output_type": "stream",
          "name": "stderr",
          "text": [
            "[Succeeded / Failed / Skipped / Total] 172 / 66 / 3 / 241:   9%|▉         | 241/2713 [15:58<2:43:49,  3.98s/it]"
          ]
        },
        {
          "output_type": "stream",
          "name": "stdout",
          "text": [
            "--------------------------------------------- Result 241 ---------------------------------------------\n",
            "[[Neutral (100%)]] --> [[[FAILED]]]\n",
            "\n",
            "The company generates net sales of about 600 mln euro $ 775.5 mln annually and employs 6,000 .\n",
            "\n",
            "\n"
          ]
        },
        {
          "output_type": "stream",
          "name": "stderr",
          "text": [
            "[Succeeded / Failed / Skipped / Total] 173 / 66 / 3 / 242:   9%|▉         | 242/2713 [16:00<2:43:24,  3.97s/it]"
          ]
        },
        {
          "output_type": "stream",
          "name": "stdout",
          "text": [
            "--------------------------------------------- Result 242 ---------------------------------------------\n",
            "[[Positive (100%)]] --> [[Neutral (100%)]]\n",
            "\n",
            "The company plans to [[expand]] into the international market through its subsidiaries and distributors from 2011 onwards .\n",
            "\n",
            "The company plans to [[elaborate]] into the international market through its subsidiaries and distributors from 2011 onwards .\n",
            "\n",
            "\n"
          ]
        },
        {
          "output_type": "stream",
          "name": "stderr",
          "text": [
            "[Succeeded / Failed / Skipped / Total] 174 / 66 / 3 / 243:   9%|▉         | 243/2713 [16:07<2:43:58,  3.98s/it]"
          ]
        },
        {
          "output_type": "stream",
          "name": "stdout",
          "text": [
            "--------------------------------------------- Result 243 ---------------------------------------------\n",
            "[[Neutral (100%)]] --> [[Negative (97%)]]\n",
            "\n",
            "[[cents]] The profile [[contains]] [[business]] [[operations]] , the company history , major [[products]] and services , [[prospects]] , [[key]] competitors , structure and [[key]] employees , [[locations]] and subsidiaries .\n",
            "\n",
            "[[penny]] The profile [[arrest]] [[byplay]] [[performance]] , the company history , major [[ware]] and services , [[chance]] , [[cardinal]] competitors , structure and [[cardinal]] employees , [[fix]] and subsidiaries .\n",
            "\n",
            "\n"
          ]
        },
        {
          "output_type": "stream",
          "name": "stderr",
          "text": [
            "[Succeeded / Failed / Skipped / Total] 175 / 66 / 3 / 244:   9%|▉         | 244/2713 [16:14<2:44:23,  3.99s/it]"
          ]
        },
        {
          "output_type": "stream",
          "name": "stdout",
          "text": [
            "--------------------------------------------- Result 244 ---------------------------------------------\n",
            "[[Neutral (100%)]] --> [[Positive (100%)]]\n",
            "\n",
            "On January 29 , 2009 The largest Nordic bank Nordea and Finnish retail chain Stockmann launched a regionally unique cooperation project : they are the [[first]] to introduce a [[common]] MasterCard credit card enabling payments in different states and stores .\n",
            "\n",
            "On January 29 , 2009 The largest Nordic bank Nordea and Finnish retail chain Stockmann launched a regionally unique cooperation project : they are the [[kickoff]] to introduce a [[unwashed]] MasterCard credit card enabling payments in different states and stores .\n",
            "\n",
            "\n"
          ]
        },
        {
          "output_type": "stream",
          "name": "stderr",
          "text": [
            "[Succeeded / Failed / Skipped / Total] 175 / 67 / 3 / 245:   9%|▉         | 245/2713 [16:16<2:43:53,  3.98s/it]"
          ]
        },
        {
          "output_type": "stream",
          "name": "stdout",
          "text": [
            "--------------------------------------------- Result 245 ---------------------------------------------\n",
            "[[Neutral (100%)]] --> [[[FAILED]]]\n",
            "\n",
            "The company did not distribute a dividend in 2005 .\n",
            "\n",
            "\n"
          ]
        },
        {
          "output_type": "stream",
          "name": "stderr",
          "text": [
            "[Succeeded / Failed / Skipped / Total] 176 / 67 / 3 / 246:   9%|▉         | 246/2713 [16:22<2:44:15,  4.00s/it]"
          ]
        },
        {
          "output_type": "stream",
          "name": "stdout",
          "text": [
            "--------------------------------------------- Result 246 ---------------------------------------------\n",
            "[[Positive (100%)]] --> [[Negative (100%)]]\n",
            "\n",
            "Finnish office supplies and computer accessories dealer Beltton-Group Plc said its net profit [[rose]] to 1.3 mln euro ( $ 1.7 mln ) in 2006 from 1.13 mln euro ( $ 1.5 mln ) in 2005 .\n",
            "\n",
            "Finnish office supplies and computer accessories dealer Beltton-Group Plc said its net profit [[rebel]] to 1.3 mln euro ( $ 1.7 mln ) in 2006 from 1.13 mln euro ( $ 1.5 mln ) in 2005 .\n",
            "\n",
            "\n"
          ]
        },
        {
          "output_type": "stream",
          "name": "stderr",
          "text": [
            "[Succeeded / Failed / Skipped / Total] 177 / 67 / 3 / 247:   9%|▉         | 247/2713 [16:32<2:45:08,  4.02s/it]"
          ]
        },
        {
          "output_type": "stream",
          "name": "stdout",
          "text": [
            "--------------------------------------------- Result 247 ---------------------------------------------\n",
            "[[Neutral (100%)]] --> [[Negative (63%)]]\n",
            "\n",
            "The [[company]] 's [[transportation]] [[business]] is [[conducted]] through Florida [[Rock]] & Tank [[Lines]] , which is a [[Southeastern]] [[transportation]] company concentrating in the hauling by motor carrier of [[liquid]] and dry [[bulk]] commodities .\n",
            "\n",
            "The [[caller]] 's [[fare]] [[concern]] is [[behave]] through Florida [[stone]] & Tank [[pipeline]] , which is a [[southeastern]] [[expatriation]] company concentrating in the hauling by motor carrier of [[smooth]] and dry [[mass]] commodities .\n",
            "\n",
            "\n"
          ]
        },
        {
          "output_type": "stream",
          "name": "stderr",
          "text": [
            "[Succeeded / Failed / Skipped / Total] 178 / 67 / 3 / 248:   9%|▉         | 248/2713 [16:34<2:44:43,  4.01s/it]"
          ]
        },
        {
          "output_type": "stream",
          "name": "stdout",
          "text": [
            "--------------------------------------------- Result 248 ---------------------------------------------\n",
            "[[Neutral (100%)]] --> [[Positive (99%)]]\n",
            "\n",
            "The Court 's decision will also [[promote]] genuine competition in services\n",
            "\n",
            "The Court 's decision will also [[boost]] genuine competition in services\n",
            "\n",
            "\n"
          ]
        },
        {
          "output_type": "stream",
          "name": "stderr",
          "text": [
            "[Succeeded / Failed / Skipped / Total] 179 / 67 / 3 / 249:   9%|▉         | 249/2713 [16:36<2:44:24,  4.00s/it]"
          ]
        },
        {
          "output_type": "stream",
          "name": "stdout",
          "text": [
            "--------------------------------------------- Result 249 ---------------------------------------------\n",
            "[[Neutral (100%)]] --> [[Negative (98%)]]\n",
            "\n",
            "Export accounts for about one tenth of the company 's annual [[turnover]] of one billion kroons .\n",
            "\n",
            "Export accounts for about one tenth of the company 's annual [[upset]] of one billion kroons .\n",
            "\n",
            "\n"
          ]
        },
        {
          "output_type": "stream",
          "name": "stderr",
          "text": [
            "[Succeeded / Failed / Skipped / Total] 180 / 67 / 3 / 250:   9%|▉         | 250/2713 [16:39<2:44:02,  4.00s/it]"
          ]
        },
        {
          "output_type": "stream",
          "name": "stdout",
          "text": [
            "--------------------------------------------- Result 250 ---------------------------------------------\n",
            "[[Neutral (100%)]] --> [[Positive (100%)]]\n",
            "\n",
            "Teleste expects to start the [[deliveries]] at the end of 2009 .\n",
            "\n",
            "Teleste expects to start the [[saving]] at the end of 2009 .\n",
            "\n",
            "\n"
          ]
        },
        {
          "output_type": "stream",
          "name": "stderr",
          "text": [
            "[Succeeded / Failed / Skipped / Total] 181 / 67 / 3 / 251:   9%|▉         | 251/2713 [16:43<2:44:00,  4.00s/it]"
          ]
        },
        {
          "output_type": "stream",
          "name": "stdout",
          "text": [
            "--------------------------------------------- Result 251 ---------------------------------------------\n",
            "[[Neutral (100%)]] --> [[Negative (100%)]]\n",
            "\n",
            "Teleste was [[set]] up in 1954 and is [[divided]] into Broadband Cable Networks and Video Networks business areas .\n",
            "\n",
            "Teleste was [[hardened]] up in 1954 and is [[dissever]] into Broadband Cable Networks and Video Networks business areas .\n",
            "\n",
            "\n"
          ]
        },
        {
          "output_type": "stream",
          "name": "stderr",
          "text": [
            "[Succeeded / Failed / Skipped / Total] 182 / 67 / 3 / 252:   9%|▉         | 252/2713 [16:46<2:43:49,  3.99s/it]"
          ]
        },
        {
          "output_type": "stream",
          "name": "stdout",
          "text": [
            "--------------------------------------------- Result 252 ---------------------------------------------\n",
            "[[Positive (100%)]] --> [[Negative (100%)]]\n",
            "\n",
            "The company also said that in Poland a profitability program has been [[launched]] at the Oborniki steel frame and sandwich panel plant .\n",
            "\n",
            "The company also said that in Poland a profitability program has been [[plunge]] at the Oborniki steel frame and sandwich panel plant .\n",
            "\n",
            "\n"
          ]
        },
        {
          "output_type": "stream",
          "name": "stderr",
          "text": [
            "[Succeeded / Failed / Skipped / Total] 183 / 67 / 3 / 253:   9%|▉         | 253/2713 [16:48<2:43:30,  3.99s/it]"
          ]
        },
        {
          "output_type": "stream",
          "name": "stdout",
          "text": [
            "--------------------------------------------- Result 253 ---------------------------------------------\n",
            "[[Neutral (100%)]] --> [[Positive (59%)]]\n",
            "\n",
            "The sale of the food potato business is [[part]] of Raisio 's [[plan]] to streamline and clarify its business operations .\n",
            "\n",
            "The sale of the food potato business is [[contribution]] of Raisio 's [[program]] to streamline and clarify its business operations .\n",
            "\n",
            "\n"
          ]
        },
        {
          "output_type": "stream",
          "name": "stderr",
          "text": [
            "[Succeeded / Failed / Skipped / Total] 183 / 68 / 3 / 254:   9%|▉         | 254/2713 [16:49<2:42:52,  3.97s/it]"
          ]
        },
        {
          "output_type": "stream",
          "name": "stdout",
          "text": [
            "--------------------------------------------- Result 254 ---------------------------------------------\n",
            "[[Neutral (100%)]] --> [[[FAILED]]]\n",
            "\n",
            "`` This could be us .\n",
            "\n",
            "\n"
          ]
        },
        {
          "output_type": "stream",
          "name": "stderr",
          "text": [
            "[Succeeded / Failed / Skipped / Total] 184 / 68 / 3 / 255:   9%|▉         | 255/2713 [16:52<2:42:40,  3.97s/it]"
          ]
        },
        {
          "output_type": "stream",
          "name": "stdout",
          "text": [
            "--------------------------------------------- Result 255 ---------------------------------------------\n",
            "[[Neutral (100%)]] --> [[Negative (100%)]]\n",
            "\n",
            "Jacobs has been [[supporting]] Storengy 's investment of developing storage sites since 2006 as owner 's engineer .\n",
            "\n",
            "Jacobs has been [[suffer]] Storengy 's investment of developing storage sites since 2006 as owner 's engineer .\n",
            "\n",
            "\n"
          ]
        },
        {
          "output_type": "stream",
          "name": "stderr",
          "text": [
            "[Succeeded / Failed / Skipped / Total] 185 / 68 / 3 / 256:   9%|▉         | 256/2713 [16:54<2:42:12,  3.96s/it]"
          ]
        },
        {
          "output_type": "stream",
          "name": "stdout",
          "text": [
            "--------------------------------------------- Result 256 ---------------------------------------------\n",
            "[[Neutral (100%)]] --> [[Positive (100%)]]\n",
            "\n",
            "The insurance division turned a EUR120m [[profit]] .\n",
            "\n",
            "The insurance division turned a EUR120m [[gain]] .\n",
            "\n",
            "\n"
          ]
        },
        {
          "output_type": "stream",
          "name": "stderr",
          "text": [
            "[Succeeded / Failed / Skipped / Total] 186 / 68 / 3 / 257:   9%|▉         | 257/2713 [16:57<2:42:00,  3.96s/it]"
          ]
        },
        {
          "output_type": "stream",
          "name": "stdout",
          "text": [
            "--------------------------------------------- Result 257 ---------------------------------------------\n",
            "[[Positive (100%)]] --> [[Neutral (100%)]]\n",
            "\n",
            "[[Under]] the contract Cramo Sverige and its subcontractor Brinkab AB will [[provide]] all scaffolding installations at LKAB 's new pellets plant in Kiruna in northern Sweden .\n",
            "\n",
            "[[below]] the contract Cramo Sverige and its subcontractor Brinkab AB will [[leave]] all scaffolding installations at LKAB 's new pellets plant in Kiruna in northern Sweden .\n",
            "\n",
            "\n"
          ]
        },
        {
          "output_type": "stream",
          "name": "stderr",
          "text": [
            "[Succeeded / Failed / Skipped / Total] 186 / 69 / 3 / 258:  10%|▉         | 258/2713 [16:59<2:41:44,  3.95s/it]"
          ]
        },
        {
          "output_type": "stream",
          "name": "stdout",
          "text": [
            "--------------------------------------------- Result 258 ---------------------------------------------\n",
            "[[Neutral (100%)]] --> [[[FAILED]]]\n",
            "\n",
            "Aktia forecasts Finland 's inflation at 1.1 % in 2010 .\n",
            "\n",
            "\n"
          ]
        },
        {
          "output_type": "stream",
          "name": "stderr",
          "text": [
            "[Succeeded / Failed / Skipped / Total] 187 / 69 / 3 / 259:  10%|▉         | 259/2713 [17:03<2:41:33,  3.95s/it]"
          ]
        },
        {
          "output_type": "stream",
          "name": "stdout",
          "text": [
            "--------------------------------------------- Result 259 ---------------------------------------------\n",
            "[[Positive (100%)]] --> [[Neutral (88%)]]\n",
            "\n",
            "He also mentions that this [[improvement]] to the service [[follows]] the recent expansion of the Finnlines service from Bilbao via Antwerp and Helsinki and from Hull via Helsinki to St. Petersburg .\n",
            "\n",
            "He also mentions that this [[melioration]] to the service [[survey]] the recent expansion of the Finnlines service from Bilbao via Antwerp and Helsinki and from Hull via Helsinki to St. Petersburg .\n",
            "\n",
            "\n"
          ]
        },
        {
          "output_type": "stream",
          "name": "stderr",
          "text": [
            "[Succeeded / Failed / Skipped / Total] 188 / 69 / 3 / 260:  10%|▉         | 260/2713 [17:08<2:41:41,  3.96s/it]"
          ]
        },
        {
          "output_type": "stream",
          "name": "stdout",
          "text": [
            "--------------------------------------------- Result 260 ---------------------------------------------\n",
            "[[Neutral (100%)]] --> [[Negative (100%)]]\n",
            "\n",
            "At 3:37 p.m. Eastern time , a [[block]] of 2,400 contracts changed hands at a bid price of $ 0.45 .\n",
            "\n",
            "At 3:37 p.m. Eastern time , a [[stoppage]] of 2,400 contracts changed hands at a bid price of $ 0.45 .\n",
            "\n",
            "\n"
          ]
        },
        {
          "output_type": "stream",
          "name": "stderr",
          "text": [
            "[Succeeded / Failed / Skipped / Total] 189 / 69 / 3 / 261:  10%|▉         | 261/2713 [17:13<2:41:49,  3.96s/it]"
          ]
        },
        {
          "output_type": "stream",
          "name": "stdout",
          "text": [
            "--------------------------------------------- Result 261 ---------------------------------------------\n",
            "[[Neutral (100%)]] --> [[Negative (83%)]]\n",
            "\n",
            "industry in Asia +ó Pakistan , Malaysia , Taiwan and Philippines Today , Global Research & Data Services is [[going]] to publish several market [[analyses]] about the cement markets in Asia .\n",
            "\n",
            "industry in Asia +ó Pakistan , Malaysia , Taiwan and Philippines Today , Global Research & Data Services is [[fail]] to publish several market [[dissect]] about the cement markets in Asia .\n",
            "\n",
            "\n"
          ]
        },
        {
          "output_type": "stream",
          "name": "stderr",
          "text": [
            "[Succeeded / Failed / Skipped / Total] 189 / 70 / 3 / 262:  10%|▉         | 262/2713 [17:16<2:41:40,  3.96s/it]"
          ]
        },
        {
          "output_type": "stream",
          "name": "stdout",
          "text": [
            "--------------------------------------------- Result 262 ---------------------------------------------\n",
            "[[Neutral (100%)]] --> [[[FAILED]]]\n",
            "\n",
            "Published by Globes online , Israel business news - www.globes-online.com - on November 16 , 2009 -® Copyright of Globes Publisher Itonut 1983 Ltd. 2009\n",
            "\n",
            "\n"
          ]
        },
        {
          "output_type": "stream",
          "name": "stderr",
          "text": [
            "[Succeeded / Failed / Skipped / Total] 190 / 70 / 3 / 263:  10%|▉         | 263/2713 [17:21<2:41:43,  3.96s/it]"
          ]
        },
        {
          "output_type": "stream",
          "name": "stdout",
          "text": [
            "--------------------------------------------- Result 263 ---------------------------------------------\n",
            "[[Neutral (100%)]] --> [[Negative (98%)]]\n",
            "\n",
            "The [[deal]] [[includes]] an option for Cramo to [[buy]] out the minority [[stake]] in 2011 .\n",
            "\n",
            "The [[contend]] [[admit]] an option for Cramo to [[steal]] out the minority [[wager]] in 2011 .\n",
            "\n",
            "\n"
          ]
        },
        {
          "output_type": "stream",
          "name": "stderr",
          "text": [
            "[Succeeded / Failed / Skipped / Total] 191 / 70 / 3 / 264:  10%|▉         | 264/2713 [17:23<2:41:23,  3.95s/it]"
          ]
        },
        {
          "output_type": "stream",
          "name": "stdout",
          "text": [
            "--------------------------------------------- Result 264 ---------------------------------------------\n",
            "[[Neutral (100%)]] --> [[Negative (71%)]]\n",
            "\n",
            "The [[contract]] value amounts to about EUR11m , the company added .\n",
            "\n",
            "The [[cut]] value amounts to about EUR11m , the company added .\n",
            "\n",
            "\n"
          ]
        },
        {
          "output_type": "stream",
          "name": "stderr",
          "text": [
            "[Succeeded / Failed / Skipped / Total] 192 / 70 / 3 / 265:  10%|▉         | 265/2713 [17:30<2:41:42,  3.96s/it]"
          ]
        },
        {
          "output_type": "stream",
          "name": "stdout",
          "text": [
            "--------------------------------------------- Result 265 ---------------------------------------------\n",
            "[[Positive (100%)]] --> [[Neutral (100%)]]\n",
            "\n",
            "`` We are very [[pleased]] to be [[working]] with Fujitsu and NTT DoCoMo to advance the progress of LTE , '' said Juergen Walter , Head of Converged Core , Nokia Siemens Networks .\n",
            "\n",
            "`` We are very [[please]] to be [[operate]] with Fujitsu and NTT DoCoMo to advance the progress of LTE , '' said Juergen Walter , Head of Converged Core , Nokia Siemens Networks .\n",
            "\n",
            "\n"
          ]
        },
        {
          "output_type": "stream",
          "name": "stderr",
          "text": [
            "[Succeeded / Failed / Skipped / Total] 192 / 71 / 3 / 266:  10%|▉         | 266/2713 [17:35<2:41:53,  3.97s/it]"
          ]
        },
        {
          "output_type": "stream",
          "name": "stdout",
          "text": [
            "--------------------------------------------- Result 266 ---------------------------------------------\n",
            "[[Neutral (100%)]] --> [[[FAILED]]]\n",
            "\n",
            "Okhta Center area is expected to have about 700,000 square metres of office premises by 2016 .\n",
            "\n",
            "\n"
          ]
        },
        {
          "output_type": "stream",
          "name": "stderr",
          "text": [
            "[Succeeded / Failed / Skipped / Total] 193 / 71 / 3 / 267:  10%|▉         | 267/2713 [17:40<2:41:56,  3.97s/it]"
          ]
        },
        {
          "output_type": "stream",
          "name": "stdout",
          "text": [
            "--------------------------------------------- Result 267 ---------------------------------------------\n",
            "[[Neutral (100%)]] --> [[Negative (100%)]]\n",
            "\n",
            "The guidance has been [[set]] at 90 basis points over mid-swaps , the report said .\n",
            "\n",
            "The guidance has been [[hardened]] at 90 basis points over mid-swaps , the report said .\n",
            "\n",
            "\n"
          ]
        },
        {
          "output_type": "stream",
          "name": "stderr",
          "text": [
            "[Succeeded / Failed / Skipped / Total] 193 / 72 / 3 / 268:  10%|▉         | 268/2713 [17:49<2:42:39,  3.99s/it]"
          ]
        },
        {
          "output_type": "stream",
          "name": "stdout",
          "text": [
            "--------------------------------------------- Result 268 ---------------------------------------------\n",
            "[[Neutral (100%)]] --> [[[FAILED]]]\n",
            "\n",
            "The market share of Volkswagen passenger cars in Finland was 10.1 percent , Audi had a market share of 3.1 percent and Seat 's share was 0.9 percent .\n",
            "\n",
            "\n"
          ]
        },
        {
          "output_type": "stream",
          "name": "stderr",
          "text": [
            "[Succeeded / Failed / Skipped / Total] 194 / 72 / 3 / 269:  10%|▉         | 269/2713 [17:52<2:42:27,  3.99s/it]"
          ]
        },
        {
          "output_type": "stream",
          "name": "stdout",
          "text": [
            "--------------------------------------------- Result 269 ---------------------------------------------\n",
            "[[Neutral (100%)]] --> [[Positive (95%)]]\n",
            "\n",
            "Our purchase to pay solutions enable companies to gain visibility and [[control]] over business-critical financial processes .\n",
            "\n",
            "Our purchase to pay solutions enable companies to gain visibility and [[dominance]] over business-critical financial processes .\n",
            "\n",
            "\n"
          ]
        },
        {
          "output_type": "stream",
          "name": "stderr",
          "text": [
            "[Succeeded / Failed / Skipped / Total] 195 / 72 / 3 / 270:  10%|▉         | 270/2713 [17:58<2:42:37,  3.99s/it]"
          ]
        },
        {
          "output_type": "stream",
          "name": "stdout",
          "text": [
            "--------------------------------------------- Result 270 ---------------------------------------------\n",
            "[[Neutral (100%)]] --> [[Positive (67%)]]\n",
            "\n",
            "The subsidiary is [[setting]] up a [[facility]] for manufacturing high-density interconnection printed circuit [[boards]] or PCBs at Nokia 's special [[economic]] zone at Sriperumbudur near Chennai .\n",
            "\n",
            "The subsidiary is [[scope]] up a [[readiness]] for manufacturing high-density interconnection printed circuit [[plug-in]] or PCBs at Nokia 's special [[economical]] zone at Sriperumbudur near Chennai .\n",
            "\n",
            "\n"
          ]
        },
        {
          "output_type": "stream",
          "name": "stderr",
          "text": [
            "[Succeeded / Failed / Skipped / Total] 196 / 72 / 3 / 271:  10%|▉         | 271/2713 [18:00<2:42:16,  3.99s/it]"
          ]
        },
        {
          "output_type": "stream",
          "name": "stdout",
          "text": [
            "--------------------------------------------- Result 271 ---------------------------------------------\n",
            "[[Neutral (100%)]] --> [[Negative (99%)]]\n",
            "\n",
            "The area will [[also]] [[include]] some central buildings , and Honkarakenne has started negotiations on their delivery .\n",
            "\n",
            "The area will [[too]] [[admit]] some central buildings , and Honkarakenne has started negotiations on their delivery .\n",
            "\n",
            "\n"
          ]
        },
        {
          "output_type": "stream",
          "name": "stderr",
          "text": [
            "[Succeeded / Failed / Skipped / Total] 197 / 72 / 3 / 272:  10%|█         | 272/2713 [18:02<2:41:55,  3.98s/it]"
          ]
        },
        {
          "output_type": "stream",
          "name": "stdout",
          "text": [
            "--------------------------------------------- Result 272 ---------------------------------------------\n",
            "[[Neutral (100%)]] --> [[Positive (81%)]]\n",
            "\n",
            "[[Earnings]] per [[share]] EPS [[amounted]] to EUR0 .01 .\n",
            "\n",
            "[[gain]] per [[parcel]] EPS [[number]] to EUR0 .01 .\n",
            "\n",
            "\n"
          ]
        },
        {
          "output_type": "stream",
          "name": "stderr",
          "text": [
            "[Succeeded / Failed / Skipped / Total] 198 / 72 / 3 / 273:  10%|█         | 273/2713 [18:06<2:41:48,  3.98s/it]"
          ]
        },
        {
          "output_type": "stream",
          "name": "stdout",
          "text": [
            "--------------------------------------------- Result 273 ---------------------------------------------\n",
            "[[Negative (100%)]] --> [[Positive (70%)]]\n",
            "\n",
            "[[As]] production of other products will [[continue]] normally , [[temporary]] lay-offs [[concern]] simultaneously at most [[80]] [[employees]] .\n",
            "\n",
            "[[angstrom]] production of other products will [[uphold]] normally , [[temp]] lay-offs [[care]] simultaneously at most [[lxxx]] [[employee]] .\n",
            "\n",
            "\n"
          ]
        },
        {
          "output_type": "stream",
          "name": "stderr",
          "text": [
            "[Succeeded / Failed / Skipped / Total] 199 / 72 / 3 / 274:  10%|█         | 274/2713 [18:14<2:42:23,  4.00s/it]"
          ]
        },
        {
          "output_type": "stream",
          "name": "stdout",
          "text": [
            "--------------------------------------------- Result 274 ---------------------------------------------\n",
            "[[Positive (100%)]] --> [[Neutral (99%)]]\n",
            "\n",
            "The combination of all services enabling [[us]] to offer a complex and [[strengthened]] service chain not only limited to the Baltic port connections but also for getting access to the world wide Grimaldi Network into the Mediterranean , Africa and North America `` says Uwe Bakosch .\n",
            "\n",
            "The combination of all services enabling [[USA]] to offer a complex and [[reinforced]] service chain not only limited to the Baltic port connections but also for getting access to the world wide Grimaldi Network into the Mediterranean , Africa and North America `` says Uwe Bakosch .\n",
            "\n",
            "\n"
          ]
        },
        {
          "output_type": "stream",
          "name": "stderr",
          "text": [
            "[Succeeded / Failed / Skipped / Total] 200 / 72 / 3 / 275:  10%|█         | 275/2713 [18:18<2:42:14,  3.99s/it]"
          ]
        },
        {
          "output_type": "stream",
          "name": "stdout",
          "text": [
            "--------------------------------------------- Result 275 ---------------------------------------------\n",
            "[[Neutral (100%)]] --> [[Negative (64%)]]\n",
            "\n",
            "The copying , [[republication]] or redistribution of AFX News Content , including by framing or similar means , is expressly [[prohibited]] without the prior [[written]] consent of AFX News .\n",
            "\n",
            "The copying , [[republishing]] or redistribution of AFX News Content , including by framing or similar means , is expressly [[banned]] without the prior [[scripted]] consent of AFX News .\n",
            "\n",
            "\n"
          ]
        },
        {
          "output_type": "stream",
          "name": "stderr",
          "text": [
            "[Succeeded / Failed / Skipped / Total] 200 / 73 / 3 / 276:  10%|█         | 276/2713 [18:19<2:41:48,  3.98s/it]"
          ]
        },
        {
          "output_type": "stream",
          "name": "stdout",
          "text": [
            "--------------------------------------------- Result 276 ---------------------------------------------\n",
            "[[Neutral (100%)]] --> [[[FAILED]]]\n",
            "\n",
            "The agreement is valid for four years .\n",
            "\n",
            "\n"
          ]
        },
        {
          "output_type": "stream",
          "name": "stderr",
          "text": [
            "[Succeeded / Failed / Skipped / Total] 200 / 74 / 3 / 277:  10%|█         | 277/2713 [18:22<2:41:33,  3.98s/it]"
          ]
        },
        {
          "output_type": "stream",
          "name": "stdout",
          "text": [
            "--------------------------------------------- Result 277 ---------------------------------------------\n",
            "[[Neutral (100%)]] --> [[[FAILED]]]\n",
            "\n",
            "Finnish Rautaruukki is selling its precision tube and automotive component processing unit Carl Froh in Germany to German Arques Industries .\n",
            "\n",
            "\n"
          ]
        },
        {
          "output_type": "stream",
          "name": "stderr",
          "text": [
            "[Succeeded / Failed / Skipped / Total] 200 / 75 / 3 / 278:  10%|█         | 278/2713 [18:27<2:41:38,  3.98s/it]"
          ]
        },
        {
          "output_type": "stream",
          "name": "stdout",
          "text": [
            "--------------------------------------------- Result 278 ---------------------------------------------\n",
            "[[Neutral (100%)]] --> [[[FAILED]]]\n",
            "\n",
            "Panostaja , headquartered in Tampere , Finland , is an investment company focusing on small and medium-sized Finnish companies operating in the traditional industries .\n",
            "\n",
            "\n"
          ]
        },
        {
          "output_type": "stream",
          "name": "stderr",
          "text": [
            "[Succeeded / Failed / Skipped / Total] 201 / 75 / 3 / 279:  10%|█         | 279/2713 [18:30<2:41:25,  3.98s/it]"
          ]
        },
        {
          "output_type": "stream",
          "name": "stdout",
          "text": [
            "--------------------------------------------- Result 279 ---------------------------------------------\n",
            "[[Neutral (100%)]] --> [[Positive (96%)]]\n",
            "\n",
            "In the next few years , the ICT sector 's share of electricity consumption will be [[raised]] by the increase in the popularity of smartphones .\n",
            "\n",
            "In the next few years , the ICT sector 's share of electricity consumption will be [[enhance]] by the increase in the popularity of smartphones .\n",
            "\n",
            "\n"
          ]
        },
        {
          "output_type": "stream",
          "name": "stderr",
          "text": [
            "[Succeeded / Failed / Skipped / Total] 202 / 75 / 3 / 280:  10%|█         | 280/2713 [18:36<2:41:38,  3.99s/it]"
          ]
        },
        {
          "output_type": "stream",
          "name": "stdout",
          "text": [
            "--------------------------------------------- Result 280 ---------------------------------------------\n",
            "[[Negative (100%)]] --> [[Neutral (79%)]]\n",
            "\n",
            "The [[company]] [[decided]] at the [[end]] of 2008 to temporarily [[shut]] down its ammonia [[plant]] in Billingham and [[extend]] the [[maintenance]] [[period]] at its Ince [[facility]] .\n",
            "\n",
            "The [[accompany]] [[decide]] at the [[conclusion]] of 2008 to temporarily [[unopen]] down its ammonia [[found]] in Billingham and [[prolong]] the [[care]] [[point]] at its Ince [[deftness]] .\n",
            "\n",
            "\n"
          ]
        },
        {
          "output_type": "stream",
          "name": "stderr",
          "text": [
            "[Succeeded / Failed / Skipped / Total] 203 / 75 / 3 / 281:  10%|█         | 281/2713 [18:37<2:41:07,  3.98s/it]"
          ]
        },
        {
          "output_type": "stream",
          "name": "stdout",
          "text": [
            "--------------------------------------------- Result 281 ---------------------------------------------\n",
            "[[Neutral (100%)]] --> [[Positive (99%)]]\n",
            "\n",
            "Raute is listed on the Nordic [[exchange]] in Helsinki .\n",
            "\n",
            "Raute is listed on the Nordic [[rally]] in Helsinki .\n",
            "\n",
            "\n"
          ]
        },
        {
          "output_type": "stream",
          "name": "stderr",
          "text": [
            "[Succeeded / Failed / Skipped / Total] 204 / 75 / 3 / 282:  10%|█         | 282/2713 [18:41<2:41:11,  3.98s/it]"
          ]
        },
        {
          "output_type": "stream",
          "name": "stdout",
          "text": [
            "--------------------------------------------- Result 282 ---------------------------------------------\n",
            "[[Positive (100%)]] --> [[Neutral (100%)]]\n",
            "\n",
            "Metso will [[supply]] the equipment for two process lines at Northland Resources ' new Kaunisvaara iron ore project in Sweden which exploits Tapuli and Sahavaara iron ore deposits .\n",
            "\n",
            "Metso will [[issue]] the equipment for two process lines at Northland Resources ' new Kaunisvaara iron ore project in Sweden which exploits Tapuli and Sahavaara iron ore deposits .\n",
            "\n",
            "\n"
          ]
        },
        {
          "output_type": "stream",
          "name": "stderr",
          "text": [
            "[Succeeded / Failed / Skipped / Total] 204 / 76 / 3 / 283:  10%|█         | 283/2713 [18:47<2:41:23,  3.99s/it]"
          ]
        },
        {
          "output_type": "stream",
          "name": "stdout",
          "text": [
            "--------------------------------------------- Result 283 ---------------------------------------------\n",
            "[[Neutral (100%)]] --> [[[FAILED]]]\n",
            "\n",
            "Following the demerger , the vice president of the group 's pharmaceutical trade in Finland , Jukka Niemi , will be appointed managing director of Oriola in addition to his current responsibilities .\n",
            "\n",
            "\n"
          ]
        },
        {
          "output_type": "stream",
          "name": "stderr",
          "text": [
            "[Succeeded / Failed / Skipped / Total] 205 / 76 / 3 / 284:  10%|█         | 284/2713 [18:52<2:41:25,  3.99s/it]"
          ]
        },
        {
          "output_type": "stream",
          "name": "stdout",
          "text": [
            "--------------------------------------------- Result 284 ---------------------------------------------\n",
            "[[Neutral (100%)]] --> [[Negative (76%)]]\n",
            "\n",
            "Since inception in 1999 , Access ' stable management team has remained [[disciplined]] and [[focused]] on the proactive [[screening]] , selection and management of European [[small]] to mid-market buy-out funds of funds and mandates .\n",
            "\n",
            "Since inception in 1999 , Access ' stable management team has remained [[correct]] and [[sharpen]] on the proactive [[masking]] , selection and management of European [[diminished]] to mid-market buy-out funds of funds and mandates .\n",
            "\n",
            "\n"
          ]
        },
        {
          "output_type": "stream",
          "name": "stderr",
          "text": [
            "[Succeeded / Failed / Skipped / Total] 206 / 76 / 3 / 285:  11%|█         | 285/2713 [18:58<2:41:43,  4.00s/it]"
          ]
        },
        {
          "output_type": "stream",
          "name": "stdout",
          "text": [
            "--------------------------------------------- Result 285 ---------------------------------------------\n",
            "[[Positive (100%)]] --> [[Neutral (100%)]]\n",
            "\n",
            "Vaisala Oyj Press Release September 30 , 2010 Vaisala has [[signed]] a [[contract]] to sell its oxygen measurement technology and business to SICK Maihak GmbH .\n",
            "\n",
            "Vaisala Oyj Press Release September 30 , 2010 Vaisala has [[subscribe]] a [[reduce]] to sell its oxygen measurement technology and business to SICK Maihak GmbH .\n",
            "\n",
            "\n"
          ]
        },
        {
          "output_type": "stream",
          "name": "stderr",
          "text": [
            "[Succeeded / Failed / Skipped / Total] 207 / 76 / 3 / 286:  11%|█         | 286/2713 [19:06<2:42:12,  4.01s/it]"
          ]
        },
        {
          "output_type": "stream",
          "name": "stdout",
          "text": [
            "--------------------------------------------- Result 286 ---------------------------------------------\n",
            "[[Neutral (99%)]] --> [[Negative (71%)]]\n",
            "\n",
            "Among paper [[issues]] , Stora Enso R was little [[changed]] -- up 0.08 pct at 12.03 eur , UPM-Kymmene was 0.48 pct higher at 18.77 eur and M-real B [[added]] 0.50 pct to [[3]].99 eur .\n",
            "\n",
            "Among paper [[result]] , Stora Enso R was little [[deepen]] -- up 0.08 pct at 12.03 eur , UPM-Kymmene was 0.48 pct higher at 18.77 eur and M-real B [[bestow]] 0.50 pct to [[triplet]].99 eur .\n",
            "\n",
            "\n"
          ]
        },
        {
          "output_type": "stream",
          "name": "stderr",
          "text": [
            "[Succeeded / Failed / Skipped / Total] 208 / 76 / 3 / 287:  11%|█         | 287/2713 [19:10<2:42:03,  4.01s/it]"
          ]
        },
        {
          "output_type": "stream",
          "name": "stdout",
          "text": [
            "--------------------------------------------- Result 287 ---------------------------------------------\n",
            "[[Neutral (100%)]] --> [[Positive (100%)]]\n",
            "\n",
            "Our [[customers]] [[include]] [[companies]] in the [[energy]] and [[process]] [[industry]] [[sectors]] , in [[particular]] .\n",
            "\n",
            "Our [[customer]] [[admit]] [[society]] in the [[get-up-and-go]] and [[outgrowth]] [[industriousness]] [[sphere]] , in [[exceptional]] .\n",
            "\n",
            "\n"
          ]
        },
        {
          "output_type": "stream",
          "name": "stderr",
          "text": [
            "[Succeeded / Failed / Skipped / Total] 209 / 76 / 3 / 288:  11%|█         | 288/2713 [19:18<2:42:33,  4.02s/it]"
          ]
        },
        {
          "output_type": "stream",
          "name": "stdout",
          "text": [
            "--------------------------------------------- Result 288 ---------------------------------------------\n",
            "[[Negative (100%)]] --> [[Neutral (96%)]]\n",
            "\n",
            "As a result of these transactions , the aggregate holdings of Burrill Life Sciences Capital Fund , L.P. has [[decreased]] below 5 per cent of the total [[number]] of [[shares]] and votes of the Company .\n",
            "\n",
            "As a result of these transactions , the aggregate holdings of Burrill Life Sciences Capital Fund , L.P. has [[minify]] below 5 per cent of the total [[numeral]] of [[apportion]] and votes of the Company .\n",
            "\n",
            "\n"
          ]
        },
        {
          "output_type": "stream",
          "name": "stderr",
          "text": [
            "[Succeeded / Failed / Skipped / Total] 209 / 77 / 3 / 289:  11%|█         | 289/2713 [19:27<2:43:10,  4.04s/it]"
          ]
        },
        {
          "output_type": "stream",
          "name": "stdout",
          "text": [
            "--------------------------------------------- Result 289 ---------------------------------------------\n",
            "[[Neutral (100%)]] --> [[[FAILED]]]\n",
            "\n",
            "`` If you need malware removal tools , type the URL of your vendor of choice directly into the browser bar and use links on their website , '' wrote Trend Micro 's Rik Ferguson on Monday .\n",
            "\n",
            "\n"
          ]
        },
        {
          "output_type": "stream",
          "name": "stderr",
          "text": [
            "[Succeeded / Failed / Skipped / Total] 210 / 77 / 3 / 290:  11%|█         | 290/2713 [19:29<2:42:50,  4.03s/it]"
          ]
        },
        {
          "output_type": "stream",
          "name": "stdout",
          "text": [
            "--------------------------------------------- Result 290 ---------------------------------------------\n",
            "[[Positive (100%)]] --> [[Neutral (98%)]]\n",
            "\n",
            "Through the acquisition Solteq will [[expand]] its solutions offering by Microsoft 's Dynamics business software products .\n",
            "\n",
            "Through the acquisition Solteq will [[inflate]] its solutions offering by Microsoft 's Dynamics business software products .\n",
            "\n",
            "\n"
          ]
        },
        {
          "output_type": "stream",
          "name": "stderr",
          "text": [
            "[Succeeded / Failed / Skipped / Total] 211 / 77 / 3 / 291:  11%|█         | 292/2713 [19:30<2:41:47,  4.01s/it]"
          ]
        },
        {
          "output_type": "stream",
          "name": "stdout",
          "text": [
            "--------------------------------------------- Result 291 ---------------------------------------------\n",
            "[[Positive (100%)]] --> [[Neutral (100%)]]\n",
            "\n",
            "Excluding non-recurring items , pre-tax profit [[surged]] 45 % to EUR80m .\n",
            "\n",
            "Excluding non-recurring items , pre-tax profit [[billow]] 45 % to EUR80m .\n",
            "\n",
            "\n"
          ]
        },
        {
          "output_type": "stream",
          "name": "stderr",
          "text": [
            "\r[Succeeded / Failed / Skipped / Total] 211 / 78 / 3 / 292:  11%|█         | 292/2713 [19:30<2:41:48,  4.01s/it]"
          ]
        },
        {
          "output_type": "stream",
          "name": "stdout",
          "text": [
            "--------------------------------------------- Result 292 ---------------------------------------------\n",
            "[[Neutral (100%)]] --> [[[FAILED]]]\n",
            "\n",
            "NWC ANALYSIS :\n",
            "\n",
            "\n"
          ]
        },
        {
          "output_type": "stream",
          "name": "stderr",
          "text": [
            "[Succeeded / Failed / Skipped / Total] 211 / 79 / 3 / 293:  11%|█         | 293/2713 [19:34<2:41:40,  4.01s/it]"
          ]
        },
        {
          "output_type": "stream",
          "name": "stdout",
          "text": [
            "--------------------------------------------- Result 293 ---------------------------------------------\n",
            "[[Neutral (100%)]] --> [[[FAILED]]]\n",
            "\n",
            "Harju Elekter was founded in 1968 , and is the leading producer of electrical equipment and materials in the Baltic States .\n",
            "\n",
            "\n"
          ]
        },
        {
          "output_type": "stream",
          "name": "stderr",
          "text": [
            "[Succeeded / Failed / Skipped / Total] 212 / 79 / 3 / 294:  11%|█         | 294/2713 [19:40<2:41:55,  4.02s/it]"
          ]
        },
        {
          "output_type": "stream",
          "name": "stdout",
          "text": [
            "--------------------------------------------- Result 294 ---------------------------------------------\n",
            "[[Neutral (100%)]] --> [[Positive (98%)]]\n",
            "\n",
            "We look forward to take [[part]] in the future [[development]] of the company , '' says Tomas Billing , President of Nordstjernan .\n",
            "\n",
            "We look forward to take [[contribution]] in the future [[growing]] of the company , '' says Tomas Billing , President of Nordstjernan .\n",
            "\n",
            "\n"
          ]
        },
        {
          "output_type": "stream",
          "name": "stderr",
          "text": [
            "[Succeeded / Failed / Skipped / Total] 212 / 80 / 3 / 295:  11%|█         | 295/2713 [19:44<2:41:50,  4.02s/it]"
          ]
        },
        {
          "output_type": "stream",
          "name": "stdout",
          "text": [
            "--------------------------------------------- Result 295 ---------------------------------------------\n",
            "[[Negative (100%)]] --> [[[FAILED]]]\n",
            "\n",
            "Pretax loss totaled EUR 1.2 mn , down from a profit of EUR 2.1 mn in 2004 .\n",
            "\n",
            "\n"
          ]
        },
        {
          "output_type": "stream",
          "name": "stderr",
          "text": [
            "[Succeeded / Failed / Skipped / Total] 213 / 80 / 3 / 296:  11%|█         | 296/2713 [19:48<2:41:41,  4.01s/it]"
          ]
        },
        {
          "output_type": "stream",
          "name": "stdout",
          "text": [
            "--------------------------------------------- Result 296 ---------------------------------------------\n",
            "[[Neutral (100%)]] --> [[Positive (51%)]]\n",
            "\n",
            "Okmetic revised its 2010 [[financial]] outlook based on its order [[book]] .\n",
            "\n",
            "Okmetic revised its 2010 [[fiscal]] outlook based on its order [[record]] .\n",
            "\n",
            "\n"
          ]
        },
        {
          "output_type": "stream",
          "name": "stderr",
          "text": [
            "[Succeeded / Failed / Skipped / Total] 214 / 80 / 3 / 297:  11%|█         | 297/2713 [19:51<2:41:32,  4.01s/it]"
          ]
        },
        {
          "output_type": "stream",
          "name": "stdout",
          "text": [
            "--------------------------------------------- Result 297 ---------------------------------------------\n",
            "[[Negative (100%)]] --> [[Positive (99%)]]\n",
            "\n",
            "The result will also be [[burdened]] by increased fixed costs associated with operations in China , and [[restructuring]] costs in Japan .\n",
            "\n",
            "The result will also be [[burthen]] by increased fixed costs associated with operations in China , and [[restructure]] costs in Japan .\n",
            "\n",
            "\n"
          ]
        },
        {
          "output_type": "stream",
          "name": "stderr",
          "text": [
            "[Succeeded / Failed / Skipped / Total] 215 / 80 / 3 / 298:  11%|█         | 298/2713 [19:54<2:41:20,  4.01s/it]"
          ]
        },
        {
          "output_type": "stream",
          "name": "stdout",
          "text": [
            "--------------------------------------------- Result 298 ---------------------------------------------\n",
            "[[Positive (100%)]] --> [[Neutral (100%)]]\n",
            "\n",
            "The representative body of Swedish Meats [[approved]] an [[improved]] offer from Finnish HK Ruokatalo to acquire the company .\n",
            "\n",
            "The representative body of Swedish Meats [[sanction]] an [[meliorate]] offer from Finnish HK Ruokatalo to acquire the company .\n",
            "\n",
            "\n"
          ]
        },
        {
          "output_type": "stream",
          "name": "stderr",
          "text": [
            "[Succeeded / Failed / Skipped / Total] 216 / 80 / 3 / 299:  11%|█         | 299/2713 [19:57<2:41:12,  4.01s/it]"
          ]
        },
        {
          "output_type": "stream",
          "name": "stdout",
          "text": [
            "--------------------------------------------- Result 299 ---------------------------------------------\n",
            "[[Positive (100%)]] --> [[Neutral (100%)]]\n",
            "\n",
            "This is Done Logistics ' largest [[order]] in Norway , the diversified group said .\n",
            "\n",
            "This is Done Logistics ' largest [[place]] in Norway , the diversified group said .\n",
            "\n",
            "\n"
          ]
        },
        {
          "output_type": "stream",
          "name": "stderr",
          "text": [
            "[Succeeded / Failed / Skipped / Total] 217 / 80 / 3 / 300:  11%|█         | 300/2713 [20:00<2:40:55,  4.00s/it]"
          ]
        },
        {
          "output_type": "stream",
          "name": "stdout",
          "text": [
            "--------------------------------------------- Result 300 ---------------------------------------------\n",
            "[[Positive (100%)]] --> [[Negative (100%)]]\n",
            "\n",
            "Operating loss was EUR 179mn , compared to a [[loss]] of EUR 188mn in the second quarter of 2009 .\n",
            "\n",
            "Operating loss was EUR 179mn , compared to a [[departure]] of EUR 188mn in the second quarter of 2009 .\n",
            "\n",
            "\n"
          ]
        },
        {
          "output_type": "stream",
          "name": "stderr",
          "text": [
            "[Succeeded / Failed / Skipped / Total] 218 / 80 / 3 / 301:  11%|█         | 301/2713 [20:03<2:40:44,  4.00s/it]"
          ]
        },
        {
          "output_type": "stream",
          "name": "stdout",
          "text": [
            "--------------------------------------------- Result 301 ---------------------------------------------\n",
            "[[Neutral (100%)]] --> [[Positive (100%)]]\n",
            "\n",
            "Other [[measures]] [[included]] increasing synergies and [[economies]] of scale within the Grimaldi Group and personnel adjustments , divestments and redelivery of excess tonnage .\n",
            "\n",
            "Other [[valuate]] [[admit]] increasing synergies and [[saving]] of scale within the Grimaldi Group and personnel adjustments , divestments and redelivery of excess tonnage .\n",
            "\n",
            "\n"
          ]
        },
        {
          "output_type": "stream",
          "name": "stderr",
          "text": [
            "[Succeeded / Failed / Skipped / Total] 219 / 80 / 3 / 302:  11%|█         | 302/2713 [20:07<2:40:37,  4.00s/it]"
          ]
        },
        {
          "output_type": "stream",
          "name": "stdout",
          "text": [
            "--------------------------------------------- Result 302 ---------------------------------------------\n",
            "[[Neutral (100%)]] --> [[Negative (100%)]]\n",
            "\n",
            "The manager is [[critical]] of politicians ' [[failure]] to differentiate between beleaguered European financial institutions and Skandinavian banks , `` which sailed through the crisis without issues '' .\n",
            "\n",
            "The manager is [[decisive]] of politicians ' [[loser]] to differentiate between beleaguered European financial institutions and Skandinavian banks , `` which sailed through the crisis without issues '' .\n",
            "\n",
            "\n"
          ]
        },
        {
          "output_type": "stream",
          "name": "stderr",
          "text": [
            "[Succeeded / Failed / Skipped / Total] 220 / 80 / 3 / 303:  11%|█         | 303/2713 [20:13<2:40:55,  4.01s/it]"
          ]
        },
        {
          "output_type": "stream",
          "name": "stdout",
          "text": [
            "--------------------------------------------- Result 303 ---------------------------------------------\n",
            "[[Neutral (100%)]] --> [[Positive (92%)]]\n",
            "\n",
            "Stora Enso Oyj said Friday it will [[sell]] its North American unit to NewPage , in a [[deal]] [[valued]] at euro1 .82 billion US$ 2.52 [[million]] .\n",
            "\n",
            "Stora Enso Oyj said Friday it will [[deal]] its North American unit to NewPage , in a [[bargain]] [[appreciate]] at euro1 .82 billion US$ 2.52 [[trillion]] .\n",
            "\n",
            "\n"
          ]
        },
        {
          "output_type": "stream",
          "name": "stderr",
          "text": [
            "[Succeeded / Failed / Skipped / Total] 221 / 80 / 3 / 304:  11%|█         | 304/2713 [20:16<2:40:43,  4.00s/it]"
          ]
        },
        {
          "output_type": "stream",
          "name": "stdout",
          "text": [
            "--------------------------------------------- Result 304 ---------------------------------------------\n",
            "[[Neutral (100%)]] --> [[Positive (95%)]]\n",
            "\n",
            "These new units will be [[built]] at Cargotec 's state of the art manufacturing facility in San Antonio , Texas , USA , which started operations in 2009 .\n",
            "\n",
            "These new units will be [[progress]] at Cargotec 's state of the art manufacturing facility in San Antonio , Texas , USA , which started operations in 2009 .\n",
            "\n",
            "\n"
          ]
        },
        {
          "output_type": "stream",
          "name": "stderr",
          "text": [
            "[Succeeded / Failed / Skipped / Total] 222 / 80 / 3 / 305:  11%|█         | 305/2713 [20:19<2:40:29,  4.00s/it]"
          ]
        },
        {
          "output_type": "stream",
          "name": "stdout",
          "text": [
            "--------------------------------------------- Result 305 ---------------------------------------------\n",
            "[[Neutral (100%)]] --> [[Negative (58%)]]\n",
            "\n",
            "It [[also]] has [[potential]] [[clients]] in the [[growing]] environmental and [[recycling]] technology [[sectors]] .\n",
            "\n",
            "It [[too]] has [[likely]] [[node]] in the [[maturate]] environmental and [[reprocess]] technology [[sector]] .\n",
            "\n",
            "\n"
          ]
        },
        {
          "output_type": "stream",
          "name": "stderr",
          "text": [
            "[Succeeded / Failed / Skipped / Total] 222 / 81 / 3 / 306:  11%|█▏        | 306/2713 [20:23<2:40:22,  4.00s/it]"
          ]
        },
        {
          "output_type": "stream",
          "name": "stdout",
          "text": [
            "--------------------------------------------- Result 306 ---------------------------------------------\n",
            "[[Neutral (100%)]] --> [[[FAILED]]]\n",
            "\n",
            "Componenta is a metal sector company with international operations and production plants located in Finland , the Netherlands , Sweden and Turkey .\n",
            "\n",
            "\n"
          ]
        },
        {
          "output_type": "stream",
          "name": "stderr",
          "text": [
            "[Succeeded / Failed / Skipped / Total] 223 / 81 / 3 / 307:  11%|█▏        | 307/2713 [20:24<2:39:59,  3.99s/it]"
          ]
        },
        {
          "output_type": "stream",
          "name": "stdout",
          "text": [
            "--------------------------------------------- Result 307 ---------------------------------------------\n",
            "[[Neutral (100%)]] --> [[Positive (98%)]]\n",
            "\n",
            "The mill will have [[capacity]] to [[produce]] 500,000 tonnes of pulp per year .\n",
            "\n",
            "The mill will have [[capability]] to [[grow]] 500,000 tonnes of pulp per year .\n",
            "\n",
            "\n"
          ]
        },
        {
          "output_type": "stream",
          "name": "stderr",
          "text": [
            "[Succeeded / Failed / Skipped / Total] 224 / 81 / 3 / 308:  11%|█▏        | 309/2713 [20:29<2:39:27,  3.98s/it]"
          ]
        },
        {
          "output_type": "stream",
          "name": "stdout",
          "text": [
            "--------------------------------------------- Result 308 ---------------------------------------------\n",
            "[[Neutral (100%)]] --> [[Positive (99%)]]\n",
            "\n",
            "Stora Enso [[said]] DeLight was [[suitable]] for a wide range of applications including food , cosmetics , home decoration and leisure products .\n",
            "\n",
            "Stora Enso [[articulate]] DeLight was [[desirable]] for a wide range of applications including food , cosmetics , home decoration and leisure products .\n",
            "\n",
            "\n"
          ]
        },
        {
          "output_type": "stream",
          "name": "stderr",
          "text": [
            "\r[Succeeded / Failed / Skipped / Total] 224 / 82 / 3 / 309:  11%|█▏        | 309/2713 [20:29<2:39:27,  3.98s/it]"
          ]
        },
        {
          "output_type": "stream",
          "name": "stdout",
          "text": [
            "--------------------------------------------- Result 309 ---------------------------------------------\n",
            "[[Neutral (100%)]] --> [[[FAILED]]]\n",
            "\n",
            "Welcome !\n",
            "\n",
            "\n"
          ]
        },
        {
          "output_type": "stream",
          "name": "stderr",
          "text": [
            "[Succeeded / Failed / Skipped / Total] 225 / 82 / 3 / 310:  11%|█▏        | 310/2713 [20:34<2:39:26,  3.98s/it]"
          ]
        },
        {
          "output_type": "stream",
          "name": "stdout",
          "text": [
            "--------------------------------------------- Result 310 ---------------------------------------------\n",
            "[[Positive (100%)]] --> [[Neutral (97%)]]\n",
            "\n",
            "The company is in the process of building a new fleet and has [[placed]] orders for 10 P-Max tankers of 65,200 dwt .\n",
            "\n",
            "The company is in the process of building a new fleet and has [[identify]] orders for 10 P-Max tankers of 65,200 dwt .\n",
            "\n",
            "\n"
          ]
        },
        {
          "output_type": "stream",
          "name": "stderr",
          "text": [
            "[Succeeded / Failed / Skipped / Total] 226 / 82 / 3 / 311:  11%|█▏        | 311/2713 [20:38<2:39:22,  3.98s/it]"
          ]
        },
        {
          "output_type": "stream",
          "name": "stdout",
          "text": [
            "--------------------------------------------- Result 311 ---------------------------------------------\n",
            "[[Positive (100%)]] --> [[Neutral (100%)]]\n",
            "\n",
            "Of the sales price , a sales [[gain]] of some 3.1 mln euro ( $ 4.5 mln ) will be recognized in Incap 's earnings for 2007 .\n",
            "\n",
            "Of the sales price , a sales [[amplification]] of some 3.1 mln euro ( $ 4.5 mln ) will be recognized in Incap 's earnings for 2007 .\n",
            "\n",
            "\n"
          ]
        },
        {
          "output_type": "stream",
          "name": "stderr",
          "text": [
            "[Succeeded / Failed / Skipped / Total] 227 / 82 / 3 / 312:  12%|█▏        | 312/2713 [20:45<2:39:42,  3.99s/it]"
          ]
        },
        {
          "output_type": "stream",
          "name": "stdout",
          "text": [
            "--------------------------------------------- Result 312 ---------------------------------------------\n",
            "[[Positive (100%)]] --> [[Negative (75%)]]\n",
            "\n",
            "The antibody , given at repeated doses of up to 8 mg-kg , was [[generally]] [[well]] [[tolerated]] , and the pharmacokinetic characteristics of BTT-1023 in psoriasis patients were consistent with those observed in a previously completed study in rheumatoid arthritis RA patients .\n",
            "\n",
            "The antibody , given at repeated doses of up to 8 mg-kg , was [[loosely]] [[wellspring]] [[brook]] , and the pharmacokinetic characteristics of BTT-1023 in psoriasis patients were consistent with those observed in a previously completed study in rheumatoid arthritis RA patients .\n",
            "\n",
            "\n"
          ]
        },
        {
          "output_type": "stream",
          "name": "stderr",
          "text": [
            "[Succeeded / Failed / Skipped / Total] 228 / 82 / 3 / 313:  12%|█▏        | 313/2713 [20:47<2:39:21,  3.98s/it]"
          ]
        },
        {
          "output_type": "stream",
          "name": "stdout",
          "text": [
            "--------------------------------------------- Result 313 ---------------------------------------------\n",
            "[[Negative (100%)]] --> [[Positive (99%)]]\n",
            "\n",
            "Device volume in the area [[decreased]] by 21 % to 2.7 mn units .\n",
            "\n",
            "Device volume in the area [[minify]] by 21 % to 2.7 mn units .\n",
            "\n",
            "\n"
          ]
        },
        {
          "output_type": "stream",
          "name": "stderr",
          "text": [
            "[Succeeded / Failed / Skipped / Total] 229 / 82 / 3 / 314:  12%|█▏        | 314/2713 [20:50<2:39:13,  3.98s/it]"
          ]
        },
        {
          "output_type": "stream",
          "name": "stdout",
          "text": [
            "--------------------------------------------- Result 314 ---------------------------------------------\n",
            "[[Neutral (100%)]] --> [[Negative (51%)]]\n",
            "\n",
            "He does not believe , however , that HKScan or Atria will start to [[use]] imported meat as Finnish consumers [[prefer]] domestic products .\n",
            "\n",
            "He does not believe , however , that HKScan or Atria will start to [[manipulation]] imported meat as Finnish consumers [[favour]] domestic products .\n",
            "\n",
            "\n"
          ]
        },
        {
          "output_type": "stream",
          "name": "stderr",
          "text": [
            "[Succeeded / Failed / Skipped / Total] 229 / 83 / 3 / 315:  12%|█▏        | 315/2713 [20:55<2:39:16,  3.99s/it]"
          ]
        },
        {
          "output_type": "stream",
          "name": "stdout",
          "text": [
            "--------------------------------------------- Result 315 ---------------------------------------------\n",
            "[[Neutral (100%)]] --> [[[FAILED]]]\n",
            "\n",
            "The server is responsible for managing devices and user accounts and a desktop client application enables remote access to the mobile phones .\n",
            "\n",
            "\n"
          ]
        },
        {
          "output_type": "stream",
          "name": "stderr",
          "text": [
            "[Succeeded / Failed / Skipped / Total] 230 / 83 / 3 / 316:  12%|█▏        | 316/2713 [21:06<2:40:08,  4.01s/it]"
          ]
        },
        {
          "output_type": "stream",
          "name": "stdout",
          "text": [
            "--------------------------------------------- Result 316 ---------------------------------------------\n",
            "[[Neutral (100%)]] --> [[Negative (99%)]]\n",
            "\n",
            "YIT CORPORATION SEPT. 24 , 2007 at 13:30 CORPORATE RELEASE STOCK EXCHANGE RELEASE YIT 'S CAPITAL MARKETS DAY IN LONDON , SEPT. 26 , 2007 On Wednesday , September 26 , 2007 , YIT will [[hold]] a Capital Markets Day for investors and analysts in London .\n",
            "\n",
            "YIT CORPORATION SEPT. 24 , 2007 at 13:30 CORPORATE RELEASE STOCK EXCHANGE RELEASE YIT 'S CAPITAL MARKETS DAY IN LONDON , SEPT. 26 , 2007 On Wednesday , September 26 , 2007 , YIT will [[curb]] a Capital Markets Day for investors and analysts in London .\n",
            "\n",
            "\n"
          ]
        },
        {
          "output_type": "stream",
          "name": "stderr",
          "text": [
            "[Succeeded / Failed / Skipped / Total] 231 / 83 / 3 / 317:  12%|█▏        | 317/2713 [21:11<2:40:13,  4.01s/it]"
          ]
        },
        {
          "output_type": "stream",
          "name": "stdout",
          "text": [
            "--------------------------------------------- Result 317 ---------------------------------------------\n",
            "[[Positive (100%)]] --> [[Negative (63%)]]\n",
            "\n",
            "SOUTHFIELD , Mich. -- Central Corporate Credit Union will again [[distribute]] patronage dividends to members by [[waiving]] all service fees incurred during the months of July and November 2008 , to the tune of an estimated $ 1 million .\n",
            "\n",
            "SOUTHFIELD , Mich. -- Central Corporate Credit Union will again [[diffuse]] patronage dividends to members by [[forego]] all service fees incurred during the months of July and November 2008 , to the tune of an estimated $ 1 million .\n",
            "\n",
            "\n"
          ]
        },
        {
          "output_type": "stream",
          "name": "stderr",
          "text": [
            "[Succeeded / Failed / Skipped / Total] 231 / 84 / 3 / 318:  12%|█▏        | 318/2713 [21:14<2:40:00,  4.01s/it]"
          ]
        },
        {
          "output_type": "stream",
          "name": "stdout",
          "text": [
            "--------------------------------------------- Result 318 ---------------------------------------------\n",
            "[[Neutral (100%)]] --> [[[FAILED]]]\n",
            "\n",
            "Previously , the company expected its 2008 financial performance to remain at the same level as in 2008 .\n",
            "\n",
            "\n"
          ]
        },
        {
          "output_type": "stream",
          "name": "stderr",
          "text": [
            "[Succeeded / Failed / Skipped / Total] 231 / 85 / 3 / 319:  12%|█▏        | 319/2713 [21:15<2:39:34,  4.00s/it]"
          ]
        },
        {
          "output_type": "stream",
          "name": "stdout",
          "text": [
            "--------------------------------------------- Result 319 ---------------------------------------------\n",
            "[[Neutral (100%)]] --> [[[FAILED]]]\n",
            "\n",
            "SSH Communications Security Corporation is headquartered in Helsinki , Finland .\n",
            "\n",
            "\n"
          ]
        },
        {
          "output_type": "stream",
          "name": "stderr",
          "text": [
            "[Succeeded / Failed / Skipped / Total] 232 / 85 / 3 / 320:  12%|█▏        | 320/2713 [21:23<2:40:00,  4.01s/it]"
          ]
        },
        {
          "output_type": "stream",
          "name": "stdout",
          "text": [
            "--------------------------------------------- Result 320 ---------------------------------------------\n",
            "[[Positive (100%)]] --> [[Negative (58%)]]\n",
            "\n",
            "Finland 's leading metals group Outokumpu said its fourth-quarter net [[profit]] more than [[tripled]] on the back of [[strong]] global demand for stainless steel , soaring base metal prices and proceeds from the sale of its technology unit .\n",
            "\n",
            "Finland 's leading metals group Outokumpu said its fourth-quarter net [[lucre]] more than [[treble]] on the back of [[stiff]] global demand for stainless steel , soaring base metal prices and proceeds from the sale of its technology unit .\n",
            "\n",
            "\n"
          ]
        },
        {
          "output_type": "stream",
          "name": "stderr",
          "text": [
            "[Succeeded / Failed / Skipped / Total] 233 / 85 / 3 / 321:  12%|█▏        | 321/2713 [21:30<2:40:12,  4.02s/it]"
          ]
        },
        {
          "output_type": "stream",
          "name": "stdout",
          "text": [
            "--------------------------------------------- Result 321 ---------------------------------------------\n",
            "[[Positive (100%)]] --> [[Neutral (100%)]]\n",
            "\n",
            "Finnish Vacon has [[signed]] significant [[deals]] with Norwegian Scandinavian Electric Systems ( SES ) on the supply of AC drives .\n",
            "\n",
            "Finnish Vacon has [[sign-language]] significant [[address]] with Norwegian Scandinavian Electric Systems ( SES ) on the supply of AC drives .\n",
            "\n",
            "\n"
          ]
        },
        {
          "output_type": "stream",
          "name": "stderr",
          "text": [
            "[Succeeded / Failed / Skipped / Total] 234 / 85 / 3 / 322:  12%|█▏        | 322/2713 [21:35<2:40:23,  4.02s/it]"
          ]
        },
        {
          "output_type": "stream",
          "name": "stdout",
          "text": [
            "--------------------------------------------- Result 322 ---------------------------------------------\n",
            "[[Positive (100%)]] --> [[Neutral (100%)]]\n",
            "\n",
            "According to the company 's updated strategy for the years 2009-2012 , Basware targets a long-term net sales [[growth]] in the range of 20 % -40 % with an operating profit margin of 10 % -20 % of net sales .\n",
            "\n",
            "According to the company 's updated strategy for the years 2009-2012 , Basware targets a long-term net sales [[ontogeny]] in the range of 20 % -40 % with an operating profit margin of 10 % -20 % of net sales .\n",
            "\n",
            "\n"
          ]
        },
        {
          "output_type": "stream",
          "name": "stderr",
          "text": [
            "[Succeeded / Failed / Skipped / Total] 235 / 85 / 3 / 323:  12%|█▏        | 323/2713 [21:40<2:40:23,  4.03s/it]"
          ]
        },
        {
          "output_type": "stream",
          "name": "stdout",
          "text": [
            "--------------------------------------------- Result 323 ---------------------------------------------\n",
            "[[Positive (100%)]] --> [[Negative (79%)]]\n",
            "\n",
            "27 January 2011 - Finnish IT solutions provider Affecto Oyj ( HEL : AFE1V ) [[said]] today it has won a EUR1 .[[2]] m ( USD1 .[[6]] m ) [[contract]] from state-owned Lithuanian Social Insurance Institution ( SODRA ) .\n",
            "\n",
            "27 January 2011 - Finnish IT solutions provider Affecto Oyj ( HEL : AFE1V ) [[read]] today it has won a EUR1 .[[II]] m ( USD1 .[[sestet]] m ) [[cut]] from state-owned Lithuanian Social Insurance Institution ( SODRA ) .\n",
            "\n",
            "\n"
          ]
        },
        {
          "output_type": "stream",
          "name": "stderr",
          "text": [
            "[Succeeded / Failed / Skipped / Total] 236 / 85 / 3 / 324:  12%|█▏        | 324/2713 [21:42<2:40:03,  4.02s/it]"
          ]
        },
        {
          "output_type": "stream",
          "name": "stdout",
          "text": [
            "--------------------------------------------- Result 324 ---------------------------------------------\n",
            "[[Positive (100%)]] --> [[Neutral (100%)]]\n",
            "\n",
            "The Department Store Division reported an [[increase]] in sales of 4 per cent .\n",
            "\n",
            "The Department Store Division reported an [[increment]] in sales of 4 per cent .\n",
            "\n",
            "\n"
          ]
        },
        {
          "output_type": "stream",
          "name": "stderr",
          "text": [
            "[Succeeded / Failed / Skipped / Total] 237 / 85 / 3 / 325:  12%|█▏        | 325/2713 [21:47<2:40:04,  4.02s/it]"
          ]
        },
        {
          "output_type": "stream",
          "name": "stdout",
          "text": [
            "--------------------------------------------- Result 325 ---------------------------------------------\n",
            "[[Neutral (100%)]] --> [[Positive (100%)]]\n",
            "\n",
            "The segments through which the company [[operates]] are [[Frozen]] Food [[business]] , Seafoods , Vegetable Oil business , Grain Trading and Other business [[operations]] .\n",
            "\n",
            "The segments through which the company [[engage]] are [[wintry]] Food [[byplay]] , Seafoods , Vegetable Oil business , Grain Trading and Other business [[process]] .\n",
            "\n",
            "\n"
          ]
        },
        {
          "output_type": "stream",
          "name": "stderr",
          "text": [
            "[Succeeded / Failed / Skipped / Total] 237 / 86 / 3 / 326:  12%|█▏        | 326/2713 [21:53<2:40:15,  4.03s/it]"
          ]
        },
        {
          "output_type": "stream",
          "name": "stdout",
          "text": [
            "--------------------------------------------- Result 326 ---------------------------------------------\n",
            "[[Neutral (100%)]] --> [[[FAILED]]]\n",
            "\n",
            "The company designs and manufactures high-quality clothing , interior decoration textiles , bags , and other accessories .\n",
            "\n",
            "\n"
          ]
        },
        {
          "output_type": "stream",
          "name": "stderr",
          "text": [
            "[Succeeded / Failed / Skipped / Total] 238 / 86 / 3 / 327:  12%|█▏        | 327/2713 [22:01<2:40:41,  4.04s/it]"
          ]
        },
        {
          "output_type": "stream",
          "name": "stdout",
          "text": [
            "--------------------------------------------- Result 327 ---------------------------------------------\n",
            "[[Negative (100%)]] --> [[Positive (92%)]]\n",
            "\n",
            "[[As]] a [[result]] , [[12]] [[people]] will be [[made]] [[redundant]] and a [[total]] of 67 [[persons]] are [[laid]] off temporarily .\n",
            "\n",
            "[[arsenic]] a [[upshot]] , [[XII]] [[mass]] will be [[gain]] [[supererogatory]] and a [[amount]] of 67 [[someone]] are [[pose]] off temporarily .\n",
            "\n",
            "\n"
          ]
        },
        {
          "output_type": "stream",
          "name": "stderr",
          "text": [
            "[Succeeded / Failed / Skipped / Total] 239 / 86 / 3 / 328:  12%|█▏        | 328/2713 [22:05<2:40:39,  4.04s/it]"
          ]
        },
        {
          "output_type": "stream",
          "name": "stdout",
          "text": [
            "--------------------------------------------- Result 328 ---------------------------------------------\n",
            "[[Neutral (100%)]] --> [[Positive (59%)]]\n",
            "\n",
            "The company will also shut one paper machine in Finland and one in Austria , as [[well]] as two label paper machines in Finland for up to 10 months , Helsinki-based UPM said yesterday .\n",
            "\n",
            "The company will also shut one paper machine in Finland and one in Austria , as [[advantageously]] as two label paper machines in Finland for up to 10 months , Helsinki-based UPM said yesterday .\n",
            "\n",
            "\n"
          ]
        },
        {
          "output_type": "stream",
          "name": "stderr",
          "text": [
            "[Succeeded / Failed / Skipped / Total] 239 / 87 / 3 / 329:  12%|█▏        | 329/2713 [22:06<2:40:13,  4.03s/it]"
          ]
        },
        {
          "output_type": "stream",
          "name": "stdout",
          "text": [
            "--------------------------------------------- Result 329 ---------------------------------------------\n",
            "[[Neutral (100%)]] --> [[[FAILED]]]\n",
            "\n",
            "Barclays Plc ( LSE : BARC ) ( NYSE : BCS ) , Credit Agricole SA ( EPA : ACA ) ( CAGR .\n",
            "\n",
            "\n"
          ]
        },
        {
          "output_type": "stream",
          "name": "stderr",
          "text": [
            "[Succeeded / Failed / Skipped / Total] 240 / 87 / 3 / 330:  12%|█▏        | 330/2713 [22:07<2:39:43,  4.02s/it]"
          ]
        },
        {
          "output_type": "stream",
          "name": "stdout",
          "text": [
            "--------------------------------------------- Result 330 ---------------------------------------------\n",
            "[[Negative (100%)]] --> [[Neutral (100%)]]\n",
            "\n",
            "Most of the [[layoffs]] will be in Finland .\n",
            "\n",
            "Most of the [[layoff]] will be in Finland .\n",
            "\n",
            "\n"
          ]
        },
        {
          "output_type": "stream",
          "name": "stderr",
          "text": [
            "[Succeeded / Failed / Skipped / Total] 241 / 87 / 3 / 331:  12%|█▏        | 331/2713 [22:11<2:39:39,  4.02s/it]"
          ]
        },
        {
          "output_type": "stream",
          "name": "stdout",
          "text": [
            "--------------------------------------------- Result 331 ---------------------------------------------\n",
            "[[Positive (100%)]] --> [[Negative (98%)]]\n",
            "\n",
            "In the beginning of this year , Wartsila had secured an [[order]] to deliver four gas-fuelled main engines and propulsion machinery for the same vessel .\n",
            "\n",
            "In the beginning of this year , Wartsila had secured an [[guild]] to deliver four gas-fuelled main engines and propulsion machinery for the same vessel .\n",
            "\n",
            "\n"
          ]
        },
        {
          "output_type": "stream",
          "name": "stderr",
          "text": [
            "[Succeeded / Failed / Skipped / Total] 241 / 88 / 3 / 332:  12%|█▏        | 332/2713 [22:22<2:40:24,  4.04s/it]"
          ]
        },
        {
          "output_type": "stream",
          "name": "stdout",
          "text": [
            "--------------------------------------------- Result 332 ---------------------------------------------\n",
            "[[Neutral (100%)]] --> [[[FAILED]]]\n",
            "\n",
            "According to Mark White , Locatrix Communications ' CEO , the company 's web services interface allows device owners , friends , and family to track and locate TWIG users via any web browser .\n",
            "\n",
            "\n"
          ]
        },
        {
          "output_type": "stream",
          "name": "stderr",
          "text": [
            "[Succeeded / Failed / Skipped / Total] 242 / 88 / 3 / 333:  12%|█▏        | 333/2713 [22:24<2:40:10,  4.04s/it]"
          ]
        },
        {
          "output_type": "stream",
          "name": "stdout",
          "text": [
            "--------------------------------------------- Result 333 ---------------------------------------------\n",
            "[[Positive (100%)]] --> [[Negative (99%)]]\n",
            "\n",
            "Operating profit [[rose]] from EUR 1.94 mn to EUR 2.45 mn .\n",
            "\n",
            "Operating profit [[uprise]] from EUR 1.94 mn to EUR 2.45 mn .\n",
            "\n",
            "\n"
          ]
        },
        {
          "output_type": "stream",
          "name": "stderr",
          "text": [
            "[Succeeded / Failed / Skipped / Total] 243 / 88 / 3 / 334:  12%|█▏        | 334/2713 [22:27<2:40:01,  4.04s/it]"
          ]
        },
        {
          "output_type": "stream",
          "name": "stdout",
          "text": [
            "--------------------------------------------- Result 334 ---------------------------------------------\n",
            "[[Neutral (100%)]] --> [[Negative (67%)]]\n",
            "\n",
            "19 May 2010 - Finnish company Lemminkainen Oyj ( HEL : LEM1S ) said today that it will [[construct]] an office building at Toolonlahti in downtown Helsinki , without disclosing financial details .\n",
            "\n",
            "19 May 2010 - Finnish company Lemminkainen Oyj ( HEL : LEM1S ) said today that it will [[retrace]] an office building at Toolonlahti in downtown Helsinki , without disclosing financial details .\n",
            "\n",
            "\n"
          ]
        },
        {
          "output_type": "stream",
          "name": "stderr",
          "text": [
            "[Succeeded / Failed / Skipped / Total] 244 / 88 / 3 / 335:  12%|█▏        | 335/2713 [22:35<2:40:22,  4.05s/it]"
          ]
        },
        {
          "output_type": "stream",
          "name": "stdout",
          "text": [
            "--------------------------------------------- Result 335 ---------------------------------------------\n",
            "[[Positive (99%)]] --> [[Neutral (86%)]]\n",
            "\n",
            "The broker highlights Cargotec as its preferred stock in the sector , as it is a pure play on global cargo and container handling , and it expects it to play an active role in further consolidating the [[industry]] .\n",
            "\n",
            "The broker highlights Cargotec as its preferred stock in the sector , as it is a pure play on global cargo and container handling , and it expects it to play an active role in further consolidating the [[diligence]] .\n",
            "\n",
            "\n"
          ]
        },
        {
          "output_type": "stream",
          "name": "stderr",
          "text": [
            "[Succeeded / Failed / Skipped / Total] 244 / 89 / 3 / 336:  12%|█▏        | 336/2713 [22:37<2:40:03,  4.04s/it]"
          ]
        },
        {
          "output_type": "stream",
          "name": "stdout",
          "text": [
            "--------------------------------------------- Result 336 ---------------------------------------------\n",
            "[[Neutral (100%)]] --> [[[FAILED]]]\n",
            "\n",
            "In Penttil+ñ 's vision , the most important reason for the transaction is Russia .\n",
            "\n",
            "\n"
          ]
        },
        {
          "output_type": "stream",
          "name": "stderr",
          "text": [
            "[Succeeded / Failed / Skipped / Total] 244 / 90 / 3 / 337:  12%|█▏        | 337/2713 [22:39<2:39:42,  4.03s/it]"
          ]
        },
        {
          "output_type": "stream",
          "name": "stdout",
          "text": [
            "--------------------------------------------- Result 337 ---------------------------------------------\n",
            "[[Neutral (100%)]] --> [[[FAILED]]]\n",
            "\n",
            "RL-Nordic is a part of Raiffeisen-Banking-Group Austria and is a subsidiary to Raiffeisen-Leasing GmbH in Austria .\n",
            "\n",
            "\n"
          ]
        },
        {
          "output_type": "stream",
          "name": "stderr",
          "text": [
            "[Succeeded / Failed / Skipped / Total] 245 / 90 / 3 / 338:  12%|█▏        | 338/2713 [22:41<2:39:29,  4.03s/it]"
          ]
        },
        {
          "output_type": "stream",
          "name": "stdout",
          "text": [
            "--------------------------------------------- Result 338 ---------------------------------------------\n",
            "[[Positive (100%)]] --> [[Neutral (96%)]]\n",
            "\n",
            "Our strong company brands - ESL Shipping , Leipurin , Telko and Kaukomarkkinat - aim to be the [[market]] leaders in their sectors .\n",
            "\n",
            "Our strong company brands - ESL Shipping , Leipurin , Telko and Kaukomarkkinat - aim to be the [[commercialise]] leaders in their sectors .\n",
            "\n",
            "\n"
          ]
        },
        {
          "output_type": "stream",
          "name": "stderr",
          "text": [
            "[Succeeded / Failed / Skipped / Total] 246 / 90 / 3 / 339:  12%|█▏        | 339/2713 [22:47<2:39:35,  4.03s/it]"
          ]
        },
        {
          "output_type": "stream",
          "name": "stdout",
          "text": [
            "--------------------------------------------- Result 339 ---------------------------------------------\n",
            "[[Positive (100%)]] --> [[Neutral (81%)]]\n",
            "\n",
            "However , Biohit estimates its total net sales will continue to [[grow]] in 2009 , and that favourable trends in net sales will lead to a profit in 2009 .\n",
            "\n",
            "However , Biohit estimates its total net sales will continue to [[mature]] in 2009 , and that favourable trends in net sales will lead to a profit in 2009 .\n",
            "\n",
            "\n"
          ]
        },
        {
          "output_type": "stream",
          "name": "stderr",
          "text": [
            "[Succeeded / Failed / Skipped / Total] 247 / 90 / 3 / 340:  13%|█▎        | 340/2713 [22:50<2:39:28,  4.03s/it]"
          ]
        },
        {
          "output_type": "stream",
          "name": "stdout",
          "text": [
            "--------------------------------------------- Result 340 ---------------------------------------------\n",
            "[[Positive (100%)]] --> [[Neutral (75%)]]\n",
            "\n",
            "[[I]] am [[looking]] forward to [[contribute]] to SRV 's [[success]] with my [[competence]] '' , says Taneli Hassinen .\n",
            "\n",
            "[[i]] am [[wait]] forward to [[give]] to SRV 's [[succeeder]] with my [[competency]] '' , says Taneli Hassinen .\n",
            "\n",
            "\n"
          ]
        },
        {
          "output_type": "stream",
          "name": "stderr",
          "text": [
            "[Succeeded / Failed / Skipped / Total] 248 / 90 / 3 / 341:  13%|█▎        | 341/2713 [22:56<2:39:33,  4.04s/it]"
          ]
        },
        {
          "output_type": "stream",
          "name": "stdout",
          "text": [
            "--------------------------------------------- Result 341 ---------------------------------------------\n",
            "[[Positive (100%)]] --> [[Negative (100%)]]\n",
            "\n",
            "According to Finnish insurance companies Tapiola , Local Insurance Group ( L+ñhivakuutus ) , and Pohjola the two fierce storms at the end of July and in the beginning of August 2010 that felled trees around Finland have [[speeded]] up sales of forest insurance .\n",
            "\n",
            "According to Finnish insurance companies Tapiola , Local Insurance Group ( L+ñhivakuutus ) , and Pohjola the two fierce storms at the end of July and in the beginning of August 2010 that felled trees around Finland have [[hie]] up sales of forest insurance .\n",
            "\n",
            "\n"
          ]
        },
        {
          "output_type": "stream",
          "name": "stderr",
          "text": [
            "[Succeeded / Failed / Skipped / Total] 249 / 90 / 3 / 342:  13%|█▎        | 342/2713 [22:58<2:39:17,  4.03s/it]"
          ]
        },
        {
          "output_type": "stream",
          "name": "stdout",
          "text": [
            "--------------------------------------------- Result 342 ---------------------------------------------\n",
            "[[Positive (99%)]] --> [[Neutral (100%)]]\n",
            "\n",
            "Return on investment was 16.6 % [[compared]] to 15.8 % in 2004 .\n",
            "\n",
            "Return on investment was 16.6 % [[liken]] to 15.8 % in 2004 .\n",
            "\n",
            "\n"
          ]
        },
        {
          "output_type": "stream",
          "name": "stderr",
          "text": [
            "[Succeeded / Failed / Skipped / Total] 250 / 90 / 3 / 343:  13%|█▎        | 343/2713 [23:08<2:39:53,  4.05s/it]"
          ]
        },
        {
          "output_type": "stream",
          "name": "stdout",
          "text": [
            "--------------------------------------------- Result 343 ---------------------------------------------\n",
            "[[Positive (100%)]] --> [[Neutral (74%)]]\n",
            "\n",
            "( ADP News ) - Sep 30 , 2008 - Finnish security and privacy software solutions developer Stonesoft Oyj [[said]] [[today]] that it won a USD [[1]].[[9]] [[million]] ( EUR 1.[[3]] m ) [[order]] to [[deliver]] its StoneGate [[network]] [[security]] [[products]] to an unnamed Russian te\n",
            "\n",
            "( ADP News ) - Sep 30 , 2008 - Finnish security and privacy software solutions developer Stonesoft Oyj [[allege]] [[nowadays]] that it won a USD [[one]].[[ennead]] [[meg]] ( EUR 1.[[troika]] m ) [[rank]] to [[cede]] its StoneGate [[net]] [[certificate]] [[product]] to an unnamed Russian te\n",
            "\n",
            "\n"
          ]
        },
        {
          "output_type": "stream",
          "name": "stderr",
          "text": [
            "[Succeeded / Failed / Skipped / Total] 250 / 91 / 3 / 344:  13%|█▎        | 344/2713 [23:10<2:39:34,  4.04s/it]"
          ]
        },
        {
          "output_type": "stream",
          "name": "stdout",
          "text": [
            "--------------------------------------------- Result 344 ---------------------------------------------\n",
            "[[Neutral (100%)]] --> [[[FAILED]]]\n",
            "\n",
            "Poyry is a global expert in consulting and engineering .\n",
            "\n",
            "\n"
          ]
        },
        {
          "output_type": "stream",
          "name": "stderr",
          "text": [
            "[Succeeded / Failed / Skipped / Total] 251 / 91 / 3 / 345:  13%|█▎        | 345/2713 [23:15<2:39:39,  4.05s/it]"
          ]
        },
        {
          "output_type": "stream",
          "name": "stdout",
          "text": [
            "--------------------------------------------- Result 345 ---------------------------------------------\n",
            "[[Neutral (100%)]] --> [[Positive (98%)]]\n",
            "\n",
            "The building owner and developer , Sun Hung Kai Properties Group , is [[one]] of the largest property companies in Hong Kong , developing all types of premium residential and commercial projects for sale and investment .\n",
            "\n",
            "The building owner and developer , Sun Hung Kai Properties Group , is [[unmatched]] of the largest property companies in Hong Kong , developing all types of premium residential and commercial projects for sale and investment .\n",
            "\n",
            "\n"
          ]
        },
        {
          "output_type": "stream",
          "name": "stderr",
          "text": [
            "[Succeeded / Failed / Skipped / Total] 252 / 91 / 3 / 346:  13%|█▎        | 346/2713 [23:17<2:39:21,  4.04s/it]"
          ]
        },
        {
          "output_type": "stream",
          "name": "stdout",
          "text": [
            "--------------------------------------------- Result 346 ---------------------------------------------\n",
            "[[Positive (100%)]] --> [[Neutral (100%)]]\n",
            "\n",
            "Cash flow from operating activities is estimated to be [[positive]] .\n",
            "\n",
            "Cash flow from operating activities is estimated to be [[prescribed]] .\n",
            "\n",
            "\n"
          ]
        },
        {
          "output_type": "stream",
          "name": "stderr",
          "text": [
            "[Succeeded / Failed / Skipped / Total] 253 / 91 / 3 / 347:  13%|█▎        | 347/2713 [23:20<2:39:07,  4.04s/it]"
          ]
        },
        {
          "output_type": "stream",
          "name": "stdout",
          "text": [
            "--------------------------------------------- Result 347 ---------------------------------------------\n",
            "[[Neutral (100%)]] --> [[Positive (73%)]]\n",
            "\n",
            "The Russian [[government]] will [[contribute]] [[20]] % of the necessary [[funds]] , he [[said]] .\n",
            "\n",
            "The Russian [[politics]] will [[bestow]] [[XX]] % of the necessary [[finances]] , he [[pronounce]] .\n",
            "\n",
            "\n"
          ]
        },
        {
          "output_type": "stream",
          "name": "stderr",
          "text": [
            "[Succeeded / Failed / Skipped / Total] 254 / 91 / 3 / 348:  13%|█▎        | 348/2713 [23:22<2:38:51,  4.03s/it]"
          ]
        },
        {
          "output_type": "stream",
          "name": "stdout",
          "text": [
            "--------------------------------------------- Result 348 ---------------------------------------------\n",
            "[[Positive (100%)]] --> [[Neutral (99%)]]\n",
            "\n",
            "The soapstone deposits in the Medvezhyegorsk area are [[expected]] to increase Tulikivi 's current reserves considerably .\n",
            "\n",
            "The soapstone deposits in the Medvezhyegorsk area are [[require]] to increase Tulikivi 's current reserves considerably .\n",
            "\n",
            "\n"
          ]
        },
        {
          "output_type": "stream",
          "name": "stderr",
          "text": [
            "[Succeeded / Failed / Skipped / Total] 255 / 91 / 3 / 349:  13%|█▎        | 349/2713 [23:27<2:38:53,  4.03s/it]"
          ]
        },
        {
          "output_type": "stream",
          "name": "stdout",
          "text": [
            "--------------------------------------------- Result 349 ---------------------------------------------\n",
            "[[Neutral (100%)]] --> [[Negative (54%)]]\n",
            "\n",
            "The cosmetics [[collection]] [[includes]] an [[eye]] [[shadow]] , face powder , [[lip]] [[gloss]] , mascara and accessories .\n",
            "\n",
            "The cosmetics [[accumulation]] [[admit]] an [[eyeball]] [[dark]] , face powder , [[mouth]] [[burnish]] , mascara and accessories .\n",
            "\n",
            "\n"
          ]
        },
        {
          "output_type": "stream",
          "name": "stderr",
          "text": [
            "[Succeeded / Failed / Skipped / Total] 256 / 91 / 3 / 350:  13%|█▎        | 350/2713 [23:32<2:38:59,  4.04s/it]"
          ]
        },
        {
          "output_type": "stream",
          "name": "stdout",
          "text": [
            "--------------------------------------------- Result 350 ---------------------------------------------\n",
            "[[Positive (100%)]] --> [[Neutral (100%)]]\n",
            "\n",
            "Dirk Jones , head of Financial Institutions Client Sales Management , GTS , Citigroup , Inc , said , ` Citi is [[extremely]] [[pleased]] to be [[providing]] [[global]] custody services to Pohjola Group Bank .\n",
            "\n",
            "Dirk Jones , head of Financial Institutions Client Sales Management , GTS , Citigroup , Inc , said , ` Citi is [[passing]] [[delight]] to be [[leave]] [[spherical]] custody services to Pohjola Group Bank .\n",
            "\n",
            "\n"
          ]
        },
        {
          "output_type": "stream",
          "name": "stderr",
          "text": [
            "[Succeeded / Failed / Skipped / Total] 257 / 91 / 3 / 351:  13%|█▎        | 351/2713 [23:35<2:38:48,  4.03s/it]"
          ]
        },
        {
          "output_type": "stream",
          "name": "stdout",
          "text": [
            "--------------------------------------------- Result 351 ---------------------------------------------\n",
            "[[Neutral (100%)]] --> [[Positive (96%)]]\n",
            "\n",
            "The desk will [[reach]] its full planned [[strength]] of ten persons in autumn 2007 .\n",
            "\n",
            "The desk will [[gain]] its full planned [[enduringness]] of ten persons in autumn 2007 .\n",
            "\n",
            "\n"
          ]
        },
        {
          "output_type": "stream",
          "name": "stderr",
          "text": [
            "[Succeeded / Failed / Skipped / Total] 258 / 91 / 3 / 352:  13%|█▎        | 352/2713 [23:42<2:39:03,  4.04s/it]"
          ]
        },
        {
          "output_type": "stream",
          "name": "stdout",
          "text": [
            "--------------------------------------------- Result 352 ---------------------------------------------\n",
            "[[Neutral (100%)]] --> [[Negative (91%)]]\n",
            "\n",
            "`` The [[rest]] of this week 's [[tapings]] of [[Jimmy]] Kimmel [[Live]] have been [[canceled]] until he is [[back]] on his [[feet]] .\n",
            "\n",
            "`` The [[residuum]] of this week 's [[knock]] of [[jimmy]] Kimmel [[subsist]] have been [[invalidate]] until he is [[punt]] on his [[groundwork]] .\n",
            "\n",
            "\n"
          ]
        },
        {
          "output_type": "stream",
          "name": "stderr",
          "text": [
            "[Succeeded / Failed / Skipped / Total] 258 / 92 / 3 / 353:  13%|█▎        | 353/2713 [23:44<2:38:43,  4.04s/it]"
          ]
        },
        {
          "output_type": "stream",
          "name": "stdout",
          "text": [
            "--------------------------------------------- Result 353 ---------------------------------------------\n",
            "[[Neutral (100%)]] --> [[[FAILED]]]\n",
            "\n",
            "Its customers include local companies Slo Oy , Kiilto Oy , Toptronics Oy , Normark Suomi Oy , Pellonpaja Oy and Mansner Oy .\n",
            "\n",
            "\n"
          ]
        },
        {
          "output_type": "stream",
          "name": "stderr",
          "text": [
            "[Succeeded / Failed / Skipped / Total] 259 / 92 / 3 / 354:  13%|█▎        | 354/2713 [23:48<2:38:41,  4.04s/it]"
          ]
        },
        {
          "output_type": "stream",
          "name": "stdout",
          "text": [
            "--------------------------------------------- Result 354 ---------------------------------------------\n",
            "[[Neutral (100%)]] --> [[Negative (90%)]]\n",
            "\n",
            "[[A]] structures BIM ( building [[information]] [[modeling]] ) software from Tekla , a model-based software provider , has been [[adopted]] for the [[construction]] management and delivery of a university project in Abu Dhabi .\n",
            "\n",
            "[[axerophthol]] structures BIM ( building [[info]] [[posture]] ) software from Tekla , a model-based software provider , has been [[dramatise]] for the [[twist]] management and delivery of a university project in Abu Dhabi .\n",
            "\n",
            "\n"
          ]
        },
        {
          "output_type": "stream",
          "name": "stderr",
          "text": [
            "[Succeeded / Failed / Skipped / Total] 260 / 92 / 3 / 355:  13%|█▎        | 355/2713 [23:55<2:38:58,  4.05s/it]"
          ]
        },
        {
          "output_type": "stream",
          "name": "stdout",
          "text": [
            "--------------------------------------------- Result 355 ---------------------------------------------\n",
            "[[Neutral (100%)]] --> [[Positive (93%)]]\n",
            "\n",
            "The other deal is for [[process]] [[cranes]] to the Russian steel [[mill]] PNTZ in Pervorouralsky through an order [[placed]] by Turkish construction company Gama Endustri Tesisleri Imalat ve Montaj AS .\n",
            "\n",
            "The other deal is for [[outgrowth]] [[Crane]] to the Russian steel [[manufactory]] PNTZ in Pervorouralsky through an order [[order]] by Turkish construction company Gama Endustri Tesisleri Imalat ve Montaj AS .\n",
            "\n",
            "\n"
          ]
        },
        {
          "output_type": "stream",
          "name": "stderr",
          "text": [
            "[Succeeded / Failed / Skipped / Total] 260 / 93 / 3 / 356:  13%|█▎        | 356/2713 [23:57<2:38:35,  4.04s/it]"
          ]
        },
        {
          "output_type": "stream",
          "name": "stdout",
          "text": [
            "--------------------------------------------- Result 356 ---------------------------------------------\n",
            "[[Neutral (100%)]] --> [[[FAILED]]]\n",
            "\n",
            "The company has 120 employees and annual sales of approximately EUR16m .\n",
            "\n",
            "\n"
          ]
        },
        {
          "output_type": "stream",
          "name": "stderr",
          "text": [
            "[Succeeded / Failed / Skipped / Total] 261 / 93 / 3 / 357:  13%|█▎        | 357/2713 [24:00<2:38:26,  4.03s/it]"
          ]
        },
        {
          "output_type": "stream",
          "name": "stdout",
          "text": [
            "--------------------------------------------- Result 357 ---------------------------------------------\n",
            "[[Positive (100%)]] --> [[Neutral (100%)]]\n",
            "\n",
            "`` We have [[significant]] experience in smartphone functionality , in the development of mobile Internet services , and in uniting the two into a [[smooth]] user experience .\n",
            "\n",
            "`` We have [[pregnant]] experience in smartphone functionality , in the development of mobile Internet services , and in uniting the two into a [[politic]] user experience .\n",
            "\n",
            "\n"
          ]
        },
        {
          "output_type": "stream",
          "name": "stderr",
          "text": [
            "[Succeeded / Failed / Skipped / Total] 262 / 93 / 3 / 358:  13%|█▎        | 358/2713 [24:09<2:38:56,  4.05s/it]"
          ]
        },
        {
          "output_type": "stream",
          "name": "stdout",
          "text": [
            "--------------------------------------------- Result 358 ---------------------------------------------\n",
            "[[Neutral (100%)]] --> [[Positive (95%)]]\n",
            "\n",
            "SSH Establishes New Global Sales and Marketing Group to be [[led]] by George Adams ; Adams [[Establishes]] Global Sales and Marketing Group to Drive Worldwide Programs [[Supporting]] SSH Tectia Enterprise Security Solutions\n",
            "\n",
            "SSH Establishes New Global Sales and Marketing Group to be [[contribute]] by George Adams ; Adams [[launch]] Global Sales and Marketing Group to Drive Worldwide Programs [[encouraging]] SSH Tectia Enterprise Security Solutions\n",
            "\n",
            "\n"
          ]
        },
        {
          "output_type": "stream",
          "name": "stderr",
          "text": [
            "[Succeeded / Failed / Skipped / Total] 263 / 93 / 3 / 359:  13%|█▎        | 359/2713 [24:11<2:38:38,  4.04s/it]"
          ]
        },
        {
          "output_type": "stream",
          "name": "stdout",
          "text": [
            "--------------------------------------------- Result 359 ---------------------------------------------\n",
            "[[Neutral (100%)]] --> [[Positive (99%)]]\n",
            "\n",
            "The right margin will be [[viewed]] [[separately]] in [[detail]] with every customer .\n",
            "\n",
            "The right margin will be [[catch]] [[severally]] in [[particular]] with every customer .\n",
            "\n",
            "\n"
          ]
        },
        {
          "output_type": "stream",
          "name": "stderr",
          "text": [
            "[Succeeded / Failed / Skipped / Total] 264 / 93 / 3 / 360:  13%|█▎        | 360/2713 [24:14<2:38:27,  4.04s/it]"
          ]
        },
        {
          "output_type": "stream",
          "name": "stdout",
          "text": [
            "--------------------------------------------- Result 360 ---------------------------------------------\n",
            "[[Positive (100%)]] --> [[Negative (69%)]]\n",
            "\n",
            "[[However]] , the bottom-line [[result]] [[improved]] thanks to [[positive]] financial [[items]] .\n",
            "\n",
            "[[however]] , the bottom-line [[upshot]] [[meliorate]] thanks to [[positivist]] financial [[token]] .\n",
            "\n",
            "\n"
          ]
        },
        {
          "output_type": "stream",
          "name": "stderr",
          "text": [
            "[Succeeded / Failed / Skipped / Total] 265 / 93 / 3 / 361:  13%|█▎        | 361/2713 [24:18<2:38:25,  4.04s/it]"
          ]
        },
        {
          "output_type": "stream",
          "name": "stdout",
          "text": [
            "--------------------------------------------- Result 361 ---------------------------------------------\n",
            "[[Positive (100%)]] --> [[Neutral (83%)]]\n",
            "\n",
            "SysOpen Digia had [[signed]] an agreement with the main shareholders of Sentera holding in total 77.39 % of the share capital and votes of Sentera .\n",
            "\n",
            "SysOpen Digia had [[ratify]] an agreement with the main shareholders of Sentera holding in total 77.39 % of the share capital and votes of Sentera .\n",
            "\n",
            "\n"
          ]
        },
        {
          "output_type": "stream",
          "name": "stderr",
          "text": [
            "[Succeeded / Failed / Skipped / Total] 265 / 94 / 3 / 362:  13%|█▎        | 362/2713 [24:21<2:38:14,  4.04s/it]"
          ]
        },
        {
          "output_type": "stream",
          "name": "stdout",
          "text": [
            "--------------------------------------------- Result 362 ---------------------------------------------\n",
            "[[Neutral (100%)]] --> [[[FAILED]]]\n",
            "\n",
            "hu will offer a further discount of between 25 % and 50 % on selected books .\n",
            "\n",
            "\n"
          ]
        },
        {
          "output_type": "stream",
          "name": "stderr",
          "text": [
            "[Succeeded / Failed / Skipped / Total] 266 / 94 / 3 / 363:  13%|█▎        | 363/2713 [24:23<2:37:57,  4.03s/it]"
          ]
        },
        {
          "output_type": "stream",
          "name": "stdout",
          "text": [
            "--------------------------------------------- Result 363 ---------------------------------------------\n",
            "[[Neutral (100%)]] --> [[Negative (100%)]]\n",
            "\n",
            "The retail chain [[launched]] in 2007 does not correspond to profit and sales forecasts of the company .\n",
            "\n",
            "The retail chain [[plunge]] in 2007 does not correspond to profit and sales forecasts of the company .\n",
            "\n",
            "\n"
          ]
        },
        {
          "output_type": "stream",
          "name": "stderr",
          "text": [
            "[Succeeded / Failed / Skipped / Total] 267 / 94 / 3 / 364:  13%|█▎        | 364/2713 [24:29<2:38:03,  4.04s/it]"
          ]
        },
        {
          "output_type": "stream",
          "name": "stdout",
          "text": [
            "--------------------------------------------- Result 364 ---------------------------------------------\n",
            "[[Neutral (100%)]] --> [[Negative (92%)]]\n",
            "\n",
            "The order includes a steel frame , load-bearing roof structures and partition wall elements , and Rautaruukki said it expects to [[complete]] installation as early as May next year .\n",
            "\n",
            "The order includes a steel frame , load-bearing roof structures and partition wall elements , and Rautaruukki said it expects to [[terminated]] installation as early as May next year .\n",
            "\n",
            "\n"
          ]
        },
        {
          "output_type": "stream",
          "name": "stderr",
          "text": [
            "[Succeeded / Failed / Skipped / Total] 268 / 94 / 3 / 365:  13%|█▎        | 365/2713 [24:39<2:38:38,  4.05s/it]"
          ]
        },
        {
          "output_type": "stream",
          "name": "stdout",
          "text": [
            "--------------------------------------------- Result 365 ---------------------------------------------\n",
            "[[Positive (100%)]] --> [[Neutral (100%)]]\n",
            "\n",
            "To [[prove]] the efficiency of the [[China]] Mobile [[system]] , [[Rod]] Baber , an English [[climber]] , [[climbed]] to the Mount Everest [[summit]] and successfully [[made]] [[calls]] .\n",
            "\n",
            "To [[establish]] the efficiency of the [[china]] Mobile [[organisation]] , [[rod]] Baber , an English [[crampoon]] , [[wax]] to the Mount Everest [[pinnacle]] and successfully [[wee-wee]] [[name]] .\n",
            "\n",
            "\n"
          ]
        },
        {
          "output_type": "stream",
          "name": "stderr",
          "text": [
            "[Succeeded / Failed / Skipped / Total] 269 / 94 / 3 / 366:  13%|█▎        | 366/2713 [24:42<2:38:26,  4.05s/it]"
          ]
        },
        {
          "output_type": "stream",
          "name": "stdout",
          "text": [
            "--------------------------------------------- Result 366 ---------------------------------------------\n",
            "[[Negative (100%)]] --> [[Positive (99%)]]\n",
            "\n",
            "Kone shares [[dropped]] 4.1 percent to  x20ac 43 US$ 55.77 in Helsinki .\n",
            "\n",
            "Kone shares [[drip]] 4.1 percent to  x20ac 43 US$ 55.77 in Helsinki .\n",
            "\n",
            "\n"
          ]
        },
        {
          "output_type": "stream",
          "name": "stderr",
          "text": [
            "[Succeeded / Failed / Skipped / Total] 270 / 94 / 3 / 367:  14%|█▎        | 367/2713 [24:43<2:38:04,  4.04s/it]"
          ]
        },
        {
          "output_type": "stream",
          "name": "stdout",
          "text": [
            "--------------------------------------------- Result 367 ---------------------------------------------\n",
            "[[Neutral (100%)]] --> [[Negative (100%)]]\n",
            "\n",
            "The turbines are expected to be [[launched]] by the end of 2012 .\n",
            "\n",
            "The turbines are expected to be [[plunge]] by the end of 2012 .\n",
            "\n",
            "\n"
          ]
        },
        {
          "output_type": "stream",
          "name": "stderr",
          "text": [
            "[Succeeded / Failed / Skipped / Total] 271 / 94 / 3 / 368:  14%|█▎        | 368/2713 [24:49<2:38:13,  4.05s/it]"
          ]
        },
        {
          "output_type": "stream",
          "name": "stdout",
          "text": [
            "--------------------------------------------- Result 368 ---------------------------------------------\n",
            "[[Neutral (100%)]] --> [[Positive (84%)]]\n",
            "\n",
            "The Oxyview Pulse Oximeter is a [[common]] device to [[check]] patient blood-oxygen saturation level and pulse rate .\n",
            "\n",
            "The Oxyview Pulse Oximeter is a [[mutual]] device to [[jibe]] patient blood-oxygen saturation level and pulse rate .\n",
            "\n",
            "\n"
          ]
        },
        {
          "output_type": "stream",
          "name": "stderr",
          "text": [
            "[Succeeded / Failed / Skipped / Total] 272 / 94 / 3 / 369:  14%|█▎        | 369/2713 [24:56<2:38:24,  4.05s/it]"
          ]
        },
        {
          "output_type": "stream",
          "name": "stdout",
          "text": [
            "--------------------------------------------- Result 369 ---------------------------------------------\n",
            "[[Neutral (100%)]] --> [[Positive (94%)]]\n",
            "\n",
            "The [[new]] company will [[buy]] from Baltic Pearl CJSC a [[lease]] [[right]] to 8.1 hectares for the construction of a mall with a gross area of 140,000 sq m 1.5 million sq ft .\n",
            "\n",
            "The [[raw]] company will [[bargain]] from Baltic Pearl CJSC a [[hire]] [[decently]] to 8.1 hectares for the construction of a mall with a gross area of 140,000 sq m 1.5 million sq ft .\n",
            "\n",
            "\n"
          ]
        },
        {
          "output_type": "stream",
          "name": "stderr",
          "text": [
            "[Succeeded / Failed / Skipped / Total] 273 / 94 / 3 / 370:  14%|█▎        | 370/2713 [24:58<2:38:07,  4.05s/it]"
          ]
        },
        {
          "output_type": "stream",
          "name": "stdout",
          "text": [
            "--------------------------------------------- Result 370 ---------------------------------------------\n",
            "[[Neutral (100%)]] --> [[Positive (100%)]]\n",
            "\n",
            "The studies are expected to [[start]] in 2008 .\n",
            "\n",
            "The studies are expected to [[jump]] in 2008 .\n",
            "\n",
            "\n"
          ]
        },
        {
          "output_type": "stream",
          "name": "stderr",
          "text": [
            "[Succeeded / Failed / Skipped / Total] 273 / 95 / 3 / 371:  14%|█▎        | 371/2713 [25:01<2:37:58,  4.05s/it]"
          ]
        },
        {
          "output_type": "stream",
          "name": "stdout",
          "text": [
            "--------------------------------------------- Result 371 ---------------------------------------------\n",
            "[[Neutral (100%)]] --> [[[FAILED]]]\n",
            "\n",
            "According to statistics by the Finnish Maritime Administration , shipping did not increase much in January-August 2009 , however .\n",
            "\n",
            "\n"
          ]
        },
        {
          "output_type": "stream",
          "name": "stderr",
          "text": [
            "[Succeeded / Failed / Skipped / Total] 273 / 96 / 3 / 372:  14%|█▎        | 372/2713 [25:03<2:37:44,  4.04s/it]"
          ]
        },
        {
          "output_type": "stream",
          "name": "stdout",
          "text": [
            "--------------------------------------------- Result 372 ---------------------------------------------\n",
            "[[Neutral (100%)]] --> [[[FAILED]]]\n",
            "\n",
            "The objective is that trading in the shares will commence on May 2 , 2007 .\n",
            "\n",
            "\n"
          ]
        },
        {
          "output_type": "stream",
          "name": "stderr",
          "text": [
            "[Succeeded / Failed / Skipped / Total] 274 / 96 / 3 / 373:  14%|█▎        | 373/2713 [25:08<2:37:44,  4.04s/it]"
          ]
        },
        {
          "output_type": "stream",
          "name": "stdout",
          "text": [
            "--------------------------------------------- Result 373 ---------------------------------------------\n",
            "[[Neutral (100%)]] --> [[Negative (100%)]]\n",
            "\n",
            "Wayne Greensmith , Fiskars Brands UK senior brand manager , said : `` We have [[launched]] this as we want to give something back to the community .\n",
            "\n",
            "Wayne Greensmith , Fiskars Brands UK senior brand manager , said : `` We have [[plunge]] this as we want to give something back to the community .\n",
            "\n",
            "\n"
          ]
        },
        {
          "output_type": "stream",
          "name": "stderr",
          "text": [
            "[Succeeded / Failed / Skipped / Total] 275 / 96 / 3 / 374:  14%|█▍        | 374/2713 [25:13<2:37:48,  4.05s/it]"
          ]
        },
        {
          "output_type": "stream",
          "name": "stdout",
          "text": [
            "--------------------------------------------- Result 374 ---------------------------------------------\n",
            "[[Positive (100%)]] --> [[Negative (100%)]]\n",
            "\n",
            "26 January 2011 - Finnish metal products company Componenta Oyj ( HEL : CTH1V ) said yesterday its net loss [[narrowed]] to EUR500 ,000 in the last quarter of 2010 from EUR5 .3 m for the same period a year earlier .\n",
            "\n",
            "26 January 2011 - Finnish metal products company Componenta Oyj ( HEL : CTH1V ) said yesterday its net loss [[constrict]] to EUR500 ,000 in the last quarter of 2010 from EUR5 .3 m for the same period a year earlier .\n",
            "\n",
            "\n"
          ]
        },
        {
          "output_type": "stream",
          "name": "stderr",
          "text": [
            "[Succeeded / Failed / Skipped / Total] 275 / 97 / 3 / 375:  14%|█▍        | 375/2713 [25:17<2:37:39,  4.05s/it]"
          ]
        },
        {
          "output_type": "stream",
          "name": "stdout",
          "text": [
            "--------------------------------------------- Result 375 ---------------------------------------------\n",
            "[[Positive (100%)]] --> [[[FAILED]]]\n",
            "\n",
            "Operating profit was EUR 139.7 mn , up 23 % from EUR 113.8 mn .\n",
            "\n",
            "\n"
          ]
        },
        {
          "output_type": "stream",
          "name": "stderr",
          "text": [
            "[Succeeded / Failed / Skipped / Total] 276 / 97 / 3 / 376:  14%|█▍        | 376/2713 [25:21<2:37:35,  4.05s/it]"
          ]
        },
        {
          "output_type": "stream",
          "name": "stdout",
          "text": [
            "--------------------------------------------- Result 376 ---------------------------------------------\n",
            "[[Neutral (100%)]] --> [[Negative (95%)]]\n",
            "\n",
            "Apart from Nordea , also Ergo is [[competing]] for the [[position]] among the top three pension funds providers in Estonia .\n",
            "\n",
            "Apart from Nordea , also Ergo is [[contend]] for the [[stead]] among the top three pension funds providers in Estonia .\n",
            "\n",
            "\n"
          ]
        },
        {
          "output_type": "stream",
          "name": "stderr",
          "text": [
            "[Succeeded / Failed / Skipped / Total] 276 / 98 / 3 / 377:  14%|█▍        | 377/2713 [25:26<2:37:36,  4.05s/it]"
          ]
        },
        {
          "output_type": "stream",
          "name": "stdout",
          "text": [
            "--------------------------------------------- Result 377 ---------------------------------------------\n",
            "[[Negative (100%)]] --> [[[FAILED]]]\n",
            "\n",
            "They will cover all Forest Industry 's units and employees in Finland and concern temporary and permanent lay-offs .\n",
            "\n",
            "\n"
          ]
        },
        {
          "output_type": "stream",
          "name": "stderr",
          "text": [
            "[Succeeded / Failed / Skipped / Total] 277 / 98 / 3 / 378:  14%|█▍        | 378/2713 [25:29<2:37:27,  4.05s/it]"
          ]
        },
        {
          "output_type": "stream",
          "name": "stdout",
          "text": [
            "--------------------------------------------- Result 378 ---------------------------------------------\n",
            "[[Positive (100%)]] --> [[Neutral (100%)]]\n",
            "\n",
            "The chain posted sales of 298 million euros for full 2005 , a [[rise]] of 19.5 percent , year-on-year .\n",
            "\n",
            "The chain posted sales of 298 million euros for full 2005 , a [[procession]] of 19.5 percent , year-on-year .\n",
            "\n",
            "\n"
          ]
        },
        {
          "output_type": "stream",
          "name": "stderr",
          "text": [
            "[Succeeded / Failed / Skipped / Total] 277 / 99 / 3 / 379:  14%|█▍        | 379/2713 [25:34<2:37:31,  4.05s/it]"
          ]
        },
        {
          "output_type": "stream",
          "name": "stdout",
          "text": [
            "--------------------------------------------- Result 379 ---------------------------------------------\n",
            "[[Neutral (100%)]] --> [[[FAILED]]]\n",
            "\n",
            "Capital base and capital adequacy measurement is based on approaches under Basel II .\n",
            "\n",
            "\n"
          ]
        },
        {
          "output_type": "stream",
          "name": "stderr",
          "text": [
            "[Succeeded / Failed / Skipped / Total] 278 / 99 / 3 / 380:  14%|█▍        | 380/2713 [25:37<2:37:19,  4.05s/it]"
          ]
        },
        {
          "output_type": "stream",
          "name": "stdout",
          "text": [
            "--------------------------------------------- Result 380 ---------------------------------------------\n",
            "[[Positive (100%)]] --> [[Neutral (48%)]]\n",
            "\n",
            "HELSINKI ( AFX ) - Retail and wholesale group Kesko reported net sales of 659.4 mln eur for February , an [[increase]] of 10.8 pct year-on-year .\n",
            "\n",
            "HELSINKI ( AFX ) - Retail and wholesale group Kesko reported net sales of 659.4 mln eur for February , an [[increment]] of 10.8 pct year-on-year .\n",
            "\n",
            "\n"
          ]
        },
        {
          "output_type": "stream",
          "name": "stderr",
          "text": [
            "[Succeeded / Failed / Skipped / Total] 279 / 99 / 3 / 381:  14%|█▍        | 381/2713 [25:42<2:37:23,  4.05s/it]"
          ]
        },
        {
          "output_type": "stream",
          "name": "stdout",
          "text": [
            "--------------------------------------------- Result 381 ---------------------------------------------\n",
            "[[Negative (100%)]] --> [[Neutral (55%)]]\n",
            "\n",
            "Kone said in court papers that the union action [[delayed]] repairs to elevators at the federal courthouse on Jan. 21 and the Saltonstall state office building on Jan. 23 .\n",
            "\n",
            "Kone said in court papers that the union action [[check]] repairs to elevators at the federal courthouse on Jan. 21 and the Saltonstall state office building on Jan. 23 .\n",
            "\n",
            "\n"
          ]
        },
        {
          "output_type": "stream",
          "name": "stderr",
          "text": [
            "[Succeeded / Failed / Skipped / Total] 280 / 99 / 3 / 382:  14%|█▍        | 382/2713 [25:45<2:37:08,  4.04s/it]"
          ]
        },
        {
          "output_type": "stream",
          "name": "stdout",
          "text": [
            "--------------------------------------------- Result 382 ---------------------------------------------\n",
            "[[Neutral (100%)]] --> [[Positive (96%)]]\n",
            "\n",
            "According to Finnair Technical Services , the [[measure]] is above all due to the employment situation .\n",
            "\n",
            "According to Finnair Technical Services , the [[beat]] is above all due to the employment situation .\n",
            "\n",
            "\n"
          ]
        },
        {
          "output_type": "stream",
          "name": "stderr",
          "text": [
            "[Succeeded / Failed / Skipped / Total] 281 / 99 / 3 / 383:  14%|█▍        | 383/2713 [25:48<2:37:00,  4.04s/it]"
          ]
        },
        {
          "output_type": "stream",
          "name": "stdout",
          "text": [
            "--------------------------------------------- Result 383 ---------------------------------------------\n",
            "[[Neutral (97%)]] --> [[Positive (65%)]]\n",
            "\n",
            "Nokia will provide Indosat [[turnkey]] services , including civil works , network planning , implementation and integration of a WCDMA 3G-HSPA [[network]] .\n",
            "\n",
            "Nokia will provide Indosat [[gaoler]] services , including civil works , network planning , implementation and integration of a WCDMA 3G-HSPA [[meshing]] .\n",
            "\n",
            "\n"
          ]
        },
        {
          "output_type": "stream",
          "name": "stderr",
          "text": [
            "[Succeeded / Failed / Skipped / Total] 282 / 99 / 3 / 384:  14%|█▍        | 384/2713 [25:54<2:37:06,  4.05s/it]"
          ]
        },
        {
          "output_type": "stream",
          "name": "stdout",
          "text": [
            "--------------------------------------------- Result 384 ---------------------------------------------\n",
            "[[Negative (100%)]] --> [[Positive (53%)]]\n",
            "\n",
            "Finnish Bank of +àland reports operating [[profit]] of EUR 2.2 [[mn]] in the first quarter of 2010 , down from EUR 6.[[3]] mn in the corresponding period in 2009 .\n",
            "\n",
            "Finnish Bank of +àland reports operating [[gain]] of EUR 2.2 [[MN]] in the first quarter of 2010 , down from EUR 6.[[deuce-ace]] mn in the corresponding period in 2009 .\n",
            "\n",
            "\n"
          ]
        },
        {
          "output_type": "stream",
          "name": "stderr",
          "text": [
            "[Succeeded / Failed / Skipped / Total] 283 / 99 / 3 / 385:  14%|█▍        | 385/2713 [25:57<2:36:54,  4.04s/it]"
          ]
        },
        {
          "output_type": "stream",
          "name": "stdout",
          "text": [
            "--------------------------------------------- Result 385 ---------------------------------------------\n",
            "[[Neutral (100%)]] --> [[Negative (94%)]]\n",
            "\n",
            "- The Group -¦ s [[result]] before taxes was a loss of EUR 0.6 ( +0.6 ) [[million]] .\n",
            "\n",
            "- The Group -¦ s [[upshot]] before taxes was a loss of EUR 0.6 ( +0.6 ) [[trillion]] .\n",
            "\n",
            "\n"
          ]
        },
        {
          "output_type": "stream",
          "name": "stderr",
          "text": [
            "[Succeeded / Failed / Skipped / Total] 284 / 99 / 3 / 386:  14%|█▍        | 386/2713 [26:04<2:37:13,  4.05s/it]"
          ]
        },
        {
          "output_type": "stream",
          "name": "stdout",
          "text": [
            "--------------------------------------------- Result 386 ---------------------------------------------\n",
            "[[Negative (100%)]] --> [[Neutral (100%)]]\n",
            "\n",
            "ADP News - Feb 13 , 2009 - Finnish retailer Kesko Oyj HEL : KESBV [[said]] [[today]] its [[total]] [[sales]] , excluding value added tax VAT , [[stood]] at EUR 661.[[3]] [[million]] USD 853.[[1]] m in January 2009 , down [[15]].[[2]] % year-on-yea\n",
            "\n",
            "ADP News - Feb 13 , 2009 - Finnish retailer Kesko Oyj HEL : KESBV [[state]] [[now]] its [[amount]] [[sale]] , excluding value added tax VAT , [[bear]] at EUR 661.[[deuce-ace]] [[jillion]] USD 853.[[I]] m in January 2009 , down [[xv]].[[deuce]] % year-on-yea\n",
            "\n",
            "\n"
          ]
        },
        {
          "output_type": "stream",
          "name": "stderr",
          "text": [
            "[Succeeded / Failed / Skipped / Total] 285 / 99 / 3 / 387:  14%|█▍        | 387/2713 [26:08<2:37:08,  4.05s/it]"
          ]
        },
        {
          "output_type": "stream",
          "name": "stdout",
          "text": [
            "--------------------------------------------- Result 387 ---------------------------------------------\n",
            "[[Negative (100%)]] --> [[Neutral (100%)]]\n",
            "\n",
            "We have also [[cut]] our price projections for paper and packaging , '' an analyst with Goldman Sachs said on a note on Monday .\n",
            "\n",
            "We have also [[edit]] our price projections for paper and packaging , '' an analyst with Goldman Sachs said on a note on Monday .\n",
            "\n",
            "\n"
          ]
        },
        {
          "output_type": "stream",
          "name": "stderr",
          "text": [
            "[Succeeded / Failed / Skipped / Total] 286 / 99 / 3 / 388:  14%|█▍        | 388/2713 [26:11<2:36:58,  4.05s/it]"
          ]
        },
        {
          "output_type": "stream",
          "name": "stdout",
          "text": [
            "--------------------------------------------- Result 388 ---------------------------------------------\n",
            "[[Negative (100%)]] --> [[Neutral (100%)]]\n",
            "\n",
            "Stora Enso Oyj , the largest papermaker , in October said it would [[close]] four mills .\n",
            "\n",
            "Stora Enso Oyj , the largest papermaker , in October said it would [[snug]] four mills .\n",
            "\n",
            "\n"
          ]
        },
        {
          "output_type": "stream",
          "name": "stderr",
          "text": [
            "[Succeeded / Failed / Skipped / Total] 287 / 99 / 3 / 389:  14%|█▍        | 389/2713 [26:17<2:37:04,  4.06s/it]"
          ]
        },
        {
          "output_type": "stream",
          "name": "stdout",
          "text": [
            "--------------------------------------------- Result 389 ---------------------------------------------\n",
            "[[Neutral (100%)]] --> [[Negative (90%)]]\n",
            "\n",
            "Her [[last]] [[position]] in Nokia [[Siemens]] Networks was [[head]] of Business Human Resources NSN global IT .\n",
            "\n",
            "Her [[lowest]] [[spot]] in Nokia [[siemens]] Networks was [[question]] of Business Human Resources NSN global IT .\n",
            "\n",
            "\n"
          ]
        },
        {
          "output_type": "stream",
          "name": "stderr",
          "text": [
            "[Succeeded / Failed / Skipped / Total] 288 / 99 / 3 / 390:  14%|█▍        | 390/2713 [26:24<2:37:19,  4.06s/it]"
          ]
        },
        {
          "output_type": "stream",
          "name": "stdout",
          "text": [
            "--------------------------------------------- Result 390 ---------------------------------------------\n",
            "[[Neutral (100%)]] --> [[Negative (63%)]]\n",
            "\n",
            "Swedbank Hypotek - Is to [[issue]] a benchmark , fixed rate [[covered]] deal in Euros , [[maturing]] January 2010 .\n",
            "\n",
            "Swedbank Hypotek - Is to [[cut]] a benchmark , fixed rate [[report]] deal in Euros , [[senesce]] January 2010 .\n",
            "\n",
            "\n"
          ]
        },
        {
          "output_type": "stream",
          "name": "stderr",
          "text": [
            "[Succeeded / Failed / Skipped / Total] 289 / 99 / 3 / 391:  14%|█▍        | 391/2713 [26:27<2:37:08,  4.06s/it]"
          ]
        },
        {
          "output_type": "stream",
          "name": "stdout",
          "text": [
            "--------------------------------------------- Result 391 ---------------------------------------------\n",
            "[[Positive (100%)]] --> [[Negative (97%)]]\n",
            "\n",
            "Estonia 's beer market overall [[grew]] three percent last year to 130 million liters .\n",
            "\n",
            "Estonia 's beer market overall [[mature]] three percent last year to 130 million liters .\n",
            "\n",
            "\n"
          ]
        },
        {
          "output_type": "stream",
          "name": "stderr",
          "text": [
            "[Succeeded / Failed / Skipped / Total] 290 / 99 / 3 / 392:  14%|█▍        | 392/2713 [26:36<2:37:35,  4.07s/it]"
          ]
        },
        {
          "output_type": "stream",
          "name": "stdout",
          "text": [
            "--------------------------------------------- Result 392 ---------------------------------------------\n",
            "[[Neutral (100%)]] --> [[Positive (87%)]]\n",
            "\n",
            "[[Germany]] 's [[innovational]] [[centers]] are [[united]] in focusing at companies , which aim at use of technologies and [[development]] of [[new]] kinds of activity , through [[supporting]] the beginner companies with the entire spectrum of their services .\n",
            "\n",
            "[[FRG]] 's [[innovative]] [[nitty-gritty]] are [[unify]] in focusing at companies , which aim at use of technologies and [[growth]] of [[raw]] kinds of activity , through [[encouraging]] the beginner companies with the entire spectrum of their services .\n",
            "\n",
            "\n"
          ]
        },
        {
          "output_type": "stream",
          "name": "stderr",
          "text": [
            "[Succeeded / Failed / Skipped / Total] 291 / 99 / 3 / 393:  14%|█▍        | 393/2713 [26:44<2:37:50,  4.08s/it]"
          ]
        },
        {
          "output_type": "stream",
          "name": "stdout",
          "text": [
            "--------------------------------------------- Result 393 ---------------------------------------------\n",
            "[[Neutral (100%)]] --> [[Positive (63%)]]\n",
            "\n",
            "The [[service]] [[developed]] by Digia [[facilitates]] the [[work]] and resourcing of health [[care]] personnel during vaccination [[campaigns]] while providing them with monitoring and management [[tools]] .\n",
            "\n",
            "The [[help]] [[uprise]] by Digia [[facilitate]] the [[exploit]] and resourcing of health [[forethought]] personnel during vaccination [[effort]] while providing them with monitoring and management [[joyride]] .\n",
            "\n",
            "\n"
          ]
        },
        {
          "output_type": "stream",
          "name": "stderr",
          "text": [
            "[Succeeded / Failed / Skipped / Total] 292 / 99 / 3 / 394:  15%|█▍        | 394/2713 [26:48<2:37:47,  4.08s/it]"
          ]
        },
        {
          "output_type": "stream",
          "name": "stdout",
          "text": [
            "--------------------------------------------- Result 394 ---------------------------------------------\n",
            "[[Neutral (100%)]] --> [[Positive (99%)]]\n",
            "\n",
            "Affecto has helped SKAT to set up the platform and has [[previously]] delivered several Business Intelligence projects for SKAT .\n",
            "\n",
            "Affecto has helped SKAT to set up the platform and has [[antecedently]] delivered several Business Intelligence projects for SKAT .\n",
            "\n",
            "\n"
          ]
        },
        {
          "output_type": "stream",
          "name": "stderr",
          "text": [
            "[Succeeded / Failed / Skipped / Total] 293 / 99 / 3 / 395:  15%|█▍        | 395/2713 [26:51<2:37:35,  4.08s/it]"
          ]
        },
        {
          "output_type": "stream",
          "name": "stdout",
          "text": [
            "--------------------------------------------- Result 395 ---------------------------------------------\n",
            "[[Neutral (100%)]] --> [[Negative (98%)]]\n",
            "\n",
            "The [[company]] [[expects]] [[net]] sales of 65 mln euro ( $ 85.1 mln ) for 2006 .\n",
            "\n",
            "The [[fellowship]] [[wait]] [[earnings]] sales of 65 mln euro ( $ 85.1 mln ) for 2006 .\n",
            "\n",
            "\n"
          ]
        },
        {
          "output_type": "stream",
          "name": "stderr",
          "text": [
            "[Succeeded / Failed / Skipped / Total] 294 / 99 / 3 / 396:  15%|█▍        | 396/2713 [26:54<2:37:25,  4.08s/it]"
          ]
        },
        {
          "output_type": "stream",
          "name": "stdout",
          "text": [
            "--------------------------------------------- Result 396 ---------------------------------------------\n",
            "[[Neutral (100%)]] --> [[Negative (93%)]]\n",
            "\n",
            "ALEXANDRIA , Va. , Dec. 19 -- United States Patent no. 7,853,620 , issued on Dec. 14 , was [[assigned]] to Nokia Corp. ( Espoo , Finland ) .\n",
            "\n",
            "ALEXANDRIA , Va. , Dec. 19 -- United States Patent no. 7,853,620 , issued on Dec. 14 , was [[arrogate]] to Nokia Corp. ( Espoo , Finland ) .\n",
            "\n",
            "\n"
          ]
        },
        {
          "output_type": "stream",
          "name": "stderr",
          "text": [
            "[Succeeded / Failed / Skipped / Total] 295 / 99 / 3 / 397:  15%|█▍        | 397/2713 [27:02<2:37:44,  4.09s/it]"
          ]
        },
        {
          "output_type": "stream",
          "name": "stdout",
          "text": [
            "--------------------------------------------- Result 397 ---------------------------------------------\n",
            "[[Neutral (100%)]] --> [[Positive (91%)]]\n",
            "\n",
            "Alma Media Corporation PRESS [[RELEASE]] [[March]] 25 , 2010 TYRV+ä+äN SANOMAT [[PURCHASE]] CONFIRMED The [[business]] [[operations]] of Tyrv+ñ+ñn Sanomat Oy will be [[transferred]] to Suomen Paikallissanomat Oy .\n",
            "\n",
            "Alma Media Corporation PRESS [[acquittance]] [[Mar]] 25 , 2010 TYRV+ä+äN SANOMAT [[buy]] CONFIRMED The [[concern]] [[performance]] of Tyrv+ñ+ñn Sanomat Oy will be [[reassign]] to Suomen Paikallissanomat Oy .\n",
            "\n",
            "\n"
          ]
        },
        {
          "output_type": "stream",
          "name": "stderr",
          "text": [
            "[Succeeded / Failed / Skipped / Total] 296 / 99 / 3 / 398:  15%|█▍        | 398/2713 [27:09<2:37:59,  4.09s/it]"
          ]
        },
        {
          "output_type": "stream",
          "name": "stdout",
          "text": [
            "--------------------------------------------- Result 398 ---------------------------------------------\n",
            "[[Positive (100%)]] --> [[Neutral (94%)]]\n",
            "\n",
            "The Lithuanian beer market made up 14.41 million liters in January , a [[rise]] of 0.8 percent from the year-earlier figure , the Lithuanian Brewers ' Association reporting citing the results from its members .\n",
            "\n",
            "The Lithuanian beer market made up 14.41 million liters in January , a [[rebel]] of 0.8 percent from the year-earlier figure , the Lithuanian Brewers ' Association reporting citing the results from its members .\n",
            "\n",
            "\n"
          ]
        },
        {
          "output_type": "stream",
          "name": "stderr",
          "text": [
            "[Succeeded / Failed / Skipped / Total] 297 / 99 / 3 / 399:  15%|█▍        | 399/2713 [27:18<2:38:24,  4.11s/it]"
          ]
        },
        {
          "output_type": "stream",
          "name": "stdout",
          "text": [
            "--------------------------------------------- Result 399 ---------------------------------------------\n",
            "[[Positive (100%)]] --> [[Neutral (100%)]]\n",
            "\n",
            "Cargotec Corporation , Press Release , August 26 , 2008 at 10 a.m. Finnish time Cargotec 's MacGREGOR business area providing marine cargo handling and offshore load handling solutions has [[received]] [[significant]] offshore crane retrofit order .\n",
            "\n",
            "Cargotec Corporation , Press Release , August 26 , 2008 at 10 a.m. Finnish time Cargotec 's MacGREGOR business area providing marine cargo handling and offshore load handling solutions has [[standard]] [[pregnant]] offshore crane retrofit order .\n",
            "\n",
            "\n"
          ]
        },
        {
          "output_type": "stream",
          "name": "stderr",
          "text": [
            "[Succeeded / Failed / Skipped / Total] 298 / 99 / 3 / 400:  15%|█▍        | 400/2713 [27:22<2:38:17,  4.11s/it]"
          ]
        },
        {
          "output_type": "stream",
          "name": "stdout",
          "text": [
            "--------------------------------------------- Result 400 ---------------------------------------------\n",
            "[[Positive (100%)]] --> [[Neutral (100%)]]\n",
            "\n",
            "After the transaction , Alma Media [[raised]] its stake in Talentum to 30.65 % of the shares and some 31.12 % of voting rights .\n",
            "\n",
            "After the transaction , Alma Media [[parent]] its stake in Talentum to 30.65 % of the shares and some 31.12 % of voting rights .\n",
            "\n",
            "\n"
          ]
        },
        {
          "output_type": "error",
          "ename": "KeyboardInterrupt",
          "evalue": "ignored",
          "traceback": [
            "\u001b[0;31m---------------------------------------------------------------------------\u001b[0m",
            "\u001b[0;31mKeyboardInterrupt\u001b[0m                         Traceback (most recent call last)",
            "\u001b[0;32m<ipython-input-12-d706dc344def>\u001b[0m in \u001b[0;36m<cell line: 10>\u001b[0;34m()\u001b[0m\n\u001b[1;32m      8\u001b[0m )\n\u001b[1;32m      9\u001b[0m \u001b[0mattacker\u001b[0m \u001b[0;34m=\u001b[0m \u001b[0mtextattack\u001b[0m\u001b[0;34m.\u001b[0m\u001b[0mAttacker\u001b[0m\u001b[0;34m(\u001b[0m\u001b[0mattack\u001b[0m\u001b[0;34m,\u001b[0m \u001b[0mtextattack_dataset\u001b[0m\u001b[0;34m,\u001b[0m \u001b[0mattack_args\u001b[0m\u001b[0;34m)\u001b[0m\u001b[0;34m\u001b[0m\u001b[0;34m\u001b[0m\u001b[0m\n\u001b[0;32m---> 10\u001b[0;31m \u001b[0mattacks\u001b[0m \u001b[0;34m=\u001b[0m \u001b[0mattacker\u001b[0m\u001b[0;34m.\u001b[0m\u001b[0mattack_dataset\u001b[0m\u001b[0;34m(\u001b[0m\u001b[0;34m)\u001b[0m\u001b[0;34m\u001b[0m\u001b[0;34m\u001b[0m\u001b[0m\n\u001b[0m",
            "\u001b[0;32m/usr/local/lib/python3.10/dist-packages/textattack/attacker.py\u001b[0m in \u001b[0;36mattack_dataset\u001b[0;34m(self)\u001b[0m\n\u001b[1;32m    439\u001b[0m             \u001b[0mself\u001b[0m\u001b[0;34m.\u001b[0m\u001b[0m_attack_parallel\u001b[0m\u001b[0;34m(\u001b[0m\u001b[0;34m)\u001b[0m\u001b[0;34m\u001b[0m\u001b[0;34m\u001b[0m\u001b[0m\n\u001b[1;32m    440\u001b[0m         \u001b[0;32melse\u001b[0m\u001b[0;34m:\u001b[0m\u001b[0;34m\u001b[0m\u001b[0;34m\u001b[0m\u001b[0m\n\u001b[0;32m--> 441\u001b[0;31m             \u001b[0mself\u001b[0m\u001b[0;34m.\u001b[0m\u001b[0m_attack\u001b[0m\u001b[0;34m(\u001b[0m\u001b[0;34m)\u001b[0m\u001b[0;34m\u001b[0m\u001b[0;34m\u001b[0m\u001b[0m\n\u001b[0m\u001b[1;32m    442\u001b[0m \u001b[0;34m\u001b[0m\u001b[0m\n\u001b[1;32m    443\u001b[0m         \u001b[0;32mif\u001b[0m \u001b[0mself\u001b[0m\u001b[0;34m.\u001b[0m\u001b[0mattack_args\u001b[0m\u001b[0;34m.\u001b[0m\u001b[0msilent\u001b[0m\u001b[0;34m:\u001b[0m\u001b[0;34m\u001b[0m\u001b[0;34m\u001b[0m\u001b[0m\n",
            "\u001b[0;32m/usr/local/lib/python3.10/dist-packages/textattack/attacker.py\u001b[0m in \u001b[0;36m_attack\u001b[0;34m(self)\u001b[0m\n\u001b[1;32m    166\u001b[0m                 \u001b[0mexample\u001b[0m\u001b[0;34m.\u001b[0m\u001b[0mattack_attrs\u001b[0m\u001b[0;34m[\u001b[0m\u001b[0;34m\"label_names\"\u001b[0m\u001b[0;34m]\u001b[0m \u001b[0;34m=\u001b[0m \u001b[0mself\u001b[0m\u001b[0;34m.\u001b[0m\u001b[0mdataset\u001b[0m\u001b[0;34m.\u001b[0m\u001b[0mlabel_names\u001b[0m\u001b[0;34m\u001b[0m\u001b[0;34m\u001b[0m\u001b[0m\n\u001b[1;32m    167\u001b[0m             \u001b[0;32mtry\u001b[0m\u001b[0;34m:\u001b[0m\u001b[0;34m\u001b[0m\u001b[0;34m\u001b[0m\u001b[0m\n\u001b[0;32m--> 168\u001b[0;31m                 \u001b[0mresult\u001b[0m \u001b[0;34m=\u001b[0m \u001b[0mself\u001b[0m\u001b[0;34m.\u001b[0m\u001b[0mattack\u001b[0m\u001b[0;34m.\u001b[0m\u001b[0mattack\u001b[0m\u001b[0;34m(\u001b[0m\u001b[0mexample\u001b[0m\u001b[0;34m,\u001b[0m \u001b[0mground_truth_output\u001b[0m\u001b[0;34m)\u001b[0m\u001b[0;34m\u001b[0m\u001b[0;34m\u001b[0m\u001b[0m\n\u001b[0m\u001b[1;32m    169\u001b[0m             \u001b[0;32mexcept\u001b[0m \u001b[0mException\u001b[0m \u001b[0;32mas\u001b[0m \u001b[0me\u001b[0m\u001b[0;34m:\u001b[0m\u001b[0;34m\u001b[0m\u001b[0;34m\u001b[0m\u001b[0m\n\u001b[1;32m    170\u001b[0m                 \u001b[0;32mraise\u001b[0m \u001b[0me\u001b[0m\u001b[0;34m\u001b[0m\u001b[0;34m\u001b[0m\u001b[0m\n",
            "\u001b[0;32m/usr/local/lib/python3.10/dist-packages/textattack/attack.py\u001b[0m in \u001b[0;36mattack\u001b[0;34m(self, example, ground_truth_output)\u001b[0m\n\u001b[1;32m    448\u001b[0m             \u001b[0;32mreturn\u001b[0m \u001b[0mSkippedAttackResult\u001b[0m\u001b[0;34m(\u001b[0m\u001b[0mgoal_function_result\u001b[0m\u001b[0;34m)\u001b[0m\u001b[0;34m\u001b[0m\u001b[0;34m\u001b[0m\u001b[0m\n\u001b[1;32m    449\u001b[0m         \u001b[0;32melse\u001b[0m\u001b[0;34m:\u001b[0m\u001b[0;34m\u001b[0m\u001b[0;34m\u001b[0m\u001b[0m\n\u001b[0;32m--> 450\u001b[0;31m             \u001b[0mresult\u001b[0m \u001b[0;34m=\u001b[0m \u001b[0mself\u001b[0m\u001b[0;34m.\u001b[0m\u001b[0m_attack\u001b[0m\u001b[0;34m(\u001b[0m\u001b[0mgoal_function_result\u001b[0m\u001b[0;34m)\u001b[0m\u001b[0;34m\u001b[0m\u001b[0;34m\u001b[0m\u001b[0m\n\u001b[0m\u001b[1;32m    451\u001b[0m             \u001b[0;32mreturn\u001b[0m \u001b[0mresult\u001b[0m\u001b[0;34m\u001b[0m\u001b[0;34m\u001b[0m\u001b[0m\n\u001b[1;32m    452\u001b[0m \u001b[0;34m\u001b[0m\u001b[0m\n",
            "\u001b[0;32m/usr/local/lib/python3.10/dist-packages/textattack/attack.py\u001b[0m in \u001b[0;36m_attack\u001b[0;34m(self, initial_result)\u001b[0m\n\u001b[1;32m    396\u001b[0m                 \u001b[0;32mor\u001b[0m\u001b[0;31m \u001b[0m\u001b[0;31m`\u001b[0m\u001b[0;31m`\u001b[0m\u001b[0mMaximizedAttackResult\u001b[0m\u001b[0;31m`\u001b[0m\u001b[0;31m`\u001b[0m\u001b[0;34m.\u001b[0m\u001b[0;34m\u001b[0m\u001b[0;34m\u001b[0m\u001b[0m\n\u001b[1;32m    397\u001b[0m         \"\"\"\n\u001b[0;32m--> 398\u001b[0;31m         \u001b[0mfinal_result\u001b[0m \u001b[0;34m=\u001b[0m \u001b[0mself\u001b[0m\u001b[0;34m.\u001b[0m\u001b[0msearch_method\u001b[0m\u001b[0;34m(\u001b[0m\u001b[0minitial_result\u001b[0m\u001b[0;34m)\u001b[0m\u001b[0;34m\u001b[0m\u001b[0;34m\u001b[0m\u001b[0m\n\u001b[0m\u001b[1;32m    399\u001b[0m         \u001b[0mself\u001b[0m\u001b[0;34m.\u001b[0m\u001b[0mclear_cache\u001b[0m\u001b[0;34m(\u001b[0m\u001b[0;34m)\u001b[0m\u001b[0;34m\u001b[0m\u001b[0;34m\u001b[0m\u001b[0m\n\u001b[1;32m    400\u001b[0m         \u001b[0;32mif\u001b[0m \u001b[0mfinal_result\u001b[0m\u001b[0;34m.\u001b[0m\u001b[0mgoal_status\u001b[0m \u001b[0;34m==\u001b[0m \u001b[0mGoalFunctionResultStatus\u001b[0m\u001b[0;34m.\u001b[0m\u001b[0mSUCCEEDED\u001b[0m\u001b[0;34m:\u001b[0m\u001b[0;34m\u001b[0m\u001b[0;34m\u001b[0m\u001b[0m\n",
            "\u001b[0;32m/usr/local/lib/python3.10/dist-packages/textattack/search_methods/search_method.py\u001b[0m in \u001b[0;36m__call__\u001b[0;34m(self, initial_result)\u001b[0m\n\u001b[1;32m     34\u001b[0m             )\n\u001b[1;32m     35\u001b[0m \u001b[0;34m\u001b[0m\u001b[0m\n\u001b[0;32m---> 36\u001b[0;31m         \u001b[0mresult\u001b[0m \u001b[0;34m=\u001b[0m \u001b[0mself\u001b[0m\u001b[0;34m.\u001b[0m\u001b[0mperform_search\u001b[0m\u001b[0;34m(\u001b[0m\u001b[0minitial_result\u001b[0m\u001b[0;34m)\u001b[0m\u001b[0;34m\u001b[0m\u001b[0;34m\u001b[0m\u001b[0m\n\u001b[0m\u001b[1;32m     37\u001b[0m         \u001b[0;31m# ensure that the number of queries for this GoalFunctionResult is up-to-date\u001b[0m\u001b[0;34m\u001b[0m\u001b[0;34m\u001b[0m\u001b[0m\n\u001b[1;32m     38\u001b[0m         \u001b[0mresult\u001b[0m\u001b[0;34m.\u001b[0m\u001b[0mnum_queries\u001b[0m \u001b[0;34m=\u001b[0m \u001b[0mself\u001b[0m\u001b[0;34m.\u001b[0m\u001b[0mgoal_function\u001b[0m\u001b[0;34m.\u001b[0m\u001b[0mnum_queries\u001b[0m\u001b[0;34m\u001b[0m\u001b[0;34m\u001b[0m\u001b[0m\n",
            "\u001b[0;32m/usr/local/lib/python3.10/dist-packages/textattack/search_methods/greedy_word_swap_wir.py\u001b[0m in \u001b[0;36mperform_search\u001b[0;34m(self, initial_result)\u001b[0m\n\u001b[1;32m    147\u001b[0m             \u001b[0;32mif\u001b[0m \u001b[0mlen\u001b[0m\u001b[0;34m(\u001b[0m\u001b[0mtransformed_text_candidates\u001b[0m\u001b[0;34m)\u001b[0m \u001b[0;34m==\u001b[0m \u001b[0;36m0\u001b[0m\u001b[0;34m:\u001b[0m\u001b[0;34m\u001b[0m\u001b[0;34m\u001b[0m\u001b[0m\n\u001b[1;32m    148\u001b[0m                 \u001b[0;32mcontinue\u001b[0m\u001b[0;34m\u001b[0m\u001b[0;34m\u001b[0m\u001b[0m\n\u001b[0;32m--> 149\u001b[0;31m             \u001b[0mresults\u001b[0m\u001b[0;34m,\u001b[0m \u001b[0msearch_over\u001b[0m \u001b[0;34m=\u001b[0m \u001b[0mself\u001b[0m\u001b[0;34m.\u001b[0m\u001b[0mget_goal_results\u001b[0m\u001b[0;34m(\u001b[0m\u001b[0mtransformed_text_candidates\u001b[0m\u001b[0;34m)\u001b[0m\u001b[0;34m\u001b[0m\u001b[0;34m\u001b[0m\u001b[0m\n\u001b[0m\u001b[1;32m    150\u001b[0m             \u001b[0mresults\u001b[0m \u001b[0;34m=\u001b[0m \u001b[0msorted\u001b[0m\u001b[0;34m(\u001b[0m\u001b[0mresults\u001b[0m\u001b[0;34m,\u001b[0m \u001b[0mkey\u001b[0m\u001b[0;34m=\u001b[0m\u001b[0;32mlambda\u001b[0m \u001b[0mx\u001b[0m\u001b[0;34m:\u001b[0m \u001b[0;34m-\u001b[0m\u001b[0mx\u001b[0m\u001b[0;34m.\u001b[0m\u001b[0mscore\u001b[0m\u001b[0;34m)\u001b[0m\u001b[0;34m\u001b[0m\u001b[0;34m\u001b[0m\u001b[0m\n\u001b[1;32m    151\u001b[0m             \u001b[0;31m# Skip swaps which don't improve the score\u001b[0m\u001b[0;34m\u001b[0m\u001b[0;34m\u001b[0m\u001b[0m\n",
            "\u001b[0;32m/usr/local/lib/python3.10/dist-packages/textattack/goal_functions/goal_function.py\u001b[0m in \u001b[0;36mget_results\u001b[0;34m(self, attacked_text_list, check_skip)\u001b[0m\n\u001b[1;32m     94\u001b[0m             \u001b[0mattacked_text_list\u001b[0m \u001b[0;34m=\u001b[0m \u001b[0mattacked_text_list\u001b[0m\u001b[0;34m[\u001b[0m\u001b[0;34m:\u001b[0m\u001b[0mqueries_left\u001b[0m\u001b[0;34m]\u001b[0m\u001b[0;34m\u001b[0m\u001b[0;34m\u001b[0m\u001b[0m\n\u001b[1;32m     95\u001b[0m         \u001b[0mself\u001b[0m\u001b[0;34m.\u001b[0m\u001b[0mnum_queries\u001b[0m \u001b[0;34m+=\u001b[0m \u001b[0mlen\u001b[0m\u001b[0;34m(\u001b[0m\u001b[0mattacked_text_list\u001b[0m\u001b[0;34m)\u001b[0m\u001b[0;34m\u001b[0m\u001b[0;34m\u001b[0m\u001b[0m\n\u001b[0;32m---> 96\u001b[0;31m         \u001b[0mmodel_outputs\u001b[0m \u001b[0;34m=\u001b[0m \u001b[0mself\u001b[0m\u001b[0;34m.\u001b[0m\u001b[0m_call_model\u001b[0m\u001b[0;34m(\u001b[0m\u001b[0mattacked_text_list\u001b[0m\u001b[0;34m)\u001b[0m\u001b[0;34m\u001b[0m\u001b[0;34m\u001b[0m\u001b[0m\n\u001b[0m\u001b[1;32m     97\u001b[0m         \u001b[0;32mfor\u001b[0m \u001b[0mattacked_text\u001b[0m\u001b[0;34m,\u001b[0m \u001b[0mraw_output\u001b[0m \u001b[0;32min\u001b[0m \u001b[0mzip\u001b[0m\u001b[0;34m(\u001b[0m\u001b[0mattacked_text_list\u001b[0m\u001b[0;34m,\u001b[0m \u001b[0mmodel_outputs\u001b[0m\u001b[0;34m)\u001b[0m\u001b[0;34m:\u001b[0m\u001b[0;34m\u001b[0m\u001b[0;34m\u001b[0m\u001b[0m\n\u001b[1;32m     98\u001b[0m             \u001b[0mdisplayed_output\u001b[0m \u001b[0;34m=\u001b[0m \u001b[0mself\u001b[0m\u001b[0;34m.\u001b[0m\u001b[0m_get_displayed_output\u001b[0m\u001b[0;34m(\u001b[0m\u001b[0mraw_output\u001b[0m\u001b[0;34m)\u001b[0m\u001b[0;34m\u001b[0m\u001b[0;34m\u001b[0m\u001b[0m\n",
            "\u001b[0;32m/usr/local/lib/python3.10/dist-packages/textattack/goal_functions/goal_function.py\u001b[0m in \u001b[0;36m_call_model\u001b[0;34m(self, attacked_text_list)\u001b[0m\n\u001b[1;32m    217\u001b[0m                 \u001b[0;32mif\u001b[0m \u001b[0mtext\u001b[0m \u001b[0;32mnot\u001b[0m \u001b[0;32min\u001b[0m \u001b[0mself\u001b[0m\u001b[0;34m.\u001b[0m\u001b[0m_call_model_cache\u001b[0m\u001b[0;34m\u001b[0m\u001b[0;34m\u001b[0m\u001b[0m\n\u001b[1;32m    218\u001b[0m             ]\n\u001b[0;32m--> 219\u001b[0;31m             \u001b[0moutputs\u001b[0m \u001b[0;34m=\u001b[0m \u001b[0mself\u001b[0m\u001b[0;34m.\u001b[0m\u001b[0m_call_model_uncached\u001b[0m\u001b[0;34m(\u001b[0m\u001b[0muncached_list\u001b[0m\u001b[0;34m)\u001b[0m\u001b[0;34m\u001b[0m\u001b[0;34m\u001b[0m\u001b[0m\n\u001b[0m\u001b[1;32m    220\u001b[0m             \u001b[0;32mfor\u001b[0m \u001b[0mtext\u001b[0m\u001b[0;34m,\u001b[0m \u001b[0moutput\u001b[0m \u001b[0;32min\u001b[0m \u001b[0mzip\u001b[0m\u001b[0;34m(\u001b[0m\u001b[0muncached_list\u001b[0m\u001b[0;34m,\u001b[0m \u001b[0moutputs\u001b[0m\u001b[0;34m)\u001b[0m\u001b[0;34m:\u001b[0m\u001b[0;34m\u001b[0m\u001b[0;34m\u001b[0m\u001b[0m\n\u001b[1;32m    221\u001b[0m                 \u001b[0mself\u001b[0m\u001b[0;34m.\u001b[0m\u001b[0m_call_model_cache\u001b[0m\u001b[0;34m[\u001b[0m\u001b[0mtext\u001b[0m\u001b[0;34m]\u001b[0m \u001b[0;34m=\u001b[0m \u001b[0moutput\u001b[0m\u001b[0;34m\u001b[0m\u001b[0;34m\u001b[0m\u001b[0m\n",
            "\u001b[0;32m/usr/local/lib/python3.10/dist-packages/textattack/goal_functions/goal_function.py\u001b[0m in \u001b[0;36m_call_model_uncached\u001b[0;34m(self, attacked_text_list)\u001b[0m\n\u001b[1;32m    172\u001b[0m             \u001b[0;31m# Get PyTorch tensors off of other devices.\u001b[0m\u001b[0;34m\u001b[0m\u001b[0;34m\u001b[0m\u001b[0m\n\u001b[1;32m    173\u001b[0m             \u001b[0;32mif\u001b[0m \u001b[0misinstance\u001b[0m\u001b[0;34m(\u001b[0m\u001b[0mbatch_preds\u001b[0m\u001b[0;34m,\u001b[0m \u001b[0mtorch\u001b[0m\u001b[0;34m.\u001b[0m\u001b[0mTensor\u001b[0m\u001b[0;34m)\u001b[0m\u001b[0;34m:\u001b[0m\u001b[0;34m\u001b[0m\u001b[0;34m\u001b[0m\u001b[0m\n\u001b[0;32m--> 174\u001b[0;31m                 \u001b[0mbatch_preds\u001b[0m \u001b[0;34m=\u001b[0m \u001b[0mbatch_preds\u001b[0m\u001b[0;34m.\u001b[0m\u001b[0mcpu\u001b[0m\u001b[0;34m(\u001b[0m\u001b[0;34m)\u001b[0m\u001b[0;34m\u001b[0m\u001b[0;34m\u001b[0m\u001b[0m\n\u001b[0m\u001b[1;32m    175\u001b[0m \u001b[0;34m\u001b[0m\u001b[0m\n\u001b[1;32m    176\u001b[0m             \u001b[0;32mif\u001b[0m \u001b[0misinstance\u001b[0m\u001b[0;34m(\u001b[0m\u001b[0mbatch_preds\u001b[0m\u001b[0;34m,\u001b[0m \u001b[0mlist\u001b[0m\u001b[0;34m)\u001b[0m\u001b[0;34m:\u001b[0m\u001b[0;34m\u001b[0m\u001b[0;34m\u001b[0m\u001b[0m\n",
            "\u001b[0;31mKeyboardInterrupt\u001b[0m: "
          ]
        }
      ]
    },
    {
      "cell_type": "markdown",
      "source": [
        "Load perturbed data"
      ],
      "metadata": {
        "id": "GOOw_1UNMGRB"
      }
    },
    {
      "cell_type": "code",
      "source": [
        "from datasets import load_dataset\n",
        "from datasets import Dataset\n",
        "import pandas as pd\n",
        "df = pd.read_csv(\"/content/drive/MyDrive/NLP Project/data/attacks_PWWSRen2019.csv\")\n",
        "df = pd.DataFrame(df)\n",
        "\n",
        "df = pd.read_csv(\"/content/drive/MyDrive/NLP Project/data/attacks_PWWSRen2019.csv\")\n",
        "df = pd.DataFrame(df)\n",
        "orgininal_training_data = df[[\"original_text\",\"ground_truth_output\"]]\n",
        "orgininal_training_data.rename(columns={\"original_text\":\"sentence\",\"ground_truth_output\":\"label\"},inplace=True)\n",
        "perturbed_training_data = df[df[\"result_type\"]==\"Successful\"][[\"perturbed_text\",\"ground_truth_output\"]]\n",
        "perturbed_training_data.rename(columns={\"perturbed_text\":\"sentence\",\"ground_truth_output\":\"label\"}, inplace=True)\n",
        "perturbed_training_data = pd.concat([orgininal_training_data,perturbed_training_data])\n",
        "\n",
        "perturbed_training_data['sentence'] = perturbed_training_data['sentence'].str.replace(\"\\[\\[\",\"\")\n",
        "perturbed_training_data['sentence'] = perturbed_training_data['sentence'].str.replace(\"\\]\\]\",\"\")\n",
        "\n",
        "perturbed_training_data = Dataset.from_pandas(perturbed_training_data)\n",
        "tokenized_perturbed_training_data = perturbed_training_data.map(tokenize_function, batched=True)"
      ],
      "metadata": {
        "id": "prONqfP8C9Qb"
      },
      "execution_count": null,
      "outputs": []
    },
    {
      "cell_type": "markdown",
      "source": [
        "Defend Model"
      ],
      "metadata": {
        "id": "yc-6kPrWRKXT"
      }
    },
    {
      "cell_type": "code",
      "source": [
        "model = AutoModelForSequenceClassification.from_pretrained(\"ahmedrachid/FinancialBERT\", num_labels=3)\n",
        "tokenizer = AutoTokenizer.from_pretrained(\"ahmedrachid/FinancialBERT\")\n",
        "\n",
        "training_args = TrainingArguments(output_dir = \"test_trainer\",evaluation_strategy=\"epoch\")\n",
        "trainer = Trainer(\n",
        "    model=model,\n",
        "    args=training_args,\n",
        "    train_dataset=tokenized_perturbed_training_data,\n",
        "    eval_dataset=tokenized_validation_data,\n",
        "    compute_metrics=compute_metrics,\n",
        ")\n",
        "\n",
        "trainer.train()\n",
        "trainer.save_model(\"content/drive/MyDrive/NLP Project/models/classifier_model/finbert-sentiment-defended-PWWSRen2019\")\n"
      ],
      "metadata": {
        "id": "W8gVNS_QRNvJ"
      },
      "execution_count": null,
      "outputs": []
    },
    {
      "cell_type": "markdown",
      "source": [
        "Results"
      ],
      "metadata": {
        "id": "xo00kq7OUl0K"
      }
    },
    {
      "cell_type": "code",
      "source": [
        "textattack_dataset = textattack.datasets.HuggingFaceDataset(dataset['test'])\n",
        "\n",
        "model = AutoModelForSequenceClassification.from_pretrained(\"content/drive/MyDrive/NLP Project/models/classifier_model/finbert-sentiment-no-defensive\")\n",
        "model_wrapper = HuggingFaceModelWrapper(model,tokenizer)\n",
        "attack = textattack.attack_recipes.PWWSRen2019.build(model_wrapper)\n",
        "attack_args = textattack.AttackArgs(\n",
        "    num_examples=-1\n",
        ")\n",
        "attacker = textattack.Attacker(attack, textattack_dataset, attack_args)\n",
        "attacks = attacker.attack_dataset()"
      ],
      "metadata": {
        "id": "nmvOlR5OUnpp"
      },
      "execution_count": null,
      "outputs": []
    },
    {
      "cell_type": "code",
      "source": [
        "textattack_dataset = textattack.datasets.HuggingFaceDataset(dataset['test'])\n",
        "\n",
        "model = AutoModelForSequenceClassification.from_pretrained(\"content/drive/MyDrive/NLP Project/models/classifier_model/finbert-sentiment-defended-PWWSRen2019\")\n",
        "model_wrapper = HuggingFaceModelWrapper(model,tokenizer)\n",
        "attack = textattack.attack_recipes.PWWSRen2019.build(model_wrapper)\n",
        "attack_args = textattack.AttackArgs(\n",
        "    num_examples=-1\n",
        ")\n",
        "attacker = textattack.Attacker(attack, textattack_dataset, attack_args)\n",
        "attacks = attacker.attack_dataset()"
      ],
      "metadata": {
        "id": "8szMDKGMVS_i"
      },
      "execution_count": null,
      "outputs": []
    }
  ]
}